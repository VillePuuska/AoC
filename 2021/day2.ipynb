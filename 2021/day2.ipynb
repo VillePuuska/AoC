{
 "cells": [
  {
   "cell_type": "code",
   "execution_count": null,
   "id": "6eabc14c",
   "metadata": {},
   "outputs": [],
   "source": [
    "from collections import deque, defaultdict, Counter\n",
    "from heapq import heapify, heappush, heappop\n",
    "import numpy as np\n",
    "from copy import deepcopy\n",
    "import math\n",
    "import time\n",
    "from functools import cache, reduce, cmp_to_key\n",
    "import graphviz\n",
    "from itertools import product\n",
    "import matplotlib.pyplot as plt\n",
    "from bisect import bisect_left, bisect_right\n",
    "import json"
   ]
  },
  {
   "cell_type": "code",
   "execution_count": null,
   "id": "cae8446c",
   "metadata": {},
   "outputs": [],
   "source": [
    "dirs4 = [(0, 1), (0, -1), (1, 0), (-1, 0)]\n",
    "dirs8 = dirs4 + [(1, 1), (1, -1), (-1, 1), (-1, -1)]"
   ]
  },
  {
   "cell_type": "code",
   "execution_count": 2,
   "id": "62f0843b",
   "metadata": {},
   "outputs": [
    {
     "data": {
      "text/plain": [
       "[('forward', 2), ('forward', 3), ('forward', 5), ('forward', 6), ('down', 7)]"
      ]
     },
     "execution_count": 2,
     "metadata": {},
     "output_type": "execute_result"
    }
   ],
   "source": [
    "commands = []\n",
    "\n",
    "with open(\"./data/day2.txt\") as f:\n",
    "    while line := f.readline():\n",
    "        line = line.rstrip().split(\" \")\n",
    "        commands.append((line[0], int(line[1])))\n",
    "\n",
    "commands[:5]"
   ]
  },
  {
   "cell_type": "code",
   "execution_count": 3,
   "id": "5779fd90",
   "metadata": {},
   "outputs": [
    {
     "data": {
      "text/plain": [
       "1692075"
      ]
     },
     "execution_count": 3,
     "metadata": {},
     "output_type": "execute_result"
    }
   ],
   "source": [
    "h, d = 0, 0\n",
    "for command, v in commands:\n",
    "    if command == \"forward\":\n",
    "        h += v\n",
    "    elif command == \"down\":\n",
    "        d += v\n",
    "    elif command == \"up\":\n",
    "        d -= v\n",
    "    else:\n",
    "        raise Exception(command)\n",
    "h*d"
   ]
  },
  {
   "cell_type": "code",
   "execution_count": 4,
   "id": "2190785a",
   "metadata": {},
   "outputs": [
    {
     "data": {
      "text/plain": [
       "1749524700"
      ]
     },
     "execution_count": 4,
     "metadata": {},
     "output_type": "execute_result"
    }
   ],
   "source": [
    "h, d, aim = 0, 0, 0\n",
    "for command, v in commands:\n",
    "    if command == \"forward\":\n",
    "        h += v\n",
    "        d += v*aim\n",
    "    elif command == \"down\":\n",
    "        aim += v\n",
    "    elif command == \"up\":\n",
    "        aim -= v\n",
    "    else:\n",
    "        raise Exception(command)\n",
    "h*d"
   ]
  },
  {
   "cell_type": "code",
   "execution_count": null,
   "id": "05240c58",
   "metadata": {},
   "outputs": [],
   "source": []
  }
 ],
 "metadata": {
  "kernelspec": {
   "display_name": ".venv",
   "language": "python",
   "name": "python3"
  },
  "language_info": {
   "codemirror_mode": {
    "name": "ipython",
    "version": 3
   },
   "file_extension": ".py",
   "mimetype": "text/x-python",
   "name": "python",
   "nbconvert_exporter": "python",
   "pygments_lexer": "ipython3",
   "version": "3.12.3"
  }
 },
 "nbformat": 4,
 "nbformat_minor": 5
}

{
 "cells": [
  {
   "cell_type": "code",
   "execution_count": 1,
   "id": "6eabc14c",
   "metadata": {},
   "outputs": [],
   "source": [
    "from collections import deque, defaultdict, Counter\n",
    "from heapq import heapify, heappush, heappop\n",
    "import numpy as np\n",
    "from copy import deepcopy\n",
    "import math\n",
    "import time\n",
    "from functools import cache, reduce, cmp_to_key\n",
    "import graphviz\n",
    "from itertools import product\n",
    "import matplotlib.pyplot as plt\n",
    "from bisect import bisect_left, bisect_right\n",
    "import json"
   ]
  },
  {
   "cell_type": "code",
   "execution_count": 2,
   "id": "cae8446c",
   "metadata": {},
   "outputs": [],
   "source": [
    "dirs4 = [(0, 1), (0, -1), (1, 0), (-1, 0)]\n",
    "dirs8 = dirs4 + [(1, 1), (1, -1), (-1, 1), (-1, -1)]"
   ]
  },
  {
   "cell_type": "code",
   "execution_count": 9,
   "id": "62f0843b",
   "metadata": {},
   "outputs": [
    {
     "data": {
      "text/plain": [
       "(['000011010001',\n",
       "  '000001110100',\n",
       "  '111100101010',\n",
       "  '111001100111',\n",
       "  '001010100100'],\n",
       " 1000)"
      ]
     },
     "execution_count": 9,
     "metadata": {},
     "output_type": "execute_result"
    }
   ],
   "source": [
    "nums = []\n",
    "\n",
    "with open(\"./data/day3.txt\") as f:\n",
    "    while line := f.readline():\n",
    "        line = line.rstrip()\n",
    "        nums.append(line)\n",
    "\n",
    "nums[:5], len(nums)"
   ]
  },
  {
   "cell_type": "code",
   "execution_count": null,
   "id": "ac77ce8d",
   "metadata": {},
   "outputs": [
    {
     "data": {
      "text/plain": [
       "[(0, 504),\n",
       " (1, 502),\n",
       " (2, 520),\n",
       " (3, 496),\n",
       " (4, 503),\n",
       " (5, 507),\n",
       " (6, 494),\n",
       " (7, 550),\n",
       " (8, 486),\n",
       " (9, 508),\n",
       " (10, 498),\n",
       " (11, 501)]"
      ]
     },
     "execution_count": 8,
     "metadata": {},
     "output_type": "execute_result"
    }
   ],
   "source": [
    "bit_counts = defaultdict(int)\n",
    "for num in nums:\n",
    "    for i, c in enumerate(num):\n",
    "        if c == \"1\":\n",
    "            bit_counts[i] += 1\n",
    "sorted(bit_counts.items())"
   ]
  },
  {
   "cell_type": "code",
   "execution_count": null,
   "id": "fe31baae",
   "metadata": {},
   "outputs": [
    {
     "data": {
      "text/plain": [
       "1131506"
      ]
     },
     "execution_count": 11,
     "metadata": {},
     "output_type": "execute_result"
    }
   ],
   "source": [
    "s1 = \"\"\n",
    "s2 = \"\"\n",
    "for i in range(len(nums[0])):\n",
    "    if 2 * bit_counts[i] >= len(nums):\n",
    "        s1 += \"1\"\n",
    "        s2 += \"0\"\n",
    "    else:\n",
    "        s1 += \"0\"\n",
    "        s2 += \"1\"\n",
    "int(s1, 2) * int(s2, 2)"
   ]
  },
  {
   "cell_type": "code",
   "execution_count": null,
   "id": "f3998ef4",
   "metadata": {},
   "outputs": [],
   "source": [
    "oxygen = nums.copy()\n",
    "for i in range(len(nums[0])):\n",
    "    bit_count = sum(1 for num in oxygen if num[i] == \"1\")\n",
    "    if 2 * bit_count >= len(oxygen):\n",
    "        bit = \"1\"\n",
    "    else:\n",
    "        bit = \"0\"\n",
    "    oxygen = [num for num in oxygen if num[i] == bit]\n",
    "\n",
    "    if len(oxygen) == 1:\n",
    "        break\n",
    "o = int(oxygen[0], 2)"
   ]
  },
  {
   "cell_type": "code",
   "execution_count": null,
   "id": "bf6403eb",
   "metadata": {},
   "outputs": [],
   "source": [
    "co2 = nums.copy()\n",
    "for i in range(len(nums[0])):\n",
    "    bit_count = sum(1 for num in co2 if num[i] == \"1\")\n",
    "    if 2 * bit_count >= len(co2):\n",
    "        bit = \"0\"\n",
    "    else:\n",
    "        bit = \"1\"\n",
    "    co2 = [num for num in co2 if num[i] == bit]\n",
    "\n",
    "    if len(co2) == 1:\n",
    "        break\n",
    "c = int(co2[0], 2)"
   ]
  },
  {
   "cell_type": "code",
   "execution_count": null,
   "id": "51f0ae19",
   "metadata": {},
   "outputs": [
    {
     "data": {
      "text/plain": [
       "7863147"
      ]
     },
     "execution_count": 16,
     "metadata": {},
     "output_type": "execute_result"
    }
   ],
   "source": [
    "o * c"
   ]
  },
  {
   "cell_type": "code",
   "execution_count": null,
   "id": "f133fa5b",
   "metadata": {},
   "outputs": [],
   "source": []
  }
 ],
 "metadata": {
  "kernelspec": {
   "display_name": ".venv",
   "language": "python",
   "name": "python3"
  },
  "language_info": {
   "codemirror_mode": {
    "name": "ipython",
    "version": 3
   },
   "file_extension": ".py",
   "mimetype": "text/x-python",
   "name": "python",
   "nbconvert_exporter": "python",
   "pygments_lexer": "ipython3",
   "version": "3.12.3"
  }
 },
 "nbformat": 4,
 "nbformat_minor": 5
}

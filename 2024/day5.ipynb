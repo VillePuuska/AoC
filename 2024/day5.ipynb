{
 "cells": [
  {
   "cell_type": "code",
   "execution_count": 1,
   "id": "6eabc14c",
   "metadata": {},
   "outputs": [],
   "source": [
    "from collections import deque, defaultdict, Counter\n",
    "from heapq import heapify, heappush, heappop\n",
    "import numpy as np\n",
    "from copy import deepcopy\n",
    "import math\n",
    "import time\n",
    "from functools import cache, reduce, cmp_to_key\n",
    "import graphviz\n",
    "from itertools import product\n",
    "import matplotlib.pyplot as plt\n",
    "from bisect import bisect_left, bisect_right\n",
    "import json"
   ]
  },
  {
   "cell_type": "code",
   "execution_count": 2,
   "id": "cae8446c",
   "metadata": {},
   "outputs": [],
   "source": [
    "dirs4 = [(0, 1), (0, -1), (1, 0), (-1, 0)]\n",
    "dirs8 = dirs4 + [(1, 1), (1, -1), (-1, 1), (-1, -1)]"
   ]
  },
  {
   "cell_type": "code",
   "execution_count": 3,
   "id": "62f0843b",
   "metadata": {},
   "outputs": [
    {
     "name": "stdout",
     "output_type": "stream",
     "text": [
      "[11, 62, 85, 47, 69, 58, 57, 76, 66, 82, 48, 15, 95, 24, 93, 33, 79, 41, 65, 36, 37, 38, 56]\n",
      "[42, 86, 69, 46, 92, 76, 43, 62, 11, 54, 57, 74, 47, 85, 12, 66, 26, 83, 48, 14, 78]\n"
     ]
    },
    {
     "data": {
      "text/plain": [
       "([[66, 22], [76, 63], [76, 38], [88, 43], [88, 76]], 1176, 192)"
      ]
     },
     "execution_count": 3,
     "metadata": {},
     "output_type": "execute_result"
    }
   ],
   "source": [
    "rules = []\n",
    "updates = []\n",
    "\n",
    "flag = False\n",
    "with open(\"./data/day5.txt\") as f:\n",
    "    while line := f.readline():\n",
    "        line = line.rstrip()\n",
    "\n",
    "        if line == \"\":\n",
    "            flag = True\n",
    "            continue\n",
    "\n",
    "        if flag:\n",
    "            updates.append([int(num) for num in line.split(\",\")])\n",
    "        else:\n",
    "            rules.append([int(num) for num in line.split(\"|\")])\n",
    "\n",
    "print(updates[0])\n",
    "print(updates[1])\n",
    "rules[:5], len(rules), len(updates)"
   ]
  },
  {
   "cell_type": "code",
   "execution_count": 4,
   "id": "b5bf8db5",
   "metadata": {},
   "outputs": [],
   "source": [
    "graph = defaultdict(list)\n",
    "for a, b in rules:\n",
    "    graph[a].append(b)"
   ]
  },
  {
   "cell_type": "code",
   "execution_count": 5,
   "id": "81dfda9f",
   "metadata": {},
   "outputs": [],
   "source": [
    "def less(a: int, b: int) -> bool:\n",
    "    if a == b:\n",
    "        return False\n",
    "    # stack = [a]\n",
    "    # visited = set([a])\n",
    "    # while stack:\n",
    "    #     node = stack.pop()\n",
    "    #     for adj in graph[node]:\n",
    "    #         if adj == b:\n",
    "    #             return True\n",
    "    #         if adj in visited:\n",
    "    #             continue\n",
    "    #         visited.add(adj)\n",
    "    #         stack.append(adj)\n",
    "    return b in graph[a]"
   ]
  },
  {
   "cell_type": "code",
   "execution_count": 6,
   "id": "2521d5ca",
   "metadata": {},
   "outputs": [],
   "source": [
    "def check_update(update: list[int]) -> bool:\n",
    "    for ind, left in enumerate(update):\n",
    "        for right in update[ind+1:]:\n",
    "            if less(right, left):\n",
    "                return False\n",
    "    return True"
   ]
  },
  {
   "cell_type": "code",
   "execution_count": 7,
   "id": "6e745cfc",
   "metadata": {},
   "outputs": [
    {
     "data": {
      "text/plain": [
       "4662"
      ]
     },
     "execution_count": 7,
     "metadata": {},
     "output_type": "execute_result"
    }
   ],
   "source": [
    "s = 0\n",
    "for update in updates:\n",
    "    if check_update(update):\n",
    "        s += update[len(update)//2]\n",
    "s"
   ]
  },
  {
   "cell_type": "code",
   "execution_count": 8,
   "id": "1df0a854",
   "metadata": {},
   "outputs": [],
   "source": [
    "def fix_update(update: list[int]):\n",
    "    ind = 0\n",
    "    while ind < len(update):\n",
    "        left = update[ind]\n",
    "        for ind2, right in enumerate(update[ind+1:]):\n",
    "            if less(right, left):\n",
    "                update[ind] = right\n",
    "                update[ind2+ind+1] = left\n",
    "                ind -= 1\n",
    "                break\n",
    "        ind += 1"
   ]
  },
  {
   "cell_type": "code",
   "execution_count": 9,
   "id": "ab2c6428",
   "metadata": {},
   "outputs": [
    {
     "data": {
      "text/plain": [
       "5900"
      ]
     },
     "execution_count": 9,
     "metadata": {},
     "output_type": "execute_result"
    }
   ],
   "source": [
    "s = 0\n",
    "for update in updates:\n",
    "    if not check_update(update):\n",
    "        update_copy = update.copy()\n",
    "        fix_update(update_copy)\n",
    "        s += update_copy[len(update_copy)//2]\n",
    "s"
   ]
  },
  {
   "cell_type": "code",
   "execution_count": null,
   "id": "c6a7c338",
   "metadata": {},
   "outputs": [],
   "source": []
  }
 ],
 "metadata": {
  "kernelspec": {
   "display_name": ".venv",
   "language": "python",
   "name": "python3"
  },
  "language_info": {
   "codemirror_mode": {
    "name": "ipython",
    "version": 3
   },
   "file_extension": ".py",
   "mimetype": "text/x-python",
   "name": "python",
   "nbconvert_exporter": "python",
   "pygments_lexer": "ipython3",
   "version": "3.12.3"
  }
 },
 "nbformat": 4,
 "nbformat_minor": 5
}

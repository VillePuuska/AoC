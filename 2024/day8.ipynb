{
 "cells": [
  {
   "cell_type": "code",
   "execution_count": 1,
   "id": "6eabc14c",
   "metadata": {},
   "outputs": [],
   "source": [
    "from collections import deque, defaultdict, Counter\n",
    "from heapq import heapify, heappush, heappop\n",
    "import numpy as np\n",
    "from copy import deepcopy\n",
    "import math\n",
    "import time\n",
    "from functools import cache, reduce, cmp_to_key\n",
    "import graphviz\n",
    "from itertools import product\n",
    "import matplotlib.pyplot as plt\n",
    "from bisect import bisect_left, bisect_right\n",
    "import json\n",
    "import os\n",
    "import re\n",
    "from typing import Any"
   ]
  },
  {
   "cell_type": "code",
   "execution_count": 2,
   "id": "cae8446c",
   "metadata": {},
   "outputs": [
    {
     "data": {
      "text/plain": [
       "'day8'"
      ]
     },
     "execution_count": 2,
     "metadata": {},
     "output_type": "execute_result"
    }
   ],
   "source": [
    "dirs4 = [(-1, 0), (0, 1), (1, 0), (0, -1)]\n",
    "dirs8 = [(-1, 0), (-1, 1), (0, 1), (1, 1), (1, 0), (1, -1), (0, -1), (-1, -1)]\n",
    "\n",
    "today = os.path.basename(globals()[\"__vsc_ipynb_file__\"]).split(\".\")[0]  # + \"_ex\"\n",
    "today"
   ]
  },
  {
   "cell_type": "code",
   "execution_count": 3,
   "id": "ffcb47c2",
   "metadata": {},
   "outputs": [],
   "source": [
    "def get_lines() -> list[str]:\n",
    "    lines = []\n",
    "    with open(f\"./data/{today}.txt\") as f:\n",
    "        while line := f.readline():\n",
    "            lines.append(line.rstrip())\n",
    "    return lines\n",
    "\n",
    "def get_grid() -> list[list[str]]:\n",
    "    grid = []\n",
    "    with open(f\"./data/{today}.txt\") as f:\n",
    "        while line := f.readline():\n",
    "            grid.append([c for c in line.rstrip()])\n",
    "    return grid\n",
    "\n",
    "def parse_nums(s: str) -> list[int]:\n",
    "    return [int(x) for x in re.findall(r\"\\d+\", s)]\n",
    "\n",
    "def get_nums() -> list[list[int]]:\n",
    "    lines = get_lines()\n",
    "    return [parse_nums(line) for line in lines]\n",
    "\n",
    "def is_inside_grid(coords: tuple[int, int], grid: list[list[Any]]) -> bool:\n",
    "    return coords[0] in range(len(grid)) and coords[1] in range(len(grid[0]))"
   ]
  },
  {
   "cell_type": "code",
   "execution_count": 4,
   "id": "fc1cd4a7",
   "metadata": {},
   "outputs": [
    {
     "data": {
      "text/plain": [
       "(50, 50)"
      ]
     },
     "execution_count": 4,
     "metadata": {},
     "output_type": "execute_result"
    }
   ],
   "source": [
    "grid = get_grid()\n",
    "len(grid), len(grid[0])"
   ]
  },
  {
   "cell_type": "code",
   "execution_count": 5,
   "id": "04a2083e",
   "metadata": {},
   "outputs": [
    {
     "data": {
      "text/plain": [
       "38"
      ]
     },
     "execution_count": 5,
     "metadata": {},
     "output_type": "execute_result"
    }
   ],
   "source": [
    "nodes = defaultdict(list)\n",
    "\n",
    "for row in range(len(grid)):\n",
    "    for col in range(len(grid[row])):\n",
    "        if grid[row][col] == \".\":\n",
    "            continue\n",
    "        nodes[grid[row][col]].append((row, col))\n",
    "len(nodes)"
   ]
  },
  {
   "cell_type": "code",
   "execution_count": 6,
   "id": "35e2bd9c",
   "metadata": {},
   "outputs": [
    {
     "data": {
      "text/plain": [
       "259"
      ]
     },
     "execution_count": 6,
     "metadata": {},
     "output_type": "execute_result"
    }
   ],
   "source": [
    "antinodes = set()\n",
    "\n",
    "for (freq, locs) in nodes.items():\n",
    "    for (i, loc) in enumerate(locs):\n",
    "        for loc2 in locs[i+1:]:\n",
    "            anti = (2*loc[0]-loc2[0], 2*loc[1]-loc2[1])\n",
    "            if is_inside_grid(anti, grid):\n",
    "                antinodes.add(anti)\n",
    "            \n",
    "            anti = (2*loc2[0]-loc[0], 2*loc2[1]-loc[1])\n",
    "            if is_inside_grid(anti, grid):\n",
    "                antinodes.add(anti)\n",
    "len(antinodes)"
   ]
  },
  {
   "cell_type": "code",
   "execution_count": 7,
   "id": "22cd6528",
   "metadata": {},
   "outputs": [
    {
     "data": {
      "text/plain": [
       "927"
      ]
     },
     "execution_count": 7,
     "metadata": {},
     "output_type": "execute_result"
    }
   ],
   "source": [
    "antinodes = set()\n",
    "\n",
    "for (freq, locs) in nodes.items():\n",
    "    for (i, loc) in enumerate(locs):\n",
    "        for loc2 in locs[i+1:]:\n",
    "            step = (loc[0]-loc2[0], loc[1]-loc2[1])\n",
    "            anti = (loc[0], loc[1])\n",
    "            while is_inside_grid(anti, grid):\n",
    "                antinodes.add(anti)\n",
    "                anti = (anti[0]+step[0], anti[1]+step[1])\n",
    "            \n",
    "            step = (loc2[0]-loc[0], loc2[1]-loc[1])\n",
    "            anti = (loc2[0], loc2[1])\n",
    "            while is_inside_grid(anti, grid):\n",
    "                antinodes.add(anti)\n",
    "                anti = (anti[0]+step[0], anti[1]+step[1])\n",
    "len(antinodes)"
   ]
  },
  {
   "cell_type": "code",
   "execution_count": null,
   "id": "8310031a",
   "metadata": {},
   "outputs": [],
   "source": []
  }
 ],
 "metadata": {
  "kernelspec": {
   "display_name": ".venv",
   "language": "python",
   "name": "python3"
  },
  "language_info": {
   "codemirror_mode": {
    "name": "ipython",
    "version": 3
   },
   "file_extension": ".py",
   "mimetype": "text/x-python",
   "name": "python",
   "nbconvert_exporter": "python",
   "pygments_lexer": "ipython3",
   "version": "3.12.3"
  }
 },
 "nbformat": 4,
 "nbformat_minor": 5
}

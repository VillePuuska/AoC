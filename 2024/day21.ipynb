{
 "cells": [
  {
   "cell_type": "code",
   "execution_count": 99,
   "id": "6eabc14c",
   "metadata": {},
   "outputs": [],
   "source": [
    "from collections import deque, defaultdict, Counter\n",
    "from heapq import heapify, heappush, heappop\n",
    "import numpy as np\n",
    "from copy import deepcopy\n",
    "import math\n",
    "import time\n",
    "from functools import cache, reduce, cmp_to_key\n",
    "import graphviz\n",
    "from itertools import product\n",
    "import matplotlib.pyplot as plt\n",
    "from bisect import bisect_left, bisect_right\n",
    "import json\n",
    "import os\n",
    "import re\n",
    "from typing import Any\n",
    "from dataclasses import dataclass"
   ]
  },
  {
   "cell_type": "code",
   "execution_count": 100,
   "id": "f48b0ecb",
   "metadata": {},
   "outputs": [],
   "source": [
    "def print_grid(grid: list[list[str]]):\n",
    "    print(\"\\n\".join(\"\".join(line) for line in grid))\n",
    "\n",
    "\n",
    "def plot_grid(\n",
    "    grid: list[list[str]],\n",
    "    colors: dict[str, int],\n",
    "    save: bool = False,\n",
    "    filepath: str = \"images/plot.png\",\n",
    ") -> None:\n",
    "    arr = np.zeros((len(grid), len(grid[0])))\n",
    "    for r, row in enumerate(grid):\n",
    "        for c, char in enumerate(row):\n",
    "            if char in colors:\n",
    "                arr[r, c] = colors[char]\n",
    "    plt.xticks([])\n",
    "    plt.yticks([])\n",
    "    if save:\n",
    "        plt.imsave(filepath, arr)\n",
    "    else:\n",
    "        plt.imshow(arr)\n",
    "\n",
    "\n",
    "def plot_objects(\n",
    "    object_lists: list[list[tuple[int, int]]],\n",
    "    colors: list[int],\n",
    "    x_limit: int,\n",
    "    y_limit: int,\n",
    "    save: bool = False,\n",
    "    filepath: str = \"images/plot.png\",\n",
    ") -> None:\n",
    "    arr = np.zeros((y_limit, x_limit))\n",
    "    for objects, color in zip(object_lists, colors):\n",
    "        for obj in objects:\n",
    "            arr[y_limit - 1 - obj[1], obj[0]] = color\n",
    "    plt.xticks([])\n",
    "    plt.yticks([])\n",
    "    if save:\n",
    "        plt.imsave(filepath, arr)\n",
    "    else:\n",
    "        plt.imshow(arr)"
   ]
  },
  {
   "cell_type": "code",
   "execution_count": 101,
   "id": "bb6f9e87",
   "metadata": {},
   "outputs": [
    {
     "data": {
      "text/plain": [
       "'day21'"
      ]
     },
     "execution_count": 101,
     "metadata": {},
     "output_type": "execute_result"
    }
   ],
   "source": [
    "dirs4 = [(-1, 0), (0, 1), (1, 0), (0, -1)]\n",
    "dirs8 = [(-1, 0), (-1, 1), (0, 1), (1, 1), (1, 0), (1, -1), (0, -1), (-1, -1)]\n",
    "\n",
    "today = os.path.basename(globals()[\"__vsc_ipynb_file__\"]).split(\".\")[0]  # + \"_ex\"\n",
    "today"
   ]
  },
  {
   "cell_type": "code",
   "execution_count": 102,
   "id": "ffcb47c2",
   "metadata": {},
   "outputs": [],
   "source": [
    "def get_lines() -> list[str]:\n",
    "    lines = []\n",
    "    with open(f\"./data/{today}.txt\") as f:\n",
    "        while line := f.readline():\n",
    "            lines.append(line.rstrip())\n",
    "    return lines\n",
    "\n",
    "\n",
    "def get_grid() -> list[list[str]]:\n",
    "    grid = []\n",
    "    with open(f\"./data/{today}.txt\") as f:\n",
    "        while line := f.readline():\n",
    "            grid.append([c for c in line.rstrip()])\n",
    "    return grid\n",
    "\n",
    "\n",
    "def parse_nums(s: str) -> list[int]:\n",
    "    return [int(x) for x in re.findall(r\"-?\\d+\", s)]\n",
    "\n",
    "\n",
    "def get_nums() -> list[list[int]]:\n",
    "    lines = get_lines()\n",
    "    return [parse_nums(line) for line in lines]\n",
    "\n",
    "\n",
    "def is_inside_grid(coords: tuple[int, int], grid: list[list[Any]]) -> bool:\n",
    "    return coords[0] in range(len(grid)) and coords[1] in range(len(grid[0]))"
   ]
  },
  {
   "cell_type": "code",
   "execution_count": 103,
   "id": "b7d61713",
   "metadata": {},
   "outputs": [],
   "source": [
    "codes = get_lines()"
   ]
  },
  {
   "cell_type": "code",
   "execution_count": 104,
   "id": "e4c0dbee",
   "metadata": {},
   "outputs": [],
   "source": [
    "def shortest_base(start: str, end: str) -> set[str]:\n",
    "    coords = {\n",
    "        \"A\": (3, 1),\n",
    "        \"0\": (2, 1),\n",
    "        \"1\": (1, 2),\n",
    "        \"2\": (2, 2),\n",
    "        \"3\": (3, 2),\n",
    "        \"4\": (1, 3),\n",
    "        \"5\": (2, 3),\n",
    "        \"6\": (3, 3),\n",
    "        \"7\": (1, 4),\n",
    "        \"8\": (2, 4),\n",
    "        \"9\": (3, 4),\n",
    "    }\n",
    "    start_coords = coords[start]\n",
    "    end_coords = coords[end]\n",
    "\n",
    "    res = set()\n",
    "    if start_coords[0] != 1 or end_coords[1] != 1:\n",
    "        res.add(\n",
    "            (\"^\" if end_coords[1] > start_coords[1] else \"v\")\n",
    "                * abs(end_coords[1] - start_coords[1])\n",
    "            + (\">\" if end_coords[0] > start_coords[0] else \"<\")\n",
    "            * abs(end_coords[0] - start_coords[0]) + \"A\"\n",
    "        )\n",
    "    if start_coords[1] != 1 or end_coords[0] != 1:\n",
    "        res.add(\n",
    "            (\">\" if end_coords[0] > start_coords[0] else \"<\")\n",
    "            * abs(end_coords[0] - start_coords[0])\n",
    "            + (\"^\" if end_coords[1] > start_coords[1] else \"v\")\n",
    "            * abs(end_coords[1] - start_coords[1]) + \"A\"\n",
    "        )\n",
    "    return res\n",
    "\n",
    "\n",
    "def shortest_moves_first_robot(seq: str) -> list[str]:\n",
    "    res = []\n",
    "    pos = \"A\"\n",
    "    for c in seq:\n",
    "        res.append(shortest_base(pos, c))\n",
    "        pos = c\n",
    "\n",
    "    return list(reduce(lambda x, y: x+y, moves) for moves in product(*res))"
   ]
  },
  {
   "cell_type": "code",
   "execution_count": 105,
   "id": "464c2b24",
   "metadata": {},
   "outputs": [
    {
     "data": {
      "text/plain": [
       "['<A^A^^>AvvvA', '<A^A>^^AvvvA']"
      ]
     },
     "execution_count": 105,
     "metadata": {},
     "output_type": "execute_result"
    }
   ],
   "source": [
    "shortest_moves_first_robot(\"029A\")"
   ]
  },
  {
   "cell_type": "code",
   "execution_count": 106,
   "id": "a1cb5c6d",
   "metadata": {},
   "outputs": [],
   "source": [
    "def shortest_later(start: str, end: str) -> set[str]:\n",
    "    coords = {\n",
    "        \"<\": (1, 1),\n",
    "        \"v\": (2, 1),\n",
    "        \">\": (3, 1),\n",
    "        \"^\": (2, 2),\n",
    "        \"A\": (3, 2),\n",
    "    }\n",
    "    start_coords = coords[start]\n",
    "    end_coords = coords[end]\n",
    "\n",
    "    res = set()\n",
    "    res.add((\"^\" if end_coords[1] > start_coords[1] else \"v\") * abs(\n",
    "        end_coords[1] - start_coords[1]\n",
    "    ) + (\">\" if end_coords[0] > start_coords[0] else \"<\") * abs(\n",
    "        end_coords[0] - start_coords[0]\n",
    "    ) + \"A\")\n",
    "    if end != \"<\":\n",
    "        res.add((\">\" if end_coords[0] > start_coords[0] else \"<\") * abs(\n",
    "            end_coords[0] - start_coords[0]\n",
    "        ) + (\"^\" if end_coords[1] > start_coords[1] else \"v\") * abs(\n",
    "            end_coords[1] - start_coords[1]\n",
    "        ) + \"A\")\n",
    "    return res\n",
    "\n",
    "def expand_seq(seq: str) -> list[str]:\n",
    "    res = []\n",
    "    pos = \"A\"\n",
    "    for c in seq:\n",
    "        res.append(shortest_later(pos, c))\n",
    "        pos = c\n",
    "    \n",
    "    return list(reduce(lambda x, y: x+y, moves) for moves in product(*res))\n",
    "\n",
    "def shortest_moves_later_robot(seqs: list[str]) -> list[str]:\n",
    "    res = []\n",
    "    for seq in seqs:\n",
    "        tmp = expand_seq(seq)\n",
    "        res.extend(tmp)\n",
    "    return res"
   ]
  },
  {
   "cell_type": "code",
   "execution_count": 108,
   "id": "748e8341",
   "metadata": {},
   "outputs": [],
   "source": [
    "def possible_paths(seq: str, depth: int) -> list[str]:\n",
    "    if depth == 0:\n",
    "        return shortest_moves_first_robot(seq)\n",
    "    seqs = possible_paths(seq, depth-1)\n",
    "    return shortest_moves_later_robot(seqs)"
   ]
  },
  {
   "cell_type": "code",
   "execution_count": 109,
   "id": "ba4d6f82",
   "metadata": {},
   "outputs": [
    {
     "data": {
      "text/plain": [
       "162740"
      ]
     },
     "execution_count": 109,
     "metadata": {},
     "output_type": "execute_result"
    }
   ],
   "source": [
    "s = 0\n",
    "for seq in codes:\n",
    "    l = len(sorted(possible_paths(seq, 2), key=len)[0])\n",
    "    s += int(seq[:-1]) * l\n",
    "s  # 162740"
   ]
  },
  {
   "cell_type": "code",
   "execution_count": null,
   "id": "495e9969",
   "metadata": {},
   "outputs": [],
   "source": []
  }
 ],
 "metadata": {
  "kernelspec": {
   "display_name": ".venv",
   "language": "python",
   "name": "python3"
  },
  "language_info": {
   "codemirror_mode": {
    "name": "ipython",
    "version": 3
   },
   "file_extension": ".py",
   "mimetype": "text/x-python",
   "name": "python",
   "nbconvert_exporter": "python",
   "pygments_lexer": "ipython3",
   "version": "3.12.3"
  }
 },
 "nbformat": 4,
 "nbformat_minor": 5
}

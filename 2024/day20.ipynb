{
 "cells": [
  {
   "cell_type": "code",
   "execution_count": 23,
   "id": "6eabc14c",
   "metadata": {},
   "outputs": [],
   "source": [
    "from collections import deque, defaultdict, Counter\n",
    "from heapq import heapify, heappush, heappop\n",
    "import numpy as np\n",
    "from copy import deepcopy\n",
    "import math\n",
    "import time\n",
    "from functools import cache, reduce, cmp_to_key\n",
    "import graphviz\n",
    "from itertools import product\n",
    "import matplotlib.pyplot as plt\n",
    "from bisect import bisect_left, bisect_right\n",
    "import json\n",
    "import os\n",
    "import re\n",
    "from typing import Any\n",
    "from dataclasses import dataclass"
   ]
  },
  {
   "cell_type": "code",
   "execution_count": 24,
   "id": "f48b0ecb",
   "metadata": {},
   "outputs": [],
   "source": [
    "def print_grid(grid: list[list[str]]):\n",
    "    print(\"\\n\".join(\"\".join(line) for line in grid))\n",
    "\n",
    "\n",
    "def plot_grid(\n",
    "    grid: list[list[str]],\n",
    "    colors: dict[str, int],\n",
    "    save: bool = False,\n",
    "    filepath: str = \"images/plot.png\",\n",
    ") -> None:\n",
    "    arr = np.zeros((len(grid), len(grid[0])))\n",
    "    for r, row in enumerate(grid):\n",
    "        for c, char in enumerate(row):\n",
    "            if char in colors:\n",
    "                arr[r, c] = colors[char]\n",
    "    plt.xticks([])\n",
    "    plt.yticks([])\n",
    "    if save:\n",
    "        plt.imsave(filepath, arr)\n",
    "    else:\n",
    "        plt.imshow(arr)\n",
    "\n",
    "\n",
    "def plot_objects(\n",
    "    object_lists: list[list[tuple[int, int]]],\n",
    "    colors: list[int],\n",
    "    x_limit: int,\n",
    "    y_limit: int,\n",
    "    save: bool = False,\n",
    "    filepath: str = \"images/plot.png\",\n",
    ") -> None:\n",
    "    arr = np.zeros((y_limit, x_limit))\n",
    "    for objects, color in zip(object_lists, colors):\n",
    "        for obj in objects:\n",
    "            arr[y_limit - 1 - obj[1], obj[0]] = color\n",
    "    plt.xticks([])\n",
    "    plt.yticks([])\n",
    "    if save:\n",
    "        plt.imsave(filepath, arr)\n",
    "    else:\n",
    "        plt.imshow(arr)"
   ]
  },
  {
   "cell_type": "code",
   "execution_count": 25,
   "id": "bb6f9e87",
   "metadata": {},
   "outputs": [
    {
     "data": {
      "text/plain": [
       "'day20'"
      ]
     },
     "execution_count": 25,
     "metadata": {},
     "output_type": "execute_result"
    }
   ],
   "source": [
    "dirs4 = [(-1, 0), (0, 1), (1, 0), (0, -1)]\n",
    "dirs8 = [(-1, 0), (-1, 1), (0, 1), (1, 1), (1, 0), (1, -1), (0, -1), (-1, -1)]\n",
    "\n",
    "today = os.path.basename(globals()[\"__vsc_ipynb_file__\"]).split(\".\")[0]  # + \"_ex\"\n",
    "today"
   ]
  },
  {
   "cell_type": "code",
   "execution_count": 26,
   "id": "ffcb47c2",
   "metadata": {},
   "outputs": [],
   "source": [
    "def get_lines() -> list[str]:\n",
    "    lines = []\n",
    "    with open(f\"./data/{today}.txt\") as f:\n",
    "        while line := f.readline():\n",
    "            lines.append(line.rstrip())\n",
    "    return lines\n",
    "\n",
    "\n",
    "def get_grid() -> list[list[str]]:\n",
    "    grid = []\n",
    "    with open(f\"./data/{today}.txt\") as f:\n",
    "        while line := f.readline():\n",
    "            grid.append([c for c in line.rstrip()])\n",
    "    return grid\n",
    "\n",
    "\n",
    "def parse_nums(s: str) -> list[int]:\n",
    "    return [int(x) for x in re.findall(r\"-?\\d+\", s)]\n",
    "\n",
    "\n",
    "def get_nums() -> list[list[int]]:\n",
    "    lines = get_lines()\n",
    "    return [parse_nums(line) for line in lines]\n",
    "\n",
    "\n",
    "def is_inside_grid(coords: tuple[int, int], grid: list[list[Any]]) -> bool:\n",
    "    return coords[0] in range(len(grid)) and coords[1] in range(len(grid[0]))"
   ]
  },
  {
   "cell_type": "code",
   "execution_count": 27,
   "id": "b7d61713",
   "metadata": {},
   "outputs": [
    {
     "data": {
      "text/plain": [
       "(141, 141, (113, 87), (89, 83))"
      ]
     },
     "execution_count": 27,
     "metadata": {},
     "output_type": "execute_result"
    }
   ],
   "source": [
    "grid = get_grid()\n",
    "\n",
    "start = None\n",
    "end = None\n",
    "for r in range(len(grid)):\n",
    "    for c in range(len(grid[r])):\n",
    "        if grid[r][c] == \"S\":\n",
    "            start = (r, c)\n",
    "        elif grid[r][c] == \"E\":\n",
    "            end = (r, c)\n",
    "\n",
    "len(grid), len(grid[0]), start, end"
   ]
  },
  {
   "cell_type": "code",
   "execution_count": 29,
   "id": "44dca7f3",
   "metadata": {},
   "outputs": [
    {
     "data": {
      "text/plain": [
       "9408"
      ]
     },
     "execution_count": 29,
     "metadata": {},
     "output_type": "execute_result"
    }
   ],
   "source": [
    "assert start is not None\n",
    "assert end is not None\n",
    "\n",
    "distances_from_start = {}\n",
    "dq = deque([(start, 0)])\n",
    "while dq:\n",
    "    pos, d = dq.pop()\n",
    "    \n",
    "    if pos in distances_from_start:\n",
    "        continue\n",
    "    distances_from_start[pos] = d\n",
    "\n",
    "    for dr, dc in dirs4:\n",
    "        if grid[pos[0] + dr][pos[1] + dc] == \"#\":\n",
    "            continue\n",
    "        next_pos = (pos[0] + dr, pos[1] + dc)\n",
    "        dq.appendleft((next_pos, d + 1))\n",
    "\n",
    "distances_from_end = {}\n",
    "dq = deque([(end, 0)])\n",
    "while dq:\n",
    "    pos, d = dq.pop()\n",
    "    \n",
    "    if pos in distances_from_end:\n",
    "        continue\n",
    "    distances_from_end[pos] = d\n",
    "\n",
    "    for dr, dc in dirs4:\n",
    "        if grid[pos[0] + dr][pos[1] + dc] == \"#\":\n",
    "            continue\n",
    "        next_pos = (pos[0] + dr, pos[1] + dc)\n",
    "        dq.appendleft((next_pos, d + 1))\n",
    "\n",
    "shortest = distances_from_start[end]\n",
    "shortest"
   ]
  },
  {
   "cell_type": "code",
   "execution_count": null,
   "id": "235ad790",
   "metadata": {},
   "outputs": [
    {
     "data": {
      "text/plain": [
       "1365"
      ]
     },
     "execution_count": 30,
     "metadata": {},
     "output_type": "execute_result"
    }
   ],
   "source": [
    "count = 0\n",
    "for r in range(1, len(grid) - 1):\n",
    "    for c in range(1, len(grid[r]) - 1):\n",
    "        if grid[r][c] == \"#\":\n",
    "            continue\n",
    "        dist_to_cheat = distances_from_start[(r, c)]\n",
    "        for dr, dc in dirs4:\n",
    "            cheat_end = (r+dr, c+dc)\n",
    "            dist_from_cheat_end = 10000000000\n",
    "            for dr2, dc2 in dirs4:\n",
    "                if (r+dr+dr2, c+dc+dc2) not in distances_from_end:\n",
    "                    continue\n",
    "                dist_from_cheat_end = min(dist_from_cheat_end, distances_from_end[(r+dr+dr2, c+dc+dc2)])\n",
    "            if dist_to_cheat + dist_from_cheat_end + 1 < shortest - 100:\n",
    "                count += 1\n",
    "count"
   ]
  },
  {
   "cell_type": "code",
   "execution_count": 37,
   "id": "79151860",
   "metadata": {},
   "outputs": [
    {
     "data": {
      "text/plain": [
       "986082"
      ]
     },
     "execution_count": 37,
     "metadata": {},
     "output_type": "execute_result"
    }
   ],
   "source": [
    "count = 0\n",
    "for r in range(1, len(grid) - 1):\n",
    "    for c in range(1, len(grid[r]) - 1):\n",
    "        for r2 in range(max(1, r - 20), min(len(grid) - 1, r + 21)):\n",
    "            for c2 in range(max(1, c - 20), min(len(grid[r]) - 1, c + 21)):\n",
    "                if abs(r-r2) + abs(c-c2) > 20:\n",
    "                    continue\n",
    "                cheat_start = (r, c)\n",
    "                cheat_end = (r2, c2)\n",
    "                if cheat_start not in distances_from_start:\n",
    "                    continue\n",
    "                if cheat_end not in distances_from_end:\n",
    "                    continue\n",
    "                if distances_from_start[cheat_start] + distances_from_end[cheat_end] + abs(r-r2) + abs(c-c2) < shortest - 99:\n",
    "                    count += 1\n",
    "count"
   ]
  }
 ],
 "metadata": {
  "kernelspec": {
   "display_name": ".venv",
   "language": "python",
   "name": "python3"
  },
  "language_info": {
   "codemirror_mode": {
    "name": "ipython",
    "version": 3
   },
   "file_extension": ".py",
   "mimetype": "text/x-python",
   "name": "python",
   "nbconvert_exporter": "python",
   "pygments_lexer": "ipython3",
   "version": "3.12.3"
  }
 },
 "nbformat": 4,
 "nbformat_minor": 5
}

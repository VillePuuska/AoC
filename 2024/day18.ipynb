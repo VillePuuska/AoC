{
 "cells": [
  {
   "cell_type": "code",
   "execution_count": 1,
   "id": "6eabc14c",
   "metadata": {},
   "outputs": [],
   "source": [
    "from collections import deque, defaultdict, Counter\n",
    "from heapq import heapify, heappush, heappop\n",
    "import numpy as np\n",
    "from copy import deepcopy\n",
    "import math\n",
    "import time\n",
    "from functools import cache, reduce, cmp_to_key\n",
    "import graphviz\n",
    "from itertools import product\n",
    "import matplotlib.pyplot as plt\n",
    "from bisect import bisect_left, bisect_right\n",
    "import json\n",
    "import os\n",
    "import re\n",
    "from typing import Any\n",
    "from dataclasses import dataclass"
   ]
  },
  {
   "cell_type": "code",
   "execution_count": 2,
   "id": "f48b0ecb",
   "metadata": {},
   "outputs": [],
   "source": [
    "def print_grid(grid: list[list[str]]):\n",
    "    print(\"\\n\".join(\"\".join(line) for line in grid))\n",
    "\n",
    "\n",
    "def plot_grid(\n",
    "    grid: list[list[str]],\n",
    "    colors: dict[str, int],\n",
    "    save: bool = False,\n",
    "    filepath: str = \"images/plot.png\",\n",
    ") -> None:\n",
    "    arr = np.zeros((len(grid), len(grid[0])))\n",
    "    for r, row in enumerate(grid):\n",
    "        for c, char in enumerate(row):\n",
    "            if char in colors:\n",
    "                arr[r, c] = colors[char]\n",
    "    plt.xticks([])\n",
    "    plt.yticks([])\n",
    "    if save:\n",
    "        plt.imsave(filepath, arr)\n",
    "    else:\n",
    "        plt.imshow(arr)\n",
    "\n",
    "\n",
    "def plot_objects(\n",
    "    object_lists: list[list[tuple[int, int]]],\n",
    "    colors: list[int],\n",
    "    x_limit: int,\n",
    "    y_limit: int,\n",
    "    save: bool = False,\n",
    "    filepath: str = \"images/plot.png\",\n",
    ") -> None:\n",
    "    arr = np.zeros((y_limit, x_limit))\n",
    "    for objects, color in zip(object_lists, colors):\n",
    "        for obj in objects:\n",
    "            arr[y_limit - 1 - obj[1], obj[0]] = color\n",
    "    plt.xticks([])\n",
    "    plt.yticks([])\n",
    "    if save:\n",
    "        plt.imsave(filepath, arr)\n",
    "    else:\n",
    "        plt.imshow(arr)"
   ]
  },
  {
   "cell_type": "code",
   "execution_count": 3,
   "id": "bb6f9e87",
   "metadata": {},
   "outputs": [
    {
     "data": {
      "text/plain": [
       "'day18'"
      ]
     },
     "execution_count": 3,
     "metadata": {},
     "output_type": "execute_result"
    }
   ],
   "source": [
    "dirs4 = [(-1, 0), (0, 1), (1, 0), (0, -1)]\n",
    "dirs8 = [(-1, 0), (-1, 1), (0, 1), (1, 1), (1, 0), (1, -1), (0, -1), (-1, -1)]\n",
    "\n",
    "today = os.path.basename(globals()[\"__vsc_ipynb_file__\"]).split(\".\")[0]  # + \"_ex\"\n",
    "today"
   ]
  },
  {
   "cell_type": "code",
   "execution_count": 4,
   "id": "ffcb47c2",
   "metadata": {},
   "outputs": [],
   "source": [
    "def get_lines() -> list[str]:\n",
    "    lines = []\n",
    "    with open(f\"./data/{today}.txt\") as f:\n",
    "        while line := f.readline():\n",
    "            lines.append(line.rstrip())\n",
    "    return lines\n",
    "\n",
    "\n",
    "def get_grid() -> list[list[str]]:\n",
    "    grid = []\n",
    "    with open(f\"./data/{today}.txt\") as f:\n",
    "        while line := f.readline():\n",
    "            grid.append([c for c in line.rstrip()])\n",
    "    return grid\n",
    "\n",
    "\n",
    "def parse_nums(s: str) -> list[int]:\n",
    "    return [int(x) for x in re.findall(r\"-?\\d+\", s)]\n",
    "\n",
    "\n",
    "def get_nums() -> list[list[int]]:\n",
    "    lines = get_lines()\n",
    "    return [parse_nums(line) for line in lines]\n",
    "\n",
    "\n",
    "def is_inside_grid(coords: tuple[int, int], grid: list[list[Any]]) -> bool:\n",
    "    return coords[0] in range(len(grid)) and coords[1] in range(len(grid[0]))"
   ]
  },
  {
   "cell_type": "code",
   "execution_count": 5,
   "id": "b7d61713",
   "metadata": {},
   "outputs": [],
   "source": [
    "x_limit = 71\n",
    "y_limit = 71\n",
    "grid_init = [[\".\" for _ in range(y_limit)] for _ in range(x_limit)]"
   ]
  },
  {
   "cell_type": "code",
   "execution_count": 6,
   "id": "6d785a68",
   "metadata": {},
   "outputs": [
    {
     "data": {
      "text/plain": [
       "(3450, [[67, 61], [15, 16]])"
      ]
     },
     "execution_count": 6,
     "metadata": {},
     "output_type": "execute_result"
    }
   ],
   "source": [
    "obstacles = get_nums()\n",
    "len(obstacles), obstacles[:2]"
   ]
  },
  {
   "cell_type": "code",
   "execution_count": 7,
   "id": "df15d5e6",
   "metadata": {},
   "outputs": [],
   "source": [
    "grid = deepcopy(grid_init)\n",
    "for x, y in obstacles[:1024]:\n",
    "    grid[y][x] = \"#\""
   ]
  },
  {
   "cell_type": "code",
   "execution_count": 8,
   "id": "ef66bc80",
   "metadata": {},
   "outputs": [
    {
     "name": "stdout",
     "output_type": "stream",
     "text": [
      "284\n"
     ]
    }
   ],
   "source": [
    "dq = deque([(0, 0, 0)])\n",
    "seen = set()\n",
    "while dq:\n",
    "    r, c, d = dq.popleft()\n",
    "    if r == y_limit - 1 and c == y_limit - 1:\n",
    "        print(d)\n",
    "        break\n",
    "    if (r, c) in seen:\n",
    "        continue\n",
    "    seen.add((r, c))\n",
    "\n",
    "    for dr, dc in dirs4:\n",
    "        if not is_inside_grid((r+dr, c+dc), grid):\n",
    "            continue\n",
    "        if grid[r+dr][c+dc] == \"#\":\n",
    "            continue\n",
    "        dq.append((r+dr, c+dc, d+1))"
   ]
  },
  {
   "cell_type": "code",
   "execution_count": 9,
   "id": "2a40461d",
   "metadata": {},
   "outputs": [],
   "source": [
    "def is_connected(grid: list[list[str]]) -> bool:\n",
    "    dq = deque([(0, 0)])\n",
    "    seen = set()\n",
    "    while dq:\n",
    "        r, c = dq.popleft()\n",
    "        if r == y_limit - 1 and c == y_limit - 1:\n",
    "            return True\n",
    "        if (r, c) in seen:\n",
    "            continue\n",
    "        seen.add((r, c))\n",
    "\n",
    "        for dr, dc in dirs4:\n",
    "            if not is_inside_grid((r+dr, c+dc), grid):\n",
    "                continue\n",
    "            if grid[r+dr][c+dc] == \"#\":\n",
    "                continue\n",
    "            dq.append((r+dr, c+dc))\n",
    "    \n",
    "    return False"
   ]
  },
  {
   "cell_type": "code",
   "execution_count": 10,
   "id": "7b06f0b2",
   "metadata": {},
   "outputs": [
    {
     "name": "stdout",
     "output_type": "stream",
     "text": [
      "[51, 50]\n"
     ]
    }
   ],
   "source": [
    "for i in range(1024, len(obstacles)):\n",
    "    x, y = obstacles[i]\n",
    "    grid[y][x] = \"#\"\n",
    "    if not is_connected(grid):\n",
    "        print(obstacles[i])\n",
    "        break"
   ]
  },
  {
   "cell_type": "markdown",
   "id": "9942c209",
   "metadata": {},
   "source": [
    "# Part 2 - Union-Find"
   ]
  },
  {
   "cell_type": "code",
   "execution_count": 11,
   "id": "08ab4a3e",
   "metadata": {},
   "outputs": [],
   "source": [
    "free_cells = set([(x, y) for x in range(x_limit) for y in range(y_limit)])\n",
    "\n",
    "blocked = defaultdict(int)\n",
    "for x, y in obstacles:\n",
    "    blocked[(x, y)] += 1\n",
    "    free_cells.remove((x, y))"
   ]
  },
  {
   "cell_type": "code",
   "execution_count": 12,
   "id": "b145e83e",
   "metadata": {},
   "outputs": [],
   "source": [
    "parent = {}\n",
    "for cell in free_cells:\n",
    "    parent[cell] = cell\n",
    "\n",
    "def union(pos1: tuple[(int, int)], pos2: tuple[(int, int)]) -> None:\n",
    "    p1 = find(pos1)\n",
    "    p2 = find(pos2)\n",
    "    if p1 == p2:\n",
    "        return\n",
    "    parent[pos1] = p2\n",
    "    parent[p1] = p2\n",
    "\n",
    "def find(pos: tuple[(int, int)]) -> tuple[(int, int)]:\n",
    "    if parent[pos] == pos:\n",
    "        return pos\n",
    "    p = find(parent[pos])\n",
    "    parent[pos] = p\n",
    "    return p\n",
    "\n",
    "for (x, y) in free_cells:\n",
    "    for dx, dy in dirs4:\n",
    "        if (x+dx, y+dy) in free_cells:\n",
    "            union((x, y), (x+dx, y+dy))"
   ]
  },
  {
   "cell_type": "code",
   "execution_count": 13,
   "id": "983e5e00",
   "metadata": {},
   "outputs": [
    {
     "name": "stdout",
     "output_type": "stream",
     "text": [
      "51,50\n"
     ]
    }
   ],
   "source": [
    "for i in range(len(obstacles) - 1, -1, -1):\n",
    "    x, y = obstacles[i][0], obstacles[i][1]\n",
    "    blocked[(x, y)] -= 1\n",
    "    if blocked[(x, y)] == 0:\n",
    "        free_cells.add((x, y))\n",
    "        parent[(x, y)] = (x, y)\n",
    "        for dx, dy in dirs4:\n",
    "            if (x+dx, y+dy) in free_cells:\n",
    "                union((x, y), (x+dx, y+dy))\n",
    "        if find((0, 0)) == find((x_limit - 1, y_limit - 1)):\n",
    "            print(f\"{x},{y}\")\n",
    "            flag = True\n",
    "            break"
   ]
  },
  {
   "cell_type": "code",
   "execution_count": null,
   "id": "07168ff9",
   "metadata": {},
   "outputs": [],
   "source": []
  }
 ],
 "metadata": {
  "kernelspec": {
   "display_name": ".venv",
   "language": "python",
   "name": "python3"
  },
  "language_info": {
   "codemirror_mode": {
    "name": "ipython",
    "version": 3
   },
   "file_extension": ".py",
   "mimetype": "text/x-python",
   "name": "python",
   "nbconvert_exporter": "python",
   "pygments_lexer": "ipython3",
   "version": "3.12.3"
  }
 },
 "nbformat": 4,
 "nbformat_minor": 5
}

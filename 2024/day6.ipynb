{
 "cells": [
  {
   "cell_type": "code",
   "execution_count": 1,
   "id": "6eabc14c",
   "metadata": {},
   "outputs": [],
   "source": [
    "from collections import deque, defaultdict, Counter\n",
    "from heapq import heapify, heappush, heappop\n",
    "import numpy as np\n",
    "from copy import deepcopy\n",
    "import math\n",
    "import time\n",
    "from functools import cache, reduce, cmp_to_key\n",
    "import graphviz\n",
    "from itertools import product\n",
    "import matplotlib.pyplot as plt\n",
    "from bisect import bisect_left, bisect_right\n",
    "import json\n",
    "from typing import Any"
   ]
  },
  {
   "cell_type": "code",
   "execution_count": 2,
   "id": "cae8446c",
   "metadata": {},
   "outputs": [],
   "source": [
    "dirs4 = [(-1, 0), (0, 1), (1, 0), (0, -1)]\n",
    "dirs8 = [(-1, 0), (-1, 1), (0, 1), (1, 1), (1, 0), (1, -1), (0, -1), (-1, -1)]"
   ]
  },
  {
   "cell_type": "code",
   "execution_count": 3,
   "id": "62f0843b",
   "metadata": {},
   "outputs": [
    {
     "data": {
      "text/plain": [
       "(79, 87)"
      ]
     },
     "execution_count": 3,
     "metadata": {},
     "output_type": "execute_result"
    }
   ],
   "source": [
    "grid = []\n",
    "\n",
    "row = 0\n",
    "guard_init = (-1, -1)\n",
    "with open(\"./data/day6.txt\") as f:\n",
    "    while line := f.readline():\n",
    "        line = line.rstrip()\n",
    "        \n",
    "        if \"^\" in line:\n",
    "            guard_init = (row, line.index(\"^\"))\n",
    "            line = line.replace(\"^\", \".\")\n",
    "\n",
    "        grid.append([c for c in line])\n",
    "        row += 1\n",
    "guard_init"
   ]
  },
  {
   "cell_type": "code",
   "execution_count": 4,
   "id": "52df7eb8",
   "metadata": {},
   "outputs": [],
   "source": [
    "def step(guard: tuple[int, int], d: int) -> tuple[int, int]:\n",
    "    return (guard[0] + dirs4[d][0], guard[1] + dirs4[d][1])"
   ]
  },
  {
   "cell_type": "code",
   "execution_count": 5,
   "id": "151bb18f",
   "metadata": {},
   "outputs": [
    {
     "data": {
      "text/plain": [
       "4602"
      ]
     },
     "execution_count": 5,
     "metadata": {},
     "output_type": "execute_result"
    }
   ],
   "source": [
    "guard = guard_init\n",
    "seen = set()\n",
    "d = 0\n",
    "while guard[0] in range(len(grid)) and guard[1] in range(len(grid[0])):\n",
    "    seen.add(guard)\n",
    "\n",
    "    next_guard = step(guard, d)\n",
    "    if next_guard[0] not in range(len(grid)) or next_guard[1] not in range(len(grid[0])):\n",
    "        break\n",
    "    if grid[next_guard[0]][next_guard[1]] == \"#\":\n",
    "        d = (d + 1) % 4\n",
    "        continue\n",
    "\n",
    "    guard = next_guard\n",
    "len(seen)"
   ]
  },
  {
   "cell_type": "code",
   "execution_count": 6,
   "id": "b8821696",
   "metadata": {},
   "outputs": [],
   "source": [
    "def check_loop(guard: tuple[int, int], d: int, seen: dict[Any, set]) -> bool:\n",
    "    visited = defaultdict(set)\n",
    "    while guard[0] in range(len(grid)) and guard[1] in range(len(grid[0])):\n",
    "        if d in seen[guard]:\n",
    "            return True\n",
    "        if d in visited[guard]:\n",
    "            return True\n",
    "        visited[guard].add(d)\n",
    "\n",
    "        next_guard = step(guard, d)\n",
    "        if next_guard[0] not in range(len(grid)) or next_guard[1] not in range(len(grid[0])):\n",
    "            break\n",
    "        if grid[next_guard[0]][next_guard[1]] == \"#\":\n",
    "            d = (d + 1) % 4\n",
    "            continue\n",
    "        guard = next_guard\n",
    "    return False"
   ]
  },
  {
   "cell_type": "code",
   "execution_count": 7,
   "id": "3ff7de3b",
   "metadata": {},
   "outputs": [
    {
     "data": {
      "text/plain": [
       "1703"
      ]
     },
     "execution_count": 7,
     "metadata": {},
     "output_type": "execute_result"
    }
   ],
   "source": [
    "guard = guard_init\n",
    "seen = defaultdict(set)\n",
    "obs = set()\n",
    "d = 0\n",
    "while guard[0] in range(len(grid)) and guard[1] in range(len(grid[0])):\n",
    "    seen[guard].add(d)\n",
    "\n",
    "    next_guard = step(guard, d)\n",
    "    if next_guard[0] not in range(len(grid)) or next_guard[1] not in range(len(grid[0])):\n",
    "        break\n",
    "    if grid[next_guard[0]][next_guard[1]] == \"#\":\n",
    "        d = (d + 1) % 4\n",
    "        continue\n",
    "    \n",
    "    if not seen[next_guard]:\n",
    "        grid[next_guard[0]][next_guard[1]] = \"#\"\n",
    "        if check_loop(guard, (d + 1) % 4, seen):\n",
    "            obs.add(next_guard)\n",
    "        grid[next_guard[0]][next_guard[1]] = \".\"\n",
    "\n",
    "    guard = next_guard\n",
    "len(obs)"
   ]
  },
  {
   "cell_type": "code",
   "execution_count": null,
   "id": "6039a871",
   "metadata": {},
   "outputs": [],
   "source": []
  }
 ],
 "metadata": {
  "kernelspec": {
   "display_name": ".venv",
   "language": "python",
   "name": "python3"
  },
  "language_info": {
   "codemirror_mode": {
    "name": "ipython",
    "version": 3
   },
   "file_extension": ".py",
   "mimetype": "text/x-python",
   "name": "python",
   "nbconvert_exporter": "python",
   "pygments_lexer": "ipython3",
   "version": "3.12.3"
  }
 },
 "nbformat": 4,
 "nbformat_minor": 5
}

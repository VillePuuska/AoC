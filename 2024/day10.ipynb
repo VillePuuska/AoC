{
 "cells": [
  {
   "cell_type": "code",
   "execution_count": 1,
   "id": "6eabc14c",
   "metadata": {},
   "outputs": [],
   "source": [
    "from collections import deque, defaultdict, Counter\n",
    "from heapq import heapify, heappush, heappop\n",
    "import numpy as np\n",
    "from copy import deepcopy\n",
    "import math\n",
    "import time\n",
    "from functools import cache, reduce, cmp_to_key\n",
    "import graphviz\n",
    "from itertools import product\n",
    "import matplotlib.pyplot as plt\n",
    "from bisect import bisect_left, bisect_right\n",
    "import json\n",
    "import os\n",
    "import re\n",
    "from typing import Any"
   ]
  },
  {
   "cell_type": "code",
   "execution_count": 2,
   "id": "cae8446c",
   "metadata": {},
   "outputs": [
    {
     "data": {
      "text/plain": [
       "'day10'"
      ]
     },
     "execution_count": 2,
     "metadata": {},
     "output_type": "execute_result"
    }
   ],
   "source": [
    "dirs4 = [(-1, 0), (0, 1), (1, 0), (0, -1)]\n",
    "dirs8 = [(-1, 0), (-1, 1), (0, 1), (1, 1), (1, 0), (1, -1), (0, -1), (-1, -1)]\n",
    "\n",
    "today = os.path.basename(globals()[\"__vsc_ipynb_file__\"]).split(\".\")[0]  # + \"_ex\"\n",
    "today"
   ]
  },
  {
   "cell_type": "code",
   "execution_count": 3,
   "id": "ffcb47c2",
   "metadata": {},
   "outputs": [],
   "source": [
    "def get_lines() -> list[str]:\n",
    "    lines = []\n",
    "    with open(f\"./data/{today}.txt\") as f:\n",
    "        while line := f.readline():\n",
    "            lines.append(line.rstrip())\n",
    "    return lines\n",
    "\n",
    "def get_grid() -> list[list[str]]:\n",
    "    grid = []\n",
    "    with open(f\"./data/{today}.txt\") as f:\n",
    "        while line := f.readline():\n",
    "            grid.append([c for c in line.rstrip()])\n",
    "    return grid\n",
    "\n",
    "def parse_nums(s: str) -> list[int]:\n",
    "    return [int(x) for x in re.findall(r\"\\d+\", s)]\n",
    "\n",
    "def get_nums() -> list[list[int]]:\n",
    "    lines = get_lines()\n",
    "    return [parse_nums(line) for line in lines]\n",
    "\n",
    "def is_inside_grid(coords: tuple[int, int], grid: list[list[Any]]) -> bool:\n",
    "    return coords[0] in range(len(grid)) and coords[1] in range(len(grid[0]))"
   ]
  },
  {
   "cell_type": "code",
   "execution_count": 4,
   "id": "e202129a",
   "metadata": {},
   "outputs": [
    {
     "data": {
      "text/plain": [
       "(45, 45)"
      ]
     },
     "execution_count": 4,
     "metadata": {},
     "output_type": "execute_result"
    }
   ],
   "source": [
    "grid: list[list[int]] = get_grid()  # type: ignore\n",
    "for i in range(len(grid)):\n",
    "    for j in range(len(grid[i])):\n",
    "        grid[i][j] = int(grid[i][j])\n",
    "len(grid), len(grid[0])"
   ]
  },
  {
   "cell_type": "code",
   "execution_count": 5,
   "id": "473c60f8",
   "metadata": {},
   "outputs": [],
   "source": [
    "def score(row: int, col: int, grid: list[list[int]]) -> int:\n",
    "    if grid[row][col] != 0:\n",
    "        return 0\n",
    "    stack = [(row, col)]\n",
    "    seen = set(stack)\n",
    "    res = 0\n",
    "    while stack:\n",
    "        r, c = stack.pop()\n",
    "        height = grid[r][c]\n",
    "        if height == 9:\n",
    "            res += 1\n",
    "            continue\n",
    "        for dr, dc in dirs4:\n",
    "            if not is_inside_grid((r+dr, c+dc), grid):\n",
    "                continue\n",
    "            if grid[r+dr][c+dc] != height+1:\n",
    "                continue\n",
    "            if (r+dr, c+dc) in seen:\n",
    "                continue\n",
    "            seen.add((r+dr, c+dc))\n",
    "            stack.append((r+dr, c+dc))\n",
    "    return res"
   ]
  },
  {
   "cell_type": "code",
   "execution_count": 6,
   "id": "dba77b7f",
   "metadata": {},
   "outputs": [
    {
     "data": {
      "text/plain": [
       "538"
      ]
     },
     "execution_count": 6,
     "metadata": {},
     "output_type": "execute_result"
    }
   ],
   "source": [
    "s = 0\n",
    "for row in range(len(grid)):\n",
    "    for col in range(len(grid[row])):\n",
    "        s += score(row, col, grid)\n",
    "s"
   ]
  },
  {
   "cell_type": "code",
   "execution_count": 7,
   "id": "1f12b120",
   "metadata": {},
   "outputs": [],
   "source": [
    "def rating(row: int, col: int, grid: list[list[int]]) -> int:\n",
    "    height = grid[row][col]\n",
    "    if height == 9:\n",
    "        return 1\n",
    "    res = 0\n",
    "    for dr, dc in dirs4:\n",
    "        if not is_inside_grid((row+dr, col+dc), grid):\n",
    "            continue\n",
    "        if grid[row+dr][col+dc] != height+1:\n",
    "            continue\n",
    "        res += rating(row+dr, col+dc, grid)\n",
    "    return res"
   ]
  },
  {
   "cell_type": "code",
   "execution_count": 8,
   "id": "b708dc57",
   "metadata": {},
   "outputs": [
    {
     "data": {
      "text/plain": [
       "1110"
      ]
     },
     "execution_count": 8,
     "metadata": {},
     "output_type": "execute_result"
    }
   ],
   "source": [
    "s = 0\n",
    "for row in range(len(grid)):\n",
    "    for col in range(len(grid[row])):\n",
    "        if grid[row][col] != 0:\n",
    "            continue\n",
    "        s += rating(row, col, grid)\n",
    "s"
   ]
  },
  {
   "cell_type": "code",
   "execution_count": null,
   "id": "196889e8",
   "metadata": {},
   "outputs": [],
   "source": []
  }
 ],
 "metadata": {
  "kernelspec": {
   "display_name": ".venv",
   "language": "python",
   "name": "python3"
  },
  "language_info": {
   "codemirror_mode": {
    "name": "ipython",
    "version": 3
   },
   "file_extension": ".py",
   "mimetype": "text/x-python",
   "name": "python",
   "nbconvert_exporter": "python",
   "pygments_lexer": "ipython3",
   "version": "3.12.3"
  }
 },
 "nbformat": 4,
 "nbformat_minor": 5
}

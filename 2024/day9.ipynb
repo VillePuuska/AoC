{
 "cells": [
  {
   "cell_type": "code",
   "execution_count": 1,
   "id": "6eabc14c",
   "metadata": {},
   "outputs": [],
   "source": [
    "from collections import deque, defaultdict, Counter\n",
    "from heapq import heapify, heappush, heappop\n",
    "import numpy as np\n",
    "from copy import deepcopy\n",
    "import math\n",
    "import time\n",
    "from functools import cache, reduce, cmp_to_key\n",
    "import graphviz\n",
    "from itertools import product\n",
    "import matplotlib.pyplot as plt\n",
    "from bisect import bisect_left, bisect_right\n",
    "import json\n",
    "import os\n",
    "import re\n",
    "from typing import Any"
   ]
  },
  {
   "cell_type": "code",
   "execution_count": 2,
   "id": "cae8446c",
   "metadata": {},
   "outputs": [
    {
     "data": {
      "text/plain": [
       "'day9'"
      ]
     },
     "execution_count": 2,
     "metadata": {},
     "output_type": "execute_result"
    }
   ],
   "source": [
    "dirs4 = [(-1, 0), (0, 1), (1, 0), (0, -1)]\n",
    "dirs8 = [(-1, 0), (-1, 1), (0, 1), (1, 1), (1, 0), (1, -1), (0, -1), (-1, -1)]\n",
    "\n",
    "today = os.path.basename(globals()[\"__vsc_ipynb_file__\"]).split(\".\")[0]  # + \"_ex\"\n",
    "today"
   ]
  },
  {
   "cell_type": "code",
   "execution_count": 3,
   "id": "ffcb47c2",
   "metadata": {},
   "outputs": [],
   "source": [
    "def get_lines() -> list[str]:\n",
    "    lines = []\n",
    "    with open(f\"./data/{today}.txt\") as f:\n",
    "        while line := f.readline():\n",
    "            lines.append(line.rstrip())\n",
    "    return lines\n",
    "\n",
    "def get_grid() -> list[list[str]]:\n",
    "    grid = []\n",
    "    with open(f\"./data/{today}.txt\") as f:\n",
    "        while line := f.readline():\n",
    "            grid.append([c for c in line.rstrip()])\n",
    "    return grid\n",
    "\n",
    "def parse_nums(s: str) -> list[int]:\n",
    "    return [int(x) for x in re.findall(r\"\\d+\", s)]\n",
    "\n",
    "def get_nums() -> list[list[int]]:\n",
    "    lines = get_lines()\n",
    "    return [parse_nums(line) for line in lines]\n",
    "\n",
    "def is_inside_grid(coords: tuple[int, int], grid: list[list[Any]]) -> bool:\n",
    "    return coords[0] in range(len(grid)) and coords[1] in range(len(grid[0]))"
   ]
  },
  {
   "cell_type": "code",
   "execution_count": 4,
   "id": "f08852e6",
   "metadata": {},
   "outputs": [
    {
     "data": {
      "text/plain": [
       "20000"
      ]
     },
     "execution_count": 4,
     "metadata": {},
     "output_type": "execute_result"
    }
   ],
   "source": [
    "line = [int(c) for c in get_lines()[0]] + [0,]\n",
    "len(line)"
   ]
  },
  {
   "cell_type": "code",
   "execution_count": 5,
   "id": "4ad3998c",
   "metadata": {},
   "outputs": [
    {
     "data": {
      "text/plain": [
       "[5, 2, 8, 0]"
      ]
     },
     "execution_count": 5,
     "metadata": {},
     "output_type": "execute_result"
    }
   ],
   "source": [
    "line[-4:]"
   ]
  },
  {
   "cell_type": "code",
   "execution_count": 6,
   "id": "f9dea140",
   "metadata": {},
   "outputs": [
    {
     "data": {
      "text/plain": [
       "6385338159127"
      ]
     },
     "execution_count": 6,
     "metadata": {},
     "output_type": "execute_result"
    }
   ],
   "source": [
    "dq = deque()\n",
    "for i in range(0, len(line), 2):\n",
    "    dq.append([i // 2, line[i], line[i+1]])  # [id, file blocks left, free blocks left]\n",
    "\n",
    "s = 0\n",
    "pos = 0\n",
    "while dq:\n",
    "    if dq[0][1] == 0 and dq[0][2] == 0:\n",
    "        dq.popleft()\n",
    "        continue\n",
    "    if dq[0][1] != 0:\n",
    "        s += dq[0][0] * pos\n",
    "        dq[0][1] -= 1\n",
    "    elif dq[-1][1] == 0:\n",
    "        dq.pop()\n",
    "        continue\n",
    "    else:\n",
    "        s += dq[-1][0] * pos\n",
    "        dq[0][2] -= 1\n",
    "        dq[-1][1] -= 1\n",
    "    pos += 1\n",
    "s"
   ]
  },
  {
   "cell_type": "code",
   "execution_count": 7,
   "id": "63f9ac25",
   "metadata": {},
   "outputs": [],
   "source": [
    "ls = []\n",
    "for i in range(0, len(line), 2):\n",
    "    ls.append([i // 2, line[i], line[i+1], False])  # [id, file blocks left, free blocks left, tried to move]\n",
    "\n",
    "# space = sum(x[1] + x[2] for x in ls)\n",
    "\n",
    "while True:\n",
    "    # assert space == sum(x[1] + x[2] for x in ls), (space, sum(x[1] + x[2] for x in ls))\n",
    "\n",
    "    flag = True\n",
    "    for i in range(len(ls)-1, 0, -1):\n",
    "        if ls[i][3]:\n",
    "            continue\n",
    "        flag = False\n",
    "        ls[i][3] = True\n",
    "        for j in range(i):\n",
    "            if ls[j][2] >= ls[i][1]:\n",
    "                ls[i-1][2] += ls[i][1] + ls[i][2]\n",
    "                new_elemt = ls[i].copy()\n",
    "                new_elemt[2] = ls[j][2] - ls[i][1]\n",
    "                ls.pop(i)\n",
    "                ls.insert(j+1, new_elemt)\n",
    "                ls[j][2] = 0\n",
    "                break        \n",
    "        break\n",
    "    if flag:\n",
    "        break"
   ]
  },
  {
   "cell_type": "code",
   "execution_count": 8,
   "id": "57c87571",
   "metadata": {},
   "outputs": [
    {
     "data": {
      "text/plain": [
       "6415163624282"
      ]
     },
     "execution_count": 8,
     "metadata": {},
     "output_type": "execute_result"
    }
   ],
   "source": [
    "s = 0\n",
    "pos = 0\n",
    "for l in ls:\n",
    "    for _ in range(l[1]):\n",
    "        s += l[0] * pos\n",
    "        pos += 1\n",
    "    pos += l[2]\n",
    "s"
   ]
  },
  {
   "cell_type": "code",
   "execution_count": null,
   "id": "722a042a",
   "metadata": {},
   "outputs": [],
   "source": []
  }
 ],
 "metadata": {
  "kernelspec": {
   "display_name": ".venv",
   "language": "python",
   "name": "python3"
  },
  "language_info": {
   "codemirror_mode": {
    "name": "ipython",
    "version": 3
   },
   "file_extension": ".py",
   "mimetype": "text/x-python",
   "name": "python",
   "nbconvert_exporter": "python",
   "pygments_lexer": "ipython3",
   "version": "3.12.3"
  }
 },
 "nbformat": 4,
 "nbformat_minor": 5
}

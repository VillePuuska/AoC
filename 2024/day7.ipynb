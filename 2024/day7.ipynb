{
 "cells": [
  {
   "cell_type": "code",
   "execution_count": 1,
   "id": "6eabc14c",
   "metadata": {},
   "outputs": [],
   "source": [
    "from collections import deque, defaultdict, Counter\n",
    "from heapq import heapify, heappush, heappop\n",
    "import numpy as np\n",
    "from copy import deepcopy\n",
    "import math\n",
    "import time\n",
    "from functools import cache, reduce, cmp_to_key\n",
    "import graphviz\n",
    "from itertools import product\n",
    "import matplotlib.pyplot as plt\n",
    "from bisect import bisect_left, bisect_right\n",
    "import json"
   ]
  },
  {
   "cell_type": "code",
   "execution_count": 2,
   "id": "cae8446c",
   "metadata": {},
   "outputs": [],
   "source": [
    "dirs4 = [(-1, 0), (0, 1), (1, 0), (0, -1)]\n",
    "dirs8 = [(-1, 0), (-1, 1), (0, 1), (1, 1), (1, 0), (1, -1), (0, -1), (-1, -1)]"
   ]
  },
  {
   "cell_type": "code",
   "execution_count": 3,
   "id": "62f0843b",
   "metadata": {},
   "outputs": [
    {
     "data": {
      "text/plain": [
       "([237069504000, 355813],\n",
       " [[96, 30, 30, 28, 139, 705], [50, 702, 120, 7, 59]],\n",
       " 12,\n",
       " 850)"
      ]
     },
     "execution_count": 3,
     "metadata": {},
     "output_type": "execute_result"
    }
   ],
   "source": [
    "targets = []\n",
    "num_lists = []\n",
    "\n",
    "with open(\"./data/day7.txt\") as f:\n",
    "    while line := f.readline():\n",
    "        line = line.rstrip().split(\": \")\n",
    "        targets.append(int(line[0]))\n",
    "        num_lists.append([int(num) for num in line[1].split()])\n",
    "\n",
    "targets[:2], num_lists[:2], max(len(x) for x in num_lists), len(num_lists)"
   ]
  },
  {
   "cell_type": "code",
   "execution_count": 4,
   "id": "89e7272f",
   "metadata": {},
   "outputs": [],
   "source": [
    "def check(target: int, curr: int, nums: list[int], ind: int) -> bool:\n",
    "    if ind >= len(nums):\n",
    "        return target == curr\n",
    "    if check(target, curr + nums[ind], nums, ind+1):\n",
    "        return True\n",
    "    if check(target, curr * nums[ind], nums, ind+1):\n",
    "        return True\n",
    "    return False"
   ]
  },
  {
   "cell_type": "code",
   "execution_count": 5,
   "id": "9eeda783",
   "metadata": {},
   "outputs": [
    {
     "data": {
      "text/plain": [
       "2941973819040"
      ]
     },
     "execution_count": 5,
     "metadata": {},
     "output_type": "execute_result"
    }
   ],
   "source": [
    "s = 0\n",
    "for tgt, ns in zip(targets, num_lists):\n",
    "    if check(tgt, ns[0], ns, 1):\n",
    "        s += tgt\n",
    "s"
   ]
  },
  {
   "cell_type": "code",
   "execution_count": 6,
   "id": "f11fa027",
   "metadata": {},
   "outputs": [],
   "source": [
    "def check2(target: int, curr: int, nums: list[int], ind: int) -> bool:\n",
    "    if ind >= len(nums):\n",
    "        return target == curr\n",
    "    if check2(target, curr + nums[ind], nums, ind+1):\n",
    "        return True\n",
    "    if check2(target, curr * nums[ind], nums, ind+1):\n",
    "        return True\n",
    "    if check2(target, int(str(curr) + str(nums[ind])), nums, ind+1):\n",
    "        return True\n",
    "    return False"
   ]
  },
  {
   "cell_type": "code",
   "execution_count": 7,
   "id": "710a1237",
   "metadata": {},
   "outputs": [
    {
     "data": {
      "text/plain": [
       "249943041417600"
      ]
     },
     "execution_count": 7,
     "metadata": {},
     "output_type": "execute_result"
    }
   ],
   "source": [
    "s = 0\n",
    "for tgt, ns in zip(targets, num_lists):\n",
    "    if check2(tgt, ns[0], ns, 1):\n",
    "        s += tgt\n",
    "s"
   ]
  },
  {
   "cell_type": "code",
   "execution_count": null,
   "id": "c6394c7f",
   "metadata": {},
   "outputs": [],
   "source": []
  }
 ],
 "metadata": {
  "kernelspec": {
   "display_name": ".venv",
   "language": "python",
   "name": "python3"
  },
  "language_info": {
   "codemirror_mode": {
    "name": "ipython",
    "version": 3
   },
   "file_extension": ".py",
   "mimetype": "text/x-python",
   "name": "python",
   "nbconvert_exporter": "python",
   "pygments_lexer": "ipython3",
   "version": "3.12.3"
  }
 },
 "nbformat": 4,
 "nbformat_minor": 5
}

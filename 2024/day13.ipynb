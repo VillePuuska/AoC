{
 "cells": [
  {
   "cell_type": "code",
   "execution_count": 1,
   "id": "6eabc14c",
   "metadata": {},
   "outputs": [],
   "source": [
    "from collections import deque, defaultdict, Counter\n",
    "from heapq import heapify, heappush, heappop\n",
    "import numpy as np\n",
    "from copy import deepcopy\n",
    "import math\n",
    "import time\n",
    "from functools import cache, reduce, cmp_to_key\n",
    "import graphviz\n",
    "from itertools import product\n",
    "import matplotlib.pyplot as plt\n",
    "from bisect import bisect_left, bisect_right\n",
    "import json\n",
    "import os\n",
    "import re\n",
    "from typing import Any"
   ]
  },
  {
   "cell_type": "code",
   "execution_count": 2,
   "id": "cae8446c",
   "metadata": {},
   "outputs": [
    {
     "data": {
      "text/plain": [
       "'day13'"
      ]
     },
     "execution_count": 2,
     "metadata": {},
     "output_type": "execute_result"
    }
   ],
   "source": [
    "dirs4 = [(-1, 0), (0, 1), (1, 0), (0, -1)]\n",
    "dirs8 = [(-1, 0), (-1, 1), (0, 1), (1, 1), (1, 0), (1, -1), (0, -1), (-1, -1)]\n",
    "\n",
    "today = os.path.basename(globals()[\"__vsc_ipynb_file__\"]).split(\".\")[0]  # + \"_ex\"\n",
    "today"
   ]
  },
  {
   "cell_type": "code",
   "execution_count": 3,
   "id": "ffcb47c2",
   "metadata": {},
   "outputs": [],
   "source": [
    "def get_lines() -> list[str]:\n",
    "    lines = []\n",
    "    with open(f\"./data/{today}.txt\") as f:\n",
    "        while line := f.readline():\n",
    "            lines.append(line.rstrip())\n",
    "    return lines\n",
    "\n",
    "def get_grid() -> list[list[str]]:\n",
    "    grid = []\n",
    "    with open(f\"./data/{today}.txt\") as f:\n",
    "        while line := f.readline():\n",
    "            grid.append([c for c in line.rstrip()])\n",
    "    return grid\n",
    "\n",
    "def parse_nums(s: str) -> list[int]:\n",
    "    return [int(x) for x in re.findall(r\"\\d+\", s)]\n",
    "\n",
    "def get_nums() -> list[list[int]]:\n",
    "    lines = get_lines()\n",
    "    return [parse_nums(line) for line in lines]\n",
    "\n",
    "def is_inside_grid(coords: tuple[int, int], grid: list[list[Any]]) -> bool:\n",
    "    return coords[0] in range(len(grid)) and coords[1] in range(len(grid[0]))"
   ]
  },
  {
   "cell_type": "code",
   "execution_count": 4,
   "id": "2812bfd1",
   "metadata": {},
   "outputs": [
    {
     "data": {
      "text/plain": [
       "320"
      ]
     },
     "execution_count": 4,
     "metadata": {},
     "output_type": "execute_result"
    }
   ],
   "source": [
    "lines = get_lines()\n",
    "(len(lines) + 1) // 4"
   ]
  },
  {
   "cell_type": "code",
   "execution_count": 5,
   "id": "80aec9d6",
   "metadata": {},
   "outputs": [
    {
     "data": {
      "text/plain": [
       "(39290, 73458657399094)"
      ]
     },
     "execution_count": 5,
     "metadata": {},
     "output_type": "execute_result"
    }
   ],
   "source": [
    "p1 = 0\n",
    "p2 = 0\n",
    "for i in range(0, len(lines), 4):\n",
    "    a = parse_nums(lines[i])\n",
    "    b = parse_nums(lines[i+1])\n",
    "    target = parse_nums(lines[i+2])\n",
    "\n",
    "    x = np.linalg.solve(np.array([[a[0], b[0]], [a[1], b[1]]]), target)\n",
    "    if np.all(np.modf(x + 0.001)[0] < 0.002):\n",
    "        p1 += 3*int(x[0]+0.1) + int(x[1]+0.1)\n",
    "\n",
    "    x = np.linalg.solve(np.array([[a[0], b[0]], [a[1], b[1]]]), [target[0] + 10000000000000, target[1] + 10000000000000])\n",
    "    if np.all(np.modf(x + 0.001)[0] < 0.002):\n",
    "        p2 += 3*int(x[0]+0.1) + int(x[1]+0.1)\n",
    "\n",
    "p1, p2"
   ]
  },
  {
   "cell_type": "code",
   "execution_count": null,
   "id": "4a4f69cf",
   "metadata": {},
   "outputs": [],
   "source": []
  }
 ],
 "metadata": {
  "kernelspec": {
   "display_name": ".venv",
   "language": "python",
   "name": "python3"
  },
  "language_info": {
   "codemirror_mode": {
    "name": "ipython",
    "version": 3
   },
   "file_extension": ".py",
   "mimetype": "text/x-python",
   "name": "python",
   "nbconvert_exporter": "python",
   "pygments_lexer": "ipython3",
   "version": "3.12.3"
  }
 },
 "nbformat": 4,
 "nbformat_minor": 5
}

{
 "cells": [
  {
   "cell_type": "code",
   "execution_count": 1,
   "id": "6eabc14c",
   "metadata": {},
   "outputs": [],
   "source": [
    "from collections import deque, defaultdict, Counter\n",
    "from heapq import heapify, heappush, heappop\n",
    "import numpy as np\n",
    "from copy import deepcopy\n",
    "import math\n",
    "import time\n",
    "from functools import cache, reduce, cmp_to_key\n",
    "import graphviz\n",
    "from itertools import product\n",
    "import matplotlib.pyplot as plt\n",
    "from bisect import bisect_left, bisect_right\n",
    "import json\n",
    "import os\n",
    "import re\n",
    "from typing import Any\n",
    "from dataclasses import dataclass"
   ]
  },
  {
   "cell_type": "code",
   "execution_count": 2,
   "id": "f48b0ecb",
   "metadata": {},
   "outputs": [],
   "source": [
    "def print_grid(grid: list[list[str]]):\n",
    "    print(\"\\n\".join(\"\".join(line) for line in grid))\n",
    "\n",
    "\n",
    "def plot_grid(\n",
    "    grid: list[list[str]],\n",
    "    colors: dict[str, int],\n",
    "    save: bool = False,\n",
    "    filepath: str = \"images/plot.png\",\n",
    ") -> None:\n",
    "    arr = np.zeros((len(grid), len(grid[0])))\n",
    "    for r, row in enumerate(grid):\n",
    "        for c, char in enumerate(row):\n",
    "            if char in colors:\n",
    "                arr[r, c] = colors[char]\n",
    "    plt.xticks([])\n",
    "    plt.yticks([])\n",
    "    if save:\n",
    "        plt.imsave(filepath, arr)\n",
    "    else:\n",
    "        plt.imshow(arr)\n",
    "\n",
    "\n",
    "def plot_objects(\n",
    "    object_lists: list[list[tuple[int, int]]],\n",
    "    colors: list[int],\n",
    "    x_limit: int,\n",
    "    y_limit: int,\n",
    "    save: bool = False,\n",
    "    filepath: str = \"images/plot.png\",\n",
    ") -> None:\n",
    "    arr = np.zeros((y_limit, x_limit))\n",
    "    for objects, color in zip(object_lists, colors):\n",
    "        for obj in objects:\n",
    "            arr[y_limit - 1 - obj[1], obj[0]] = color\n",
    "    plt.xticks([])\n",
    "    plt.yticks([])\n",
    "    if save:\n",
    "        plt.imsave(filepath, arr)\n",
    "    else:\n",
    "        plt.imshow(arr)"
   ]
  },
  {
   "cell_type": "code",
   "execution_count": 3,
   "id": "bb6f9e87",
   "metadata": {},
   "outputs": [
    {
     "data": {
      "text/plain": [
       "'day24'"
      ]
     },
     "execution_count": 3,
     "metadata": {},
     "output_type": "execute_result"
    }
   ],
   "source": [
    "dirs4 = [(-1, 0), (0, 1), (1, 0), (0, -1)]\n",
    "dirs8 = [(-1, 0), (-1, 1), (0, 1), (1, 1), (1, 0), (1, -1), (0, -1), (-1, -1)]\n",
    "\n",
    "today = os.path.basename(globals()[\"__vsc_ipynb_file__\"]).split(\".\")[0]  # + \"_ex\"\n",
    "today"
   ]
  },
  {
   "cell_type": "code",
   "execution_count": 4,
   "id": "ffcb47c2",
   "metadata": {},
   "outputs": [],
   "source": [
    "def get_lines() -> list[str]:\n",
    "    lines = []\n",
    "    with open(f\"./data/{today}.txt\") as f:\n",
    "        while line := f.readline():\n",
    "            lines.append(line.rstrip())\n",
    "    return lines\n",
    "\n",
    "\n",
    "def get_grid() -> list[list[str]]:\n",
    "    grid = []\n",
    "    with open(f\"./data/{today}.txt\") as f:\n",
    "        while line := f.readline():\n",
    "            grid.append([c for c in line.rstrip()])\n",
    "    return grid\n",
    "\n",
    "\n",
    "def parse_nums(s: str) -> list[int]:\n",
    "    return [int(x) for x in re.findall(r\"-?\\d+\", s)]\n",
    "\n",
    "\n",
    "def get_nums() -> list[list[int]]:\n",
    "    lines = get_lines()\n",
    "    return [parse_nums(line) for line in lines]\n",
    "\n",
    "\n",
    "def is_inside_grid(coords: tuple[int, int], grid: list[list[Any]]) -> bool:\n",
    "    return coords[0] in range(len(grid)) and coords[1] in range(len(grid[0]))"
   ]
  },
  {
   "cell_type": "code",
   "execution_count": 5,
   "id": "5e25115f",
   "metadata": {},
   "outputs": [],
   "source": [
    "from typing import Literal\n",
    "from dataclasses import field\n",
    "\n",
    "\n",
    "@dataclass\n",
    "class Wire:\n",
    "    label: str\n",
    "    val: bool | None = None\n",
    "    dependencies: list[\"Wire\"] = field(default_factory=list)\n",
    "    operator: Literal[\"AND\", \"OR\", \"XOR\"] | None = None\n",
    "    downstream: list[\"Wire\"] = field(default_factory=list)\n",
    "\n",
    "    def can_activate(self) -> bool:\n",
    "        if self.val is not None:\n",
    "            return False\n",
    "        if len(self.dependencies) != 2:\n",
    "            return False\n",
    "        if self.operator == \"OR\" and (\n",
    "            self.dependencies[0].val or self.dependencies[1].val\n",
    "        ):\n",
    "            self.val = True\n",
    "            return True\n",
    "        if self.operator == \"AND\" and (\n",
    "            self.dependencies[0].val == False or self.dependencies[1].val == False\n",
    "        ):\n",
    "            self.val = False\n",
    "            return True\n",
    "        if self.dependencies[0].val is None or self.dependencies[1].val is None:\n",
    "            return False\n",
    "        if self.operator == \"AND\":\n",
    "            self.val = self.dependencies[0].val and self.dependencies[1].val\n",
    "            return True\n",
    "        if self.operator == \"OR\":\n",
    "            self.val = self.dependencies[0].val or self.dependencies[1].val\n",
    "            return True\n",
    "        self.val = self.dependencies[0].val ^ self.dependencies[1].val\n",
    "        return True"
   ]
  },
  {
   "cell_type": "code",
   "execution_count": 6,
   "id": "b7d61713",
   "metadata": {},
   "outputs": [],
   "source": [
    "with open(f\"./data/{today}.txt\") as f:\n",
    "    lines = f.read().rstrip()\n",
    "\n",
    "wires: dict[str, Wire] = {}\n",
    "activated = deque()\n",
    "for line in lines.split(\"\\n\\n\")[0].split(\"\\n\"):\n",
    "    wire = line.split(\": \")[0]\n",
    "    val = line.split(\": \")[1].rstrip() == \"1\"\n",
    "    wires[wire] = Wire(label=wire, val=val)\n",
    "    activated.append(wire)\n",
    "\n",
    "for line in lines.split(\"\\n\\n\")[1].rstrip().split(\"\\n\"):\n",
    "    first = line[:3]\n",
    "    second = line.split(\" -> \")[0][-3:]\n",
    "    third = line[-3:]\n",
    "    operator = line.split(\" -> \")[0][4:-4]\n",
    "    assert operator in (\"AND\", \"OR\", \"XOR\"), operator\n",
    "\n",
    "    if first not in wires:\n",
    "        wires[first] = Wire(label=first)\n",
    "    if second not in wires:\n",
    "        wires[second] = Wire(label=second)\n",
    "    if third not in wires:\n",
    "        wires[third] = Wire(label=third)\n",
    "    \n",
    "    wires[first].downstream.append(wires[third])\n",
    "    wires[second].downstream.append(wires[third])\n",
    "\n",
    "    wires[third].dependencies = [wires[first], wires[second]]\n",
    "    wires[third].operator = operator"
   ]
  },
  {
   "cell_type": "code",
   "execution_count": 7,
   "id": "bcef00ec",
   "metadata": {},
   "outputs": [],
   "source": [
    "while len(activated) > 0:\n",
    "    wire = activated.pop()\n",
    "    for next_wire in wires[wire].downstream:\n",
    "        if next_wire.can_activate():\n",
    "            activated.appendleft(next_wire.label)"
   ]
  },
  {
   "cell_type": "code",
   "execution_count": 8,
   "id": "ac346601",
   "metadata": {},
   "outputs": [
    {
     "data": {
      "text/plain": [
       "45923082839246"
      ]
     },
     "execution_count": 8,
     "metadata": {},
     "output_type": "execute_result"
    }
   ],
   "source": [
    "z_wires = [(l, w) for (l, w) in wires.items() if l[0] == \"z\"]\n",
    "z_wires = reversed(sorted(z_wires, key=lambda x: x[0]))\n",
    "z_wire_values = [(\"1\" if w.val else \"0\") for (_, w) in z_wires]\n",
    "int(\"\".join(z_wire_values), 2)"
   ]
  },
  {
   "cell_type": "code",
   "execution_count": null,
   "id": "70638dc8",
   "metadata": {},
   "outputs": [],
   "source": []
  }
 ],
 "metadata": {
  "kernelspec": {
   "display_name": ".venv",
   "language": "python",
   "name": "python3"
  },
  "language_info": {
   "codemirror_mode": {
    "name": "ipython",
    "version": 3
   },
   "file_extension": ".py",
   "mimetype": "text/x-python",
   "name": "python",
   "nbconvert_exporter": "python",
   "pygments_lexer": "ipython3",
   "version": "3.12.3"
  }
 },
 "nbformat": 4,
 "nbformat_minor": 5
}

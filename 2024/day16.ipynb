{
 "cells": [
  {
   "cell_type": "code",
   "execution_count": 1,
   "id": "6eabc14c",
   "metadata": {},
   "outputs": [],
   "source": [
    "from collections import deque, defaultdict, Counter\n",
    "from heapq import heapify, heappush, heappop\n",
    "import numpy as np\n",
    "from copy import deepcopy\n",
    "import math\n",
    "import time\n",
    "from functools import cache, reduce, cmp_to_key\n",
    "import graphviz\n",
    "from itertools import product\n",
    "import matplotlib.pyplot as plt\n",
    "from bisect import bisect_left, bisect_right\n",
    "import json\n",
    "import os\n",
    "import re\n",
    "from typing import Any\n",
    "from dataclasses import dataclass"
   ]
  },
  {
   "cell_type": "code",
   "execution_count": 2,
   "id": "f48b0ecb",
   "metadata": {},
   "outputs": [],
   "source": [
    "def print_grid(grid: list[list[str]]):\n",
    "    print(\"\\n\".join(\"\".join(line) for line in grid))\n",
    "\n",
    "\n",
    "def plot_grid(\n",
    "    grid: list[list[str]],\n",
    "    colors: dict[str, int],\n",
    "    save: bool = False,\n",
    "    filepath: str = \"images/plot.png\",\n",
    ") -> None:\n",
    "    arr = np.zeros((len(grid), len(grid[0])))\n",
    "    for r, row in enumerate(grid):\n",
    "        for c, char in enumerate(row):\n",
    "            if char in colors:\n",
    "                arr[r, c] = colors[char]\n",
    "    plt.xticks([])\n",
    "    plt.yticks([])\n",
    "    if save:\n",
    "        plt.imsave(filepath, arr)\n",
    "    else:\n",
    "        plt.imshow(arr)\n",
    "\n",
    "\n",
    "def plot_objects(\n",
    "    object_lists: list[list[tuple[int, int]]],\n",
    "    colors: list[int],\n",
    "    x_limit: int,\n",
    "    y_limit: int,\n",
    "    save: bool = False,\n",
    "    filepath: str = \"images/plot.png\",\n",
    ") -> None:\n",
    "    arr = np.zeros((y_limit, x_limit))\n",
    "    for objects, color in zip(object_lists, colors):\n",
    "        for obj in objects:\n",
    "            arr[y_limit - 1 - obj[1], obj[0]] = color\n",
    "    plt.xticks([])\n",
    "    plt.yticks([])\n",
    "    if save:\n",
    "        plt.imsave(filepath, arr)\n",
    "    else:\n",
    "        plt.imshow(arr)"
   ]
  },
  {
   "cell_type": "code",
   "execution_count": 3,
   "id": "bb6f9e87",
   "metadata": {},
   "outputs": [
    {
     "data": {
      "text/plain": [
       "'day16'"
      ]
     },
     "execution_count": 3,
     "metadata": {},
     "output_type": "execute_result"
    }
   ],
   "source": [
    "dirs4 = [(-1, 0), (0, 1), (1, 0), (0, -1)]\n",
    "dirs8 = [(-1, 0), (-1, 1), (0, 1), (1, 1), (1, 0), (1, -1), (0, -1), (-1, -1)]\n",
    "\n",
    "today = os.path.basename(globals()[\"__vsc_ipynb_file__\"]).split(\".\")[0]  # + \"_ex\"\n",
    "today"
   ]
  },
  {
   "cell_type": "code",
   "execution_count": 4,
   "id": "ffcb47c2",
   "metadata": {},
   "outputs": [],
   "source": [
    "def get_lines() -> list[str]:\n",
    "    lines = []\n",
    "    with open(f\"./data/{today}.txt\") as f:\n",
    "        while line := f.readline():\n",
    "            lines.append(line.rstrip())\n",
    "    return lines\n",
    "\n",
    "\n",
    "def get_grid() -> list[list[str]]:\n",
    "    grid = []\n",
    "    with open(f\"./data/{today}.txt\") as f:\n",
    "        while line := f.readline():\n",
    "            grid.append([c for c in line.rstrip()])\n",
    "    return grid\n",
    "\n",
    "\n",
    "def parse_nums(s: str) -> list[int]:\n",
    "    return [int(x) for x in re.findall(r\"-?\\d+\", s)]\n",
    "\n",
    "\n",
    "def get_nums() -> list[list[int]]:\n",
    "    lines = get_lines()\n",
    "    return [parse_nums(line) for line in lines]\n",
    "\n",
    "\n",
    "def is_inside_grid(coords: tuple[int, int], grid: list[list[Any]]) -> bool:\n",
    "    return coords[0] in range(len(grid)) and coords[1] in range(len(grid[0]))"
   ]
  },
  {
   "cell_type": "code",
   "execution_count": 5,
   "id": "b7d61713",
   "metadata": {},
   "outputs": [
    {
     "data": {
      "text/plain": [
       "(141, 141, (139, 1))"
      ]
     },
     "execution_count": 5,
     "metadata": {},
     "output_type": "execute_result"
    }
   ],
   "source": [
    "grid = get_grid()\n",
    "start_pos: tuple[int, int] = (len(grid) - 2, 1)\n",
    "end_pos: tuple[int, int] = (1, len(grid[0]) - 2)\n",
    "\n",
    "len(grid), len(grid[0]), start_pos"
   ]
  },
  {
   "cell_type": "code",
   "execution_count": 6,
   "id": "fee8bc67",
   "metadata": {},
   "outputs": [
    {
     "name": "stdout",
     "output_type": "stream",
     "text": [
      "74392\n"
     ]
    }
   ],
   "source": [
    "h = [(0, start_pos, 1)]\n",
    "seen = set()\n",
    "while h:\n",
    "    cost, pos, d = heappop(h)\n",
    "\n",
    "    if pos == end_pos:\n",
    "        print(cost)\n",
    "        break\n",
    "    if (pos, d) in seen:\n",
    "        continue\n",
    "    seen.add((pos, d))\n",
    "\n",
    "    next_pos = (pos[0] + dirs4[d][0], pos[1] + dirs4[d][1])\n",
    "    if (next_pos, d) not in seen and grid[next_pos[0]][next_pos[1]] != \"#\":\n",
    "        heappush(h, (cost + 1, next_pos, d))\n",
    "    if (pos, (d + 1) % 4) not in seen:\n",
    "        heappush(h, (cost + 1000, pos, (d + 1) % 4))\n",
    "    if (pos, (d + 3) % 4) not in seen:\n",
    "        heappush(h, (cost + 1000, pos, (d + 3) % 4))"
   ]
  },
  {
   "cell_type": "code",
   "execution_count": 7,
   "id": "eef8579c",
   "metadata": {},
   "outputs": [
    {
     "data": {
      "text/plain": [
       "426"
      ]
     },
     "execution_count": 7,
     "metadata": {},
     "output_type": "execute_result"
    }
   ],
   "source": [
    "limit = 74392\n",
    "# limit = 7036  # example input\n",
    "\n",
    "steps = set()\n",
    "h = [(0, start_pos, 1, [])]\n",
    "seen = {}\n",
    "while h:\n",
    "    cost, pos, d, path = heappop(h)\n",
    "\n",
    "    if cost > limit:\n",
    "        break\n",
    "\n",
    "    path = path + [pos,]\n",
    "    if pos == end_pos:\n",
    "        steps = steps.union(set(path))\n",
    "        continue\n",
    "    if (pos, d) in seen and seen[(pos, d)] < cost:\n",
    "        continue\n",
    "    seen[(pos, d)] = cost\n",
    "\n",
    "    next_pos = (pos[0] + dirs4[d][0], pos[1] + dirs4[d][1])\n",
    "    if (next_pos, d) not in seen and grid[next_pos[0]][next_pos[1]] != \"#\":\n",
    "        heappush(h, (cost + 1, next_pos, d, path))\n",
    "    if (pos, (d + 1) % 4) not in seen:\n",
    "        heappush(h, (cost + 1000, pos, (d + 1) % 4, path))\n",
    "    if (pos, (d + 3) % 4) not in seen:\n",
    "        heappush(h, (cost + 1000, pos, (d + 3) % 4, path))\n",
    "len(steps)"
   ]
  },
  {
   "cell_type": "code",
   "execution_count": 8,
   "id": "58df623c",
   "metadata": {},
   "outputs": [
    {
     "data": {
      "image/png": "[encoded data removed]",
      "text/plain": [
       "<Figure size 640x480 with 1 Axes>"
      ]
     },
     "metadata": {},
     "output_type": "display_data"
    }
   ],
   "source": [
    "plot_objects([list(steps)], [1], len(grid), len(grid[0]))"
   ]
  },
  {
   "cell_type": "code",
   "execution_count": null,
   "id": "8c9a8058",
   "metadata": {},
   "outputs": [],
   "source": []
  }
 ],
 "metadata": {
  "kernelspec": {
   "display_name": ".venv",
   "language": "python",
   "name": "python3"
  },
  "language_info": {
   "codemirror_mode": {
    "name": "ipython",
    "version": 3
   },
   "file_extension": ".py",
   "mimetype": "text/x-python",
   "name": "python",
   "nbconvert_exporter": "python",
   "pygments_lexer": "ipython3",
   "version": "3.12.3"
  }
 },
 "nbformat": 4,
 "nbformat_minor": 5
}

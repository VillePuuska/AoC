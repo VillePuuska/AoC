{
 "cells": [
  {
   "cell_type": "code",
   "execution_count": 1,
   "id": "6eabc14c",
   "metadata": {},
   "outputs": [],
   "source": [
    "from collections import deque, defaultdict, Counter\n",
    "from heapq import heapify, heappush, heappop\n",
    "import numpy as np\n",
    "from copy import deepcopy\n",
    "import math\n",
    "import time\n",
    "from functools import cache, reduce, cmp_to_key\n",
    "import graphviz\n",
    "from itertools import product\n",
    "import matplotlib.pyplot as plt\n",
    "from bisect import bisect_left, bisect_right\n",
    "import json"
   ]
  },
  {
   "cell_type": "code",
   "execution_count": 2,
   "id": "cae8446c",
   "metadata": {},
   "outputs": [],
   "source": [
    "dirs4 = [(0, 1), (0, -1), (1, 0), (-1, 0)]\n",
    "dirs8 = dirs4 + [(1, 1), (1, -1), (-1, 1), (-1, -1)]"
   ]
  },
  {
   "cell_type": "code",
   "execution_count": 3,
   "id": "62f0843b",
   "metadata": {},
   "outputs": [],
   "source": [
    "lines = []\n",
    "\n",
    "with open(\"./data/day3.txt\") as f:\n",
    "    while line := f.readline():\n",
    "        line = line.rstrip()\n",
    "        lines.append(line)"
   ]
  },
  {
   "cell_type": "code",
   "execution_count": 4,
   "id": "e7bebeb8",
   "metadata": {},
   "outputs": [],
   "source": [
    "def process(line: str) -> int:\n",
    "    res = 0\n",
    "    for i in range(len(line)):\n",
    "        if not line[i:].startswith(\"mul(\"):\n",
    "            continue\n",
    "        # mul(4,6)\n",
    "        if line[i+5] == \",\" and line[i+7] == \")\" and line[i+4].isdigit() and line[i+6].isdigit():\n",
    "            res += int(line[i+4])*int(line[i+6])\n",
    "            continue\n",
    "        # mul(45,7)\n",
    "        if line[i+6] == \",\" and line[i+8] == \")\" and line[i+4].isdigit() and line[i+5].isdigit() and line[i+7].isdigit():\n",
    "            res += int(line[i+4:i+6])*int(line[i+7])\n",
    "            continue\n",
    "        # mul(456,8)\n",
    "        if line[i+7] == \",\" and line[i+9] == \")\" and line[i+4].isdigit() and line[i+5].isdigit() and line[i+6].isdigit() and line[i+8].isdigit():\n",
    "            res += int(line[i+4:i+7])*int(line[i+8])\n",
    "            continue\n",
    "        # mul(4,67)\n",
    "        if line[i+5] == \",\" and line[i+8] == \")\" and line[i+4].isdigit() and line[i+6].isdigit() and line[i+7].isdigit():\n",
    "            res += int(line[i+4])*int(line[i+6:i+8])\n",
    "            continue\n",
    "        # mul(45,78)\n",
    "        if line[i+6] == \",\" and line[i+9] == \")\" and line[i+4].isdigit() and line[i+5].isdigit() and line[i+7].isdigit() and line[i+8].isdigit():\n",
    "            res += int(line[i+4:i+6])*int(line[i+7:i+9])\n",
    "            continue\n",
    "        # mul(456,89)\n",
    "        if line[i+7] == \",\" and line[i+10] == \")\" and line[i+4].isdigit() and line[i+5].isdigit() and line[i+6].isdigit() and line[i+8].isdigit() and line[i+9].isdigit():\n",
    "            res += int(line[i+4:i+7])*int(line[i+8:i+10])\n",
    "            continue\n",
    "        # mul(4,678)\n",
    "        if line[i+5] == \",\" and line[i+9] == \")\" and line[i+4].isdigit() and line[i+6].isdigit() and line[i+7].isdigit() and line[i+8].isdigit():\n",
    "            res += int(line[i+4])*int(line[i+6:i+9])\n",
    "            continue\n",
    "        # mul(45,789)\n",
    "        if line[i+6] == \",\" and line[i+10] == \")\" and line[i+4].isdigit() and line[i+5].isdigit() and line[i+7].isdigit() and line[i+8].isdigit() and line[i+9].isdigit():\n",
    "            res += int(line[i+4:i+6])*int(line[i+7:i+10])\n",
    "            continue\n",
    "        # mul(456,890)\n",
    "        if line[i+7] == \",\" and line[i+11] == \")\" and line[i+4].isdigit() and line[i+5].isdigit() and line[i+6].isdigit() and line[i+8].isdigit() and line[i+9].isdigit() and line[i+10].isdigit():\n",
    "            res += int(line[i+4:i+7])*int(line[i+8:i+11])\n",
    "            continue        \n",
    "    return res"
   ]
  },
  {
   "cell_type": "code",
   "execution_count": 5,
   "id": "e25cf5f9",
   "metadata": {},
   "outputs": [
    {
     "data": {
      "text/plain": [
       "153469856"
      ]
     },
     "execution_count": 5,
     "metadata": {},
     "output_type": "execute_result"
    }
   ],
   "source": [
    "sum(process(line) for line in lines)"
   ]
  },
  {
   "cell_type": "code",
   "execution_count": 6,
   "id": "377437cb",
   "metadata": {},
   "outputs": [],
   "source": [
    "def process2(line: str, state = True) -> tuple[int, bool]:\n",
    "    res = 0\n",
    "    for i in range(len(line)):\n",
    "        if line[i:].startswith(\"do()\"):\n",
    "            state = True\n",
    "            continue\n",
    "        if line[i:].startswith(\"don't()\"):\n",
    "            state = False\n",
    "            continue\n",
    "        if not state:\n",
    "            continue\n",
    "        if not line[i:].startswith(\"mul(\"):\n",
    "            continue\n",
    "        # mul(4,6)\n",
    "        if line[i+5] == \",\" and line[i+7] == \")\" and line[i+4].isdigit() and line[i+6].isdigit():\n",
    "            res += int(line[i+4])*int(line[i+6])\n",
    "            continue\n",
    "        # mul(45,7)\n",
    "        if line[i+6] == \",\" and line[i+8] == \")\" and line[i+4].isdigit() and line[i+5].isdigit() and line[i+7].isdigit():\n",
    "            res += int(line[i+4:i+6])*int(line[i+7])\n",
    "            continue\n",
    "        # mul(456,8)\n",
    "        if line[i+7] == \",\" and line[i+9] == \")\" and line[i+4].isdigit() and line[i+5].isdigit() and line[i+6].isdigit() and line[i+8].isdigit():\n",
    "            res += int(line[i+4:i+7])*int(line[i+8])\n",
    "            continue\n",
    "        # mul(4,67)\n",
    "        if line[i+5] == \",\" and line[i+8] == \")\" and line[i+4].isdigit() and line[i+6].isdigit() and line[i+7].isdigit():\n",
    "            res += int(line[i+4])*int(line[i+6:i+8])\n",
    "            continue\n",
    "        # mul(45,78)\n",
    "        if line[i+6] == \",\" and line[i+9] == \")\" and line[i+4].isdigit() and line[i+5].isdigit() and line[i+7].isdigit() and line[i+8].isdigit():\n",
    "            res += int(line[i+4:i+6])*int(line[i+7:i+9])\n",
    "            continue\n",
    "        # mul(456,89)\n",
    "        if line[i+7] == \",\" and line[i+10] == \")\" and line[i+4].isdigit() and line[i+5].isdigit() and line[i+6].isdigit() and line[i+8].isdigit() and line[i+9].isdigit():\n",
    "            res += int(line[i+4:i+7])*int(line[i+8:i+10])\n",
    "            continue\n",
    "        # mul(4,678)\n",
    "        if line[i+5] == \",\" and line[i+9] == \")\" and line[i+4].isdigit() and line[i+6].isdigit() and line[i+7].isdigit() and line[i+8].isdigit():\n",
    "            res += int(line[i+4])*int(line[i+6:i+9])\n",
    "            continue\n",
    "        # mul(45,789)\n",
    "        if line[i+6] == \",\" and line[i+10] == \")\" and line[i+4].isdigit() and line[i+5].isdigit() and line[i+7].isdigit() and line[i+8].isdigit() and line[i+9].isdigit():\n",
    "            res += int(line[i+4:i+6])*int(line[i+7:i+10])\n",
    "            continue\n",
    "        # mul(456,890)\n",
    "        if line[i+7] == \",\" and line[i+11] == \")\" and line[i+4].isdigit() and line[i+5].isdigit() and line[i+6].isdigit() and line[i+8].isdigit() and line[i+9].isdigit() and line[i+10].isdigit():\n",
    "            res += int(line[i+4:i+7])*int(line[i+8:i+11])\n",
    "            continue        \n",
    "    return (res, state)"
   ]
  },
  {
   "cell_type": "code",
   "execution_count": 7,
   "id": "9e35a802",
   "metadata": {},
   "outputs": [
    {
     "data": {
      "text/plain": [
       "77055967"
      ]
     },
     "execution_count": 7,
     "metadata": {},
     "output_type": "execute_result"
    }
   ],
   "source": [
    "s = 0\n",
    "state = True\n",
    "for line in lines:\n",
    "    (x, state) = process2(line, state)\n",
    "    s += x\n",
    "s"
   ]
  },
  {
   "cell_type": "code",
   "execution_count": null,
   "id": "94152aa0",
   "metadata": {},
   "outputs": [],
   "source": []
  }
 ],
 "metadata": {
  "kernelspec": {
   "display_name": ".venv",
   "language": "python",
   "name": "python3"
  },
  "language_info": {
   "codemirror_mode": {
    "name": "ipython",
    "version": 3
   },
   "file_extension": ".py",
   "mimetype": "text/x-python",
   "name": "python",
   "nbconvert_exporter": "python",
   "pygments_lexer": "ipython3",
   "version": "3.12.3"
  }
 },
 "nbformat": 4,
 "nbformat_minor": 5
}

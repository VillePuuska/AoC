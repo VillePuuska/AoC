{
 "cells": [
  {
   "cell_type": "code",
   "execution_count": 1,
   "id": "6eabc14c",
   "metadata": {},
   "outputs": [],
   "source": [
    "from collections import deque, defaultdict, Counter\n",
    "from heapq import heapify, heappush, heappop\n",
    "import numpy as np\n",
    "from copy import deepcopy\n",
    "import math\n",
    "import time\n",
    "from functools import cache, reduce, cmp_to_key\n",
    "import graphviz\n",
    "from itertools import product\n",
    "import matplotlib.pyplot as plt\n",
    "from bisect import bisect_left, bisect_right\n",
    "import json\n",
    "import os\n",
    "import re\n",
    "from typing import Any\n",
    "from dataclasses import dataclass"
   ]
  },
  {
   "cell_type": "code",
   "execution_count": 2,
   "id": "cae8446c",
   "metadata": {},
   "outputs": [
    {
     "data": {
      "text/plain": [
       "'day15'"
      ]
     },
     "execution_count": 2,
     "metadata": {},
     "output_type": "execute_result"
    }
   ],
   "source": [
    "dirs4 = [(-1, 0), (0, 1), (1, 0), (0, -1)]\n",
    "dirs8 = [(-1, 0), (-1, 1), (0, 1), (1, 1), (1, 0), (1, -1), (0, -1), (-1, -1)]\n",
    "\n",
    "today = os.path.basename(globals()[\"__vsc_ipynb_file__\"]).split(\".\")[0]  # + \"_ex\"\n",
    "today"
   ]
  },
  {
   "cell_type": "code",
   "execution_count": 3,
   "id": "ffcb47c2",
   "metadata": {},
   "outputs": [],
   "source": [
    "def get_lines() -> list[str]:\n",
    "    lines = []\n",
    "    with open(f\"./data/{today}.txt\") as f:\n",
    "        while line := f.readline():\n",
    "            lines.append(line.rstrip())\n",
    "    return lines\n",
    "\n",
    "def get_grid() -> list[list[str]]:\n",
    "    grid = []\n",
    "    with open(f\"./data/{today}.txt\") as f:\n",
    "        while line := f.readline():\n",
    "            grid.append([c for c in line.rstrip()])\n",
    "    return grid\n",
    "\n",
    "def parse_nums(s: str) -> list[int]:\n",
    "    return [int(x) for x in re.findall(r\"-?\\d+\", s)]\n",
    "\n",
    "def get_nums() -> list[list[int]]:\n",
    "    lines = get_lines()\n",
    "    return [parse_nums(line) for line in lines]\n",
    "\n",
    "def is_inside_grid(coords: tuple[int, int], grid: list[list[Any]]) -> bool:\n",
    "    return coords[0] in range(len(grid)) and coords[1] in range(len(grid[0]))"
   ]
  },
  {
   "cell_type": "code",
   "execution_count": 4,
   "id": "109cafed",
   "metadata": {},
   "outputs": [
    {
     "data": {
      "text/plain": [
       "(50, 50, (24, 24), 20, 1000)"
      ]
     },
     "execution_count": 4,
     "metadata": {},
     "output_type": "execute_result"
    }
   ],
   "source": [
    "with open(f\"./data/{today}.txt\") as f:\n",
    "    lines = f.read().rstrip()\n",
    "\n",
    "grid_init = [[c for c in line.rstrip()] for line in lines.split(\"\\n\\n\")[0].split(\"\\n\")]\n",
    "instructions = [line.rstrip() for line in lines.split(\"\\n\\n\")[1].split(\"\\n\")]\n",
    "\n",
    "robot_start = None\n",
    "for i, row in enumerate(grid_init):\n",
    "    if \"@\" in row:\n",
    "        robot_start = (i, row.index(\"@\"))\n",
    "        break\n",
    "assert robot_start is not None\n",
    "\n",
    "len(grid_init), len(grid_init[0]), robot_start, len(instructions), len(instructions[0])"
   ]
  },
  {
   "cell_type": "code",
   "execution_count": 5,
   "id": "506ce85f",
   "metadata": {},
   "outputs": [],
   "source": [
    "def move_robot(direction: str, pos: tuple[int, int], grid: list[list[str]]) -> tuple[int, int]:\n",
    "    d = {\"^\": 0, \">\": 1, \"v\": 2, \"<\": 3}[direction]\n",
    "    i = 1\n",
    "    while grid[pos[0] + i*dirs4[d][0]][pos[1] + i*dirs4[d][1]] == \"O\":\n",
    "        i += 1\n",
    "    if grid[pos[0] + i*dirs4[d][0]][pos[1] + i*dirs4[d][1]] == \"#\":\n",
    "        return pos\n",
    "    assert grid[pos[0] + i*dirs4[d][0]][pos[1] + i*dirs4[d][1]] == \".\"\n",
    "    while i > 1:\n",
    "        grid[pos[0] + i*dirs4[d][0]][pos[1] + i*dirs4[d][1]] = \"O\"\n",
    "        i -= 1\n",
    "    grid[pos[0] + dirs4[d][0]][pos[1] + dirs4[d][1]] = \"@\"\n",
    "    grid[pos[0]][pos[1]] = \".\"\n",
    "    return (pos[0] + dirs4[d][0], pos[1] + dirs4[d][1])"
   ]
  },
  {
   "cell_type": "code",
   "execution_count": 6,
   "id": "0907c55e",
   "metadata": {},
   "outputs": [],
   "source": [
    "def print_grid(grid: list[list[str]]):\n",
    "    print(\"\\n\".join(\"\".join(line) for line in grid))"
   ]
  },
  {
   "cell_type": "code",
   "execution_count": 7,
   "id": "fa5c4974",
   "metadata": {},
   "outputs": [],
   "source": [
    "grid = deepcopy(grid_init)\n",
    "pos = robot_start\n",
    "\n",
    "for moves in instructions:\n",
    "    for move in moves:\n",
    "        pos = move_robot(move, pos, grid)  # type: ignore"
   ]
  },
  {
   "cell_type": "code",
   "execution_count": 8,
   "id": "6be6d9ec",
   "metadata": {},
   "outputs": [
    {
     "data": {
      "text/plain": [
       "1383666"
      ]
     },
     "execution_count": 8,
     "metadata": {},
     "output_type": "execute_result"
    }
   ],
   "source": [
    "s = 0\n",
    "for r, row in enumerate(grid):\n",
    "    for c, char in enumerate(row):\n",
    "        if char == \"O\":\n",
    "            s += 100*r + c\n",
    "s"
   ]
  },
  {
   "cell_type": "code",
   "execution_count": 9,
   "id": "017d7db5",
   "metadata": {},
   "outputs": [
    {
     "data": {
      "text/plain": [
       "(24, 48)"
      ]
     },
     "execution_count": 9,
     "metadata": {},
     "output_type": "execute_result"
    }
   ],
   "source": [
    "expanded_grid: list[list[str]] = []\n",
    "for row in grid_init:\n",
    "    expanded_row = []\n",
    "    for c in row:\n",
    "        if c == \"#\":\n",
    "            expanded_row.extend([\"#\", \"#\"])\n",
    "        elif c == \"O\":\n",
    "            expanded_row.extend([\"[\", \"]\"])\n",
    "        elif c == \".\":\n",
    "            expanded_row.extend([\".\", \".\"])\n",
    "        elif c == \"@\":\n",
    "            expanded_row.extend([\"@\", \".\"])\n",
    "        else:\n",
    "            raise Exception(\"huh?\")\n",
    "    expanded_grid.append(expanded_row.copy())\n",
    "\n",
    "robot_start_2 = None\n",
    "for i, row in enumerate(expanded_grid):\n",
    "    if \"@\" in row:\n",
    "        robot_start_2 = (i, row.index(\"@\"))\n",
    "        break\n",
    "assert robot_start_2 is not None\n",
    "\n",
    "robot_start_2"
   ]
  },
  {
   "cell_type": "code",
   "execution_count": 10,
   "id": "5c6198e0",
   "metadata": {},
   "outputs": [],
   "source": [
    "def push_boxes(sign: int, pos: tuple[int, int], grid: list[list[str]], dry_run: bool = True) -> bool:\n",
    "    if grid[pos[0] + sign][pos[1]] == \"#\" or grid[pos[0] + sign][pos[1] + 1] == \"#\":\n",
    "        return False\n",
    "    if grid[pos[0] + sign][pos[1]] == \"]\" and not push_boxes(sign, (pos[0] + sign, pos[1] - 1), grid, dry_run):\n",
    "        return False\n",
    "    if grid[pos[0] + sign][pos[1]] == \"[\" and not push_boxes(sign, (pos[0] + sign, pos[1]), grid, dry_run):\n",
    "        return False\n",
    "    if grid[pos[0] + sign][pos[1] + 1] == \"[\" and not push_boxes(sign, (pos[0] + sign, pos[1] + 1), grid, dry_run):\n",
    "        return False\n",
    "    \n",
    "    if not dry_run:\n",
    "        grid[pos[0] + sign][pos[1]] = \"[\"\n",
    "        grid[pos[0] + sign][pos[1] + 1] = \"]\"\n",
    "        grid[pos[0]][pos[1]] = \".\"\n",
    "        grid[pos[0]][pos[1] + 1] = \".\"\n",
    "\n",
    "    return True\n",
    "\n",
    "\n",
    "def move_robot_2(direction: str, pos: tuple[int, int], grid: list[list[str]]) -> tuple[int, int]:\n",
    "    if direction in [\"<\", \">\"]:\n",
    "        d = {\"^\": 0, \">\": 1, \"v\": 2, \"<\": 3}[direction]\n",
    "        i = 1\n",
    "        while grid[pos[0] + i*dirs4[d][0]][pos[1] + i*dirs4[d][1]] in [\"[\", \"]\"]:\n",
    "            i += 1\n",
    "        if grid[pos[0] + i*dirs4[d][0]][pos[1] + i*dirs4[d][1]] == \"#\":\n",
    "            return pos\n",
    "        assert grid[pos[0] + i*dirs4[d][0]][pos[1] + i*dirs4[d][1]] == \".\"\n",
    "        while i > 1:\n",
    "            grid[pos[0] + i*dirs4[d][0]][pos[1] + i*dirs4[d][1]] = grid[pos[0] + (i-1)*dirs4[d][0]][pos[1] + (i-1)*dirs4[d][1]]\n",
    "            i -= 1\n",
    "        grid[pos[0] + dirs4[d][0]][pos[1] + dirs4[d][1]] = \"@\"\n",
    "        grid[pos[0]][pos[1]] = \".\"\n",
    "        return (pos[0] + dirs4[d][0], pos[1] + dirs4[d][1])\n",
    "    \n",
    "    if direction == \"^\":\n",
    "        sign = -1\n",
    "    else:\n",
    "        sign = 1\n",
    "    if grid[pos[0] + sign][pos[1]] == \"#\":\n",
    "        return pos\n",
    "    if grid[pos[0] + sign][pos[1]] == \".\":\n",
    "        grid[pos[0] + sign][pos[1]] = \"@\"\n",
    "        grid[pos[0]][pos[1]] = \".\"\n",
    "        return (pos[0] + sign, pos[1])\n",
    "    if grid[pos[0] + sign][pos[1]] == \"[\":\n",
    "        if not push_boxes(sign, (pos[0] + sign, pos[1]), grid):\n",
    "            return pos\n",
    "        push_boxes(sign, (pos[0] + sign, pos[1]), grid, False)\n",
    "        grid[pos[0] + sign][pos[1]] = \"@\"\n",
    "        grid[pos[0]][pos[1]] = \".\"\n",
    "        return (pos[0] + sign, pos[1])\n",
    "    if grid[pos[0] + sign][pos[1]] == \"]\":\n",
    "        if not push_boxes(sign, (pos[0] + sign, pos[1] - 1), grid):\n",
    "            return pos\n",
    "        push_boxes(sign, (pos[0] + sign, pos[1] - 1), grid, False)\n",
    "        grid[pos[0] + sign][pos[1]] = \"@\"\n",
    "        grid[pos[0]][pos[1]] = \".\"\n",
    "        return (pos[0] + sign, pos[1])\n",
    "\n",
    "    raise Exception(\"should never end up here\")"
   ]
  },
  {
   "cell_type": "code",
   "execution_count": 11,
   "id": "b51b1eb7",
   "metadata": {},
   "outputs": [],
   "source": [
    "grid = deepcopy(expanded_grid)\n",
    "pos = robot_start_2\n",
    "\n",
    "for moves in instructions:\n",
    "    for move in moves:\n",
    "        pos = move_robot_2(move, pos, grid)  # type: ignore"
   ]
  },
  {
   "cell_type": "code",
   "execution_count": 12,
   "id": "568bd93a",
   "metadata": {},
   "outputs": [
    {
     "data": {
      "text/plain": [
       "1412866"
      ]
     },
     "execution_count": 12,
     "metadata": {},
     "output_type": "execute_result"
    }
   ],
   "source": [
    "s = 0\n",
    "for r, row in enumerate(grid):\n",
    "    for c, char in enumerate(row):\n",
    "        if char == \"[\":\n",
    "            s += 100*r + c\n",
    "s"
   ]
  },
  {
   "cell_type": "code",
   "execution_count": null,
   "id": "d01a942b",
   "metadata": {},
   "outputs": [],
   "source": []
  }
 ],
 "metadata": {
  "kernelspec": {
   "display_name": ".venv",
   "language": "python",
   "name": "python3"
  },
  "language_info": {
   "codemirror_mode": {
    "name": "ipython",
    "version": 3
   },
   "file_extension": ".py",
   "mimetype": "text/x-python",
   "name": "python",
   "nbconvert_exporter": "python",
   "pygments_lexer": "ipython3",
   "version": "3.12.3"
  }
 },
 "nbformat": 4,
 "nbformat_minor": 5
}

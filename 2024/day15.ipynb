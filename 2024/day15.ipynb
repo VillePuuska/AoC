{
 "cells": [
  {
   "cell_type": "code",
   "execution_count": 1,
   "id": "6eabc14c",
   "metadata": {},
   "outputs": [],
   "source": [
    "from collections import deque, defaultdict, Counter\n",
    "from heapq import heapify, heappush, heappop\n",
    "import numpy as np\n",
    "from copy import deepcopy\n",
    "import math\n",
    "import time\n",
    "from functools import cache, reduce, cmp_to_key\n",
    "import graphviz\n",
    "from itertools import product\n",
    "import matplotlib.pyplot as plt\n",
    "from bisect import bisect_left, bisect_right\n",
    "import json\n",
    "import os\n",
    "import re\n",
    "from typing import Any\n",
    "from dataclasses import dataclass"
   ]
  },
  {
   "cell_type": "code",
   "execution_count": 2,
   "id": "cae8446c",
   "metadata": {},
   "outputs": [
    {
     "data": {
      "text/plain": [
       "'day15'"
      ]
     },
     "execution_count": 2,
     "metadata": {},
     "output_type": "execute_result"
    }
   ],
   "source": [
    "dirs4 = [(-1, 0), (0, 1), (1, 0), (0, -1)]\n",
    "dirs8 = [(-1, 0), (-1, 1), (0, 1), (1, 1), (1, 0), (1, -1), (0, -1), (-1, -1)]\n",
    "\n",
    "today = os.path.basename(globals()[\"__vsc_ipynb_file__\"]).split(\".\")[0]  # + \"_ex\"\n",
    "today"
   ]
  },
  {
   "cell_type": "code",
   "execution_count": 3,
   "id": "ffcb47c2",
   "metadata": {},
   "outputs": [],
   "source": [
    "def get_lines() -> list[str]:\n",
    "    lines = []\n",
    "    with open(f\"./data/{today}.txt\") as f:\n",
    "        while line := f.readline():\n",
    "            lines.append(line.rstrip())\n",
    "    return lines\n",
    "\n",
    "def get_grid() -> list[list[str]]:\n",
    "    grid = []\n",
    "    with open(f\"./data/{today}.txt\") as f:\n",
    "        while line := f.readline():\n",
    "            grid.append([c for c in line.rstrip()])\n",
    "    return grid\n",
    "\n",
    "def parse_nums(s: str) -> list[int]:\n",
    "    return [int(x) for x in re.findall(r\"-?\\d+\", s)]\n",
    "\n",
    "def get_nums() -> list[list[int]]:\n",
    "    lines = get_lines()\n",
    "    return [parse_nums(line) for line in lines]\n",
    "\n",
    "def is_inside_grid(coords: tuple[int, int], grid: list[list[Any]]) -> bool:\n",
    "    return coords[0] in range(len(grid)) and coords[1] in range(len(grid[0]))"
   ]
  },
  {
   "cell_type": "code",
   "execution_count": 4,
   "id": "109cafed",
   "metadata": {},
   "outputs": [
    {
     "data": {
      "text/plain": [
       "(50, 50, (24, 24), 20, 1000)"
      ]
     },
     "execution_count": 4,
     "metadata": {},
     "output_type": "execute_result"
    }
   ],
   "source": [
    "with open(f\"./data/{today}.txt\") as f:\n",
    "    lines = f.read().rstrip()\n",
    "\n",
    "grid_init = [[c for c in line.rstrip()] for line in lines.split(\"\\n\\n\")[0].split(\"\\n\")]\n",
    "instructions = [line.rstrip() for line in lines.split(\"\\n\\n\")[1].split(\"\\n\")]\n",
    "\n",
    "robot_start = None\n",
    "for i, row in enumerate(grid_init):\n",
    "    if \"@\" in row:\n",
    "        robot_start = (i, row.index(\"@\"))\n",
    "        break\n",
    "assert robot_start is not None\n",
    "\n",
    "len(grid_init), len(grid_init[0]), robot_start, len(instructions), len(instructions[0])"
   ]
  },
  {
   "cell_type": "code",
   "execution_count": 5,
   "id": "506ce85f",
   "metadata": {},
   "outputs": [],
   "source": [
    "def move_robot(direction: str, pos: tuple[int, int], grid: list[list[str]]) -> tuple[int, int]:\n",
    "    d = {\"^\": 0, \">\": 1, \"v\": 2, \"<\": 3}[direction]\n",
    "    i = 1\n",
    "    while grid[pos[0] + i*dirs4[d][0]][pos[1] + i*dirs4[d][1]] == \"O\":\n",
    "        i += 1\n",
    "    if grid[pos[0] + i*dirs4[d][0]][pos[1] + i*dirs4[d][1]] == \"#\":\n",
    "        return pos\n",
    "    assert grid[pos[0] + i*dirs4[d][0]][pos[1] + i*dirs4[d][1]] == \".\"\n",
    "    while i > 1:\n",
    "        grid[pos[0] + i*dirs4[d][0]][pos[1] + i*dirs4[d][1]] = \"O\"\n",
    "        i -= 1\n",
    "    grid[pos[0] + dirs4[d][0]][pos[1] + dirs4[d][1]] = \"@\"\n",
    "    grid[pos[0]][pos[1]] = \".\"\n",
    "    return (pos[0] + dirs4[d][0], pos[1] + dirs4[d][1])"
   ]
  },
  {
   "cell_type": "code",
   "execution_count": 6,
   "id": "0907c55e",
   "metadata": {},
   "outputs": [],
   "source": [
    "def print_grid(grid: list[list[str]]):\n",
    "    print(\"\\n\".join(\"\".join(line) for line in grid))"
   ]
  },
  {
   "cell_type": "code",
   "execution_count": 7,
   "id": "fa5c4974",
   "metadata": {},
   "outputs": [],
   "source": [
    "grid = deepcopy(grid_init)\n",
    "pos = robot_start\n",
    "\n",
    "for moves in instructions:\n",
    "    for move in moves:\n",
    "        pos = move_robot(move, pos, grid)  # type: ignore"
   ]
  },
  {
   "cell_type": "code",
   "execution_count": 8,
   "id": "6be6d9ec",
   "metadata": {},
   "outputs": [
    {
     "data": {
      "text/plain": [
       "1383666"
      ]
     },
     "execution_count": 8,
     "metadata": {},
     "output_type": "execute_result"
    }
   ],
   "source": [
    "s = 0\n",
    "for r, row in enumerate(grid):\n",
    "    for c, char in enumerate(row):\n",
    "        if char == \"O\":\n",
    "            s += 100*r + c\n",
    "s"
   ]
  },
  {
   "cell_type": "code",
   "execution_count": null,
   "id": "6665c1e0",
   "metadata": {},
   "outputs": [],
   "source": []
  }
 ],
 "metadata": {
  "kernelspec": {
   "display_name": ".venv",
   "language": "python",
   "name": "python3"
  },
  "language_info": {
   "codemirror_mode": {
    "name": "ipython",
    "version": 3
   },
   "file_extension": ".py",
   "mimetype": "text/x-python",
   "name": "python",
   "nbconvert_exporter": "python",
   "pygments_lexer": "ipython3",
   "version": "3.12.3"
  }
 },
 "nbformat": 4,
 "nbformat_minor": 5
}

{
 "cells": [
  {
   "cell_type": "code",
   "execution_count": 1,
   "id": "6eabc14c",
   "metadata": {},
   "outputs": [],
   "source": [
    "from collections import deque, defaultdict, Counter\n",
    "from heapq import heapify, heappush, heappop\n",
    "import numpy as np\n",
    "from copy import deepcopy\n",
    "import math\n",
    "import time\n",
    "from functools import cache, reduce, cmp_to_key\n",
    "import graphviz\n",
    "from itertools import product\n",
    "import matplotlib.pyplot as plt\n",
    "from bisect import bisect_left, bisect_right\n",
    "import json\n",
    "import os\n",
    "import re\n",
    "from typing import Any\n",
    "from dataclasses import dataclass"
   ]
  },
  {
   "cell_type": "code",
   "execution_count": 2,
   "id": "f48b0ecb",
   "metadata": {},
   "outputs": [],
   "source": [
    "def print_grid(grid: list[list[str]]):\n",
    "    print(\"\\n\".join(\"\".join(line) for line in grid))\n",
    "\n",
    "\n",
    "def plot_grid(\n",
    "    grid: list[list[str]],\n",
    "    colors: dict[str, int],\n",
    "    save: bool = False,\n",
    "    filepath: str = \"images/plot.png\",\n",
    ") -> None:\n",
    "    arr = np.zeros((len(grid), len(grid[0])))\n",
    "    for r, row in enumerate(grid):\n",
    "        for c, char in enumerate(row):\n",
    "            if char in colors:\n",
    "                arr[r, c] = colors[char]\n",
    "    plt.xticks([])\n",
    "    plt.yticks([])\n",
    "    if save:\n",
    "        plt.imsave(filepath, arr)\n",
    "    else:\n",
    "        plt.imshow(arr)\n",
    "\n",
    "\n",
    "def plot_objects(\n",
    "    object_lists: list[list[tuple[int, int]]],\n",
    "    colors: list[int],\n",
    "    x_limit: int,\n",
    "    y_limit: int,\n",
    "    save: bool = False,\n",
    "    filepath: str = \"images/plot.png\",\n",
    ") -> None:\n",
    "    arr = np.zeros((y_limit, x_limit))\n",
    "    for objects, color in zip(object_lists, colors):\n",
    "        for obj in objects:\n",
    "            arr[y_limit - 1 - obj[1], obj[0]] = color\n",
    "    plt.xticks([])\n",
    "    plt.yticks([])\n",
    "    if save:\n",
    "        plt.imsave(filepath, arr)\n",
    "    else:\n",
    "        plt.imshow(arr)"
   ]
  },
  {
   "cell_type": "code",
   "execution_count": 3,
   "id": "bb6f9e87",
   "metadata": {},
   "outputs": [
    {
     "data": {
      "text/plain": [
       "'day17'"
      ]
     },
     "execution_count": 3,
     "metadata": {},
     "output_type": "execute_result"
    }
   ],
   "source": [
    "dirs4 = [(-1, 0), (0, 1), (1, 0), (0, -1)]\n",
    "dirs8 = [(-1, 0), (-1, 1), (0, 1), (1, 1), (1, 0), (1, -1), (0, -1), (-1, -1)]\n",
    "\n",
    "today = os.path.basename(globals()[\"__vsc_ipynb_file__\"]).split(\".\")[0]  # + \"_ex2\"\n",
    "today"
   ]
  },
  {
   "cell_type": "code",
   "execution_count": 4,
   "id": "ffcb47c2",
   "metadata": {},
   "outputs": [],
   "source": [
    "def get_lines() -> list[str]:\n",
    "    lines = []\n",
    "    with open(f\"./data/{today}.txt\") as f:\n",
    "        while line := f.readline():\n",
    "            lines.append(line.rstrip())\n",
    "    return lines\n",
    "\n",
    "\n",
    "def get_grid() -> list[list[str]]:\n",
    "    grid = []\n",
    "    with open(f\"./data/{today}.txt\") as f:\n",
    "        while line := f.readline():\n",
    "            grid.append([c for c in line.rstrip()])\n",
    "    return grid\n",
    "\n",
    "\n",
    "def parse_nums(s: str) -> list[int]:\n",
    "    return [int(x) for x in re.findall(r\"-?\\d+\", s)]\n",
    "\n",
    "\n",
    "def get_nums() -> list[list[int]]:\n",
    "    lines = get_lines()\n",
    "    return [parse_nums(line) for line in lines]\n",
    "\n",
    "\n",
    "def is_inside_grid(coords: tuple[int, int], grid: list[list[Any]]) -> bool:\n",
    "    return coords[0] in range(len(grid)) and coords[1] in range(len(grid[0]))"
   ]
  },
  {
   "cell_type": "code",
   "execution_count": 5,
   "id": "b7d61713",
   "metadata": {},
   "outputs": [
    {
     "data": {
      "text/plain": [
       "16"
      ]
     },
     "execution_count": 5,
     "metadata": {},
     "output_type": "execute_result"
    }
   ],
   "source": [
    "with open(f\"./data/{today}.txt\") as f:\n",
    "    lines = f.read()\n",
    "\n",
    "A_init = parse_nums(lines.split(\"\\n\")[0].rstrip())[0]\n",
    "B_init = parse_nums(lines.split(\"\\n\")[1].rstrip())[0]\n",
    "C_init = parse_nums(lines.split(\"\\n\")[2].rstrip())[0]\n",
    "program_init = parse_nums(lines.split(\"\\n\")[4].rstrip())\n",
    "\n",
    "len(program_init)"
   ]
  },
  {
   "cell_type": "code",
   "execution_count": 6,
   "id": "545c39cb",
   "metadata": {},
   "outputs": [],
   "source": [
    "def combo(operand: int, A: int, B: int, C: int) -> int:\n",
    "    match operand:\n",
    "        case 0 | 1 | 2 | 3:\n",
    "            return operand\n",
    "        case 4:\n",
    "            return A\n",
    "        case 5:\n",
    "            return B\n",
    "        case 6:\n",
    "            return C\n",
    "        case _:\n",
    "            raise Exception(f\"Invalid combo operand: {operand}\")"
   ]
  },
  {
   "cell_type": "code",
   "execution_count": 7,
   "id": "05074186",
   "metadata": {},
   "outputs": [],
   "source": [
    "def run_program(A: int, B: int, C: int, program: list[int], find_orig: bool = False) -> list[int]:\n",
    "    output = []\n",
    "    i = 0\n",
    "    while i < len(program):\n",
    "        opcode = program[i]\n",
    "        operand = program[i+1]\n",
    "\n",
    "        match opcode:\n",
    "            case 0:\n",
    "                val = combo(operand, A, B, C)\n",
    "                A = A // 2**val\n",
    "            case 1:\n",
    "                B = B ^ operand\n",
    "            case 2:\n",
    "                val = combo(operand, A, B, C)\n",
    "                B = val % 8\n",
    "            case 3:\n",
    "                if A != 0:\n",
    "                    i = operand - 2\n",
    "            case 4:\n",
    "                B = B ^ C\n",
    "            case 5:\n",
    "                val = combo(operand, A, B, C)\n",
    "                output.append(val % 8)\n",
    "                if find_orig and (len(output) > len(program) or output[-1] != program[len(output)-1]):\n",
    "                    return []\n",
    "            case 6:\n",
    "                val = combo(operand, A, B, C)\n",
    "                B = A // 2**val\n",
    "            case 7:\n",
    "                val = combo(operand, A, B, C)\n",
    "                C = A // 2**val\n",
    "            case _:\n",
    "                raise Exception(f\"boom: {i} {opcode} {operand} {A} {B} {C}\")\n",
    "        i += 2\n",
    "    return output"
   ]
  },
  {
   "cell_type": "code",
   "execution_count": 8,
   "id": "6a3df49b",
   "metadata": {},
   "outputs": [
    {
     "name": "stdout",
     "output_type": "stream",
     "text": [
      "6,5,4,7,1,6,0,3,1\n"
     ]
    }
   ],
   "source": [
    "o = run_program(A_init, B_init, C_init, program_init.copy())\n",
    "print(\",\".join([str(x) for x in o]))"
   ]
  },
  {
   "cell_type": "code",
   "execution_count": 9,
   "id": "508d5945",
   "metadata": {},
   "outputs": [],
   "source": [
    "def run_program_2(A: int, find_orig: bool = False) -> list[int]:\n",
    "    output = []\n",
    "    while A > 0:\n",
    "        output.append(((A % 8) ^ 3) ^ (A // (2**((A % 8) ^ 5))) % 8)\n",
    "        A //= 8\n",
    "        if find_orig and (len(output) > len(program_init) or output[-1] != program_init[len(output)-1]):\n",
    "            return []\n",
    "    return output"
   ]
  },
  {
   "cell_type": "code",
   "execution_count": 10,
   "id": "e0f59c8b",
   "metadata": {},
   "outputs": [
    {
     "data": {
      "text/plain": [
       "[6, 5, 4, 7, 1, 6, 0, 3, 1]"
      ]
     },
     "execution_count": 10,
     "metadata": {},
     "output_type": "execute_result"
    }
   ],
   "source": [
    "run_program_2(44348299)"
   ]
  },
  {
   "cell_type": "code",
   "execution_count": null,
   "id": "8174ba7a",
   "metadata": {},
   "outputs": [],
   "source": []
  }
 ],
 "metadata": {
  "kernelspec": {
   "display_name": ".venv",
   "language": "python",
   "name": "python3"
  },
  "language_info": {
   "codemirror_mode": {
    "name": "ipython",
    "version": 3
   },
   "file_extension": ".py",
   "mimetype": "text/x-python",
   "name": "python",
   "nbconvert_exporter": "python",
   "pygments_lexer": "ipython3",
   "version": "3.12.3"
  }
 },
 "nbformat": 4,
 "nbformat_minor": 5
}

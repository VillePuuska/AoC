{
 "cells": [
  {
   "cell_type": "code",
   "execution_count": 1,
   "id": "6eabc14c",
   "metadata": {},
   "outputs": [],
   "source": [
    "from collections import deque, defaultdict, Counter\n",
    "from heapq import heapify, heappush, heappop\n",
    "import numpy as np\n",
    "from copy import deepcopy\n",
    "import math\n",
    "import time\n",
    "from functools import cache, reduce, cmp_to_key\n",
    "import graphviz\n",
    "from itertools import product\n",
    "import matplotlib.pyplot as plt\n",
    "from bisect import bisect_left, bisect_right\n",
    "import json\n",
    "import os\n",
    "import re\n",
    "from typing import Any"
   ]
  },
  {
   "cell_type": "code",
   "execution_count": 2,
   "id": "cae8446c",
   "metadata": {},
   "outputs": [
    {
     "data": {
      "text/plain": [
       "'day12'"
      ]
     },
     "execution_count": 2,
     "metadata": {},
     "output_type": "execute_result"
    }
   ],
   "source": [
    "dirs4 = [(-1, 0), (0, 1), (1, 0), (0, -1)]\n",
    "dirs8 = [(-1, 0), (-1, 1), (0, 1), (1, 1), (1, 0), (1, -1), (0, -1), (-1, -1)]\n",
    "\n",
    "today = os.path.basename(globals()[\"__vsc_ipynb_file__\"]).split(\".\")[0]  # + \"_ex\"\n",
    "today"
   ]
  },
  {
   "cell_type": "code",
   "execution_count": 3,
   "id": "ffcb47c2",
   "metadata": {},
   "outputs": [],
   "source": [
    "def get_lines() -> list[str]:\n",
    "    lines = []\n",
    "    with open(f\"./data/{today}.txt\") as f:\n",
    "        while line := f.readline():\n",
    "            lines.append(line.rstrip())\n",
    "    return lines\n",
    "\n",
    "def get_grid() -> list[list[str]]:\n",
    "    grid = []\n",
    "    with open(f\"./data/{today}.txt\") as f:\n",
    "        while line := f.readline():\n",
    "            grid.append([c for c in line.rstrip()])\n",
    "    return grid\n",
    "\n",
    "def parse_nums(s: str) -> list[int]:\n",
    "    return [int(x) for x in re.findall(r\"\\d+\", s)]\n",
    "\n",
    "def get_nums() -> list[list[int]]:\n",
    "    lines = get_lines()\n",
    "    return [parse_nums(line) for line in lines]\n",
    "\n",
    "def is_inside_grid(coords: tuple[int, int], grid: list[list[Any]]) -> bool:\n",
    "    return coords[0] in range(len(grid)) and coords[1] in range(len(grid[0]))"
   ]
  },
  {
   "cell_type": "code",
   "execution_count": 4,
   "id": "98006d07",
   "metadata": {},
   "outputs": [
    {
     "data": {
      "text/plain": [
       "(140, 140)"
      ]
     },
     "execution_count": 4,
     "metadata": {},
     "output_type": "execute_result"
    }
   ],
   "source": [
    "grid_init = get_grid()\n",
    "len(grid_init), len(grid_init[0])"
   ]
  },
  {
   "cell_type": "code",
   "execution_count": 5,
   "id": "17bb70ed",
   "metadata": {},
   "outputs": [],
   "source": [
    "def area_and_perimeter_and_sides(row: int, col: int, grid: list[list[str]]) -> tuple[int, int, int]:\n",
    "    plant = grid[row][col]\n",
    "\n",
    "    stack = [(row, col)]\n",
    "    area = set(stack)\n",
    "    perimeter = set()\n",
    "\n",
    "    while stack:\n",
    "        r, c = stack.pop()\n",
    "        \n",
    "        grid[r][c] = \".\"\n",
    "\n",
    "        for dr, dc in dirs4:\n",
    "            if (r+dr, c+dc) in area:\n",
    "                continue\n",
    "            if not is_inside_grid((r+dr, c+dc), grid):\n",
    "                perimeter.add((r+dr, c+dc, r, c))\n",
    "                continue\n",
    "            if grid[r+dr][c+dc] != plant:\n",
    "                perimeter.add((r+dr, c+dc, r, c))\n",
    "                continue\n",
    "            area.add((r+dr, c+dc))\n",
    "            stack.append((r+dr, c+dc))\n",
    "\n",
    "    perimeter_size = len(perimeter)\n",
    "\n",
    "    sides = 0\n",
    "    while perimeter:\n",
    "        sides += 1\n",
    "        x = min(perimeter)\n",
    "        perimeter.remove(x)\n",
    "\n",
    "        if x[0] != x[2]:\n",
    "            i = 1\n",
    "            while (x[0], x[1]+i, x[2], x[3]+i) in perimeter:\n",
    "                perimeter.remove((x[0], x[1]+i, x[2], x[3]+i))\n",
    "                i += 1\n",
    "            i = 1\n",
    "            while (x[0], x[1]-i, x[2], x[3]-i) in perimeter:\n",
    "                perimeter.remove((x[0], x[1]-i, x[2], x[3]-i))\n",
    "                i += 1\n",
    "        else:\n",
    "            i = 1\n",
    "            while (x[0]+i, x[1], x[2]+i, x[3]) in perimeter:\n",
    "                perimeter.remove((x[0]+i, x[1], x[2]+i, x[3]))\n",
    "                i += 1\n",
    "            i = 1\n",
    "            while (x[0]-i, x[1], x[2]-i, x[3]) in perimeter:\n",
    "                perimeter.remove((x[0]-i, x[1], x[2]-i, x[3]))\n",
    "                i += 1\n",
    "\n",
    "    return (len(area), perimeter_size, sides)"
   ]
  },
  {
   "cell_type": "code",
   "execution_count": 6,
   "id": "0eebec52",
   "metadata": {},
   "outputs": [
    {
     "data": {
      "text/plain": [
       "(1533644, 936718)"
      ]
     },
     "execution_count": 6,
     "metadata": {},
     "output_type": "execute_result"
    }
   ],
   "source": [
    "grid = deepcopy(grid_init)\n",
    "\n",
    "p1 = 0\n",
    "p2 = 0\n",
    "for row in range(len(grid)):\n",
    "    for col in range(len(grid[row])):\n",
    "        if grid[row][col] == \".\":\n",
    "            continue\n",
    "        area, perimeter, sides = area_and_perimeter_and_sides(row, col, grid)\n",
    "        p1 += area * perimeter\n",
    "        p2 += area * sides\n",
    "p1, p2"
   ]
  },
  {
   "cell_type": "code",
   "execution_count": null,
   "id": "f7a30345",
   "metadata": {},
   "outputs": [],
   "source": []
  }
 ],
 "metadata": {
  "kernelspec": {
   "display_name": ".venv",
   "language": "python",
   "name": "python3"
  },
  "language_info": {
   "codemirror_mode": {
    "name": "ipython",
    "version": 3
   },
   "file_extension": ".py",
   "mimetype": "text/x-python",
   "name": "python",
   "nbconvert_exporter": "python",
   "pygments_lexer": "ipython3",
   "version": "3.12.3"
  }
 },
 "nbformat": 4,
 "nbformat_minor": 5
}

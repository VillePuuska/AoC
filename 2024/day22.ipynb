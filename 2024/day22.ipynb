{
 "cells": [
  {
   "cell_type": "code",
   "execution_count": 1,
   "id": "6eabc14c",
   "metadata": {},
   "outputs": [],
   "source": [
    "from collections import deque, defaultdict, Counter\n",
    "from heapq import heapify, heappush, heappop\n",
    "import numpy as np\n",
    "from copy import deepcopy\n",
    "import math\n",
    "import time\n",
    "from functools import cache, reduce, cmp_to_key\n",
    "import graphviz\n",
    "from itertools import product\n",
    "import matplotlib.pyplot as plt\n",
    "from bisect import bisect_left, bisect_right\n",
    "import json\n",
    "import os\n",
    "import re\n",
    "from typing import Any\n",
    "from dataclasses import dataclass"
   ]
  },
  {
   "cell_type": "code",
   "execution_count": 2,
   "id": "f48b0ecb",
   "metadata": {},
   "outputs": [],
   "source": [
    "def print_grid(grid: list[list[str]]):\n",
    "    print(\"\\n\".join(\"\".join(line) for line in grid))\n",
    "\n",
    "\n",
    "def plot_grid(\n",
    "    grid: list[list[str]],\n",
    "    colors: dict[str, int],\n",
    "    save: bool = False,\n",
    "    filepath: str = \"images/plot.png\",\n",
    ") -> None:\n",
    "    arr = np.zeros((len(grid), len(grid[0])))\n",
    "    for r, row in enumerate(grid):\n",
    "        for c, char in enumerate(row):\n",
    "            if char in colors:\n",
    "                arr[r, c] = colors[char]\n",
    "    plt.xticks([])\n",
    "    plt.yticks([])\n",
    "    if save:\n",
    "        plt.imsave(filepath, arr)\n",
    "    else:\n",
    "        plt.imshow(arr)\n",
    "\n",
    "\n",
    "def plot_objects(\n",
    "    object_lists: list[list[tuple[int, int]]],\n",
    "    colors: list[int],\n",
    "    x_limit: int,\n",
    "    y_limit: int,\n",
    "    save: bool = False,\n",
    "    filepath: str = \"images/plot.png\",\n",
    ") -> None:\n",
    "    arr = np.zeros((y_limit, x_limit))\n",
    "    for objects, color in zip(object_lists, colors):\n",
    "        for obj in objects:\n",
    "            arr[y_limit - 1 - obj[1], obj[0]] = color\n",
    "    plt.xticks([])\n",
    "    plt.yticks([])\n",
    "    if save:\n",
    "        plt.imsave(filepath, arr)\n",
    "    else:\n",
    "        plt.imshow(arr)"
   ]
  },
  {
   "cell_type": "code",
   "execution_count": 3,
   "id": "bb6f9e87",
   "metadata": {},
   "outputs": [
    {
     "data": {
      "text/plain": [
       "'day22'"
      ]
     },
     "execution_count": 3,
     "metadata": {},
     "output_type": "execute_result"
    }
   ],
   "source": [
    "dirs4 = [(-1, 0), (0, 1), (1, 0), (0, -1)]\n",
    "dirs8 = [(-1, 0), (-1, 1), (0, 1), (1, 1), (1, 0), (1, -1), (0, -1), (-1, -1)]\n",
    "\n",
    "today = os.path.basename(globals()[\"__vsc_ipynb_file__\"]).split(\".\")[0]  # + \"_ex2\"\n",
    "today"
   ]
  },
  {
   "cell_type": "code",
   "execution_count": 4,
   "id": "ffcb47c2",
   "metadata": {},
   "outputs": [],
   "source": [
    "def get_lines() -> list[str]:\n",
    "    lines = []\n",
    "    with open(f\"./data/{today}.txt\") as f:\n",
    "        while line := f.readline():\n",
    "            lines.append(line.rstrip())\n",
    "    return lines\n",
    "\n",
    "\n",
    "def get_grid() -> list[list[str]]:\n",
    "    grid = []\n",
    "    with open(f\"./data/{today}.txt\") as f:\n",
    "        while line := f.readline():\n",
    "            grid.append([c for c in line.rstrip()])\n",
    "    return grid\n",
    "\n",
    "\n",
    "def parse_nums(s: str) -> list[int]:\n",
    "    return [int(x) for x in re.findall(r\"-?\\d+\", s)]\n",
    "\n",
    "\n",
    "def get_nums() -> list[list[int]]:\n",
    "    lines = get_lines()\n",
    "    return [parse_nums(line) for line in lines]\n",
    "\n",
    "\n",
    "def is_inside_grid(coords: tuple[int, int], grid: list[list[Any]]) -> bool:\n",
    "    return coords[0] in range(len(grid)) and coords[1] in range(len(grid[0]))"
   ]
  },
  {
   "cell_type": "code",
   "execution_count": 5,
   "id": "b7d61713",
   "metadata": {},
   "outputs": [
    {
     "data": {
      "text/plain": [
       "2420"
      ]
     },
     "execution_count": 5,
     "metadata": {},
     "output_type": "execute_result"
    }
   ],
   "source": [
    "secrets = [int(line) for line in get_lines()]\n",
    "len(secrets)"
   ]
  },
  {
   "cell_type": "code",
   "execution_count": 6,
   "id": "b5fa96cb",
   "metadata": {},
   "outputs": [],
   "source": [
    "def mix(val: int, secret: int) -> int:\n",
    "    return val ^ secret\n",
    "\n",
    "def prune(secret: int) -> int:\n",
    "    return secret % 16777216\n",
    "\n",
    "def next_secret(secret: int) -> int:\n",
    "    tmp = secret * 64\n",
    "    secret = mix(tmp, secret)\n",
    "    secret = prune(secret)\n",
    "\n",
    "    tmp = secret // 32\n",
    "    secret = mix(tmp, secret)\n",
    "    secret = prune(secret)\n",
    "\n",
    "    tmp = secret * 2048\n",
    "    secret = mix(tmp, secret)\n",
    "    secret = prune(secret)\n",
    "\n",
    "    return secret"
   ]
  },
  {
   "cell_type": "code",
   "execution_count": 7,
   "id": "1fed5bd2",
   "metadata": {},
   "outputs": [
    {
     "name": "stdout",
     "output_type": "stream",
     "text": [
      "15887950\n",
      "16495136\n",
      "527345\n",
      "704524\n",
      "1553684\n",
      "12683156\n",
      "11100544\n",
      "12249484\n",
      "7753432\n",
      "5908254\n"
     ]
    }
   ],
   "source": [
    "secret = 123\n",
    "for _ in range(10):\n",
    "    secret = next_secret(secret)\n",
    "    print(secret)"
   ]
  },
  {
   "cell_type": "code",
   "execution_count": 8,
   "id": "ddb4c0fb",
   "metadata": {},
   "outputs": [
    {
     "data": {
      "text/plain": [
       "19877757850"
      ]
     },
     "execution_count": 8,
     "metadata": {},
     "output_type": "execute_result"
    }
   ],
   "source": [
    "s = 0\n",
    "for secret in secrets:\n",
    "    for _ in range(2000):\n",
    "        secret = next_secret(secret)\n",
    "    s += secret\n",
    "s"
   ]
  },
  {
   "cell_type": "code",
   "execution_count": 9,
   "id": "0344b1c9",
   "metadata": {},
   "outputs": [],
   "source": [
    "sequence_to_bananas = defaultdict(int)\n",
    "for secret in secrets:\n",
    "    seen = set()\n",
    "    dq = deque()\n",
    "    prev = secret % 10\n",
    "    for _ in range(3):\n",
    "        secret = next_secret(secret)\n",
    "        curr = secret % 10\n",
    "        dq.append(curr - prev)\n",
    "        prev = curr\n",
    "    for _ in range(2000 - 3):\n",
    "        secret = next_secret(secret)\n",
    "        curr = secret % 10\n",
    "        dq.append(curr - prev)\n",
    "        seq = tuple(dq)\n",
    "        if seq not in seen:\n",
    "            seen.add(seq)\n",
    "            sequence_to_bananas[seq] += curr\n",
    "        dq.popleft()\n",
    "        prev = curr"
   ]
  },
  {
   "cell_type": "code",
   "execution_count": 10,
   "id": "90dbb005",
   "metadata": {},
   "outputs": [
    {
     "data": {
      "text/plain": [
       "2399"
      ]
     },
     "execution_count": 10,
     "metadata": {},
     "output_type": "execute_result"
    }
   ],
   "source": [
    "max(sequence_to_bananas.values())"
   ]
  },
  {
   "cell_type": "code",
   "execution_count": null,
   "id": "010f3d98",
   "metadata": {},
   "outputs": [],
   "source": []
  }
 ],
 "metadata": {
  "kernelspec": {
   "display_name": ".venv",
   "language": "python",
   "name": "python3"
  },
  "language_info": {
   "codemirror_mode": {
    "name": "ipython",
    "version": 3
   },
   "file_extension": ".py",
   "mimetype": "text/x-python",
   "name": "python",
   "nbconvert_exporter": "python",
   "pygments_lexer": "ipython3",
   "version": "3.12.3"
  }
 },
 "nbformat": 4,
 "nbformat_minor": 5
}

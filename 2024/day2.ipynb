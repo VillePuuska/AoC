{
 "cells": [
  {
   "cell_type": "code",
   "execution_count": 1,
   "id": "6eabc14c",
   "metadata": {},
   "outputs": [],
   "source": [
    "from collections import deque, defaultdict, Counter\n",
    "from heapq import heapify, heappush, heappop\n",
    "import numpy as np\n",
    "from copy import deepcopy\n",
    "import math\n",
    "import time\n",
    "from functools import cache, reduce, cmp_to_key\n",
    "import graphviz\n",
    "from itertools import product\n",
    "import matplotlib.pyplot as plt\n",
    "from bisect import bisect_left, bisect_right\n",
    "import json"
   ]
  },
  {
   "cell_type": "code",
   "execution_count": 2,
   "id": "cae8446c",
   "metadata": {},
   "outputs": [],
   "source": [
    "dirs4 = [(0, 1), (0, -1), (1, 0), (-1, 0)]\n",
    "dirs8 = dirs4 + [(1, 1), (1, -1), (-1, 1), (-1, -1)]"
   ]
  },
  {
   "cell_type": "code",
   "execution_count": 3,
   "id": "62f0843b",
   "metadata": {},
   "outputs": [
    {
     "data": {
      "text/plain": [
       "[[8, 11, 13, 14, 15, 18, 17],\n",
       " [43, 44, 47, 49, 52, 52],\n",
       " [37, 40, 42, 43, 44, 47, 51]]"
      ]
     },
     "execution_count": 3,
     "metadata": {},
     "output_type": "execute_result"
    }
   ],
   "source": [
    "lines = []\n",
    "\n",
    "with open(\"./data/day2.txt\") as f:\n",
    "    while line := f.readline():\n",
    "        line = line.rstrip().split()\n",
    "        lines.append([int(x) for x in line])\n",
    "\n",
    "lines[:3]"
   ]
  },
  {
   "cell_type": "code",
   "execution_count": 4,
   "id": "19b5e7e8",
   "metadata": {},
   "outputs": [
    {
     "data": {
      "text/plain": [
       "490"
      ]
     },
     "execution_count": 4,
     "metadata": {},
     "output_type": "execute_result"
    }
   ],
   "source": [
    "c = 0\n",
    "for line in lines:\n",
    "    if line[0] < line[1]:\n",
    "        flag = True\n",
    "        for i in range(len(line)-1):\n",
    "            if line[i+1] not in range(line[i]+1, line[i]+4):\n",
    "                flag = False\n",
    "                break\n",
    "        if flag:\n",
    "            c += 1\n",
    "    else:\n",
    "        flag = True\n",
    "        for i in range(len(line)-1):\n",
    "            if line[i+1] not in range(line[i]-3, line[i]):\n",
    "                flag = False\n",
    "                break\n",
    "        if flag:\n",
    "            c += 1\n",
    "c"
   ]
  },
  {
   "cell_type": "code",
   "execution_count": 5,
   "id": "7e2e284f",
   "metadata": {},
   "outputs": [],
   "source": [
    "def check(line: list[int]) -> bool:\n",
    "    res = True\n",
    "    if line[0] < line[1]:\n",
    "        for i in range(len(line)-1):\n",
    "            if line[i+1] not in range(line[i]+1, line[i]+4):\n",
    "                res = False\n",
    "                break\n",
    "    else:\n",
    "        for i in range(len(line)-1):\n",
    "            if line[i+1] not in range(line[i]-3, line[i]):\n",
    "                res = False\n",
    "    return res"
   ]
  },
  {
   "cell_type": "code",
   "execution_count": 6,
   "id": "16c5efcd",
   "metadata": {},
   "outputs": [
    {
     "data": {
      "text/plain": [
       "536"
      ]
     },
     "execution_count": 6,
     "metadata": {},
     "output_type": "execute_result"
    }
   ],
   "source": [
    "c = 0\n",
    "\n",
    "for line2 in lines:\n",
    "    for j in range(len(line2)):\n",
    "        line = line2[:j] + line2[j+1:]\n",
    "        \n",
    "        if check(line):\n",
    "            c += 1\n",
    "            break\n",
    "c"
   ]
  },
  {
   "cell_type": "code",
   "execution_count": null,
   "id": "5d2822b1",
   "metadata": {},
   "outputs": [],
   "source": []
  }
 ],
 "metadata": {
  "kernelspec": {
   "display_name": ".venv",
   "language": "python",
   "name": "python3"
  },
  "language_info": {
   "codemirror_mode": {
    "name": "ipython",
    "version": 3
   },
   "file_extension": ".py",
   "mimetype": "text/x-python",
   "name": "python",
   "nbconvert_exporter": "python",
   "pygments_lexer": "ipython3",
   "version": "3.12.3"
  }
 },
 "nbformat": 4,
 "nbformat_minor": 5
}

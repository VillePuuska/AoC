{
 "cells": [
  {
   "cell_type": "code",
   "execution_count": 1,
   "id": "6eabc14c",
   "metadata": {},
   "outputs": [],
   "source": [
    "from collections import deque, defaultdict, Counter\n",
    "from heapq import heapify, heappush, heappop\n",
    "import numpy as np\n",
    "from copy import deepcopy\n",
    "import math\n",
    "import time\n",
    "from functools import cache, reduce, cmp_to_key\n",
    "import graphviz\n",
    "from itertools import product\n",
    "import matplotlib.pyplot as plt\n",
    "from bisect import bisect_left, bisect_right\n",
    "import json"
   ]
  },
  {
   "cell_type": "code",
   "execution_count": 2,
   "id": "cae8446c",
   "metadata": {},
   "outputs": [],
   "source": [
    "dirs4 = [(0, 1), (0, -1), (1, 0), (-1, 0)]\n",
    "dirs8 = dirs4 + [(1, 1), (1, -1), (-1, 1), (-1, -1)]"
   ]
  },
  {
   "cell_type": "code",
   "execution_count": 3,
   "id": "62f0843b",
   "metadata": {},
   "outputs": [],
   "source": [
    "grid = []\n",
    "\n",
    "with open(\"./data/day4.txt\") as f:\n",
    "    while line := f.readline():\n",
    "        line = line.rstrip()\n",
    "        grid.append([c for c in line])"
   ]
  },
  {
   "cell_type": "code",
   "execution_count": 4,
   "id": "0467a7ab",
   "metadata": {},
   "outputs": [],
   "source": [
    "def find(row: int, col: int, d: tuple[int, int], grid: list[list[str]]) -> bool:\n",
    "    if row + 3*d[0] < 0 or row + 3*d[0] >= len(grid):\n",
    "        return False\n",
    "    if col + 3*d[1] < 0 or col + 3*d[1] >= len(grid[0]):\n",
    "        return False\n",
    "    word = \"XMAS\"\n",
    "    for i in range(4):\n",
    "        if grid[row + i*d[0]][col + i*d[1]] != word[i]:\n",
    "            return False\n",
    "    return True"
   ]
  },
  {
   "cell_type": "code",
   "execution_count": 5,
   "id": "d8ecc659",
   "metadata": {},
   "outputs": [
    {
     "data": {
      "text/plain": [
       "2507"
      ]
     },
     "execution_count": 5,
     "metadata": {},
     "output_type": "execute_result"
    }
   ],
   "source": [
    "c = 0\n",
    "for row in range(len(grid)):\n",
    "    for col in range(len(grid[row])):\n",
    "        for d in dirs8:\n",
    "            if find(row, col, d, grid):\n",
    "                c += 1\n",
    "c"
   ]
  },
  {
   "cell_type": "code",
   "execution_count": 6,
   "id": "7fa81555",
   "metadata": {},
   "outputs": [],
   "source": [
    "def find2(row: int, col: int, grid: list[list[str]]) -> bool:\n",
    "    if row - 1 < 0 or row + 1 >= len(grid):\n",
    "        return False\n",
    "    if col - 1 < 0 or col + 1 >= len(grid[0]):\n",
    "        return False\n",
    "    if grid[row][col] != \"A\":\n",
    "        return False\n",
    "    if {grid[row-1][col-1], grid[row+1][col+1]} != {\"M\", \"S\"}:\n",
    "        return False\n",
    "    if {grid[row-1][col+1], grid[row+1][col-1]} != {\"M\", \"S\"}:\n",
    "        return False\n",
    "    return True"
   ]
  },
  {
   "cell_type": "code",
   "execution_count": 7,
   "id": "4f432733",
   "metadata": {},
   "outputs": [
    {
     "data": {
      "text/plain": [
       "1969"
      ]
     },
     "execution_count": 7,
     "metadata": {},
     "output_type": "execute_result"
    }
   ],
   "source": [
    "c = 0\n",
    "for row in range(len(grid)):\n",
    "    for col in range(len(grid[row])):\n",
    "        if find2(row, col, grid):\n",
    "            c += 1\n",
    "c"
   ]
  },
  {
   "cell_type": "code",
   "execution_count": null,
   "id": "394944d2",
   "metadata": {},
   "outputs": [],
   "source": []
  }
 ],
 "metadata": {
  "kernelspec": {
   "display_name": ".venv",
   "language": "python",
   "name": "python3"
  },
  "language_info": {
   "codemirror_mode": {
    "name": "ipython",
    "version": 3
   },
   "file_extension": ".py",
   "mimetype": "text/x-python",
   "name": "python",
   "nbconvert_exporter": "python",
   "pygments_lexer": "ipython3",
   "version": "3.12.3"
  }
 },
 "nbformat": 4,
 "nbformat_minor": 5
}

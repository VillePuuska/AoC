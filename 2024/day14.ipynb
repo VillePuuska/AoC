{
 "cells": [
  {
   "cell_type": "code",
   "execution_count": 1,
   "id": "6eabc14c",
   "metadata": {},
   "outputs": [],
   "source": [
    "from collections import deque, defaultdict, Counter\n",
    "from heapq import heapify, heappush, heappop\n",
    "import numpy as np\n",
    "from copy import deepcopy\n",
    "import math\n",
    "import time\n",
    "from functools import cache, reduce, cmp_to_key\n",
    "import graphviz\n",
    "from itertools import product\n",
    "import matplotlib.pyplot as plt\n",
    "from bisect import bisect_left, bisect_right\n",
    "import json\n",
    "import os\n",
    "import re\n",
    "from typing import Any\n",
    "from dataclasses import dataclass"
   ]
  },
  {
   "cell_type": "code",
   "execution_count": 2,
   "id": "cae8446c",
   "metadata": {},
   "outputs": [
    {
     "data": {
      "text/plain": [
       "'day14'"
      ]
     },
     "execution_count": 2,
     "metadata": {},
     "output_type": "execute_result"
    }
   ],
   "source": [
    "dirs4 = [(-1, 0), (0, 1), (1, 0), (0, -1)]\n",
    "dirs8 = [(-1, 0), (-1, 1), (0, 1), (1, 1), (1, 0), (1, -1), (0, -1), (-1, -1)]\n",
    "\n",
    "today = os.path.basename(globals()[\"__vsc_ipynb_file__\"]).split(\".\")[0]  # + \"_ex\"\n",
    "today"
   ]
  },
  {
   "cell_type": "code",
   "execution_count": 3,
   "id": "ffcb47c2",
   "metadata": {},
   "outputs": [],
   "source": [
    "def get_lines() -> list[str]:\n",
    "    lines = []\n",
    "    with open(f\"./data/{today}.txt\") as f:\n",
    "        while line := f.readline():\n",
    "            lines.append(line.rstrip())\n",
    "    return lines\n",
    "\n",
    "def get_grid() -> list[list[str]]:\n",
    "    grid = []\n",
    "    with open(f\"./data/{today}.txt\") as f:\n",
    "        while line := f.readline():\n",
    "            grid.append([c for c in line.rstrip()])\n",
    "    return grid\n",
    "\n",
    "def parse_nums(s: str) -> list[int]:\n",
    "    return [int(x) for x in re.findall(r\"\\d+\", s)]\n",
    "\n",
    "def get_nums() -> list[list[int]]:\n",
    "    lines = get_lines()\n",
    "    return [parse_nums(line) for line in lines]\n",
    "\n",
    "def is_inside_grid(coords: tuple[int, int], grid: list[list[Any]]) -> bool:\n",
    "    return coords[0] in range(len(grid)) and coords[1] in range(len(grid[0]))"
   ]
  },
  {
   "cell_type": "code",
   "execution_count": 4,
   "id": "a5642507",
   "metadata": {},
   "outputs": [
    {
     "data": {
      "text/plain": [
       "500"
      ]
     },
     "execution_count": 4,
     "metadata": {},
     "output_type": "execute_result"
    }
   ],
   "source": [
    "x_limit = 101\n",
    "y_limit = 103\n",
    "\n",
    "\n",
    "@dataclass\n",
    "class Robot:\n",
    "    pos: np.ndarray\n",
    "    vel: np.ndarray\n",
    "    x_limit: int\n",
    "    y_limit: int\n",
    "\n",
    "    def step(self, steps: int = 1) -> None:\n",
    "        self.pos += steps*self.vel\n",
    "        self.pos[0] %= self.x_limit\n",
    "        self.pos[1] %= self.y_limit\n",
    "\n",
    "\n",
    "robots: list[Robot] = []\n",
    "with open(f\"./data/{today}.txt\") as f:\n",
    "    while line := f.readline():\n",
    "        line = line.rstrip()\n",
    "        pos = [int(x) for x in line[2:].split()[0].split(\",\")]\n",
    "        vel = [int(x) for x in line.split()[1][2:].split(\",\")]\n",
    "        robots.append(Robot(np.array(pos), np.array(vel), x_limit, y_limit))\n",
    "len(robots)"
   ]
  },
  {
   "cell_type": "code",
   "execution_count": 5,
   "id": "798239ec",
   "metadata": {},
   "outputs": [
    {
     "data": {
      "text/plain": [
       "217328832"
      ]
     },
     "execution_count": 5,
     "metadata": {},
     "output_type": "execute_result"
    }
   ],
   "source": [
    "s = defaultdict(int)\n",
    "for robot in robots:\n",
    "    robot.step(100)\n",
    "    \n",
    "    if robot.pos[0] == x_limit // 2 or robot.pos[1] == y_limit // 2:\n",
    "        continue\n",
    "    s[(robot.pos[0] // ((x_limit // 2) + 1), robot.pos[1] // ((y_limit // 2) + 1))] += 1\n",
    "math.prod(s.values())"
   ]
  },
  {
   "cell_type": "code",
   "execution_count": 6,
   "id": "80e47b9e",
   "metadata": {},
   "outputs": [],
   "source": [
    "def plot_bots(\n",
    "    robots: list[Robot], x_limit: int, y_limit: int, step: int = 0, save: bool = False\n",
    ") -> None:\n",
    "    arr = np.zeros((x_limit, y_limit))\n",
    "    for bot in robots:\n",
    "        arr[*bot.pos] = min(255, arr[*bot.pos] + 1)  # type: ignore\n",
    "    if save:\n",
    "        plt.imsave(f\"images/{step}.png\", arr)\n",
    "    else:\n",
    "        plt.imshow(arr)"
   ]
  },
  {
   "cell_type": "code",
   "execution_count": 7,
   "id": "4bfc3c40",
   "metadata": {},
   "outputs": [],
   "source": [
    "robots: list[Robot] = []\n",
    "with open(f\"./data/{today}.txt\") as f:\n",
    "    while line := f.readline():\n",
    "        line = line.rstrip()\n",
    "        pos = [int(x) for x in line[2:].split()[0].split(\",\")]\n",
    "        vel = [int(x) for x in line.split()[1][2:].split(\",\")]\n",
    "        robots.append(Robot(np.array(pos), np.array(vel), x_limit, y_limit))"
   ]
  },
  {
   "cell_type": "code",
   "execution_count": 8,
   "id": "40e4a770",
   "metadata": {},
   "outputs": [],
   "source": [
    "for steps in range(1, 500):\n",
    "    for bot in robots:\n",
    "        bot.step(1)\n",
    "    plot_bots(robots, x_limit, y_limit, steps, True)"
   ]
  },
  {
   "cell_type": "markdown",
   "id": "bdcc766b",
   "metadata": {},
   "source": [
    "Staring at the images there are two visible patterns that appear:\n",
    "- a horizontal pattern that appears after 39, 140, 241, 342, 443, ... steps,\n",
    "- a vertical pattern that appears after 99, 202, 305, 408, ... steps.\n",
    "\n",
    "Discarding the first appearance of the horizontal pattern, we see that the horizontal pattern appears at an interval of 101 steps and the vertical pattern at an interval of 103 steps.\n",
    "\n",
    "A reasonable guess is that the easter egg appears when the patterns collide. When does this happen first?"
   ]
  },
  {
   "cell_type": "code",
   "execution_count": 9,
   "id": "62117eda",
   "metadata": {},
   "outputs": [
    {
     "name": "stdout",
     "output_type": "stream",
     "text": [
      "7412\n"
     ]
    }
   ],
   "source": [
    "for i in range(5000):\n",
    "    if (140 + 101*i - 99) % 103 == 0:\n",
    "        print(140 + 101*i)\n",
    "        break"
   ]
  },
  {
   "cell_type": "code",
   "execution_count": 10,
   "id": "52e42054",
   "metadata": {},
   "outputs": [
    {
     "data": {
      "image/png": "[encoded data removed]",
      "text/plain": [
       "<Figure size 640x480 with 1 Axes>"
      ]
     },
     "metadata": {},
     "output_type": "display_data"
    }
   ],
   "source": [
    "for bot in robots:\n",
    "    bot.step(7412 - 499)  # already took 499 steps for each robot to plot images\n",
    "plot_bots(robots, x_limit, y_limit)"
   ]
  },
  {
   "cell_type": "code",
   "execution_count": null,
   "id": "d9b39e8f",
   "metadata": {},
   "outputs": [],
   "source": []
  }
 ],
 "metadata": {
  "kernelspec": {
   "display_name": ".venv",
   "language": "python",
   "name": "python3"
  },
  "language_info": {
   "codemirror_mode": {
    "name": "ipython",
    "version": 3
   },
   "file_extension": ".py",
   "mimetype": "text/x-python",
   "name": "python",
   "nbconvert_exporter": "python",
   "pygments_lexer": "ipython3",
   "version": "3.12.3"
  }
 },
 "nbformat": 4,
 "nbformat_minor": 5
}

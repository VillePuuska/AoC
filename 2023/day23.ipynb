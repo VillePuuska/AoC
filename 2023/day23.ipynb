{
 "cells": [
  {
   "cell_type": "code",
   "execution_count": 1,
   "metadata": {},
   "outputs": [
    {
     "data": {
      "text/plain": [
       "{'#', '.', '>', 'v'}"
      ]
     },
     "execution_count": 1,
     "metadata": {},
     "output_type": "execute_result"
    }
   ],
   "source": [
    "grid = []\n",
    "\n",
    "chars = set()\n",
    "\n",
    "with open(\"./data/day23.txt\") as f:\n",
    "    while line := f.readline():\n",
    "        line = line.rstrip()\n",
    "        grid.append(list(line))\n",
    "        for c in line:\n",
    "            chars.add(c)\n",
    "\n",
    "rows, cols = len(grid), len(grid[0])\n",
    "chars"
   ]
  },
  {
   "cell_type": "code",
   "execution_count": 2,
   "id": "bccc024a",
   "metadata": {},
   "outputs": [],
   "source": [
    "def get_directions(row, col, path):\n",
    "    if grid[row][col] == '>':\n",
    "        return [(row, col+1)] if (row, col+1) not in path else []\n",
    "    if grid[row][col] == 'v':\n",
    "        return [(row+1, col)] if (row+1, col) not in path else []\n",
    "    res = []\n",
    "    for i, j in [(0, 1), (0, -1), (1, 0), (-1, 0)]:\n",
    "        if (row+i, col+j) not in path and row+i in range(rows) and col+j in range(cols) and grid[row+i][col+j] != '#':\n",
    "            res.append((row+i, col+j))\n",
    "    return res"
   ]
  },
  {
   "cell_type": "code",
   "execution_count": 3,
   "id": "d10b5391",
   "metadata": {},
   "outputs": [
    {
     "data": {
      "text/plain": [
       "2406"
      ]
     },
     "execution_count": 3,
     "metadata": {},
     "output_type": "execute_result"
    }
   ],
   "source": [
    "q = [(0, 1, set([(0, 1),]))]\n",
    "res = 0\n",
    "while q:\n",
    "    row, col, path = q.pop()\n",
    "    if row == rows-1:\n",
    "        res = max(res, len(path))\n",
    "        continue\n",
    "    for new_row, new_col in get_directions(row, col, path):\n",
    "        new_path = path.copy()\n",
    "        new_path.add((new_row, new_col))\n",
    "        q.append((new_row, new_col, new_path))\n",
    "res-1"
   ]
  },
  {
   "cell_type": "code",
   "execution_count": 4,
   "id": "9ab002e0",
   "metadata": {},
   "outputs": [],
   "source": [
    "def get_directions2(row, col, path):\n",
    "    res = []\n",
    "    for i, j in [(0, 1), (0, -1), (1, 0), (-1, 0)]:\n",
    "        if (row+i, col+j) not in path and row+i in range(rows) and col+j in range(cols) and grid[row+i][col+j] != '#':\n",
    "            res.append((row+i, col+j))\n",
    "    return res"
   ]
  },
  {
   "cell_type": "code",
   "execution_count": 5,
   "id": "c8f9ccbc",
   "metadata": {},
   "outputs": [],
   "source": [
    "def is_fork(row, col):\n",
    "    if grid[row][col] == '#':\n",
    "        return False\n",
    "    res = 0\n",
    "    for i, j in [(0, 1), (0, -1), (1, 0), (-1, 0)]:\n",
    "        if row+i in range(rows) and col+j in range(cols) and grid[row+i][col+j] != '#':\n",
    "            res += 1\n",
    "    return res > 2"
   ]
  },
  {
   "cell_type": "code",
   "execution_count": 6,
   "id": "41273adc",
   "metadata": {},
   "outputs": [
    {
     "data": {
      "text/plain": [
       "36"
      ]
     },
     "execution_count": 6,
     "metadata": {},
     "output_type": "execute_result"
    }
   ],
   "source": [
    "forks = []\n",
    "forks.append((0, 1))\n",
    "forks.append((rows-1, cols-2))\n",
    "for row in range(rows):\n",
    "    for col in range(cols):\n",
    "        if is_fork(row, col):\n",
    "            forks.append((row, col))\n",
    "len(forks)"
   ]
  },
  {
   "cell_type": "code",
   "execution_count": 7,
   "id": "362712b5",
   "metadata": {},
   "outputs": [],
   "source": [
    "from collections import deque"
   ]
  },
  {
   "cell_type": "code",
   "execution_count": 8,
   "id": "437a5e96",
   "metadata": {},
   "outputs": [
    {
     "name": "stdout",
     "output_type": "stream",
     "text": [
      "Fork (0, 1) immediate neighbors and longest paths to: {(13, 11): 155}\n",
      "Fork (140, 139) immediate neighbors and longest paths to: {(129, 123): 135}\n",
      "Fork (5, 113) immediate neighbors and longest paths to: {(37, 113): 208, (13, 83): 278, (43, 129): 434}\n",
      "Fork (13, 11) immediate neighbors and longest paths to: {(33, 15): 116, (0, 1): 155, (19, 43): 290}\n",
      "Fork (13, 83) immediate neighbors and longest paths to: {(35, 89): 120, (17, 59): 236, (5, 113): 278}\n",
      "Fork (17, 59) immediate neighbors and longest paths to: {(29, 61): 58, (19, 43): 134, (13, 83): 236}\n",
      "Fork (19, 43) immediate neighbors and longest paths to: {(33, 31): 82, (17, 59): 134, (13, 11): 290}\n",
      "Fork (29, 61) immediate neighbors and longest paths to: {(17, 59): 58, (35, 89): 142, (33, 31): 146, (63, 53): 222}\n",
      "Fork (33, 15) immediate neighbors and longest paths to: {(33, 31): 64, (13, 11): 116, (67, 13): 316}\n",
      "Fork (33, 31) immediate neighbors and longest paths to: {(33, 15): 64, (19, 43): 82, (29, 61): 146, (65, 29): 218}\n"
     ]
    }
   ],
   "source": [
    "fork_graph = {fork:{} for fork in forks}\n",
    "for r, c in forks:\n",
    "    q = deque()\n",
    "    q.append((r, c, set([(r, c),])))\n",
    "    while q:\n",
    "        row, col, path = q.pop()\n",
    "        if (row, col) != (r, c) and (row, col) in forks:\n",
    "            fork_graph[(r, c)][(row, col)] = len(path)-1\n",
    "            continue\n",
    "        ls = get_directions2(row, col, path)\n",
    "        for new_row, new_col in ls:\n",
    "            if len(ls) > 1:\n",
    "                new_path = path.copy()\n",
    "            else:\n",
    "                new_path = path\n",
    "            new_path.add((new_row, new_col))\n",
    "            q.appendleft((new_row, new_col, new_path))\n",
    "for i, (k, v) in enumerate(fork_graph.items()):\n",
    "    if i >= 10:\n",
    "        break\n",
    "    print(f'Fork {k} immediate neighbors and longest paths to: {v}')"
   ]
  },
  {
   "cell_type": "code",
   "execution_count": 9,
   "id": "8d852b20",
   "metadata": {},
   "outputs": [
    {
     "data": {
      "text/plain": [
       "6630"
      ]
     },
     "execution_count": 9,
     "metadata": {},
     "output_type": "execute_result"
    }
   ],
   "source": [
    "q = [(0, 1, set([(0, 1),]), 0)]\n",
    "res = 0\n",
    "while q:\n",
    "    row, col, path, d = q.pop()\n",
    "    if row == rows-1:\n",
    "        res = max(res, d)\n",
    "        continue\n",
    "    adj = fork_graph[(row, col)]\n",
    "    for (new_row, new_col), dist in adj.items():\n",
    "        if (new_row, new_col) in path:\n",
    "            continue\n",
    "        if len(adj) > 1:\n",
    "            new_path = path.copy()\n",
    "        else:\n",
    "            new_path = path\n",
    "        new_path.add((new_row, new_col))\n",
    "        q.append((new_row, new_col, new_path, d+dist))\n",
    "res"
   ]
  },
  {
   "cell_type": "code",
   "execution_count": null,
   "metadata": {},
   "outputs": [],
   "source": []
  }
 ],
 "metadata": {
  "kernelspec": {
   "display_name": "Python 3 (ipykernel)",
   "language": "python",
   "name": "python3"
  },
  "language_info": {
   "codemirror_mode": {
    "name": "ipython",
    "version": 3
   },
   "file_extension": ".py",
   "mimetype": "text/x-python",
   "name": "python",
   "nbconvert_exporter": "python",
   "pygments_lexer": "ipython3",
   "version": "3.10.12"
  }
 },
 "nbformat": 4,
 "nbformat_minor": 5
}

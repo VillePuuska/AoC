{
 "cells": [
  {
   "cell_type": "code",
   "execution_count": 1,
   "metadata": {},
   "outputs": [
    {
     "data": {
      "text/plain": [
       "{'#', '.', '>', 'v'}"
      ]
     },
     "execution_count": 1,
     "metadata": {},
     "output_type": "execute_result"
    }
   ],
   "source": [
    "grid = []\n",
    "\n",
    "chars = set()\n",
    "\n",
    "with open(\"./data/day23.txt\") as f:\n",
    "    while line := f.readline():\n",
    "        line = line.rstrip()\n",
    "        grid.append(list(line))\n",
    "        for c in line:\n",
    "            chars.add(c)\n",
    "\n",
    "rows, cols = len(grid), len(grid[0])\n",
    "chars"
   ]
  },
  {
   "cell_type": "markdown",
   "id": "4081502c",
   "metadata": {},
   "source": [
    "# Part 1\n",
    "\n",
    "Simple DFS to enumerate all paths. Note that the example and input data actually don't contain the characters `^` and `<`."
   ]
  },
  {
   "cell_type": "code",
   "execution_count": 2,
   "id": "bccc024a",
   "metadata": {},
   "outputs": [],
   "source": [
    "def get_directions(row, col, path):\n",
    "    if grid[row][col] == '>':\n",
    "        return [(row, col+1)] if (row, col+1) not in path else []\n",
    "    if grid[row][col] == 'v':\n",
    "        return [(row+1, col)] if (row+1, col) not in path else []\n",
    "    res = []\n",
    "    for i, j in [(0, 1), (0, -1), (1, 0), (-1, 0)]:\n",
    "        if (row+i, col+j) not in path and row+i in range(rows) and col+j in range(cols) and grid[row+i][col+j] != '#':\n",
    "            res.append((row+i, col+j))\n",
    "    return res"
   ]
  },
  {
   "cell_type": "code",
   "execution_count": 3,
   "id": "d10b5391",
   "metadata": {},
   "outputs": [
    {
     "data": {
      "text/plain": [
       "2406"
      ]
     },
     "execution_count": 3,
     "metadata": {},
     "output_type": "execute_result"
    }
   ],
   "source": [
    "q = [(0, 1, set([(0, 1),]))]\n",
    "res = 0\n",
    "while q:\n",
    "    row, col, path = q.pop()\n",
    "    if row == rows-1:\n",
    "        res = max(res, len(path))\n",
    "        continue\n",
    "    for new_row, new_col in get_directions(row, col, path):\n",
    "        new_path = path.copy()\n",
    "        new_path.add((new_row, new_col))\n",
    "        q.append((new_row, new_col, new_path))\n",
    "res-1"
   ]
  },
  {
   "cell_type": "markdown",
   "id": "829fb138",
   "metadata": {},
   "source": [
    "# Part 2\n",
    "\n",
    "We can now ignore the slopes. Enumerating all paths like in part 1 takes too long with python, at least for my taste, but people did say on reddit that they did simply run their part 1 solution for part 2 with more performant languages and it only took a few minutes.\n",
    "\n",
    "To make the pathfinding more efficient, we'll find the forks in the paths and create a graph from the forks and immediate connections between forks. We will also only keep the longest direct path between any two forks which might save us some irrelevant paths."
   ]
  },
  {
   "cell_type": "code",
   "execution_count": 4,
   "id": "9ab002e0",
   "metadata": {},
   "outputs": [],
   "source": [
    "def get_directions2(row, col, path):\n",
    "    res = []\n",
    "    for i, j in [(0, 1), (0, -1), (1, 0), (-1, 0)]:\n",
    "        if (row+i, col+j) not in path and row+i in range(rows) and col+j in range(cols) and grid[row+i][col+j] != '#':\n",
    "            res.append((row+i, col+j))\n",
    "    return res"
   ]
  },
  {
   "cell_type": "code",
   "execution_count": 5,
   "id": "c8f9ccbc",
   "metadata": {},
   "outputs": [],
   "source": [
    "def is_fork(row, col):\n",
    "    if grid[row][col] == '#':\n",
    "        return False\n",
    "    res = 0\n",
    "    for i, j in [(0, 1), (0, -1), (1, 0), (-1, 0)]:\n",
    "        if row+i in range(rows) and col+j in range(cols) and grid[row+i][col+j] != '#':\n",
    "            res += 1\n",
    "    return res > 2"
   ]
  },
  {
   "cell_type": "code",
   "execution_count": 6,
   "id": "41273adc",
   "metadata": {},
   "outputs": [
    {
     "data": {
      "text/plain": [
       "36"
      ]
     },
     "execution_count": 6,
     "metadata": {},
     "output_type": "execute_result"
    }
   ],
   "source": [
    "forks = []\n",
    "forks.append((0, 1))\n",
    "forks.append((rows-1, cols-2))\n",
    "for row in range(rows):\n",
    "    for col in range(cols):\n",
    "        if is_fork(row, col):\n",
    "            forks.append((row, col))\n",
    "len(forks)"
   ]
  },
  {
   "cell_type": "code",
   "execution_count": 7,
   "id": "362712b5",
   "metadata": {},
   "outputs": [],
   "source": [
    "from collections import deque"
   ]
  },
  {
   "cell_type": "code",
   "execution_count": 8,
   "id": "437a5e96",
   "metadata": {},
   "outputs": [
    {
     "name": "stdout",
     "output_type": "stream",
     "text": [
      "Fork (0, 1) immediate neighbors and longest paths to: {(13, 11): 155}\n",
      "Fork (140, 139) immediate neighbors and longest paths to: {(129, 123): 135}\n",
      "Fork (5, 113) immediate neighbors and longest paths to: {(37, 113): 208, (13, 83): 278, (43, 129): 434}\n",
      "Fork (13, 11) immediate neighbors and longest paths to: {(33, 15): 116, (0, 1): 155, (19, 43): 290}\n",
      "Fork (13, 83) immediate neighbors and longest paths to: {(35, 89): 120, (17, 59): 236, (5, 113): 278}\n",
      "Fork (17, 59) immediate neighbors and longest paths to: {(29, 61): 58, (19, 43): 134, (13, 83): 236}\n",
      "Fork (19, 43) immediate neighbors and longest paths to: {(33, 31): 82, (17, 59): 134, (13, 11): 290}\n",
      "Fork (29, 61) immediate neighbors and longest paths to: {(17, 59): 58, (35, 89): 142, (33, 31): 146, (63, 53): 222}\n",
      "Fork (33, 15) immediate neighbors and longest paths to: {(33, 31): 64, (13, 11): 116, (67, 13): 316}\n",
      "Fork (33, 31) immediate neighbors and longest paths to: {(33, 15): 64, (19, 43): 82, (29, 61): 146, (65, 29): 218}\n",
      "...\n",
      "...\n"
     ]
    }
   ],
   "source": [
    "fork_graph = {fork:{} for fork in forks}\n",
    "for r, c in forks:\n",
    "    q = deque()\n",
    "    q.append((r, c, set([(r, c),])))\n",
    "    while q:\n",
    "        row, col, path = q.pop()\n",
    "        if (row, col) != (r, c) and (row, col) in forks:\n",
    "            fork_graph[(r, c)][(row, col)] = len(path)-1\n",
    "            continue\n",
    "        ls = get_directions2(row, col, path)\n",
    "        for new_row, new_col in ls:\n",
    "            if len(ls) > 1:\n",
    "                new_path = path.copy()\n",
    "            else:\n",
    "                new_path = path\n",
    "            new_path.add((new_row, new_col))\n",
    "            q.appendleft((new_row, new_col, new_path))\n",
    "for i, (k, v) in enumerate(fork_graph.items()):\n",
    "    if i >= 10:\n",
    "        print('...')\n",
    "        print('...')\n",
    "        break\n",
    "    print(f'Fork {k} immediate neighbors and longest paths to: {v}')"
   ]
  },
  {
   "cell_type": "markdown",
   "id": "f6af2c42",
   "metadata": {},
   "source": [
    "Since we need to enumerate all paths in this graph, DFS and BFS both work. There is a difference in how we can keep track of the current path between the two. With BFS, (I think) we need to store the entire path for each path separately while we process them, but with DFS we can keep track of visited nodes globally by using backtracking. The problem with BFS requiring us to store each path is not just that we need to copy the entire previous path when we split our path, but simply the fact that we need to store all paths until they reach the end. This hits the limit of RAM on my machine which obviously slows the algorithm down to a crawl.\n",
    "\n",
    "So we cannot do a normal BFS. I still want to test how inefficient it is to need to copy the entire previous path whenever our path splits to two or more paths, so let's try a DFS with a stack implementation where we keep track of the entire paths like we would in BFS."
   ]
  },
  {
   "cell_type": "markdown",
   "id": "5ab95c23",
   "metadata": {},
   "source": [
    "DFS without recursion. Keep track of current path in a set. Requires copying the entire path every time we move forward."
   ]
  },
  {
   "cell_type": "code",
   "execution_count": 9,
   "id": "d43859d0",
   "metadata": {},
   "outputs": [],
   "source": [
    "import time"
   ]
  },
  {
   "cell_type": "code",
   "execution_count": 10,
   "id": "8d852b20",
   "metadata": {},
   "outputs": [
    {
     "name": "stdout",
     "output_type": "stream",
     "text": [
      "6630\n",
      "Runtime 31.1s\n"
     ]
    }
   ],
   "source": [
    "starttime = time.time()\n",
    "\n",
    "q = [(0, 1, set([(0, 1),]), 0)]\n",
    "res = 0\n",
    "while q:\n",
    "    row, col, path, d = q.pop()\n",
    "    if row == rows-1:\n",
    "        res = max(res, d)\n",
    "        continue\n",
    "    adj = fork_graph[(row, col)]\n",
    "    for (new_row, new_col), dist in adj.items():\n",
    "        if (new_row, new_col) in path:\n",
    "            continue\n",
    "        new_path = path.copy()\n",
    "        new_path.add((new_row, new_col))\n",
    "        q.append((new_row, new_col, new_path, d+dist))\n",
    "print(res)\n",
    "\n",
    "print(f'Runtime {time.time()-starttime:.1f}s')"
   ]
  },
  {
   "cell_type": "markdown",
   "id": "8f1bd700",
   "metadata": {},
   "source": [
    "DFS using recursion. Keep track of current path in a dictionary mapping visited forks to `True`. clear visited status with backtracking."
   ]
  },
  {
   "cell_type": "code",
   "execution_count": 11,
   "metadata": {},
   "outputs": [
    {
     "name": "stdout",
     "output_type": "stream",
     "text": [
      "6630\n",
      "Runtime 15.5s\n"
     ]
    }
   ],
   "source": [
    "starttime = time.time()\n",
    "\n",
    "forks_visited = {fork:False for fork in forks}\n",
    "forks_visited[(0, 1)] = True\n",
    "results = []\n",
    "def dfs(row, col, d):\n",
    "    global forks_visited, results\n",
    "    if row == rows-1:\n",
    "        results.append(d)\n",
    "        return\n",
    "    adj = fork_graph[(row, col)]\n",
    "    for (new_row, new_col), dist in adj.items():\n",
    "        if forks_visited[(new_row, new_col)]:\n",
    "            continue\n",
    "        forks_visited[(new_row, new_col)] = True\n",
    "        dfs(new_row, new_col, d+dist)\n",
    "        forks_visited[(new_row, new_col)] = False\n",
    "dfs(0, 1, 0)\n",
    "print(max(results))\n",
    "\n",
    "print(f'Runtime {time.time()-starttime:.1f}s')"
   ]
  },
  {
   "cell_type": "code",
   "execution_count": null,
   "id": "e094c227",
   "metadata": {},
   "outputs": [],
   "source": []
  }
 ],
 "metadata": {
  "kernelspec": {
   "display_name": "Python 3 (ipykernel)",
   "language": "python",
   "name": "python3"
  },
  "language_info": {
   "codemirror_mode": {
    "name": "ipython",
    "version": 3
   },
   "file_extension": ".py",
   "mimetype": "text/x-python",
   "name": "python",
   "nbconvert_exporter": "python",
   "pygments_lexer": "ipython3",
   "version": "3.10.12"
  }
 },
 "nbformat": 4,
 "nbformat_minor": 5
}

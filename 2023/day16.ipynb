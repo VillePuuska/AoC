{
 "cells": [
  {
   "cell_type": "code",
   "execution_count": 1,
   "metadata": {},
   "outputs": [],
   "source": [
    "grid = []\n",
    "\n",
    "with open(\"./data/day16.txt\") as f:\n",
    "    while line := f.readline():\n",
    "        line = line.rstrip()\n",
    "        grid.append(list(line))"
   ]
  },
  {
   "cell_type": "code",
   "execution_count": 2,
   "id": "0cf38943",
   "metadata": {},
   "outputs": [
    {
     "data": {
      "text/plain": [
       "(110, 110)"
      ]
     },
     "execution_count": 2,
     "metadata": {},
     "output_type": "execute_result"
    }
   ],
   "source": [
    "len(grid), len(grid[0])"
   ]
  },
  {
   "cell_type": "code",
   "execution_count": 3,
   "id": "2fc4b72c",
   "metadata": {},
   "outputs": [],
   "source": [
    "from collections import deque"
   ]
  },
  {
   "cell_type": "code",
   "execution_count": 4,
   "id": "071fa13a",
   "metadata": {},
   "outputs": [],
   "source": [
    "q = deque()\n",
    "visited = set()\n",
    "q.append((0, -1, 'r'))\n",
    "\n",
    "delta = {'r':(0, 1), 'l':(0, -1), 'u':(-1, 0), 'd':(1, 0)}\n",
    "\n",
    "while q:\n",
    "    row, col, direction = q.pop()\n",
    "    if (row, col, direction) in visited:\n",
    "        continue\n",
    "    visited.add((row, col, direction))\n",
    "    new_row, new_col = row+delta[direction][0], col+delta[direction][1]\n",
    "    #print(row, col, direction, new_row, new_col)\n",
    "    if new_row < 0 or new_row >= len(grid) or new_col < 0 or new_col >= len(grid[0]):\n",
    "        continue\n",
    "    if grid[new_row][new_col] == '.':\n",
    "        q.append((new_row, new_col, direction))\n",
    "        continue\n",
    "    if grid[new_row][new_col] == '|':\n",
    "        if direction == 'u' or direction == 'd':\n",
    "            q.append((new_row, new_col, direction))\n",
    "            continue\n",
    "        q.append((new_row, new_col, 'u'))\n",
    "        q.append((new_row, new_col, 'd'))\n",
    "        continue\n",
    "    if grid[new_row][new_col] == '-':\n",
    "        if direction == 'l' or direction == 'r':\n",
    "            q.append((new_row, new_col, direction))\n",
    "            continue\n",
    "        q.append((new_row, new_col, 'l'))\n",
    "        q.append((new_row, new_col, 'r'))\n",
    "        continue\n",
    "    if grid[new_row][new_col] == '/':\n",
    "        if direction == 'l':\n",
    "            q.append((new_row, new_col, 'd'))\n",
    "            continue\n",
    "        if direction == 'r':\n",
    "            q.append((new_row, new_col, 'u'))\n",
    "            continue\n",
    "        if direction == 'u':\n",
    "            q.append((new_row, new_col, 'r'))\n",
    "            continue\n",
    "        q.append((new_row, new_col, 'l'))\n",
    "        continue\n",
    "    # remaining case '\\'\n",
    "    if direction == 'l':\n",
    "        q.append((new_row, new_col, 'u'))\n",
    "        continue\n",
    "    if direction == 'r':\n",
    "        q.append((new_row, new_col, 'd'))\n",
    "        continue\n",
    "    if direction == 'u':\n",
    "        q.append((new_row, new_col, 'l'))\n",
    "        continue\n",
    "    q.append((new_row, new_col, 'r'))"
   ]
  },
  {
   "cell_type": "code",
   "execution_count": 5,
   "id": "8aba185c",
   "metadata": {},
   "outputs": [
    {
     "data": {
      "text/plain": [
       "6514"
      ]
     },
     "execution_count": 5,
     "metadata": {},
     "output_type": "execute_result"
    }
   ],
   "source": [
    "res = set()\n",
    "for a, b, _ in visited:\n",
    "    res.add((a, b))\n",
    "len(res)-1"
   ]
  },
  {
   "cell_type": "code",
   "execution_count": 6,
   "id": "ef0c1044",
   "metadata": {},
   "outputs": [
    {
     "data": {
      "text/plain": [
       "True"
      ]
     },
     "execution_count": 6,
     "metadata": {},
     "output_type": "execute_result"
    }
   ],
   "source": [
    "(0, -1) in res"
   ]
  },
  {
   "cell_type": "code",
   "execution_count": 7,
   "id": "db663da5",
   "metadata": {},
   "outputs": [],
   "source": [
    "def run_dfs(start):\n",
    "    q = deque()\n",
    "    visited = set()\n",
    "    q.append(start)\n",
    "\n",
    "    while q:\n",
    "        row, col, direction = q.pop()\n",
    "        if (row, col, direction) in visited:\n",
    "            continue\n",
    "        visited.add((row, col, direction))\n",
    "        new_row, new_col = row+delta[direction][0], col+delta[direction][1]\n",
    "        #print(row, col, direction, new_row, new_col)\n",
    "        if new_row < 0 or new_row >= len(grid) or new_col < 0 or new_col >= len(grid[0]):\n",
    "            continue\n",
    "        if grid[new_row][new_col] == '.':\n",
    "            q.append((new_row, new_col, direction))\n",
    "            continue\n",
    "        if grid[new_row][new_col] == '|':\n",
    "            if direction == 'u' or direction == 'd':\n",
    "                q.append((new_row, new_col, direction))\n",
    "                continue\n",
    "            q.append((new_row, new_col, 'u'))\n",
    "            q.append((new_row, new_col, 'd'))\n",
    "            continue\n",
    "        if grid[new_row][new_col] == '-':\n",
    "            if direction == 'l' or direction == 'r':\n",
    "                q.append((new_row, new_col, direction))\n",
    "                continue\n",
    "            q.append((new_row, new_col, 'l'))\n",
    "            q.append((new_row, new_col, 'r'))\n",
    "            continue\n",
    "        if grid[new_row][new_col] == '/':\n",
    "            if direction == 'l':\n",
    "                q.append((new_row, new_col, 'd'))\n",
    "                continue\n",
    "            if direction == 'r':\n",
    "                q.append((new_row, new_col, 'u'))\n",
    "                continue\n",
    "            if direction == 'u':\n",
    "                q.append((new_row, new_col, 'r'))\n",
    "                continue\n",
    "            q.append((new_row, new_col, 'l'))\n",
    "            continue\n",
    "        # remaining case '\\'\n",
    "        if direction == 'l':\n",
    "            q.append((new_row, new_col, 'u'))\n",
    "            continue\n",
    "        if direction == 'r':\n",
    "            q.append((new_row, new_col, 'd'))\n",
    "            continue\n",
    "        if direction == 'u':\n",
    "            q.append((new_row, new_col, 'l'))\n",
    "            continue\n",
    "        q.append((new_row, new_col, 'r'))\n",
    "    \n",
    "    res = set()\n",
    "    for a, b, _ in visited:\n",
    "        res.add((a, b))\n",
    "    return(len(res)-1)"
   ]
  },
  {
   "cell_type": "code",
   "execution_count": 8,
   "id": "d95a436e",
   "metadata": {},
   "outputs": [
    {
     "data": {
      "text/plain": [
       "8089"
      ]
     },
     "execution_count": 8,
     "metadata": {},
     "output_type": "execute_result"
    }
   ],
   "source": [
    "results = []\n",
    "\n",
    "# left to right\n",
    "for i in range(len(grid[0])):\n",
    "    results.append(run_dfs((i, -1, 'r')))\n",
    "\n",
    "# right to left\n",
    "for i in range(len(grid[0])):\n",
    "    results.append(run_dfs((i, len(grid[0]), 'l')))\n",
    "\n",
    "# top to bottom\n",
    "for i in range(len(grid)):\n",
    "    results.append(run_dfs((-1, i, 'd')))\n",
    "\n",
    "# bottom to top\n",
    "for i in range(len(grid)):\n",
    "    results.append(run_dfs((len(grid), i, 'u')))\n",
    "\n",
    "max(results)"
   ]
  }
 ],
 "metadata": {
  "kernelspec": {
   "display_name": "Python 3 (ipykernel)",
   "language": "python",
   "name": "python3"
  },
  "language_info": {
   "codemirror_mode": {
    "name": "ipython",
    "version": 3
   },
   "file_extension": ".py",
   "mimetype": "text/x-python",
   "name": "python",
   "nbconvert_exporter": "python",
   "pygments_lexer": "ipython3",
   "version": "3.10.12"
  }
 },
 "nbformat": 4,
 "nbformat_minor": 5
}

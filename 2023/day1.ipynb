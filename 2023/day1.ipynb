{
 "cells": [
  {
   "cell_type": "code",
   "execution_count": 1,
   "metadata": {},
   "outputs": [],
   "source": [
    "lines = []\n",
    "with open(\"./data/day1.txt\") as f:\n",
    "    while line := f.readline():\n",
    "        lines.append(line.rstrip())"
   ]
  },
  {
   "cell_type": "code",
   "execution_count": 2,
   "metadata": {},
   "outputs": [],
   "source": [
    "first, last = [], []\n",
    "for line in lines:\n",
    "    for c in line:\n",
    "        if c.isdigit():\n",
    "            first.append(int(c))\n",
    "            break\n",
    "    for c in line[::-1]:\n",
    "        if c.isdigit():\n",
    "            last.append(int(c))\n",
    "            break"
   ]
  },
  {
   "cell_type": "code",
   "execution_count": 3,
   "metadata": {},
   "outputs": [
    {
     "data": {
      "text/plain": [
       "54927"
      ]
     },
     "execution_count": 3,
     "metadata": {},
     "output_type": "execute_result"
    }
   ],
   "source": [
    "10*sum(first)+sum(last)"
   ]
  },
  {
   "cell_type": "code",
   "execution_count": 20,
   "metadata": {},
   "outputs": [],
   "source": [
    "number_strings = {'zero':0, 'one':1, 'two':2, 'three':3, 'four':4, 'five':5, 'six':6, 'seven':7, 'eight':8, 'nine':9}\n",
    "first, last = [], []\n",
    "for line in lines:\n",
    "    flag = False\n",
    "    for i in range(len(line)):\n",
    "        if line[i].isdigit():\n",
    "            first.append(int(line[i]))\n",
    "            break\n",
    "        for k, v in number_strings.items():\n",
    "            if line[i:].startswith(k):\n",
    "                first.append(v)\n",
    "                flag = True\n",
    "                break\n",
    "        if flag:\n",
    "            break\n",
    "    flag = False\n",
    "    for i in range(len(line)-1, -1, -1):\n",
    "        if line[i].isdigit():\n",
    "            last.append(int(line[i]))\n",
    "            break\n",
    "        for k, v in number_strings.items():\n",
    "            if line[:i+1].endswith(k):\n",
    "                last.append(v)\n",
    "                flag = True\n",
    "                break\n",
    "        if flag:\n",
    "            break"
   ]
  },
  {
   "cell_type": "code",
   "execution_count": 21,
   "metadata": {},
   "outputs": [
    {
     "data": {
      "text/plain": [
       "54581"
      ]
     },
     "execution_count": 21,
     "metadata": {},
     "output_type": "execute_result"
    }
   ],
   "source": [
    "10*sum(first)+sum(last)"
   ]
  },
  {
   "cell_type": "code",
   "execution_count": 22,
   "metadata": {},
   "outputs": [
    {
     "data": {
      "text/plain": [
       "['14gxqgqsqqbxfpxnbccjc33eight',\n",
       " 'eight2sevenkl',\n",
       " 'mrjstg5onetwoeightgcczx8vgrgl',\n",
       " '9246',\n",
       " 'ninetwo2crrqk2grsctqxqbcrmrdsqbrz9eight',\n",
       " 'five6dlhx1',\n",
       " '29qhsdqqtgrk4',\n",
       " 'mjgtrjnlttxjlsixsix5',\n",
       " 'bgnnvfsnbpx29vsjrlmgmsqthreeqxvclkhlv',\n",
       " 'sevennine3gsmxncqlqvfktxrtcone']"
      ]
     },
     "execution_count": 22,
     "metadata": {},
     "output_type": "execute_result"
    }
   ],
   "source": [
    "lines[:10]"
   ]
  },
  {
   "cell_type": "code",
   "execution_count": 23,
   "metadata": {},
   "outputs": [
    {
     "data": {
      "text/plain": [
       "[1, 8, 5, 9, 9, 5, 2, 6, 2, 7]"
      ]
     },
     "execution_count": 23,
     "metadata": {},
     "output_type": "execute_result"
    }
   ],
   "source": [
    "first[:10]"
   ]
  },
  {
   "cell_type": "code",
   "execution_count": 24,
   "metadata": {},
   "outputs": [
    {
     "data": {
      "text/plain": [
       "[8, 7, 8, 6, 8, 1, 4, 5, 3, 1]"
      ]
     },
     "execution_count": 24,
     "metadata": {},
     "output_type": "execute_result"
    }
   ],
   "source": [
    "last[:10]"
   ]
  },
  {
   "cell_type": "code",
   "execution_count": null,
   "metadata": {},
   "outputs": [],
   "source": []
  }
 ],
 "metadata": {
  "kernelspec": {
   "display_name": "Python 3 (ipykernel)",
   "language": "python",
   "name": "python3"
  },
  "language_info": {
   "codemirror_mode": {
    "name": "ipython",
    "version": 3
   },
   "file_extension": ".py",
   "mimetype": "text/x-python",
   "name": "python",
   "nbconvert_exporter": "python",
   "pygments_lexer": "ipython3",
   "version": "3.10.12"
  }
 },
 "nbformat": 4,
 "nbformat_minor": 5
}

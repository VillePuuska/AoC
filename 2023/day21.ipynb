{
 "cells": [
  {
   "cell_type": "code",
   "execution_count": 1,
   "metadata": {},
   "outputs": [],
   "source": [
    "grid = []\n",
    "\n",
    "with open(\"./data/day21.txt\") as f:\n",
    "    while line := f.readline():\n",
    "        line = line.rstrip()\n",
    "        grid.append(list(line))"
   ]
  },
  {
   "cell_type": "code",
   "execution_count": 2,
   "id": "bcbad9b3",
   "metadata": {},
   "outputs": [
    {
     "data": {
      "text/plain": [
       "(131, 131, (65, 65))"
      ]
     },
     "execution_count": 2,
     "metadata": {},
     "output_type": "execute_result"
    }
   ],
   "source": [
    "start = None\n",
    "rows, cols = len(grid), len(grid[0])\n",
    "for row in range(rows):\n",
    "    for col in range(cols):\n",
    "        if grid[row][col] == 'S':\n",
    "            start = (row, col)\n",
    "            break\n",
    "    if start is not None:\n",
    "        break\n",
    "rows, cols, start"
   ]
  },
  {
   "cell_type": "code",
   "execution_count": 3,
   "id": "0bccb910",
   "metadata": {},
   "outputs": [
    {
     "data": {
      "text/plain": [
       "3814"
      ]
     },
     "execution_count": 3,
     "metadata": {},
     "output_type": "execute_result"
    }
   ],
   "source": [
    "q = set((start,))\n",
    "for _ in range(64):\n",
    "    next_q = set()\n",
    "    for (row, col) in q:\n",
    "        for i, j in [[0, 1], [0, -1], [1, 0], [-1, 0]]:\n",
    "            if row+i in range(rows) and col+j in range(cols) and grid[row+i][col+j] != '#':\n",
    "                next_q.add((row+i, col+j))\n",
    "    q = next_q\n",
    "len(q)"
   ]
  },
  {
   "cell_type": "markdown",
   "id": "ab798571",
   "metadata": {},
   "source": [
    "# What on god's green earth in part 2?\n",
    "\n",
    "Time for some manual checking. Let's start by printing some counts and see what kind of functions we get. Wolfram Alpha to the rescue."
   ]
  },
  {
   "cell_type": "code",
   "execution_count": 4,
   "id": "b24002b3",
   "metadata": {},
   "outputs": [
    {
     "data": {
      "text/plain": [
       "(11, 11, (5, 5))"
      ]
     },
     "execution_count": 4,
     "metadata": {},
     "output_type": "execute_result"
    }
   ],
   "source": [
    "grid = []\n",
    "\n",
    "with open(\"./data/day21_ex.txt\") as f:\n",
    "    while line := f.readline():\n",
    "        line = line.rstrip()\n",
    "        grid.append(list(line))\n",
    "\n",
    "start = None\n",
    "rows, cols = len(grid), len(grid[0])\n",
    "for row in range(rows):\n",
    "    for col in range(cols):\n",
    "        if grid[row][col] == 'S':\n",
    "            start = (row, col)\n",
    "            break\n",
    "    if start is not None:\n",
    "        break\n",
    "rows, cols, start"
   ]
  },
  {
   "cell_type": "code",
   "execution_count": 5,
   "id": "e37b1a56",
   "metadata": {},
   "outputs": [
    {
     "name": "stdout",
     "output_type": "stream",
     "text": [
      "[1, 2, 4, 6, 9, 13, 16, 22, 30, 41, 50, 63, 74, 89, 99, 115, 129, 145, 165, 192, 216, 234, 261, 294, 326, 353, 395, 427, 460, 491, 537, 574, 605, 644, 689, 740, 784, 846, 894, 944, 989, 1053, 1107, 1146, 1196, 1256, 1324, 1383, 1464, 1528, 1594, 1653, 1735, 1805, 1853, 1914, 1988, 2072, 2145, 2244, 2324, 2406, 2479, 2579, 2665, 2722, 2794, 2882, 2982, 3069, 3186, 3282, 3380, 3467, 3585, 3687, 3753, 3836, 3938, 4054, 4155, 4290, 4402, 4516, 4617, 4753, 4871, 4946, 5040, 5156, 5288, 5403, 5556, 5684, 5814, 5929, 6083, 6217, 6301, 6406]\n",
      "[1, 2, 2, 3, 4, 3, 6, 8, 11, 9, 13, 11, 15, 10, 16, 14, 16, 20, 27, 24, 18, 27, 33, 32, 27, 42, 32, 33, 31, 46, 37, 31, 39, 45, 51, 44, 62, 48, 50, 45, 64, 54, 39, 50, 60, 68, 59, 81, 64, 66, 59, 82, 70, 48, 61, 74, 84, 73, 99, 80, 82, 73, 100, 86, 57, 72, 88, 100, 87, 117, 96, 98, 87, 118, 102, 66, 83, 102, 116, 101, 135, 112, 114, 101, 136, 118, 75, 94, 116, 132, 115, 153, 128, 130, 115, 154, 134, 84, 105]\n"
     ]
    }
   ],
   "source": [
    "ls = []\n",
    "q = set((start,))\n",
    "for n in range(100):\n",
    "    ls.append(len(q))\n",
    "    next_q = set()\n",
    "    for (row, col) in q:\n",
    "        for i, j in [[0, 1], [0, -1], [1, 0], [-1, 0]]:\n",
    "            new_row, new_col = (row+i)%rows, (col+j)%cols\n",
    "            if grid[new_row][new_col] != '#':\n",
    "                next_q.add((row+i, col+j))\n",
    "    q = next_q\n",
    "print(ls)\n",
    "print([ls[i+1]-ls[i] for i in range(len(ls)-1)])"
   ]
  },
  {
   "cell_type": "code",
   "execution_count": 6,
   "id": "260e1752",
   "metadata": {},
   "outputs": [
    {
     "name": "stdout",
     "output_type": "stream",
     "text": [
      "[1, 4, 9, 16, 30, 50, 74, 99, 129, 165, 216, 261, 326, 395, 460, 537, 605, 689, 784, 894, 989, 1107, 1196, 1324, 1464, 1594, 1735, 1853, 1988, 2145, 2324, 2479, 2665, 2794, 2982, 3186, 3380, 3585, 3753, 3938, 4155, 4402, 4617, 4871, 5040, 5288, 5556, 5814, 6083, 6301]\n",
      "[3, 5, 7, 14, 20, 24, 25, 30, 36, 51, 45, 65, 69, 65, 77, 68, 84, 95, 110, 95, 118, 89, 128, 140, 130, 141, 118, 135, 157, 179, 155, 186, 129, 188, 204, 194, 205, 168, 185, 217, 247, 215, 254, 169, 248, 268, 258, 269, 218]\n",
      "\n",
      "[2, 6, 13, 22, 41, 63, 89, 115, 145, 192, 234, 294, 353, 427, 491, 574, 644, 740, 846, 944, 1053, 1146, 1256, 1383, 1528, 1653, 1805, 1914, 2072, 2244, 2406, 2579, 2722, 2882, 3069, 3282, 3467, 3687, 3836, 4054, 4290, 4516, 4753, 4946, 5156, 5403, 5684, 5929, 6217, 6406]\n",
      "[4, 7, 9, 19, 22, 26, 26, 30, 47, 42, 60, 59, 74, 64, 83, 70, 96, 106, 98, 109, 93, 110, 127, 145, 125, 152, 109, 158, 172, 162, 173, 143, 160, 187, 213, 185, 220, 149, 218, 236, 226, 237, 193, 210, 247, 281, 245, 288, 189]\n"
     ]
    }
   ],
   "source": [
    "ls = [[], []]\n",
    "q = set((start,))\n",
    "for n in range(100):\n",
    "    ls[n%2].append(len(q))\n",
    "    next_q = set()\n",
    "    for (row, col) in q:\n",
    "        for i, j in [[0, 1], [0, -1], [1, 0], [-1, 0]]:\n",
    "            new_row, new_col = (row+i)%rows, (col+j)%cols\n",
    "            if grid[new_row][new_col] != '#':\n",
    "                next_q.add((row+i, col+j))\n",
    "    q = next_q\n",
    "print(ls[0])\n",
    "print([ls[0][i+1]-ls[0][i] for i in range(len(ls[0])-1)])\n",
    "print()\n",
    "print(ls[1])\n",
    "print([ls[1][i+1]-ls[1][i] for i in range(len(ls[1])-1)])"
   ]
  },
  {
   "cell_type": "markdown",
   "id": "0f7e2564",
   "metadata": {},
   "source": [
    "The growth kind of looks quadratic with wiggling.\n",
    "\n",
    "Thinking about this more, since the outer rows and columns are clear of rocks, the reachable plots should eventually have diamond-shaped symmetry every `rows*2` steps, or maybe even every `rows` steps. This might lead to an exact quadratic formula for the sequence of reachable plots every `rows*2` (or maybe every `rows`) steps.\n",
    "\n",
    "Let's try this out with the example input."
   ]
  },
  {
   "cell_type": "code",
   "execution_count": 7,
   "id": "b014a9e8",
   "metadata": {},
   "outputs": [
    {
     "name": "stdout",
     "output_type": "stream",
     "text": [
      "[7934, 11476, 15666, 20504, 25990, 32124, 38906, 46336, 54414, 63140, 72514, 82536, 93206, 104524, 116490, 129104, 142366, 156276]\n"
     ]
    }
   ],
   "source": [
    "target = 500\n",
    "\n",
    "odds = set()\n",
    "evens = set()\n",
    "evens.add(start)\n",
    "\n",
    "ls = []\n",
    "\n",
    "q = set((start,))\n",
    "for n in range(target):\n",
    "    if n%(2*rows) == 0:\n",
    "        ls.append(len(evens) if n%2 == 0 else len(odds))\n",
    "    next_q = set()\n",
    "    for (row, col) in q:\n",
    "        for i, j in [[0, 1], [0, -1], [1, 0], [-1, 0]]:\n",
    "            if n%2 == 0 and (row+i, col+j) in odds:\n",
    "                continue\n",
    "            if n%2 != 0 and (row+i, col+j) in evens:\n",
    "                continue\n",
    "            new_row, new_col = (row+i)%rows, (col+j)%cols\n",
    "            if grid[new_row][new_col] != '#':\n",
    "                next_q.add((row+i, col+j))\n",
    "                if n%2 == 0:\n",
    "                    odds.add((row+i, col+j))\n",
    "                else:\n",
    "                    evens.add((row+i, col+j))\n",
    "    q = next_q\n",
    "print(ls[5:]) # discard some early values since there might be noise at first"
   ]
  },
  {
   "cell_type": "markdown",
   "id": "d18254e1",
   "metadata": {},
   "source": [
    "Yes. This is an exact quadratic function. At least these values fit perfectly. Let's see if taking values every `rows` steps is good enough."
   ]
  },
  {
   "cell_type": "code",
   "execution_count": 8,
   "id": "d0d2e756",
   "metadata": {},
   "outputs": [
    {
     "name": "stdout",
     "output_type": "stream",
     "text": [
      "[1914, 2794, 3836, 5040, 6406, 7934, 9624, 11476, 13490, 15666, 18004, 20504, 23166, 25990, 28976, 32124, 35434, 38906, 42540, 46336, 50294, 54414, 58696, 63140, 67746, 72514, 77444, 82536, 87790, 93206, 98784, 104524, 110426, 116490, 122716, 129104, 135654, 142366, 149240, 156276, 163474]\n"
     ]
    }
   ],
   "source": [
    "target = 500\n",
    "\n",
    "odds = set()\n",
    "evens = set()\n",
    "evens.add(start)\n",
    "\n",
    "ls = []\n",
    "\n",
    "q = set((start,))\n",
    "for n in range(target):\n",
    "    if n%rows == 0:\n",
    "        ls.append(len(evens) if n%2 == 0 else len(odds))\n",
    "    next_q = set()\n",
    "    for (row, col) in q:\n",
    "        for i, j in [[0, 1], [0, -1], [1, 0], [-1, 0]]:\n",
    "            if n%2 == 0 and (row+i, col+j) in odds:\n",
    "                continue\n",
    "            if n%2 != 0 and (row+i, col+j) in evens:\n",
    "                continue\n",
    "            new_row, new_col = (row+i)%rows, (col+j)%cols\n",
    "            if grid[new_row][new_col] != '#':\n",
    "                next_q.add((row+i, col+j))\n",
    "                if n%2 == 0:\n",
    "                    odds.add((row+i, col+j))\n",
    "                else:\n",
    "                    evens.add((row+i, col+j))\n",
    "    q = next_q\n",
    "print(ls[5:]) # discard some early values since there might be noise at first"
   ]
  },
  {
   "cell_type": "markdown",
   "id": "08e189b1",
   "metadata": {},
   "source": [
    "Still perfectly quadratic. Let's see what the actual quadratic should be to compute the answer for `5000` steps in the example."
   ]
  },
  {
   "cell_type": "code",
   "execution_count": 9,
   "id": "ab4b5875",
   "metadata": {},
   "outputs": [
    {
     "name": "stdout",
     "output_type": "stream",
     "text": [
      "[2406, 3380, 4516, 5814, 7274, 8896, 10680, 12626, 14734, 17004, 19436, 22030, 24786]\n"
     ]
    }
   ],
   "source": [
    "target = 200\n",
    "\n",
    "odds = set()\n",
    "evens = set()\n",
    "evens.add(start)\n",
    "\n",
    "ls = []\n",
    "\n",
    "q = set((start,))\n",
    "for n in range(target):\n",
    "    if n%rows == 5000%rows:\n",
    "        ls.append(len(evens) if n%2 == 0 else len(odds))\n",
    "    next_q = set()\n",
    "    for (row, col) in q:\n",
    "        for i, j in [[0, 1], [0, -1], [1, 0], [-1, 0]]:\n",
    "            if n%2 == 0 and (row+i, col+j) in odds:\n",
    "                continue\n",
    "            if n%2 != 0 and (row+i, col+j) in evens:\n",
    "                continue\n",
    "            new_row, new_col = (row+i)%rows, (col+j)%cols\n",
    "            if grid[new_row][new_col] != '#':\n",
    "                next_q.add((row+i, col+j))\n",
    "                if n%2 == 0:\n",
    "                    odds.add((row+i, col+j))\n",
    "                else:\n",
    "                    evens.add((row+i, col+j))\n",
    "    q = next_q\n",
    "print(ls[5:]) # discard some early values since there might be noise at first"
   ]
  },
  {
   "cell_type": "markdown",
   "id": "1686f88d",
   "metadata": {},
   "source": [
    "According to Wolfram Alpha, the polynomial is `81x^2 + 731x + 1594`. Although we need to remember that this polynomial is shifted by `4`."
   ]
  },
  {
   "cell_type": "code",
   "execution_count": 10,
   "id": "0d74a8b5",
   "metadata": {},
   "outputs": [
    {
     "data": {
      "text/plain": [
       "16733044"
      ]
     },
     "execution_count": 10,
     "metadata": {},
     "output_type": "execute_result"
    }
   ],
   "source": [
    "def f(x):\n",
    "    return 81*x**2 + 731*x + 1594\n",
    "\n",
    "f((5000//rows)-4)"
   ]
  },
  {
   "cell_type": "markdown",
   "id": "21b74660",
   "metadata": {},
   "source": [
    "This is the right answer! Time to apply this logic to the real input."
   ]
  },
  {
   "cell_type": "code",
   "execution_count": 11,
   "id": "5d4ef60e",
   "metadata": {},
   "outputs": [
    {
     "data": {
      "text/plain": [
       "(131, 131, (65, 65))"
      ]
     },
     "execution_count": 11,
     "metadata": {},
     "output_type": "execute_result"
    }
   ],
   "source": [
    "grid = []\n",
    "\n",
    "with open(\"./data/day21.txt\") as f:\n",
    "    while line := f.readline():\n",
    "        line = line.rstrip()\n",
    "        grid.append(list(line))\n",
    "\n",
    "start = None\n",
    "rows, cols = len(grid), len(grid[0])\n",
    "for row in range(rows):\n",
    "    for col in range(cols):\n",
    "        if grid[row][col] == 'S':\n",
    "            start = (row, col)\n",
    "            break\n",
    "    if start is not None:\n",
    "        break\n",
    "rows, cols, start"
   ]
  },
  {
   "cell_type": "code",
   "execution_count": 12,
   "id": "f657eb63",
   "metadata": {},
   "outputs": [
    {
     "name": "stdout",
     "output_type": "stream",
     "text": [
      "[96784, 189570, 313254, 467836, 653316, 869694]\n"
     ]
    }
   ],
   "source": [
    "target = 1000\n",
    "\n",
    "odds = set()\n",
    "evens = set()\n",
    "evens.add(start)\n",
    "\n",
    "ls = []\n",
    "\n",
    "q = set((start,))\n",
    "for n in range(target):\n",
    "    if n%rows == 26501365%rows:\n",
    "        ls.append(len(evens) if n%2 == 0 else len(odds))\n",
    "    next_q = set()\n",
    "    for (row, col) in q:\n",
    "        for i, j in [[0, 1], [0, -1], [1, 0], [-1, 0]]:\n",
    "            if n%2 == 0 and (row+i, col+j) in odds:\n",
    "                continue\n",
    "            if n%2 != 0 and (row+i, col+j) in evens:\n",
    "                continue\n",
    "            new_row, new_col = (row+i)%rows, (col+j)%cols\n",
    "            if grid[new_row][new_col] != '#':\n",
    "                next_q.add((row+i, col+j))\n",
    "                if n%2 == 0:\n",
    "                    odds.add((row+i, col+j))\n",
    "                else:\n",
    "                    evens.add((row+i, col+j))\n",
    "    q = next_q\n",
    "print(ls[2:]) # let's discard a less values since computation is more expensive with the real input"
   ]
  },
  {
   "cell_type": "markdown",
   "id": "ba2ce005",
   "metadata": {},
   "source": [
    "Wolfram Alpha gives us the polynomial `15449x^2 + 46439x + 34896`. Note that this time this is shifted by `1`."
   ]
  },
  {
   "cell_type": "code",
   "execution_count": 13,
   "id": "36a75922",
   "metadata": {},
   "outputs": [
    {
     "data": {
      "text/plain": [
       "632257949158206"
      ]
     },
     "execution_count": 13,
     "metadata": {},
     "output_type": "execute_result"
    }
   ],
   "source": [
    "def f(x):\n",
    "    return 15449*x**2 + 46439*x + 34896\n",
    "\n",
    "f((26501365//rows)-1)"
   ]
  },
  {
   "cell_type": "markdown",
   "id": "e3531190",
   "metadata": {},
   "source": [
    "And that seems to be the right answer. Phew."
   ]
  },
  {
   "cell_type": "markdown",
   "id": "f0368436",
   "metadata": {},
   "source": []
  }
 ],
 "metadata": {
  "kernelspec": {
   "display_name": "Python 3 (ipykernel)",
   "language": "python",
   "name": "python3"
  },
  "language_info": {
   "codemirror_mode": {
    "name": "ipython",
    "version": 3
   },
   "file_extension": ".py",
   "mimetype": "text/x-python",
   "name": "python",
   "nbconvert_exporter": "python",
   "pygments_lexer": "ipython3",
   "version": "3.10.12"
  }
 },
 "nbformat": 4,
 "nbformat_minor": 5
}

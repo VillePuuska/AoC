{
 "cells": [
  {
   "cell_type": "code",
   "execution_count": 1,
   "metadata": {},
   "outputs": [],
   "source": [
    "expand_rows = set(range(140))\n",
    "expand_cols = set(range(140))\n",
    "galaxies = set()\n",
    "\n",
    "with open(\"./data/day11.txt\") as f:\n",
    "    row = 0\n",
    "    while line := f.readline():\n",
    "        line = line.rstrip()\n",
    "        for col, c in enumerate(line):\n",
    "            if c == '#':\n",
    "                expand_rows.discard(row)\n",
    "                expand_cols.discard(col)\n",
    "                galaxies.add((row, col))\n",
    "        row += 1"
   ]
  },
  {
   "cell_type": "code",
   "execution_count": 2,
   "id": "4ddee9d8",
   "metadata": {},
   "outputs": [
    {
     "data": {
      "text/plain": [
       "(433, 10, 5)"
      ]
     },
     "execution_count": 2,
     "metadata": {},
     "output_type": "execute_result"
    }
   ],
   "source": [
    "len(galaxies), len(expand_rows), len(expand_cols)"
   ]
  },
  {
   "cell_type": "code",
   "execution_count": 3,
   "id": "7fda7f66",
   "metadata": {},
   "outputs": [],
   "source": [
    "expanded_galaxies = set()\n",
    "for row, col in galaxies:\n",
    "    row_exp, col_exp = 0, 0\n",
    "    for r in expand_rows:\n",
    "        row_exp += (r < row)\n",
    "    for c in expand_cols:\n",
    "        col_exp += (c < col)\n",
    "    expanded_galaxies.add((row+row_exp, col+col_exp))"
   ]
  },
  {
   "cell_type": "code",
   "execution_count": 4,
   "id": "a388fdb9",
   "metadata": {},
   "outputs": [
    {
     "data": {
      "text/plain": [
       "433"
      ]
     },
     "execution_count": 4,
     "metadata": {},
     "output_type": "execute_result"
    }
   ],
   "source": [
    "len(expanded_galaxies)"
   ]
  },
  {
   "cell_type": "code",
   "execution_count": 5,
   "id": "fc1c4733",
   "metadata": {},
   "outputs": [],
   "source": [
    "def dist(x, y):\n",
    "    return abs(x[0]-y[0])+abs(x[1]-y[1])"
   ]
  },
  {
   "cell_type": "code",
   "execution_count": 6,
   "id": "d3ade62e",
   "metadata": {},
   "outputs": [
    {
     "data": {
      "text/plain": [
       "9521776"
      ]
     },
     "execution_count": 6,
     "metadata": {},
     "output_type": "execute_result"
    }
   ],
   "source": [
    "list_galaxies = list(expanded_galaxies)\n",
    "m = 0\n",
    "for i in range(len(list_galaxies)):\n",
    "    for j in range(i+1, len(list_galaxies)):\n",
    "        m += dist(list_galaxies[i], list_galaxies[j])\n",
    "m"
   ]
  },
  {
   "cell_type": "code",
   "execution_count": 7,
   "id": "e182ee61",
   "metadata": {},
   "outputs": [],
   "source": [
    "expansion = 1000000\n",
    "expanded_galaxies = set()\n",
    "for row, col in galaxies:\n",
    "    row_exp, col_exp = 0, 0\n",
    "    for r in expand_rows:\n",
    "        row_exp += (r < row)*(expansion-1)\n",
    "    for c in expand_cols:\n",
    "        col_exp += (c < col)*(expansion-1)\n",
    "    expanded_galaxies.add((row+row_exp, col+col_exp))"
   ]
  },
  {
   "cell_type": "code",
   "execution_count": 8,
   "id": "6ee18ab2",
   "metadata": {},
   "outputs": [
    {
     "data": {
      "text/plain": [
       "553224415344"
      ]
     },
     "execution_count": 8,
     "metadata": {},
     "output_type": "execute_result"
    }
   ],
   "source": [
    "list_galaxies = list(expanded_galaxies)\n",
    "m = 0\n",
    "for i in range(len(list_galaxies)):\n",
    "    for j in range(i+1, len(list_galaxies)):\n",
    "        m += dist(list_galaxies[i], list_galaxies[j])\n",
    "m"
   ]
  },
  {
   "cell_type": "code",
   "execution_count": null,
   "metadata": {},
   "outputs": [],
   "source": []
  }
 ],
 "metadata": {
  "kernelspec": {
   "display_name": "Python 3 (ipykernel)",
   "language": "python",
   "name": "python3"
  },
  "language_info": {
   "codemirror_mode": {
    "name": "ipython",
    "version": 3
   },
   "file_extension": ".py",
   "mimetype": "text/x-python",
   "name": "python",
   "nbconvert_exporter": "python",
   "pygments_lexer": "ipython3",
   "version": "3.10.12"
  }
 },
 "nbformat": 4,
 "nbformat_minor": 5
}

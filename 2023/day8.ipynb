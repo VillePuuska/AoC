{
 "cells": [
  {
   "cell_type": "code",
   "execution_count": 1,
   "metadata": {},
   "outputs": [],
   "source": [
    "adj = {}\n",
    "instructions = ''\n",
    "\n",
    "with open(\"./data/day8.txt\") as f:\n",
    "    instructions = f.readline().rstrip()\n",
    "    _ = f.readline()\n",
    "    while line := f.readline():\n",
    "        line = line.rstrip().replace('(','').replace(')','').replace('=','').replace(',','').split()\n",
    "        if line[0] not in adj:\n",
    "            adj[line[0]] = []\n",
    "        adj[line[0]].append(line[1])\n",
    "        adj[line[0]].append(line[2])"
   ]
  },
  {
   "cell_type": "code",
   "execution_count": 2,
   "id": "3ce106a8",
   "metadata": {},
   "outputs": [
    {
     "data": {
      "text/plain": [
       "20777"
      ]
     },
     "execution_count": 2,
     "metadata": {},
     "output_type": "execute_result"
    }
   ],
   "source": [
    "node = 'AAA'\n",
    "steps = 0\n",
    "ind = 0\n",
    "while node != 'ZZZ':\n",
    "    if instructions[ind] == 'L':\n",
    "        node = adj[node][0]\n",
    "    else:\n",
    "        node = adj[node][1]\n",
    "    ind = (ind+1)%len(instructions)\n",
    "    steps += 1\n",
    "steps"
   ]
  },
  {
   "cell_type": "markdown",
   "id": "c6a22950",
   "metadata": {},
   "source": [
    "## This brute-force takes prohibitively long"
   ]
  },
  {
   "cell_type": "code",
   "execution_count": 3,
   "id": "0a94fe22",
   "metadata": {},
   "outputs": [
    {
     "data": {
      "text/plain": [
       "599377"
      ]
     },
     "execution_count": 3,
     "metadata": {},
     "output_type": "execute_result"
    }
   ],
   "source": [
    "nodes = []\n",
    "for node in adj.keys():\n",
    "    if node[-1] == 'A':\n",
    "        nodes.append(node)\n",
    "steps = 0\n",
    "ind = 0\n",
    "count_zs = 0\n",
    "\n",
    "nodes = nodes[:2]\n",
    "\n",
    "while count_zs != len(nodes):\n",
    "    new_nodes = []\n",
    "    for node in nodes:\n",
    "        if instructions[ind] == 'L':\n",
    "            new_nodes.append(adj[node][0])\n",
    "        else:\n",
    "            new_nodes.append(adj[node][1])\n",
    "    nodes = new_nodes\n",
    "    ind = (ind+1)%len(instructions)\n",
    "    steps += 1\n",
    "    count_zs = 0\n",
    "    for node in nodes:\n",
    "        if node[-1] == 'Z':\n",
    "            count_zs += 1\n",
    "steps"
   ]
  },
  {
   "cell_type": "markdown",
   "id": "bb467cdc",
   "metadata": {},
   "source": [
    "## The paths must start looping, so let's find out what the loops are and where the Z's are in the loops"
   ]
  },
  {
   "cell_type": "code",
   "execution_count": 4,
   "id": "09e5b414",
   "metadata": {},
   "outputs": [],
   "source": [
    "nodes = []\n",
    "for node in adj.keys():\n",
    "    if node[-1] == 'A':\n",
    "        nodes.append(node)\n",
    "\n",
    "loops = []\n",
    "zs = []\n",
    "\n",
    "for n in nodes:\n",
    "    node = n\n",
    "    zs.append([])\n",
    "    steps = 0\n",
    "    ind = 0\n",
    "    visited = {}\n",
    "    while (node, ind) not in visited:\n",
    "        visited[(node, ind)] = steps\n",
    "        if instructions[ind] == 'L':\n",
    "            node = adj[node][0]\n",
    "        else:\n",
    "            node = adj[node][1]\n",
    "        ind = (ind+1)%len(instructions)\n",
    "        steps += 1\n",
    "        if node[-1] == 'Z':\n",
    "            zs[-1].append(steps)\n",
    "    loops.append((visited[(node, ind)], steps))"
   ]
  },
  {
   "cell_type": "code",
   "execution_count": 5,
   "id": "cbd2a364",
   "metadata": {},
   "outputs": [
    {
     "data": {
      "text/plain": [
       "([(3, 13942), (3, 11312), (2, 20779), (2, 15519), (4, 17625), (2, 18675)],\n",
       " [[13939], [11309], [20777], [15517], [17621], [18673]])"
      ]
     },
     "execution_count": 5,
     "metadata": {},
     "output_type": "execute_result"
    }
   ],
   "source": [
    "loops, zs"
   ]
  },
  {
   "cell_type": "markdown",
   "id": "754f2985",
   "metadata": {},
   "source": [
    "## Every loop has only one Z so we can just get the answer with a single LCM computation"
   ]
  },
  {
   "cell_type": "code",
   "execution_count": 6,
   "id": "34eee40c",
   "metadata": {},
   "outputs": [],
   "source": [
    "from math import lcm"
   ]
  },
  {
   "cell_type": "code",
   "execution_count": 7,
   "id": "e36a6340",
   "metadata": {},
   "outputs": [
    {
     "data": {
      "text/plain": [
       "13289612809129"
      ]
     },
     "execution_count": 7,
     "metadata": {},
     "output_type": "execute_result"
    }
   ],
   "source": [
    "lcm(*[zs[i][0] for i in range(len(zs))])"
   ]
  },
  {
   "cell_type": "code",
   "execution_count": null,
   "metadata": {},
   "outputs": [],
   "source": []
  }
 ],
 "metadata": {
  "kernelspec": {
   "display_name": "Python 3 (ipykernel)",
   "language": "python",
   "name": "python3"
  },
  "language_info": {
   "codemirror_mode": {
    "name": "ipython",
    "version": 3
   },
   "file_extension": ".py",
   "mimetype": "text/x-python",
   "name": "python",
   "nbconvert_exporter": "python",
   "pygments_lexer": "ipython3",
   "version": "3.10.12"
  }
 },
 "nbformat": 4,
 "nbformat_minor": 5
}

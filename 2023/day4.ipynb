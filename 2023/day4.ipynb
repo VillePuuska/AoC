{
 "cells": [
  {
   "cell_type": "code",
   "execution_count": 8,
   "metadata": {},
   "outputs": [],
   "source": [
    "winning = []\n",
    "numbers = []\n",
    "\n",
    "with open(\"./data/day4.txt\") as f:\n",
    "    while line := f.readline():\n",
    "        line = line.rstrip().split(':')[1]\n",
    "        w, n = line.split('|')\n",
    "        w = set(map(int, filter(lambda x: x != '', w.split(' '))))\n",
    "        winning.append(w)\n",
    "        n = set(map(int, filter(lambda x: x != '', n.split(' '))))\n",
    "        numbers.append(n)"
   ]
  },
  {
   "cell_type": "code",
   "execution_count": 9,
   "metadata": {},
   "outputs": [
    {
     "data": {
      "text/plain": [
       "({5, 18, 33, 35, 39, 40, 70, 72, 74, 97},\n",
       " {2,\n",
       "  3,\n",
       "  5,\n",
       "  10,\n",
       "  15,\n",
       "  18,\n",
       "  23,\n",
       "  33,\n",
       "  35,\n",
       "  39,\n",
       "  44,\n",
       "  46,\n",
       "  51,\n",
       "  62,\n",
       "  65,\n",
       "  72,\n",
       "  74,\n",
       "  82,\n",
       "  84,\n",
       "  86,\n",
       "  87,\n",
       "  88,\n",
       "  91,\n",
       "  94,\n",
       "  95})"
      ]
     },
     "execution_count": 9,
     "metadata": {},
     "output_type": "execute_result"
    }
   ],
   "source": [
    "winning[0], numbers[0]"
   ]
  },
  {
   "cell_type": "code",
   "execution_count": 11,
   "metadata": {},
   "outputs": [
    {
     "data": {
      "text/plain": [
       "23847"
      ]
     },
     "execution_count": 11,
     "metadata": {},
     "output_type": "execute_result"
    }
   ],
   "source": [
    "s = 0\n",
    "for i in range(len(winning)):\n",
    "    size = len(winning[i].intersection(numbers[i]))\n",
    "    if size != 0:\n",
    "        s += 2**(size-1)\n",
    "s"
   ]
  },
  {
   "cell_type": "code",
   "execution_count": 21,
   "metadata": {},
   "outputs": [
    {
     "data": {
      "text/plain": [
       "8570000"
      ]
     },
     "execution_count": 21,
     "metadata": {},
     "output_type": "execute_result"
    }
   ],
   "source": [
    "multiplier = {i:1 for i in range(len(winning))}\n",
    "for i in range(len(winning)):\n",
    "    size = len(winning[i].intersection(numbers[i]))\n",
    "    if size != 0:\n",
    "        for j in range(i+1, min(i+size+1, len(winning))):\n",
    "            multiplier[j] += multiplier[i]\n",
    "sum(multiplier.values())"
   ]
  },
  {
   "cell_type": "code",
   "execution_count": 13,
   "metadata": {},
   "outputs": [],
   "source": [
    "test = \"\"\"Card 1: 41 48 83 86 17 | 83 86  6 31 17  9 48 53\n",
    "Card 2: 13 32 20 16 61 | 61 30 68 82 17 32 24 19\n",
    "Card 3:  1 21 53 59 44 | 69 82 63 72 16 21 14  1\n",
    "Card 4: 41 92 73 84 69 | 59 84 76 51 58  5 54 83\n",
    "Card 5: 87 83 26 28 32 | 88 30 70 12 93 22 82 36\n",
    "Card 6: 31 18 13 56 72 | 74 77 10 23 35 67 36 11\"\"\"\n",
    "\n",
    "winning_test = []\n",
    "numbers_test = []\n",
    "\n",
    "for line in test.split('\\n'):\n",
    "    line = line.rstrip().split(':')[1]\n",
    "    w, n = line.split('|')\n",
    "    w = set(map(int, filter(lambda x: x != '', w.split(' '))))\n",
    "    winning_test.append(w)\n",
    "    n = set(map(int, filter(lambda x: x != '', n.split(' '))))\n",
    "    numbers_test.append(n)"
   ]
  },
  {
   "cell_type": "code",
   "execution_count": 20,
   "metadata": {},
   "outputs": [
    {
     "data": {
      "text/plain": [
       "30"
      ]
     },
     "execution_count": 20,
     "metadata": {},
     "output_type": "execute_result"
    }
   ],
   "source": [
    "multiplier_test = {i:1 for i in range(len(winning_test))}\n",
    "for i in range(len(winning_test)):\n",
    "    size = len(winning_test[i].intersection(numbers_test[i]))\n",
    "    if size != 0:\n",
    "        for j in range(i+1, min(i+size+1, len(winning_test))):\n",
    "            multiplier_test[j] += multiplier_test[i]\n",
    "sum(multiplier_test.values())"
   ]
  },
  {
   "cell_type": "code",
   "execution_count": null,
   "metadata": {},
   "outputs": [],
   "source": []
  }
 ],
 "metadata": {
  "kernelspec": {
   "display_name": "Python 3 (ipykernel)",
   "language": "python",
   "name": "python3"
  },
  "language_info": {
   "codemirror_mode": {
    "name": "ipython",
    "version": 3
   },
   "file_extension": ".py",
   "mimetype": "text/x-python",
   "name": "python",
   "nbconvert_exporter": "python",
   "pygments_lexer": "ipython3",
   "version": "3.10.12"
  }
 },
 "nbformat": 4,
 "nbformat_minor": 5
}

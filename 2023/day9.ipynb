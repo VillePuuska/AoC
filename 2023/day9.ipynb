{
 "cells": [
  {
   "cell_type": "code",
   "execution_count": 5,
   "metadata": {},
   "outputs": [],
   "source": [
    "lines = []\n",
    "\n",
    "with open(\"./data/day9.txt\") as f:\n",
    "    while line := f.readline():\n",
    "        line = line.rstrip()\n",
    "        lines.append(list(map(int, line.split())))"
   ]
  },
  {
   "cell_type": "code",
   "execution_count": 6,
   "metadata": {},
   "outputs": [],
   "source": [
    "def is_const(ls):\n",
    "    return len(set(ls)) == 1"
   ]
  },
  {
   "cell_type": "code",
   "execution_count": 7,
   "id": "069aae84",
   "metadata": {},
   "outputs": [
    {
     "data": {
      "text/plain": [
       "1725987467"
      ]
     },
     "execution_count": 7,
     "metadata": {},
     "output_type": "execute_result"
    }
   ],
   "source": [
    "s = 0\n",
    "for line in lines:\n",
    "    diffs = [line]\n",
    "    while not is_const(diffs[-1]):\n",
    "        diffs.append([])\n",
    "        for i in range(len(diffs[-2])-1):\n",
    "            diffs[-1].append(diffs[-2][i+1]-diffs[-2][i])\n",
    "    s += sum([diffs[i][-1] for i in range(len(diffs))])\n",
    "s"
   ]
  },
  {
   "cell_type": "code",
   "execution_count": 8,
   "id": "cc783c25",
   "metadata": {},
   "outputs": [
    {
     "data": {
      "text/plain": [
       "971"
      ]
     },
     "execution_count": 8,
     "metadata": {},
     "output_type": "execute_result"
    }
   ],
   "source": [
    "s = 0\n",
    "for line in lines:\n",
    "    diffs = [line]\n",
    "    while not is_const(diffs[-1]):\n",
    "        diffs.append([])\n",
    "        for i in range(len(diffs[-2])-1):\n",
    "            diffs[-1].append(diffs[-2][i+1]-diffs[-2][i])\n",
    "    ex = 0\n",
    "    for i in range(len(diffs)-1, -1, -1):\n",
    "        ex = diffs[i][0]-ex\n",
    "    s += ex\n",
    "s"
   ]
  },
  {
   "cell_type": "code",
   "execution_count": null,
   "id": "e7955224",
   "metadata": {},
   "outputs": [],
   "source": []
  }
 ],
 "metadata": {
  "kernelspec": {
   "display_name": "Python 3 (ipykernel)",
   "language": "python",
   "name": "python3"
  },
  "language_info": {
   "codemirror_mode": {
    "name": "ipython",
    "version": 3
   },
   "file_extension": ".py",
   "mimetype": "text/x-python",
   "name": "python",
   "nbconvert_exporter": "python",
   "pygments_lexer": "ipython3",
   "version": "3.10.12"
  }
 },
 "nbformat": 4,
 "nbformat_minor": 5
}

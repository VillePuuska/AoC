{
 "cells": [
  {
   "cell_type": "code",
   "execution_count": 1,
   "metadata": {},
   "outputs": [],
   "source": [
    "points = []\n",
    "directions = []\n",
    "\n",
    "with open(\"./data/day24.txt\") as f:\n",
    "    while line := f.readline():\n",
    "        line = line.rstrip().split(' @ ')\n",
    "        points.append(list(map(int, line[0].split(', '))))\n",
    "        directions.append(list(map(int, line[1].split(', '))))"
   ]
  },
  {
   "cell_type": "code",
   "execution_count": 2,
   "id": "0ee56327",
   "metadata": {},
   "outputs": [
    {
     "data": {
      "text/plain": [
       "([332093400642358, 273183926405235, 220894804744871], [-22, 51, 43])"
      ]
     },
     "execution_count": 2,
     "metadata": {},
     "output_type": "execute_result"
    }
   ],
   "source": [
    "points[-1], directions[-1]"
   ]
  },
  {
   "cell_type": "code",
   "execution_count": 3,
   "id": "e9c498a2",
   "metadata": {},
   "outputs": [],
   "source": [
    "import math"
   ]
  },
  {
   "cell_type": "code",
   "execution_count": 4,
   "id": "d0ff4b33",
   "metadata": {},
   "outputs": [],
   "source": [
    "line_eqs = []\n",
    "\n",
    "# (x, y) = (direction[0]*t+point[0], direction[1]*t+point[1])\n",
    "# t = (x-point[0])/direction[0]\n",
    "# y = direction[1]/direction[0] * (x-point[0]) + point[1]\n",
    "for point, direction in zip(points, directions):\n",
    "    line_eqs.append((direction[1]/direction[0], -direction[1]/direction[0]*point[0] + point[1]))"
   ]
  },
  {
   "cell_type": "code",
   "execution_count": 5,
   "id": "1b44f4ee",
   "metadata": {},
   "outputs": [],
   "source": [
    "def in_future(i, x, y):\n",
    "    if directions[i][0] < 0 and x > points[i][0]:\n",
    "        return False\n",
    "    if directions[i][0] > 0 and x < points[i][0]:\n",
    "        return False\n",
    "    if directions[i][1] < 0 and y > points[i][1]:\n",
    "        return False\n",
    "    if directions[i][1] > 0 and y < points[i][1]:\n",
    "        return False\n",
    "    return True"
   ]
  },
  {
   "cell_type": "code",
   "execution_count": 6,
   "id": "eba75533",
   "metadata": {},
   "outputs": [],
   "source": [
    "def crossing(i, j, bottom, top):\n",
    "    if line_eqs[i][0] == line_eqs[j][0]:\n",
    "        return line_eqs[i][1] == line_eqs[j][1]\n",
    "    x = (line_eqs[j][1]-line_eqs[i][1])/(line_eqs[i][0]-line_eqs[j][0])\n",
    "    y = line_eqs[i][0]*x+line_eqs[i][1]\n",
    "    return (bottom <= x <= top) and (bottom <= y <= top) and in_future(i, x, y) and in_future(j, x, y)"
   ]
  },
  {
   "cell_type": "code",
   "execution_count": 7,
   "id": "97c28f35",
   "metadata": {},
   "outputs": [
    {
     "data": {
      "text/plain": [
       "11098"
      ]
     },
     "execution_count": 7,
     "metadata": {},
     "output_type": "execute_result"
    }
   ],
   "source": [
    "res = 0\n",
    "for i in range(len(line_eqs)):\n",
    "    for j in range(i+1, len(line_eqs)):\n",
    "        res += crossing(i, j, 200000000000000, 400000000000000)\n",
    "res"
   ]
  },
  {
   "cell_type": "markdown",
   "id": "7542641f",
   "metadata": {},
   "source": [
    "# Part 2\n",
    "\n",
    "Lines almost never intersect in 3D so if we only find a solution for let's say 4 of the points, it'll likely be the solution for all points. We can solve this as a set of linear equations with constraints. Googling suggests using SymPy so let's try!"
   ]
  },
  {
   "cell_type": "code",
   "execution_count": 8,
   "id": "e8577fb5",
   "metadata": {},
   "outputs": [],
   "source": [
    "import sympy"
   ]
  },
  {
   "cell_type": "code",
   "execution_count": 9,
   "id": "1bff6c4f",
   "metadata": {},
   "outputs": [],
   "source": [
    "points = []\n",
    "directions = []\n",
    "\n",
    "with open(\"./data/day24_ex.txt\") as f:\n",
    "    while line := f.readline():\n",
    "        line = line.rstrip().split(' @ ')\n",
    "        points.append(list(map(int, line[0].split(', '))))\n",
    "        directions.append(list(map(int, line[1].split(', '))))"
   ]
  },
  {
   "cell_type": "code",
   "execution_count": 10,
   "id": "15cf1349",
   "metadata": {},
   "outputs": [],
   "source": [
    "start_x, start_y, start_z = sympy.Symbol('start_x', real=True), sympy.Symbol('start_y', real=True), sympy.Symbol('start_z', real=True)\n",
    "vel_x, vel_y, vel_z = sympy.Symbol('vel_x', real=True), sympy.Symbol('vel_y', real=True), sympy.Symbol('vel_z', real=True)\n",
    "\n",
    "times = [sympy.Symbol(f't_{i}', real=True) for i in range(4)]\n",
    "\n",
    "equations_x = [start_x+times[i]*vel_x-(points[i][0]+times[i]*directions[i][0]) for i in range(4)]\n",
    "equations_y = [start_y+times[i]*vel_y-(points[i][1]+times[i]*directions[i][1]) for i in range(4)]\n",
    "equations_z = [start_z+times[i]*vel_z-(points[i][2]+times[i]*directions[i][2]) for i in range(4)]\n",
    "\n",
    "equations = equations_x + equations_y + equations_z"
   ]
  },
  {
   "cell_type": "code",
   "execution_count": 11,
   "id": "a4d0c092",
   "metadata": {},
   "outputs": [
    {
     "data": {
      "text/plain": [
       "[start_x + t_0*vel_x + 2*t_0 - 19,\n",
       " start_x + t_1*vel_x + t_1 - 18,\n",
       " start_x + t_2*vel_x + 2*t_2 - 20,\n",
       " start_x + t_3*vel_x + t_3 - 12,\n",
       " start_y + t_0*vel_y - t_0 - 13,\n",
       " start_y + t_1*vel_y + t_1 - 19,\n",
       " start_y + t_2*vel_y + 2*t_2 - 25,\n",
       " start_y + t_3*vel_y + 2*t_3 - 31,\n",
       " start_z + t_0*vel_z + 2*t_0 - 30,\n",
       " start_z + t_1*vel_z + 2*t_1 - 22,\n",
       " start_z + t_2*vel_z + 4*t_2 - 34,\n",
       " start_z + t_3*vel_z + t_3 - 28]"
      ]
     },
     "execution_count": 11,
     "metadata": {},
     "output_type": "execute_result"
    }
   ],
   "source": [
    "equations"
   ]
  },
  {
   "cell_type": "code",
   "execution_count": 12,
   "id": "42ea7e28",
   "metadata": {},
   "outputs": [
    {
     "data": {
      "text/plain": [
       "[{start_x: 24,\n",
       "  start_y: 13,\n",
       "  start_z: 10,\n",
       "  t_0: 5,\n",
       "  t_1: 3,\n",
       "  t_2: 4,\n",
       "  t_3: 6,\n",
       "  vel_x: -3,\n",
       "  vel_y: 1,\n",
       "  vel_z: 2}]"
      ]
     },
     "execution_count": 12,
     "metadata": {},
     "output_type": "execute_result"
    }
   ],
   "source": [
    "sympy.solve(equations)"
   ]
  },
  {
   "cell_type": "code",
   "execution_count": 13,
   "id": "eb56dfe4",
   "metadata": {},
   "outputs": [],
   "source": [
    "points = []\n",
    "directions = []\n",
    "\n",
    "with open(\"./data/day24.txt\") as f:\n",
    "    while line := f.readline():\n",
    "        line = line.rstrip().split(' @ ')\n",
    "        points.append(list(map(int, line[0].split(', '))))\n",
    "        directions.append(list(map(int, line[1].split(', '))))"
   ]
  },
  {
   "cell_type": "code",
   "execution_count": 14,
   "id": "fd4285b4",
   "metadata": {},
   "outputs": [],
   "source": [
    "start_x, start_y, start_z = sympy.Symbol('start_x', real=True), sympy.Symbol('start_y', real=True), sympy.Symbol('start_z', real=True)\n",
    "vel_x, vel_y, vel_z = sympy.Symbol('vel_x', real=True), sympy.Symbol('vel_y', real=True), sympy.Symbol('vel_z', real=True)\n",
    "\n",
    "times = [sympy.Symbol(f't_{i}', real=True) for i in range(4)]\n",
    "\n",
    "equations_x = [start_x+times[i]*vel_x-(points[i][0]+times[i]*directions[i][0]) for i in range(4)]\n",
    "equations_y = [start_y+times[i]*vel_y-(points[i][1]+times[i]*directions[i][1]) for i in range(4)]\n",
    "equations_z = [start_z+times[i]*vel_z-(points[i][2]+times[i]*directions[i][2]) for i in range(4)]\n",
    "\n",
    "equations = equations_x + equations_y + equations_z"
   ]
  },
  {
   "cell_type": "code",
   "execution_count": 15,
   "id": "b5094e6a",
   "metadata": {},
   "outputs": [
    {
     "data": {
      "text/plain": [
       "[start_x + t_0*vel_x + 26*t_0 - 156689809620606,\n",
       " start_x + t_1*vel_x - 73*t_1 - 106355761063908,\n",
       " start_x + t_2*vel_x - 31*t_2 - 271915251832336,\n",
       " start_x + t_3*vel_x + 17*t_3 - 278301294493408,\n",
       " start_y + t_0*vel_y - 48*t_0 - 243565579389165,\n",
       " start_y + t_1*vel_y + 206*t_1 - 459832650718033,\n",
       " start_y + t_2*vel_y + 414*t_2 - 487490927073225,\n",
       " start_y + t_3*vel_y - 153*t_3 - 210301684337526,\n",
       " start_z + t_0*vel_z + 140*t_0 - 455137247320393,\n",
       " start_z + t_1*vel_z + 52*t_1 - 351953299411025,\n",
       " start_z + t_2*vel_z + 304*t_2 - 398003502953444,\n",
       " start_z + t_3*vel_z + 28*t_3 - 276412834430762]"
      ]
     },
     "execution_count": 15,
     "metadata": {},
     "output_type": "execute_result"
    }
   ],
   "source": [
    "equations"
   ]
  },
  {
   "cell_type": "code",
   "execution_count": 16,
   "id": "fee740dd",
   "metadata": {},
   "outputs": [
    {
     "data": {
      "text/plain": [
       "[{start_x: 446533732372768,\n",
       "  start_y: 293892176908833,\n",
       "  start_z: 180204909018503,\n",
       "  t_0: 931974028142,\n",
       "  t_1: 829702369046,\n",
       "  t_2: 474506740599,\n",
       "  t_3: 525726368373,\n",
       "  vel_x: -337,\n",
       "  vel_y: -6,\n",
       "  vel_z: 155}]"
      ]
     },
     "execution_count": 16,
     "metadata": {},
     "output_type": "execute_result"
    }
   ],
   "source": [
    "sol = sympy.solve(equations)\n",
    "sol"
   ]
  },
  {
   "cell_type": "code",
   "execution_count": 17,
   "id": "f3d9df6e",
   "metadata": {},
   "outputs": [
    {
     "data": {
      "text/latex": [
       "$\\displaystyle 920630818300104$"
      ],
      "text/plain": [
       "920630818300104"
      ]
     },
     "execution_count": 17,
     "metadata": {},
     "output_type": "execute_result"
    }
   ],
   "source": [
    "sol[0][start_x]+sol[0][start_y]+sol[0][start_z]"
   ]
  },
  {
   "cell_type": "markdown",
   "id": "b6d620f1",
   "metadata": {},
   "source": [
    "IT WORKS!\n",
    "\n",
    "Maybe I'll write a test for checking that the found solution actually works later but for now merry christmas if anyone ever reads this!"
   ]
  },
  {
   "cell_type": "code",
   "execution_count": null,
   "metadata": {},
   "outputs": [],
   "source": []
  }
 ],
 "metadata": {
  "kernelspec": {
   "display_name": "Python 3 (ipykernel)",
   "language": "python",
   "name": "python3"
  },
  "language_info": {
   "codemirror_mode": {
    "name": "ipython",
    "version": 3
   },
   "file_extension": ".py",
   "mimetype": "text/x-python",
   "name": "python",
   "nbconvert_exporter": "python",
   "pygments_lexer": "ipython3",
   "version": "3.10.12"
  }
 },
 "nbformat": 4,
 "nbformat_minor": 5
}

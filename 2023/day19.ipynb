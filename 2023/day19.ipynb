{
 "cells": [
  {
   "cell_type": "code",
   "execution_count": 1,
   "metadata": {},
   "outputs": [],
   "source": [
    "class Point:\n",
    "    def __init__(self, line) -> None:\n",
    "        x, m, a, s = line.replace('{', '').replace('}', '').split(',')\n",
    "        self.x = int(x[2:])\n",
    "        self.m = int(m[2:])\n",
    "        self.a = int(a[2:])\n",
    "        self.s = int(s[2:])\n",
    "    \n",
    "    def total_rating(self):\n",
    "        return self.x + self.m + self.a + self.s\n",
    "\n",
    "instructions = {}\n",
    "parts = []\n",
    "\n",
    "with open(\"./data/day19.txt\") as f:\n",
    "    lines = f.read().split('\\n\\n')\n",
    "    for line in lines[0].split('\\n'):\n",
    "        line = line.replace('}', '').split('{')\n",
    "        instructions[line[0]] = line[1].split(',')\n",
    "    for line in lines[1].split('\\n'):\n",
    "        if line != '':\n",
    "            parts.append(Point(line))"
   ]
  },
  {
   "cell_type": "code",
   "execution_count": 2,
   "id": "56e31c4a",
   "metadata": {},
   "outputs": [
    {
     "data": {
      "text/plain": [
       "(512, 200)"
      ]
     },
     "execution_count": 2,
     "metadata": {},
     "output_type": "execute_result"
    }
   ],
   "source": [
    "len(instructions), len(parts)"
   ]
  },
  {
   "cell_type": "code",
   "execution_count": 3,
   "id": "06b2e1b3",
   "metadata": {},
   "outputs": [
    {
     "name": "stdout",
     "output_type": "stream",
     "text": [
      "hlv ['x>1142:fgz', 'snf']\n",
      "cjb ['s>2194:jl', 'mrj']\n",
      "hzg ['m>2989:A', 'A']\n",
      "grq ['m<453:A', 'x<1195:A', 'x>1305:R', 'R']\n",
      "pm ['m>3598:mlk', 'qmh']\n",
      "jsf ['s>534:R', 's<339:bf', 'a<1455:R', 'tm']\n",
      "\n",
      "in ['a>2078:hbd', 'dn']\n"
     ]
    }
   ],
   "source": [
    "for i, (k, v) in enumerate(instructions.items()):\n",
    "    if i > 5:\n",
    "        break\n",
    "    print(k, v)\n",
    "print()\n",
    "print('in', instructions['in'])"
   ]
  },
  {
   "cell_type": "code",
   "execution_count": 4,
   "id": "144d8cf6",
   "metadata": {},
   "outputs": [],
   "source": [
    "def handle_instruction(instruction, part):\n",
    "    for inst in instruction:\n",
    "        if ':' not in inst:\n",
    "            return inst\n",
    "        ind = inst.index(':')\n",
    "        label = inst[0]\n",
    "        operator = inst[1]\n",
    "        value = int(inst[2:ind])\n",
    "        goal = inst[ind+1:]\n",
    "\n",
    "        if operator == '>':\n",
    "            if getattr(part, label) > value:\n",
    "                return goal\n",
    "        else:\n",
    "            if getattr(part, label) < value:\n",
    "                return goal"
   ]
  },
  {
   "cell_type": "code",
   "execution_count": 5,
   "id": "f7fb0331",
   "metadata": {},
   "outputs": [
    {
     "data": {
      "text/plain": [
       "456651"
      ]
     },
     "execution_count": 5,
     "metadata": {},
     "output_type": "execute_result"
    }
   ],
   "source": [
    "res = 0\n",
    "for part in parts:\n",
    "    label = 'in'\n",
    "    while label not in ['A', 'R']:\n",
    "        label = handle_instruction(instructions[label], part)\n",
    "    if label == 'A':\n",
    "        res += part.total_rating()\n",
    "res"
   ]
  },
  {
   "cell_type": "code",
   "execution_count": 6,
   "id": "d9512e47",
   "metadata": {},
   "outputs": [],
   "source": [
    "class PointRange:\n",
    "    def __init__(self, x_min, x_max, m_min, m_max, a_min, a_max, s_min, s_max) -> None:\n",
    "        self.x_min = x_min\n",
    "        self.x_max = x_max\n",
    "        self.m_min = m_min\n",
    "        self.m_max = m_max\n",
    "        self.a_min = a_min\n",
    "        self.a_max = a_max\n",
    "        self.s_min = s_min\n",
    "        self.s_max = s_max\n",
    "\n",
    "    def __str__(self) -> str:\n",
    "        return f'{self.x_min}, {self.x_max}, {self.m_min}, {self.m_max}, {self.a_min}, {self.a_max}, {self.s_min}, {self.s_max}'\n",
    "    \n",
    "    def copy(self):\n",
    "        return PointRange(self.x_min, self.x_max, self.m_min, self.m_max, self.a_min, self.a_max, self.s_min, self.s_max)\n",
    "    \n",
    "    def combinations(self):\n",
    "        return (1-self.x_min+self.x_max)*(1-self.m_min+self.m_max)*(1-self.a_min+self.a_max)*(1-self.s_min+self.s_max)"
   ]
  },
  {
   "cell_type": "code",
   "execution_count": 7,
   "id": "4c66c919",
   "metadata": {},
   "outputs": [],
   "source": [
    "def handle_instruction_range(instruction, part_range):\n",
    "    curr_range = part_range\n",
    "    res = []\n",
    "    for inst in instruction:\n",
    "        if ':' not in inst:\n",
    "            res.append((curr_range, inst))\n",
    "            break\n",
    "        ind = inst.index(':')\n",
    "        label = inst[0]\n",
    "        operator = inst[1]\n",
    "        value = int(inst[2:ind])\n",
    "        goal = inst[ind+1:]\n",
    "\n",
    "        attr_min, attr_max = getattr(curr_range, label+'_min'), getattr(curr_range, label+'_max')\n",
    "        if (operator == '<' and value <= attr_min) or (operator == '>' and value >= attr_max):\n",
    "            continue\n",
    "        if (operator == '<' and value > attr_max) or (operator == '>' and value < attr_min):\n",
    "            res.append((curr_range, goal))\n",
    "            break\n",
    "        if operator == '<':\n",
    "            below_range = curr_range.copy()\n",
    "            setattr(below_range, label+'_max', value-1)\n",
    "            res.append((below_range, goal))\n",
    "            setattr(curr_range, label+'_min', value)\n",
    "        else:\n",
    "            above_range = curr_range.copy()\n",
    "            setattr(above_range, label+'_min', value+1)\n",
    "            res.append((above_range, goal))\n",
    "            setattr(curr_range, label+'_max', value)\n",
    "    return res"
   ]
  },
  {
   "cell_type": "code",
   "execution_count": 8,
   "id": "ce52b187",
   "metadata": {},
   "outputs": [],
   "source": [
    "res = []\n",
    "r = PointRange(1, 4000, 1, 4000, 1, 4000, 1, 4000)\n",
    "visited = set()\n",
    "q = [(r, 'in')]\n",
    "while q:\n",
    "    r, label = q.pop()\n",
    "    if (str(r), label) in visited:\n",
    "        continue\n",
    "    visited.add((str(r), label))\n",
    "    if label == 'R':\n",
    "        continue\n",
    "    if label == 'A':\n",
    "        res.append(r)\n",
    "        continue\n",
    "    q += handle_instruction_range(instructions[label], r)"
   ]
  },
  {
   "cell_type": "code",
   "execution_count": 9,
   "id": "a795f61c",
   "metadata": {},
   "outputs": [
    {
     "data": {
      "text/plain": [
       "131899818301477"
      ]
     },
     "execution_count": 9,
     "metadata": {},
     "output_type": "execute_result"
    }
   ],
   "source": [
    "m = 0\n",
    "for r in res:\n",
    "    m += r.combinations()\n",
    "m"
   ]
  },
  {
   "cell_type": "code",
   "execution_count": null,
   "id": "6e181b93",
   "metadata": {},
   "outputs": [],
   "source": []
  },
  {
   "cell_type": "code",
   "execution_count": null,
   "id": "d27137af",
   "metadata": {},
   "outputs": [],
   "source": []
  },
  {
   "cell_type": "code",
   "execution_count": null,
   "id": "1cfc030f",
   "metadata": {},
   "outputs": [],
   "source": []
  },
  {
   "cell_type": "code",
   "execution_count": null,
   "id": "00ba44b3",
   "metadata": {},
   "outputs": [],
   "source": []
  },
  {
   "cell_type": "code",
   "execution_count": null,
   "id": "f853cf0b",
   "metadata": {},
   "outputs": [],
   "source": []
  },
  {
   "cell_type": "code",
   "execution_count": null,
   "id": "271ed851",
   "metadata": {},
   "outputs": [],
   "source": []
  },
  {
   "cell_type": "code",
   "execution_count": null,
   "id": "16778f51",
   "metadata": {},
   "outputs": [],
   "source": []
  },
  {
   "cell_type": "code",
   "execution_count": 10,
   "metadata": {},
   "outputs": [],
   "source": [
    "from collections import deque\n",
    "from heapq import heapify, heappush, heappop"
   ]
  },
  {
   "cell_type": "code",
   "execution_count": 11,
   "id": "43023686-1019-4ea7-b150-6e936e3c9bfc",
   "metadata": {},
   "outputs": [],
   "source": [
    "# DFS\n",
    "# assuming graph is presented as a list of adjacent nodes\n",
    "def dfs(node: int, adj: list[list[int]], visited: list[bool]):\n",
    "    visited[node] = True\n",
    "    # do something with the node?\n",
    "    print(node)\n",
    "    for a in adj[node]:\n",
    "        if not visited[a]:\n",
    "            dfs(a, adj, visited)\n",
    "            # do something with a return value?\n",
    "\n",
    "# BFS\n",
    "# assuming graph is presented as a list of adjacent nodes\n",
    "def bfs(start_node: int, adj: list[list[int]]):\n",
    "    que = deque([start_node])\n",
    "    visited = [False]*len(adj)\n",
    "    while que:\n",
    "        node = que.pop()\n",
    "        if visited[node]:\n",
    "            continue\n",
    "        visited[node] = True\n",
    "        # do something with the node?\n",
    "        print(node)\n",
    "        for a in adj[node]:\n",
    "            if not visited[a]:\n",
    "                que.appendleft(a)"
   ]
  },
  {
   "cell_type": "code",
   "execution_count": 12,
   "metadata": {},
   "outputs": [
    {
     "name": "stdout",
     "output_type": "stream",
     "text": [
      "DFS\n",
      "0\n",
      "1\n",
      "2\n",
      "3\n",
      "4\n",
      "5\n",
      "BFS\n",
      "0\n",
      "1\n",
      "5\n",
      "2\n",
      "3\n",
      "4\n"
     ]
    }
   ],
   "source": [
    "# Example graph\n",
    "adj = [[1, 5], [0, 2, 3, 5], [], [4], [5], []]\n",
    "\n",
    "print('DFS')\n",
    "dfs(0, adj, [False]*len(adj))\n",
    "\n",
    "print('BFS')\n",
    "bfs(0, adj)"
   ]
  },
  {
   "cell_type": "code",
   "execution_count": 13,
   "metadata": {},
   "outputs": [],
   "source": [
    "# Dijkstra\n",
    "# assuming graph is presented as a list of edges from each node\n",
    "# i.e. graph[node] contains a list of edges from node, graph[node][i] = [edge_weight, edge_target]\n",
    "def dijkstra(start_node: int, graph: list[list[int]]):\n",
    "    h = [edge for edge in graph[start_node]]\n",
    "    heapify(h)\n",
    "    visited = [False]*len(graph)\n",
    "    visited[start_node] = True\n",
    "    while h:\n",
    "        cost, node = heappop(h)\n",
    "        if visited[node]:\n",
    "            continue\n",
    "        visited[node] = True\n",
    "        # do something with the node?\n",
    "        print(node, cost)\n",
    "        for w, n in graph[node]:\n",
    "            if not visited[n]:\n",
    "                heappush(h, [cost+w, n])"
   ]
  },
  {
   "cell_type": "code",
   "execution_count": 14,
   "metadata": {},
   "outputs": [
    {
     "name": "stdout",
     "output_type": "stream",
     "text": [
      "1 1\n",
      "2 2\n",
      "3 2\n",
      "5 2\n",
      "4 3\n",
      "\n",
      "0 1\n",
      "2 1\n",
      "3 1\n",
      "4 2\n",
      "5 3\n",
      "\n",
      "1 1\n",
      "2 2\n",
      "3 2\n",
      "4 3\n",
      "5 4\n"
     ]
    }
   ],
   "source": [
    "graph = [[[1, 1], [2, 5]], [[1, 0], [1, 2], [1, 3]], [], [[1, 4]], [[1, 5]], []]\n",
    "dijkstra(0, graph)\n",
    "print()\n",
    "dijkstra(1, graph)\n",
    "print()\n",
    "graph = [[[1, 1], [5, 5]], [[1, 0], [1, 2], [1, 3]], [], [[1, 4]], [[1, 5]], []]\n",
    "dijkstra(0, graph)"
   ]
  },
  {
   "cell_type": "code",
   "execution_count": 15,
   "metadata": {},
   "outputs": [
    {
     "name": "stdout",
     "output_type": "stream",
     "text": [
      "[0, 1, 1, 2, 3, 5, 8, 13, 21, 34]\n",
      "[55, 34, 21, 13, 8, 5, 3, 2, 1, 1]\n"
     ]
    }
   ],
   "source": [
    "# DP left->right\n",
    "dp = [0, 1] # base cases\n",
    "n = 10\n",
    "for _ in range(n-len(dp)):\n",
    "    dp.append(dp[-1]+dp[-2])\n",
    "print(dp)\n",
    "\n",
    "# DP right->left\n",
    "dp = [0]*n\n",
    "dp[-1] = dp[-2] = 1\n",
    "for i in range(len(dp)-3, -1, -1):\n",
    "    dp[i] = dp[i+1]+dp[i+2]\n",
    "print(dp)"
   ]
  },
  {
   "cell_type": "code",
   "execution_count": 16,
   "metadata": {},
   "outputs": [
    {
     "name": "stdout",
     "output_type": "stream",
     "text": [
      "[9, 8, 7, 6, 5, 4, 3, 2, 1]\n",
      "[8, 8, 7, 6, 5, 4, 3, 2, 1]\n",
      "[7, 7, 7, 6, 5, 4, 3, 2, 1]\n",
      "[6, 6, 6, 6, 5, 4, 3, 2, 1]\n",
      "[5, 5, 5, 5, 5, 4, 3, 2, 1]\n",
      "[4, 4, 4, 4, 4, 4, 3, 2, 1]\n",
      "[3, 3, 3, 3, 3, 3, 3, 2, 1]\n",
      "[2, 2, 2, 2, 2, 2, 2, 2, 1]\n",
      "[1, 1, 1, 1, 1, 1, 1, 1, 1]\n",
      "\n",
      "[9, 8, 7, 6, 5, 4, 3, 2, 1]\n",
      "[8, 8, 7, 6, 5, 4, 3, 2, 1]\n",
      "[7, 7, 7, 6, 5, 4, 3, 2, 1]\n",
      "[6, 6, 6, 6, 5, 4, 3, 2, 1]\n",
      "[5, 5, 5, 5, 5, 4, 3, 2, 1]\n",
      "[4, 4, 4, 4, 4, 4, 3, 2, 1]\n",
      "[3, 3, 3, 3, 3, 3, 3, 2, 1]\n",
      "[2, 2, 2, 2, 2, 2, 2, 2, 1]\n",
      "[1, 1, 1, 1, 1, 1, 1, 1, 1]\n"
     ]
    }
   ],
   "source": [
    "# 2D DP\n",
    "n = 9\n",
    "# initialize\n",
    "dp = [[-1]*n for _ in range(n)]\n",
    "for i in range(n):\n",
    "    dp[-1][i] = dp[i][-1] = 1\n",
    "for row in range(n-2, -1, -1):\n",
    "    for col in range(n-2, -1, -1):\n",
    "        dp[row][col] = 1+min(dp[row+1][col], dp[row][col+1])\n",
    "for dp_row in dp:\n",
    "    print(dp_row)\n",
    "\n",
    "print()\n",
    "\n",
    "# 2D DP\n",
    "# same example but store only two rows at a time\n",
    "dp = [1]*n\n",
    "dp_str = str(dp)\n",
    "for row in range(n-2, -1, -1):\n",
    "    new_dp = [-1]*n\n",
    "    new_dp[-1] = 1\n",
    "    for col in range(n-2, -1, -1):\n",
    "        new_dp[col] = 1+min(dp[col], new_dp[col+1])\n",
    "    dp_str = str(new_dp) + '\\n' + dp_str\n",
    "    dp = new_dp\n",
    "print(dp_str)"
   ]
  },
  {
   "cell_type": "code",
   "execution_count": null,
   "metadata": {},
   "outputs": [],
   "source": []
  }
 ],
 "metadata": {
  "kernelspec": {
   "display_name": "Python 3 (ipykernel)",
   "language": "python",
   "name": "python3"
  },
  "language_info": {
   "codemirror_mode": {
    "name": "ipython",
    "version": 3
   },
   "file_extension": ".py",
   "mimetype": "text/x-python",
   "name": "python",
   "nbconvert_exporter": "python",
   "pygments_lexer": "ipython3",
   "version": "3.10.12"
  }
 },
 "nbformat": 4,
 "nbformat_minor": 5
}

{
 "cells": [
  {
   "cell_type": "code",
   "execution_count": 1,
   "metadata": {},
   "outputs": [],
   "source": [
    "class Point:\n",
    "    def __init__(self, line) -> None:\n",
    "        x, m, a, s = line.replace('{', '').replace('}', '').split(',')\n",
    "        self.x = int(x[2:])\n",
    "        self.m = int(m[2:])\n",
    "        self.a = int(a[2:])\n",
    "        self.s = int(s[2:])\n",
    "    \n",
    "    def total_rating(self):\n",
    "        return self.x + self.m + self.a + self.s\n",
    "\n",
    "instructions = {}\n",
    "parts = []\n",
    "\n",
    "with open(\"./data/day19.txt\") as f:\n",
    "    lines = f.read().split('\\n\\n')\n",
    "    for line in lines[0].split('\\n'):\n",
    "        line = line.replace('}', '').split('{')\n",
    "        instructions[line[0]] = line[1].split(',')\n",
    "    for line in lines[1].split('\\n'):\n",
    "        if line != '':\n",
    "            parts.append(Point(line))"
   ]
  },
  {
   "cell_type": "code",
   "execution_count": 2,
   "id": "56e31c4a",
   "metadata": {},
   "outputs": [
    {
     "data": {
      "text/plain": [
       "(512, 200)"
      ]
     },
     "execution_count": 2,
     "metadata": {},
     "output_type": "execute_result"
    }
   ],
   "source": [
    "len(instructions), len(parts)"
   ]
  },
  {
   "cell_type": "code",
   "execution_count": 3,
   "id": "06b2e1b3",
   "metadata": {},
   "outputs": [
    {
     "name": "stdout",
     "output_type": "stream",
     "text": [
      "hlv ['x>1142:fgz', 'snf']\n",
      "cjb ['s>2194:jl', 'mrj']\n",
      "hzg ['m>2989:A', 'A']\n",
      "grq ['m<453:A', 'x<1195:A', 'x>1305:R', 'R']\n",
      "pm ['m>3598:mlk', 'qmh']\n",
      "jsf ['s>534:R', 's<339:bf', 'a<1455:R', 'tm']\n",
      "\n",
      "in ['a>2078:hbd', 'dn']\n"
     ]
    }
   ],
   "source": [
    "for i, (k, v) in enumerate(instructions.items()):\n",
    "    if i > 5:\n",
    "        break\n",
    "    print(k, v)\n",
    "print()\n",
    "print('in', instructions['in'])"
   ]
  },
  {
   "cell_type": "code",
   "execution_count": 4,
   "id": "144d8cf6",
   "metadata": {},
   "outputs": [],
   "source": [
    "def handle_instruction(instruction, part):\n",
    "    for inst in instruction:\n",
    "        if ':' not in inst:\n",
    "            return inst\n",
    "        ind = inst.index(':')\n",
    "        label = inst[0]\n",
    "        operator = inst[1]\n",
    "        value = int(inst[2:ind])\n",
    "        goal = inst[ind+1:]\n",
    "\n",
    "        if operator == '>':\n",
    "            if getattr(part, label) > value:\n",
    "                return goal\n",
    "        else:\n",
    "            if getattr(part, label) < value:\n",
    "                return goal"
   ]
  },
  {
   "cell_type": "code",
   "execution_count": 5,
   "id": "f7fb0331",
   "metadata": {},
   "outputs": [
    {
     "data": {
      "text/plain": [
       "456651"
      ]
     },
     "execution_count": 5,
     "metadata": {},
     "output_type": "execute_result"
    }
   ],
   "source": [
    "res = 0\n",
    "for part in parts:\n",
    "    label = 'in'\n",
    "    while label not in ['A', 'R']:\n",
    "        label = handle_instruction(instructions[label], part)\n",
    "    if label == 'A':\n",
    "        res += part.total_rating()\n",
    "res"
   ]
  },
  {
   "cell_type": "code",
   "execution_count": 6,
   "id": "d9512e47",
   "metadata": {},
   "outputs": [],
   "source": [
    "class PointRange:\n",
    "    def __init__(self, x_min, x_max, m_min, m_max, a_min, a_max, s_min, s_max) -> None:\n",
    "        self.x_min = x_min\n",
    "        self.x_max = x_max\n",
    "        self.m_min = m_min\n",
    "        self.m_max = m_max\n",
    "        self.a_min = a_min\n",
    "        self.a_max = a_max\n",
    "        self.s_min = s_min\n",
    "        self.s_max = s_max\n",
    "\n",
    "    def __str__(self) -> str:\n",
    "        return f'{self.x_min}, {self.x_max}, {self.m_min}, {self.m_max}, {self.a_min}, {self.a_max}, {self.s_min}, {self.s_max}'\n",
    "    \n",
    "    def copy(self):\n",
    "        return PointRange(self.x_min, self.x_max, self.m_min, self.m_max, self.a_min, self.a_max, self.s_min, self.s_max)\n",
    "    \n",
    "    def combinations(self):\n",
    "        return (1-self.x_min+self.x_max)*(1-self.m_min+self.m_max)*(1-self.a_min+self.a_max)*(1-self.s_min+self.s_max)"
   ]
  },
  {
   "cell_type": "code",
   "execution_count": 7,
   "id": "4c66c919",
   "metadata": {},
   "outputs": [],
   "source": [
    "def handle_instruction_range(instruction, part_range):\n",
    "    curr_range = part_range\n",
    "    res = []\n",
    "    for inst in instruction:\n",
    "        if ':' not in inst:\n",
    "            res.append((curr_range, inst))\n",
    "            break\n",
    "        ind = inst.index(':')\n",
    "        label = inst[0]\n",
    "        operator = inst[1]\n",
    "        value = int(inst[2:ind])\n",
    "        goal = inst[ind+1:]\n",
    "\n",
    "        attr_min, attr_max = getattr(curr_range, label+'_min'), getattr(curr_range, label+'_max')\n",
    "        if (operator == '<' and value <= attr_min) or (operator == '>' and value >= attr_max):\n",
    "            continue\n",
    "        if (operator == '<' and value > attr_max) or (operator == '>' and value < attr_min):\n",
    "            res.append((curr_range, goal))\n",
    "            break\n",
    "        if operator == '<':\n",
    "            below_range = curr_range.copy()\n",
    "            setattr(below_range, label+'_max', value-1)\n",
    "            res.append((below_range, goal))\n",
    "            setattr(curr_range, label+'_min', value)\n",
    "        else:\n",
    "            above_range = curr_range.copy()\n",
    "            setattr(above_range, label+'_min', value+1)\n",
    "            res.append((above_range, goal))\n",
    "            setattr(curr_range, label+'_max', value)\n",
    "    return res"
   ]
  },
  {
   "cell_type": "code",
   "execution_count": 8,
   "id": "ce52b187",
   "metadata": {},
   "outputs": [],
   "source": [
    "res = []\n",
    "r = PointRange(1, 4000, 1, 4000, 1, 4000, 1, 4000)\n",
    "visited = set()\n",
    "q = [(r, 'in')]\n",
    "while q:\n",
    "    r, label = q.pop()\n",
    "    if (str(r), label) in visited:\n",
    "        continue\n",
    "    visited.add((str(r), label))\n",
    "    if label == 'R':\n",
    "        continue\n",
    "    if label == 'A':\n",
    "        res.append(r)\n",
    "        continue\n",
    "    q += handle_instruction_range(instructions[label], r)"
   ]
  },
  {
   "cell_type": "code",
   "execution_count": 9,
   "id": "a795f61c",
   "metadata": {},
   "outputs": [
    {
     "data": {
      "text/plain": [
       "131899818301477"
      ]
     },
     "execution_count": 9,
     "metadata": {},
     "output_type": "execute_result"
    }
   ],
   "source": [
    "m = 0\n",
    "for r in res:\n",
    "    m += r.combinations()\n",
    "m"
   ]
  },
  {
   "cell_type": "code",
   "execution_count": null,
   "metadata": {},
   "outputs": [],
   "source": []
  }
 ],
 "metadata": {
  "kernelspec": {
   "display_name": "Python 3 (ipykernel)",
   "language": "python",
   "name": "python3"
  },
  "language_info": {
   "codemirror_mode": {
    "name": "ipython",
    "version": 3
   },
   "file_extension": ".py",
   "mimetype": "text/x-python",
   "name": "python",
   "nbconvert_exporter": "python",
   "pygments_lexer": "ipython3",
   "version": "3.10.12"
  }
 },
 "nbformat": 4,
 "nbformat_minor": 5
}

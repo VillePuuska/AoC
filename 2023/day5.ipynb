{
 "cells": [
  {
   "cell_type": "code",
   "execution_count": 86,
   "metadata": {},
   "outputs": [],
   "source": [
    "seeds = []\n",
    "maps = []\n",
    "\n",
    "with open(\"./data/day5.txt\") as f:\n",
    "    line = f.readline().rstrip().split(': ')[1]\n",
    "    seeds = list(map(int, line.split(' ')))\n",
    "    while line := f.readline():\n",
    "        line = line.rstrip()\n",
    "        if line == '':\n",
    "            continue\n",
    "        if ':' in line:\n",
    "            maps.append([])\n",
    "        else:\n",
    "            maps[-1].append(list(map(int, line.split(' '))))"
   ]
  },
  {
   "cell_type": "code",
   "execution_count": 87,
   "metadata": {},
   "outputs": [
    {
     "data": {
      "text/plain": [
       "[3416930225,\n",
       " 56865175,\n",
       " 4245248379,\n",
       " 7142355,\n",
       " 1808166864,\n",
       " 294882110,\n",
       " 863761171,\n",
       " 233338109,\n",
       " 4114335326,\n",
       " 67911591,\n",
       " 1198254212,\n",
       " 504239157,\n",
       " 3491380151,\n",
       " 178996923,\n",
       " 3965970270,\n",
       " 15230597,\n",
       " 2461206486,\n",
       " 133606394,\n",
       " 2313929258,\n",
       " 84595688]"
      ]
     },
     "execution_count": 87,
     "metadata": {},
     "output_type": "execute_result"
    }
   ],
   "source": [
    "seeds"
   ]
  },
  {
   "cell_type": "code",
   "execution_count": 88,
   "metadata": {},
   "outputs": [
    {
     "data": {
      "text/plain": [
       "([3534435790, 4123267198, 50004089], [2165566286, 3173171568, 104897432])"
      ]
     },
     "execution_count": 88,
     "metadata": {},
     "output_type": "execute_result"
    }
   ],
   "source": [
    "maps[0][0], maps[-1][-1]"
   ]
  },
  {
   "cell_type": "code",
   "execution_count": 89,
   "metadata": {},
   "outputs": [],
   "source": [
    "current_positions = seeds.copy()\n",
    "for m in maps:\n",
    "    moved = [False]*len(current_positions)\n",
    "    for l in m:\n",
    "        for i in range(len(current_positions)):\n",
    "            if moved[i]:\n",
    "                continue\n",
    "            diff = current_positions[i]-l[1]\n",
    "            if 0 <= diff and diff < l[2]:\n",
    "                #print('Start:', current_positions[i])\n",
    "                #print('Map:', l)\n",
    "                #print('New:', l[0]+diff)\n",
    "                current_positions[i] = l[0]+diff\n",
    "                moved[i] = True"
   ]
  },
  {
   "cell_type": "code",
   "execution_count": 90,
   "metadata": {},
   "outputs": [
    {
     "data": {
      "text/plain": [
       "806029445"
      ]
     },
     "execution_count": 90,
     "metadata": {},
     "output_type": "execute_result"
    }
   ],
   "source": [
    "min(current_positions)"
   ]
  },
  {
   "cell_type": "code",
   "execution_count": 91,
   "metadata": {},
   "outputs": [],
   "source": [
    "seed_ranges = [[seeds[i], seeds[i]+seeds[i+1]-1] for i in range(0, len(seeds), 2)]"
   ]
  },
  {
   "cell_type": "code",
   "execution_count": 92,
   "metadata": {},
   "outputs": [
    {
     "data": {
      "text/plain": [
       "[[3416930225, 3473795399],\n",
       " [4245248379, 4252390733],\n",
       " [1808166864, 2103048973],\n",
       " [863761171, 1097099279],\n",
       " [4114335326, 4182246916],\n",
       " [1198254212, 1702493368],\n",
       " [3491380151, 3670377073],\n",
       " [3965970270, 3981200866],\n",
       " [2461206486, 2594812879],\n",
       " [2313929258, 2398524945]]"
      ]
     },
     "execution_count": 92,
     "metadata": {},
     "output_type": "execute_result"
    }
   ],
   "source": [
    "seed_ranges"
   ]
  },
  {
   "cell_type": "code",
   "execution_count": 93,
   "metadata": {},
   "outputs": [],
   "source": [
    "# returns (tuple of unmapped ranges, tuple of mapped ranges)\n",
    "def map_range(r, l):\n",
    "    move = l[0]-l[1]\n",
    "    interval = [l[1], l[1]+l[2]-1]\n",
    "    if r[1] < interval[0] or r[0] > interval[1]:\n",
    "        return ((r,), ())\n",
    "    if r[0] >= interval[0] and r[1] <= interval[1]:\n",
    "        return ((), ([r[0]+move, r[1]+move],))\n",
    "    if r[0] < interval[0] and r[1] <= interval[1]:\n",
    "        return (([r[0], interval[0]-1],), ([interval[0]+move, r[1]+move],))\n",
    "    if r[0] >= interval[0] and r[1] > interval[1]:\n",
    "        return (([interval[1]+1, r[1]],), ([r[0]+move, interval[1]+move],))\n",
    "    return (([r[0], interval[0]-1], [interval[1]+1, r[1]],), ([interval[0]+move, interval[1]+move],))"
   ]
  },
  {
   "cell_type": "code",
   "execution_count": 94,
   "metadata": {},
   "outputs": [],
   "source": [
    "current_ranges = seed_ranges.copy()\n",
    "#current_ranges = [[82, 82]]\n",
    "for m in maps:\n",
    "    new_ranges = []\n",
    "    while current_ranges:\n",
    "        current_range = current_ranges.pop()\n",
    "        #print(current_ranges)\n",
    "        flag = True\n",
    "        for l in m:\n",
    "            unmapped, mapped = map_range(current_range, l)\n",
    "            #if len(mapped) > 0:\n",
    "            #    print(current_range, l)\n",
    "            #    print(unmapped, mapped)\n",
    "            for r in mapped:\n",
    "                new_ranges.append(r)\n",
    "                #print(new_ranges)\n",
    "            if len(unmapped) == 0:\n",
    "                #print('break')\n",
    "                flag = False\n",
    "                break\n",
    "            if len(unmapped) == 2:\n",
    "                current_ranges.append(unmapped[1])\n",
    "            current_range = unmapped[0]\n",
    "        if flag:\n",
    "            new_ranges.append(current_range)\n",
    "    #print('Status:')\n",
    "    #print(new_ranges)\n",
    "    #print()\n",
    "    current_ranges = new_ranges"
   ]
  },
  {
   "cell_type": "code",
   "execution_count": 95,
   "metadata": {},
   "outputs": [
    {
     "data": {
      "text/plain": [
       "[59370572, 77781695]"
      ]
     },
     "execution_count": 95,
     "metadata": {},
     "output_type": "execute_result"
    }
   ],
   "source": [
    "min(current_ranges, key=lambda x: x[0])"
   ]
  },
  {
   "cell_type": "markdown",
   "metadata": {},
   "source": [
    "# Example data"
   ]
  },
  {
   "cell_type": "code",
   "execution_count": 63,
   "metadata": {},
   "outputs": [],
   "source": [
    "seeds = []\n",
    "maps = []\n",
    "\n",
    "with open(\"./data/day5_test.txt\") as f:\n",
    "    line = f.readline().rstrip().split(': ')[1]\n",
    "    seeds = list(map(int, line.split(' ')))\n",
    "    while line := f.readline():\n",
    "        line = line.rstrip()\n",
    "        if line == '':\n",
    "            continue\n",
    "        if ':' in line:\n",
    "            maps.append([])\n",
    "        else:\n",
    "            maps[-1].append(list(map(int, line.split(' '))))"
   ]
  },
  {
   "cell_type": "code",
   "execution_count": 64,
   "metadata": {},
   "outputs": [],
   "source": [
    "seed_ranges = [[seeds[i], seeds[i]+seeds[i+1]-1] for i in range(0, len(seeds), 2)]"
   ]
  },
  {
   "cell_type": "code",
   "execution_count": 65,
   "metadata": {},
   "outputs": [
    {
     "data": {
      "text/plain": [
       "[[79, 92], [55, 67]]"
      ]
     },
     "execution_count": 65,
     "metadata": {},
     "output_type": "execute_result"
    }
   ],
   "source": [
    "seed_ranges"
   ]
  },
  {
   "cell_type": "code",
   "execution_count": 84,
   "metadata": {},
   "outputs": [],
   "source": [
    "current_ranges = seed_ranges.copy()\n",
    "#current_ranges = [[82, 82]]\n",
    "for m in maps:\n",
    "    new_ranges = []\n",
    "    while current_ranges:\n",
    "        current_range = current_ranges.pop()\n",
    "        #print(current_ranges)\n",
    "        flag = True\n",
    "        for l in m:\n",
    "            unmapped, mapped = map_range(current_range, l)\n",
    "            #if len(mapped) > 0:\n",
    "            #    print(current_range, l)\n",
    "            #    print(unmapped, mapped)\n",
    "            for r in mapped:\n",
    "                new_ranges.append(r)\n",
    "                #print(new_ranges)\n",
    "            if len(unmapped) == 0:\n",
    "                #print('break')\n",
    "                flag = False\n",
    "                break\n",
    "            if len(unmapped) == 2:\n",
    "                current_ranges.append(unmapped[1])\n",
    "            current_range = unmapped[0]\n",
    "        if flag:\n",
    "            new_ranges.append(current_range)\n",
    "    #print('Status:')\n",
    "    #print(new_ranges)\n",
    "    #print()\n",
    "    current_ranges = new_ranges"
   ]
  },
  {
   "cell_type": "code",
   "execution_count": 85,
   "metadata": {},
   "outputs": [
    {
     "data": {
      "text/plain": [
       "[[86, 89], [94, 96], [56, 59], [97, 98], [60, 60], [46, 55], [82, 84]]"
      ]
     },
     "execution_count": 85,
     "metadata": {},
     "output_type": "execute_result"
    }
   ],
   "source": [
    "current_ranges"
   ]
  },
  {
   "cell_type": "code",
   "execution_count": null,
   "metadata": {},
   "outputs": [],
   "source": []
  }
 ],
 "metadata": {
  "kernelspec": {
   "display_name": "Python 3 (ipykernel)",
   "language": "python",
   "name": "python3"
  },
  "language_info": {
   "codemirror_mode": {
    "name": "ipython",
    "version": 3
   },
   "file_extension": ".py",
   "mimetype": "text/x-python",
   "name": "python",
   "nbconvert_exporter": "python",
   "pygments_lexer": "ipython3",
   "version": "3.10.12"
  }
 },
 "nbformat": 4,
 "nbformat_minor": 5
}

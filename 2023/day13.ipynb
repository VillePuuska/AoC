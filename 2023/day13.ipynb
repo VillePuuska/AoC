{
 "cells": [
  {
   "cell_type": "code",
   "execution_count": 1,
   "metadata": {},
   "outputs": [],
   "source": [
    "data_rows = []\n",
    "data_cols = []\n",
    "\n",
    "with open(\"./data/day13.txt\") as f:\n",
    "    blocks = f.read().split('\\n\\n')\n",
    "    for block in blocks:\n",
    "        block = block.split('\\n')\n",
    "        data_rows.append([])\n",
    "        data_cols.append([])\n",
    "        for row in block:\n",
    "            data_rows[-1].append(row)\n",
    "        for i in range(len(block[0])):\n",
    "            data_cols[-1].append(''.join([row[i] for row in block]))"
   ]
  },
  {
   "cell_type": "code",
   "execution_count": 2,
   "id": "8bc848cf",
   "metadata": {},
   "outputs": [
    {
     "name": "stdout",
     "output_type": "stream",
     "text": [
      ".###....#.###..\n",
      "...#.##...#.#..\n",
      ".#.#.#.......##\n",
      "#######..#..#..\n",
      "#####.###...#..\n",
      "##.##......#.##\n",
      "###.#.##.#...##\n",
      "#####.#.###....\n",
      "###..##.####...\n",
      "....#...#....##\n",
      "...#.######.#..\n",
      ".#..#...#.###..\n",
      ".###.####..#...\n",
      "..#####........\n",
      "####...#.#..###\n",
      "####...#.#..###\n",
      "..###.#........\n"
     ]
    }
   ],
   "source": [
    "for row in data_rows[0]:\n",
    "    print(row)"
   ]
  },
  {
   "cell_type": "code",
   "execution_count": 3,
   "id": "5e892000",
   "metadata": {},
   "outputs": [
    {
     "name": "stdout",
     "output_type": "stream",
     "text": [
      "...######.....##.\n",
      "#.#######..##.##.\n",
      "#..##.###...#####\n",
      "######.#..#.#####\n",
      "...#####.#.#.#..#\n",
      ".###....#.#.##...\n",
      ".#.##.###.#.##..#\n",
      "....#.#...#.#.##.\n",
      "#...#..######....\n",
      "...#..###.#...##.\n",
      "##.....##.##.....\n",
      "#....#..#..##....\n",
      "##.##.....##..##.\n",
      "..#..##..#....##.\n",
      "..#..##..#....##.\n"
     ]
    }
   ],
   "source": [
    "for col in data_cols[0]:\n",
    "    print(col)"
   ]
  },
  {
   "cell_type": "code",
   "execution_count": 4,
   "id": "08da4e4c",
   "metadata": {},
   "outputs": [
    {
     "data": {
      "text/plain": [
       "33122"
      ]
     },
     "execution_count": 4,
     "metadata": {},
     "output_type": "execute_result"
    }
   ],
   "source": [
    "s = 0\n",
    "for i in range(len(data_cols)):\n",
    "    flag = False\n",
    "    cols = data_cols[i]\n",
    "    for col in range(len(cols)-1):\n",
    "        size = min(col, len(cols)-col-2)\n",
    "        if cols[col-size:col+1] == list(reversed(cols[col+1:col+1+size+1])):\n",
    "            #print('vertical match', col, col+1)\n",
    "            s += col+1\n",
    "            flag = True\n",
    "            break\n",
    "    if flag:\n",
    "        continue\n",
    "    rows = data_rows[i]\n",
    "    for row in range(len(rows)-1):\n",
    "        size = min(row, len(rows)-row-2)\n",
    "        if rows[row-size:row+1] == list(reversed(rows[row+1:row+1+size+1])):\n",
    "            #print('horizontal match', row, row+1)\n",
    "            s += 100*(row+1)\n",
    "            flag = True\n",
    "            break\n",
    "    if not flag:\n",
    "        print('something went horribly wrong with input block', i)\n",
    "s"
   ]
  },
  {
   "cell_type": "code",
   "execution_count": 5,
   "id": "5fbf2c52",
   "metadata": {},
   "outputs": [],
   "source": [
    "def diff(lines1, lines2):\n",
    "    res = 0\n",
    "    for i in range(len(lines1)):\n",
    "        for j in range(len(lines1[i])):\n",
    "            res += (lines1[i][j] != lines2[i][j])\n",
    "    return res"
   ]
  },
  {
   "cell_type": "code",
   "execution_count": 6,
   "id": "fe526992",
   "metadata": {},
   "outputs": [
    {
     "data": {
      "text/plain": [
       "32312"
      ]
     },
     "execution_count": 6,
     "metadata": {},
     "output_type": "execute_result"
    }
   ],
   "source": [
    "s = 0\n",
    "for i in range(len(data_cols)):\n",
    "    flag = False\n",
    "    cols = data_cols[i]\n",
    "    for col in range(len(cols)-1):\n",
    "        size = min(col, len(cols)-col-2)\n",
    "        if diff(cols[col-size:col+1], list(reversed(cols[col+1:col+1+size+1]))) == 1:\n",
    "            #print('vertical match', col, col+1)\n",
    "            s += col+1\n",
    "            flag = True\n",
    "            break\n",
    "    if flag:\n",
    "        continue\n",
    "    rows = data_rows[i]\n",
    "    for row in range(len(rows)-1):\n",
    "        size = min(row, len(rows)-row-2)\n",
    "        if diff(rows[row-size:row+1], list(reversed(rows[row+1:row+1+size+1]))) == 1:\n",
    "            #print('horizontal match', row, row+1)\n",
    "            s += 100*(row+1)\n",
    "            flag = True\n",
    "            break\n",
    "    if not flag:\n",
    "        print('something went horribly wrong with input block', i)\n",
    "s"
   ]
  },
  {
   "cell_type": "code",
   "execution_count": null,
   "metadata": {},
   "outputs": [],
   "source": []
  }
 ],
 "metadata": {
  "kernelspec": {
   "display_name": "Python 3 (ipykernel)",
   "language": "python",
   "name": "python3"
  },
  "language_info": {
   "codemirror_mode": {
    "name": "ipython",
    "version": 3
   },
   "file_extension": ".py",
   "mimetype": "text/x-python",
   "name": "python",
   "nbconvert_exporter": "python",
   "pygments_lexer": "ipython3",
   "version": "3.10.12"
  }
 },
 "nbformat": 4,
 "nbformat_minor": 5
}

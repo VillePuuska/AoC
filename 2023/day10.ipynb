{
 "cells": [
  {
   "cell_type": "code",
   "execution_count": 1,
   "id": "8abd57b2",
   "metadata": {},
   "outputs": [],
   "source": [
    "from collections import deque"
   ]
  },
  {
   "cell_type": "code",
   "execution_count": 2,
   "metadata": {},
   "outputs": [],
   "source": [
    "conn = {}\n",
    "start = None\n",
    "\n",
    "filepath = \"./data/day10.txt\"\n",
    "\n",
    "with open(filepath) as f:\n",
    "    row = 0\n",
    "    while line := f.readline():\n",
    "        line = line.rstrip()\n",
    "        for col, c in enumerate(line):\n",
    "            pos = (row, col)\n",
    "            if c == 'S':\n",
    "                start = pos\n",
    "            elif c == '.':\n",
    "                continue\n",
    "            elif c == 'F':\n",
    "                conn[pos] = [(row+1, col), (row, col+1)]\n",
    "            elif c == '7':\n",
    "                conn[pos] = [(row+1, col), (row, col-1)]\n",
    "            elif c == 'J':\n",
    "                conn[pos] = [(row-1, col), (row, col-1)]\n",
    "            elif c == 'L':\n",
    "                conn[pos] = [(row-1, col), (row, col+1)]\n",
    "            elif c == '-':\n",
    "                conn[pos] = [(row, col-1), (row, col+1)]\n",
    "            elif c == '|':\n",
    "                conn[pos] = [(row+1, col), (row-1, col)]\n",
    "            else:\n",
    "                print('we should not be here!', c)\n",
    "        row += 1"
   ]
  },
  {
   "cell_type": "code",
   "execution_count": 3,
   "metadata": {},
   "outputs": [
    {
     "data": {
      "text/plain": [
       "(83, 25)"
      ]
     },
     "execution_count": 3,
     "metadata": {},
     "output_type": "execute_result"
    }
   ],
   "source": [
    "start"
   ]
  },
  {
   "cell_type": "code",
   "execution_count": 4,
   "id": "3fbe23b2",
   "metadata": {},
   "outputs": [
    {
     "data": {
      "text/plain": [
       "[(82, 25), (84, 25), (83, 24), (83, 26)]"
      ]
     },
     "execution_count": 4,
     "metadata": {},
     "output_type": "execute_result"
    }
   ],
   "source": [
    "conn[start] = [(start[0]+i, start[1]) for i in [-1, 1]] + [(start[0], start[1]+i) for i in [-1, 1]]\n",
    "conn[start]"
   ]
  },
  {
   "cell_type": "code",
   "execution_count": 5,
   "id": "adcc1322",
   "metadata": {},
   "outputs": [
    {
     "data": {
      "text/plain": [
       "6754"
      ]
     },
     "execution_count": 5,
     "metadata": {},
     "output_type": "execute_result"
    }
   ],
   "source": [
    "q = deque()\n",
    "q.append(start + (0,))\n",
    "visited = {start}\n",
    "m = 0\n",
    "while q:\n",
    "    row, col, d = q.pop()\n",
    "    m = d\n",
    "    for row2, col2 in conn[(row, col)]:\n",
    "        if (row2, col2) in visited:\n",
    "            continue\n",
    "        if (row2, col2) not in conn:\n",
    "            continue\n",
    "        if (row, col) not in conn[(row2, col2)]:\n",
    "            continue\n",
    "        q.appendleft((row2, col2, d+1))\n",
    "        visited.add((row2, col2))\n",
    "m"
   ]
  },
  {
   "cell_type": "code",
   "execution_count": 6,
   "id": "ee559743",
   "metadata": {},
   "outputs": [],
   "source": [
    "loop = {start}\n",
    "q = deque()\n",
    "q.append(start)\n",
    "while q:\n",
    "    node = q.pop()\n",
    "    for adj_node in conn[node]:\n",
    "        if adj_node in loop:\n",
    "            continue\n",
    "        if adj_node not in conn:\n",
    "            continue\n",
    "        if node not in conn[adj_node]:\n",
    "            continue\n",
    "        q.appendleft(adj_node)\n",
    "        loop.add(adj_node)"
   ]
  },
  {
   "cell_type": "code",
   "execution_count": 7,
   "id": "38c6d798",
   "metadata": {},
   "outputs": [
    {
     "data": {
      "text/plain": [
       "13508"
      ]
     },
     "execution_count": 7,
     "metadata": {},
     "output_type": "execute_result"
    }
   ],
   "source": [
    "len(loop)"
   ]
  },
  {
   "cell_type": "code",
   "execution_count": 8,
   "id": "54a147f7",
   "metadata": {},
   "outputs": [],
   "source": [
    "max_row, max_col = 140, 140"
   ]
  },
  {
   "cell_type": "code",
   "execution_count": 9,
   "id": "57a26fc7",
   "metadata": {},
   "outputs": [],
   "source": [
    "def connected(node1, node2):\n",
    "    if (node1 not in conn) or (node2 not in conn):\n",
    "        return False\n",
    "    return (node1 in conn[node2]) and (node2 in conn[node1])"
   ]
  },
  {
   "cell_type": "code",
   "execution_count": 10,
   "id": "0bdb223c",
   "metadata": {},
   "outputs": [],
   "source": [
    "big_loop = set()\n",
    "for row, col in loop:\n",
    "    big_loop.add((2*row, 2*col))\n",
    "    for i in [-1, 1]:\n",
    "        if connected((row, col), (row+i, col)):\n",
    "            big_loop.add((2*row+i, 2*col))\n",
    "        if connected((row, col), (row, col+i)):\n",
    "            big_loop.add((2*row, 2*col+i))"
   ]
  },
  {
   "cell_type": "code",
   "execution_count": 11,
   "id": "503427ca",
   "metadata": {},
   "outputs": [
    {
     "data": {
      "text/plain": [
       "(27016, 27016)"
      ]
     },
     "execution_count": 11,
     "metadata": {},
     "output_type": "execute_result"
    }
   ],
   "source": [
    "len(big_loop), 2*len(loop)"
   ]
  },
  {
   "cell_type": "code",
   "execution_count": 12,
   "id": "581a37f2",
   "metadata": {},
   "outputs": [],
   "source": [
    "outside_points = set()\n",
    "for r in range(max_row):\n",
    "    for c in range(max_col):\n",
    "        point = (r, c)\n",
    "        if point in loop:\n",
    "            continue\n",
    "        if point in outside_points:\n",
    "            continue\n",
    "        outside_flag = False\n",
    "        path = set()\n",
    "        path.add((2*r, 2*c))\n",
    "        q = deque()\n",
    "        q.append((2*r, 2*c))\n",
    "        while q and not outside_flag:\n",
    "            row, col = q.pop()\n",
    "            for i in [-1, 1]:\n",
    "                if row+i < 0 or row+i >= 2*max_row:\n",
    "                    outside_flag = True\n",
    "                    continue\n",
    "                if (row+i, col) in big_loop:\n",
    "                    continue\n",
    "                if (row+i, col) in path:\n",
    "                    continue\n",
    "                path.add((row+i, col))\n",
    "                q.appendleft((row+i, col))\n",
    "            for i in [-1, 1]:\n",
    "                if col+i < 0 or col+i >= 2*max_col:\n",
    "                    outside_flag = True\n",
    "                    continue\n",
    "                if (row, col+i) in big_loop:\n",
    "                    continue\n",
    "                if (row, col+i) in path:\n",
    "                    continue\n",
    "                path.add((row, col+i))\n",
    "                q.appendleft((row, col+i))\n",
    "        if outside_flag:\n",
    "            for a, b in path:\n",
    "                if a%2 == 0 and b%2 == 0:\n",
    "                    outside_points.add((a//2, b//2))"
   ]
  },
  {
   "cell_type": "code",
   "execution_count": 13,
   "id": "dfe61502",
   "metadata": {},
   "outputs": [
    {
     "data": {
      "text/plain": [
       "(19600, 13508, 5525, 567)"
      ]
     },
     "execution_count": 13,
     "metadata": {},
     "output_type": "execute_result"
    }
   ],
   "source": [
    "max_row*max_col, len(loop), len(outside_points), max_row*max_col-len(loop)-len(outside_points)"
   ]
  },
  {
   "cell_type": "code",
   "execution_count": null,
   "id": "61659bd0",
   "metadata": {},
   "outputs": [],
   "source": []
  }
 ],
 "metadata": {
  "kernelspec": {
   "display_name": "Python 3 (ipykernel)",
   "language": "python",
   "name": "python3"
  },
  "language_info": {
   "codemirror_mode": {
    "name": "ipython",
    "version": 3
   },
   "file_extension": ".py",
   "mimetype": "text/x-python",
   "name": "python",
   "nbconvert_exporter": "python",
   "pygments_lexer": "ipython3",
   "version": "3.10.12"
  }
 },
 "nbformat": 4,
 "nbformat_minor": 5
}

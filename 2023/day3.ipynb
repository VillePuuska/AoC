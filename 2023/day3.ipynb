{
 "cells": [
  {
   "cell_type": "code",
   "execution_count": 17,
   "metadata": {},
   "outputs": [],
   "source": [
    "from itertools import product"
   ]
  },
  {
   "cell_type": "code",
   "execution_count": 14,
   "metadata": {},
   "outputs": [],
   "source": [
    "numbers = []\n",
    "symbols = []\n",
    "\n",
    "with open(\"./data/day3.txt\") as f:\n",
    "    linecount = 0\n",
    "    while line := f.readline():\n",
    "        line = line.rstrip()\n",
    "        num_start = None\n",
    "        for i, c in enumerate(line):\n",
    "            if c == '.':\n",
    "                if num_start is not None:\n",
    "                    numbers.append((linecount, num_start, i-1, int(line[num_start:i])))\n",
    "                    num_start = None\n",
    "            elif c.isdigit():\n",
    "                if num_start is None:\n",
    "                    num_start = i\n",
    "            else:\n",
    "                if num_start is not None:\n",
    "                    numbers.append((linecount, num_start, i-1, int(line[num_start:i])))\n",
    "                    num_start = None\n",
    "                symbols.append((linecount, i))\n",
    "        if num_start is not None:\n",
    "            numbers.append((linecount, num_start, len(line)-1, int(line[num_start:len(line)])))\n",
    "        linecount += 1"
   ]
  },
  {
   "cell_type": "code",
   "execution_count": 15,
   "metadata": {},
   "outputs": [
    {
     "name": "stdout",
     "output_type": "stream",
     "text": [
      "(19, 137, 139, 132)\n",
      "(42, 2, 4, 132)\n",
      "(70, 55, 57, 132)\n"
     ]
    }
   ],
   "source": [
    "for x in numbers:\n",
    "    if x[-1] == 132:\n",
    "        print(x)"
   ]
  },
  {
   "cell_type": "code",
   "execution_count": 16,
   "metadata": {},
   "outputs": [],
   "source": [
    "def touching(x, y):\n",
    "    return abs(y[0]-x[0]) <= 1 and (y[1] >= x[1]-1) and (y[1] <= x[2]+1)"
   ]
  },
  {
   "cell_type": "code",
   "execution_count": 18,
   "metadata": {},
   "outputs": [
    {
     "name": "stdout",
     "output_type": "stream",
     "text": [
      "(0, 7, 9, 262) (1, 35) False\n",
      "(0, 7, 9, 262) (1, 47) False\n",
      "(0, 7, 9, 262) (1, 64) False\n",
      "(0, 14, 16, 300) (1, 35) False\n",
      "(0, 14, 16, 300) (1, 47) False\n",
      "(0, 14, 16, 300) (1, 64) False\n",
      "(0, 36, 38, 507) (1, 35) True\n",
      "(0, 36, 38, 507) (1, 47) False\n",
      "(0, 36, 38, 507) (1, 64) False\n"
     ]
    }
   ],
   "source": [
    "for (x, y) in product(numbers[:3], symbols[:3]):\n",
    "    print(x, y, touching(x, y))"
   ]
  },
  {
   "cell_type": "code",
   "execution_count": 19,
   "metadata": {},
   "outputs": [
    {
     "data": {
      "text/plain": [
       "517021"
      ]
     },
     "execution_count": 19,
     "metadata": {},
     "output_type": "execute_result"
    }
   ],
   "source": [
    "s = 0\n",
    "for (x, y) in product(numbers, symbols):\n",
    "    s += touching(x, y)*x[-1]\n",
    "s"
   ]
  },
  {
   "cell_type": "code",
   "execution_count": 20,
   "metadata": {},
   "outputs": [],
   "source": [
    "star_symbols = []\n",
    "\n",
    "with open(\"./data/day3.txt\") as f:\n",
    "    linecount = 0\n",
    "    while line := f.readline():\n",
    "        line = line.rstrip()\n",
    "        for i, c in enumerate(line):\n",
    "            if c == '*':\n",
    "                star_symbols.append((linecount, i))\n",
    "        linecount += 1"
   ]
  },
  {
   "cell_type": "code",
   "execution_count": 21,
   "metadata": {},
   "outputs": [
    {
     "data": {
      "text/plain": [
       "[(1, 35), (1, 47), (1, 64)]"
      ]
     },
     "execution_count": 21,
     "metadata": {},
     "output_type": "execute_result"
    }
   ],
   "source": [
    "star_symbols[:3]"
   ]
  },
  {
   "cell_type": "code",
   "execution_count": 23,
   "metadata": {},
   "outputs": [
    {
     "data": {
      "text/plain": [
       "81296995"
      ]
     },
     "execution_count": 23,
     "metadata": {},
     "output_type": "execute_result"
    }
   ],
   "source": [
    "s = 0\n",
    "for star in star_symbols:\n",
    "    t = []\n",
    "    for x in numbers:\n",
    "        if touching(x, star):\n",
    "            t.append(x[-1])\n",
    "    if len(t) == 2:\n",
    "        s += t[0]*t[1]\n",
    "s"
   ]
  },
  {
   "cell_type": "code",
   "execution_count": null,
   "metadata": {},
   "outputs": [],
   "source": []
  }
 ],
 "metadata": {
  "kernelspec": {
   "display_name": "Python 3 (ipykernel)",
   "language": "python",
   "name": "python3"
  },
  "language_info": {
   "codemirror_mode": {
    "name": "ipython",
    "version": 3
   },
   "file_extension": ".py",
   "mimetype": "text/x-python",
   "name": "python",
   "nbconvert_exporter": "python",
   "pygments_lexer": "ipython3",
   "version": "3.10.12"
  }
 },
 "nbformat": 4,
 "nbformat_minor": 5
}

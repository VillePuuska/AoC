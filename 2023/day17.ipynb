{
 "cells": [
  {
   "cell_type": "code",
   "execution_count": 1,
   "metadata": {},
   "outputs": [],
   "source": [
    "grid = []\n",
    "\n",
    "with open(\"./data/day17.txt\") as f:\n",
    "    while line := f.readline():\n",
    "        line = line.rstrip()\n",
    "        grid.append(list(map(int, list(line))))"
   ]
  },
  {
   "cell_type": "code",
   "execution_count": 2,
   "id": "b4fe6f0c",
   "metadata": {},
   "outputs": [],
   "source": [
    "from heapq import heappush, heappop"
   ]
  },
  {
   "cell_type": "code",
   "execution_count": 3,
   "id": "f70bb159",
   "metadata": {},
   "outputs": [
    {
     "name": "stdout",
     "output_type": "stream",
     "text": [
      "638\n"
     ]
    }
   ],
   "source": [
    "res = -1\n",
    "\n",
    "visited = set()\n",
    "h = [(0, 0, 0, 'x')]\n",
    "while h:\n",
    "    loss, row, col, d = heappop(h)\n",
    "    if row == len(grid)-1 and col == len(grid[0])-1:\n",
    "        res = loss\n",
    "        print(res)\n",
    "        break\n",
    "    if (row, col, d) in visited:\n",
    "        continue\n",
    "    visited.add((row, col, d))\n",
    "    # move down and up\n",
    "    if d != 'ud':\n",
    "        extra_loss = 0\n",
    "        for i in range(1, 4):\n",
    "            if row+i >= len(grid):\n",
    "                break\n",
    "            extra_loss += grid[row+i][col]\n",
    "            heappush(h, (loss+extra_loss, row+i, col, 'ud'))\n",
    "        extra_loss = 0\n",
    "        for i in range(1, 4):\n",
    "            if row-i < 0:\n",
    "                break\n",
    "            extra_loss += grid[row-i][col]\n",
    "            heappush(h, (loss+extra_loss, row-i, col, 'ud'))\n",
    "    # move right and left\n",
    "    if d != 'lr':\n",
    "        extra_loss = 0\n",
    "        for i in range(1, 4):\n",
    "            if col+i >= len(grid[0]):\n",
    "                break\n",
    "            extra_loss += grid[row][col+i]\n",
    "            heappush(h, (loss+extra_loss, row, col+i, 'lr'))\n",
    "        extra_loss = 0\n",
    "        for i in range(1, 4):\n",
    "            if col-i < 0:\n",
    "                break\n",
    "            extra_loss += grid[row][col-i]\n",
    "            heappush(h, (loss+extra_loss, row, col-i, 'lr'))"
   ]
  },
  {
   "cell_type": "code",
   "execution_count": 4,
   "id": "04a9838e",
   "metadata": {},
   "outputs": [
    {
     "name": "stdout",
     "output_type": "stream",
     "text": [
      "748\n"
     ]
    }
   ],
   "source": [
    "res = -1\n",
    "\n",
    "visited = set()\n",
    "h = [(0, 0, 0, 'x')]\n",
    "while h:\n",
    "    loss, row, col, d = heappop(h)\n",
    "    if row == len(grid)-1 and col == len(grid[0])-1:\n",
    "        res = loss\n",
    "        print(res)\n",
    "        break\n",
    "    if (row, col, d) in visited:\n",
    "        continue\n",
    "    visited.add((row, col, d))\n",
    "    # move down and up\n",
    "    if d != 'ud':\n",
    "        extra_loss = 0\n",
    "        for i in range(1, 11):\n",
    "            if row+i >= len(grid):\n",
    "                break\n",
    "            extra_loss += grid[row+i][col]\n",
    "            if i < 4:\n",
    "                continue\n",
    "            heappush(h, (loss+extra_loss, row+i, col, 'ud'))\n",
    "        extra_loss = 0\n",
    "        for i in range(1, 11):\n",
    "            if row-i < 0:\n",
    "                break\n",
    "            extra_loss += grid[row-i][col]\n",
    "            if i < 4:\n",
    "                continue\n",
    "            heappush(h, (loss+extra_loss, row-i, col, 'ud'))\n",
    "    # move right and left\n",
    "    if d != 'lr':\n",
    "        extra_loss = 0\n",
    "        for i in range(1, 11):\n",
    "            if col+i >= len(grid[0]):\n",
    "                break\n",
    "            extra_loss += grid[row][col+i]\n",
    "            if i < 4:\n",
    "                continue\n",
    "            heappush(h, (loss+extra_loss, row, col+i, 'lr'))\n",
    "        extra_loss = 0\n",
    "        for i in range(1, 11):\n",
    "            if col-i < 0:\n",
    "                break\n",
    "            extra_loss += grid[row][col-i]\n",
    "            if i < 4:\n",
    "                continue\n",
    "            heappush(h, (loss+extra_loss, row, col-i, 'lr'))"
   ]
  },
  {
   "cell_type": "code",
   "execution_count": null,
   "metadata": {},
   "outputs": [],
   "source": []
  }
 ],
 "metadata": {
  "kernelspec": {
   "display_name": "Python 3 (ipykernel)",
   "language": "python",
   "name": "python3"
  },
  "language_info": {
   "codemirror_mode": {
    "name": "ipython",
    "version": 3
   },
   "file_extension": ".py",
   "mimetype": "text/x-python",
   "name": "python",
   "nbconvert_exporter": "python",
   "pygments_lexer": "ipython3",
   "version": "3.10.12"
  }
 },
 "nbformat": 4,
 "nbformat_minor": 5
}

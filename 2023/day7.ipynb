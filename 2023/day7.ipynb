{
 "cells": [
  {
   "cell_type": "code",
   "execution_count": 1,
   "metadata": {},
   "outputs": [],
   "source": [
    "from collections import Counter"
   ]
  },
  {
   "cell_type": "code",
   "execution_count": 2,
   "metadata": {},
   "outputs": [],
   "source": [
    "hands = []\n",
    "bids = []\n",
    "\n",
    "with open(\"./data/day7.txt\") as f:\n",
    "    while line := f.readline():\n",
    "        line = line.rstrip()\n",
    "        hand, bid = line.split()\n",
    "        hands.append(hand)\n",
    "        bids.append(int(bid))"
   ]
  },
  {
   "cell_type": "code",
   "execution_count": 3,
   "metadata": {},
   "outputs": [
    {
     "data": {
      "text/plain": [
       "(['T33AA', 'J5JJ5', 'J4444', 'T5K98', '7Q6K2'], [613, 411, 240, 463, 4])"
      ]
     },
     "execution_count": 3,
     "metadata": {},
     "output_type": "execute_result"
    }
   ],
   "source": [
    "hands[:5], bids[:5]"
   ]
  },
  {
   "cell_type": "code",
   "execution_count": 4,
   "metadata": {},
   "outputs": [],
   "source": [
    "chars = 'AKQJT98765432'\n",
    "def strength(hand):\n",
    "    count_hand = Counter(hand)\n",
    "    max_count = 0\n",
    "    second_max_count = 0\n",
    "    for c in chars:\n",
    "        if count_hand[c] > max_count:\n",
    "            second_max_count = max_count\n",
    "            max_count = count_hand[c]\n",
    "        elif count_hand[c] > second_max_count:\n",
    "            second_max_count = count_hand[c]\n",
    "    if max_count == 5:\n",
    "        return 6\n",
    "    if max_count == 4:\n",
    "        return 5\n",
    "    if max_count == 3 and second_max_count == 2:\n",
    "        return 4\n",
    "    if max_count == 3:\n",
    "        return 3\n",
    "    if max_count == 2 and second_max_count == 2:\n",
    "        return 2\n",
    "    if max_count == 2:\n",
    "        return 1\n",
    "    return 0"
   ]
  },
  {
   "cell_type": "code",
   "execution_count": 5,
   "metadata": {},
   "outputs": [],
   "source": [
    "def hand_key(hand):\n",
    "    res = []\n",
    "    res.append(strength(hand))\n",
    "    for i in range(5):\n",
    "        res.append(-chars.index(hand[i]))\n",
    "    return res"
   ]
  },
  {
   "cell_type": "code",
   "execution_count": 6,
   "metadata": {},
   "outputs": [
    {
     "data": {
      "text/plain": [
       "([('23T4Q', 181),\n",
       "  ('24368', 854),\n",
       "  ('248Q5', 989),\n",
       "  ('24A8J', 220),\n",
       "  ('25TKJ', 342)],\n",
       " [('A7AAA', 286),\n",
       "  ('AQAAA', 976),\n",
       "  ('AA2AA', 28),\n",
       "  ('AAA8A', 510),\n",
       "  ('JJJJJ', 917)])"
      ]
     },
     "execution_count": 6,
     "metadata": {},
     "output_type": "execute_result"
    }
   ],
   "source": [
    "hand_and_bid = list(zip(hands, bids))\n",
    "hand_and_bid.sort(key=lambda x: hand_key(x[0]))\n",
    "hand_and_bid[:5], hand_and_bid[-5:]"
   ]
  },
  {
   "cell_type": "code",
   "execution_count": 7,
   "metadata": {},
   "outputs": [
    {
     "data": {
      "text/plain": [
       "251927063"
      ]
     },
     "execution_count": 7,
     "metadata": {},
     "output_type": "execute_result"
    }
   ],
   "source": [
    "s = 0\n",
    "for i, x in enumerate(hand_and_bid):\n",
    "    s += (i+1)*x[1]\n",
    "s"
   ]
  },
  {
   "cell_type": "code",
   "execution_count": 8,
   "metadata": {},
   "outputs": [],
   "source": [
    "chars2 = 'AKQT98765432J'\n",
    "def strength2(hand):\n",
    "    count_hand = Counter(hand)\n",
    "    max_count = 0\n",
    "    second_max_count = 0\n",
    "    for c in chars2[:-1]:\n",
    "        if count_hand[c] > max_count:\n",
    "            second_max_count = max_count\n",
    "            max_count = count_hand[c]\n",
    "        elif count_hand[c] > second_max_count:\n",
    "            second_max_count = count_hand[c]\n",
    "    max_count += count_hand['J']\n",
    "    if max_count == 5:\n",
    "        return 6\n",
    "    if max_count == 4:\n",
    "        return 5\n",
    "    if max_count == 3 and second_max_count == 2:\n",
    "        return 4\n",
    "    if max_count == 3:\n",
    "        return 3\n",
    "    if max_count == 2 and second_max_count == 2:\n",
    "        return 2\n",
    "    if max_count == 2:\n",
    "        return 1\n",
    "    return 0"
   ]
  },
  {
   "cell_type": "code",
   "execution_count": 9,
   "metadata": {},
   "outputs": [],
   "source": [
    "def hand_key2(hand):\n",
    "    res = []\n",
    "    res.append(strength2(hand))\n",
    "    for i in range(5):\n",
    "        res.append(-chars2.index(hand[i]))\n",
    "    return res"
   ]
  },
  {
   "cell_type": "code",
   "execution_count": 10,
   "metadata": {},
   "outputs": [
    {
     "data": {
      "text/plain": [
       "([('23T4Q', 181),\n",
       "  ('24368', 854),\n",
       "  ('248Q5', 989),\n",
       "  ('268Q4', 214),\n",
       "  ('28TAQ', 530)],\n",
       " [('QJQQQ', 487),\n",
       "  ('QQQJJ', 770),\n",
       "  ('KJJKK', 523),\n",
       "  ('KKKJK', 693),\n",
       "  ('AAJJA', 872)])"
      ]
     },
     "execution_count": 10,
     "metadata": {},
     "output_type": "execute_result"
    }
   ],
   "source": [
    "hand_and_bid2 = list(zip(hands, bids))\n",
    "hand_and_bid2.sort(key=lambda x: hand_key2(x[0]))\n",
    "hand_and_bid2[:5], hand_and_bid2[-5:]"
   ]
  },
  {
   "cell_type": "code",
   "execution_count": 11,
   "metadata": {},
   "outputs": [
    {
     "data": {
      "text/plain": [
       "255632664"
      ]
     },
     "execution_count": 11,
     "metadata": {},
     "output_type": "execute_result"
    }
   ],
   "source": [
    "s = 0\n",
    "for i, x in enumerate(hand_and_bid2):\n",
    "    s += (i+1)*x[1]\n",
    "s"
   ]
  },
  {
   "cell_type": "code",
   "execution_count": null,
   "metadata": {},
   "outputs": [],
   "source": []
  }
 ],
 "metadata": {
  "kernelspec": {
   "display_name": "Python 3 (ipykernel)",
   "language": "python",
   "name": "python3"
  },
  "language_info": {
   "codemirror_mode": {
    "name": "ipython",
    "version": 3
   },
   "file_extension": ".py",
   "mimetype": "text/x-python",
   "name": "python",
   "nbconvert_exporter": "python",
   "pygments_lexer": "ipython3",
   "version": "3.10.12"
  }
 },
 "nbformat": 4,
 "nbformat_minor": 5
}

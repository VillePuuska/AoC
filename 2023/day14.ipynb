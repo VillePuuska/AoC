{
 "cells": [
  {
   "cell_type": "code",
   "execution_count": 1,
   "metadata": {},
   "outputs": [],
   "source": [
    "stones = [[] for _ in range(100)]\n",
    "blocks = [[] for _ in range(100)]\n",
    "\n",
    "with open(\"./data/day14.txt\") as f:\n",
    "    row = 0\n",
    "    while line := f.readline():\n",
    "        line = line.rstrip()\n",
    "        for col, c in enumerate(line):\n",
    "            if c == 'O':\n",
    "                stones[col].append(row)\n",
    "            elif c == '#':\n",
    "                blocks[col].append(row)\n",
    "        row += 1"
   ]
  },
  {
   "cell_type": "code",
   "execution_count": 2,
   "id": "bd0d486d",
   "metadata": {},
   "outputs": [
    {
     "data": {
      "text/plain": [
       "([7, 18, 19, 25, 34, 46, 47, 49, 52, 57, 74, 85, 94, 98],\n",
       " [14, 21, 26, 29, 31, 51, 56, 58, 64, 66, 71, 72, 76, 80, 81, 84, 92, 96])"
      ]
     },
     "execution_count": 2,
     "metadata": {},
     "output_type": "execute_result"
    }
   ],
   "source": [
    "stones[0], blocks[0]"
   ]
  },
  {
   "cell_type": "code",
   "execution_count": 3,
   "id": "0e340300",
   "metadata": {},
   "outputs": [],
   "source": [
    "from bisect import bisect_left"
   ]
  },
  {
   "cell_type": "code",
   "execution_count": 4,
   "id": "268cab3e",
   "metadata": {},
   "outputs": [],
   "source": [
    "for i in range(len(stones)):\n",
    "    for stone_ind in range(len(stones[i])):\n",
    "        row = stones[i][stone_ind]\n",
    "        new_row = 0\n",
    "        above_block = bisect_left(blocks[i], row)\n",
    "        if above_block > 0:\n",
    "            new_row = max(new_row, blocks[i][above_block-1]+1)\n",
    "        if stone_ind > 0:\n",
    "            new_row = max(new_row, stones[i][stone_ind-1]+1)\n",
    "        stones[i][stone_ind] = new_row"
   ]
  },
  {
   "cell_type": "code",
   "execution_count": 5,
   "id": "908bec16",
   "metadata": {},
   "outputs": [
    {
     "data": {
      "text/plain": [
       "([0, 15, 16, 22, 32, 33, 34, 35, 52, 57, 73, 85, 93, 97],\n",
       " [14, 21, 26, 29, 31, 51, 56, 58, 64, 66, 71, 72, 76, 80, 81, 84, 92, 96])"
      ]
     },
     "execution_count": 5,
     "metadata": {},
     "output_type": "execute_result"
    }
   ],
   "source": [
    "stones[0], blocks[0]"
   ]
  },
  {
   "cell_type": "code",
   "execution_count": 6,
   "id": "70932b57",
   "metadata": {},
   "outputs": [
    {
     "data": {
      "text/plain": [
       "108955"
      ]
     },
     "execution_count": 6,
     "metadata": {},
     "output_type": "execute_result"
    }
   ],
   "source": [
    "s = 0\n",
    "for i in range(len(stones)):\n",
    "    for row in stones[i]:\n",
    "        s += 100-row\n",
    "s"
   ]
  },
  {
   "cell_type": "markdown",
   "id": "42910b41",
   "metadata": {},
   "source": [
    "Okay part 2 needs a lot of tilting so let's write some helper functions."
   ]
  },
  {
   "cell_type": "code",
   "execution_count": 7,
   "id": "5ba14751",
   "metadata": {},
   "outputs": [],
   "source": [
    "def tilt():\n",
    "    for i in range(len(stones)):\n",
    "        for stone_ind in range(len(stones[i])):\n",
    "            row = stones[i][stone_ind]\n",
    "            new_row = 0\n",
    "            above_block = bisect_left(blocks[i], row)\n",
    "            if above_block > 0:\n",
    "                new_row = max(new_row, blocks[i][above_block-1]+1)\n",
    "            if stone_ind > 0:\n",
    "                new_row = max(new_row, stones[i][stone_ind-1]+1)\n",
    "            stones[i][stone_ind] = new_row"
   ]
  },
  {
   "cell_type": "code",
   "execution_count": 8,
   "id": "b7ca24c2",
   "metadata": {},
   "outputs": [],
   "source": [
    "def turn():\n",
    "    global stones, blocks\n",
    "    new_stones = [[] for _ in range(100)]\n",
    "    new_blocks = [[] for _ in range(100)]\n",
    "    for i in range(len(stones)):\n",
    "        for j in range(len(stones[i])):\n",
    "            new_stones[len(new_stones)-1-stones[i][j]].append(i)\n",
    "    for i in range(len(blocks)):\n",
    "        for j in range(len(blocks[i])):\n",
    "            new_blocks[len(new_blocks)-1-blocks[i][j]].append(i)\n",
    "    for i in range(len(new_stones)):\n",
    "        new_stones[i].sort()\n",
    "    for i in range(len(new_blocks)):\n",
    "        new_blocks[i].sort()\n",
    "    stones = new_stones\n",
    "    blocks = new_blocks"
   ]
  },
  {
   "cell_type": "markdown",
   "id": "8d64aa1a",
   "metadata": {},
   "source": [
    "There is no way we actually need to do all the cycles. The state of the rocks will certainly start looping. Let's find the loop. We need a helper function to save the current state to a dictionary."
   ]
  },
  {
   "cell_type": "code",
   "execution_count": 9,
   "id": "a6140f0b",
   "metadata": {},
   "outputs": [],
   "source": [
    "def add_curr_state(ind):\n",
    "    global states\n",
    "    state = tuple()\n",
    "    for i in range(len(stones)):\n",
    "        for j in range(len(stones[i])):\n",
    "            state += (i, stones[i][j])\n",
    "    if state in states:\n",
    "        return states[state]\n",
    "    states[state] = ind\n",
    "    return -3"
   ]
  },
  {
   "cell_type": "code",
   "execution_count": 10,
   "id": "d9f29309",
   "metadata": {},
   "outputs": [
    {
     "name": "stdout",
     "output_type": "stream",
     "text": [
      "found loop 85 107\n"
     ]
    }
   ],
   "source": [
    "states = {}\n",
    "add_curr_state(0)\n",
    "\n",
    "for i in range(1000):\n",
    "    tilt()\n",
    "    turn()\n",
    "    tilt()\n",
    "    turn()\n",
    "    tilt()\n",
    "    turn()\n",
    "    tilt()\n",
    "    turn()\n",
    "    res = add_curr_state(i+1)\n",
    "    if res != -3:\n",
    "        print('found loop', res, i+1)\n",
    "        break"
   ]
  },
  {
   "cell_type": "markdown",
   "id": "74eb9ec7",
   "metadata": {},
   "source": [
    "Loop going from 85th state to 105th state. We need to find 1000000000th state to calculate answer.\n",
    "\n",
    "1000000000 = 85 + n*(107-85) + x\n",
    "\n",
    "x = (1000000000 - 85) % (107-85)"
   ]
  },
  {
   "cell_type": "code",
   "execution_count": 11,
   "id": "e3bf829d",
   "metadata": {},
   "outputs": [
    {
     "data": {
      "text/plain": [
       "13"
      ]
     },
     "execution_count": 11,
     "metadata": {},
     "output_type": "execute_result"
    }
   ],
   "source": [
    "x = (1000000000-85)%(107-85)\n",
    "x"
   ]
  },
  {
   "cell_type": "code",
   "execution_count": 12,
   "id": "12912e85",
   "metadata": {},
   "outputs": [],
   "source": [
    "ans_state = None\n",
    "for k, v in states.items():\n",
    "    if v == 85+x:\n",
    "        ans_state = k\n",
    "        break"
   ]
  },
  {
   "cell_type": "code",
   "execution_count": 13,
   "id": "8a339bce",
   "metadata": {},
   "outputs": [],
   "source": [
    "stones = [[] for _ in range(100)]\n",
    "\n",
    "for i in range(0, len(ans_state), 2):\n",
    "    stones[ans_state[i]].append(ans_state[i+1])"
   ]
  },
  {
   "cell_type": "code",
   "execution_count": 14,
   "id": "8cfcd799",
   "metadata": {},
   "outputs": [
    {
     "data": {
      "text/plain": [
       "106689"
      ]
     },
     "execution_count": 14,
     "metadata": {},
     "output_type": "execute_result"
    }
   ],
   "source": [
    "s = 0\n",
    "for i in range(len(stones)):\n",
    "    for row in stones[i]:\n",
    "        s += 100-row\n",
    "s"
   ]
  },
  {
   "cell_type": "code",
   "execution_count": null,
   "id": "4d65d7e1",
   "metadata": {},
   "outputs": [],
   "source": []
  }
 ],
 "metadata": {
  "kernelspec": {
   "display_name": "Python 3 (ipykernel)",
   "language": "python",
   "name": "python3"
  },
  "language_info": {
   "codemirror_mode": {
    "name": "ipython",
    "version": 3
   },
   "file_extension": ".py",
   "mimetype": "text/x-python",
   "name": "python",
   "nbconvert_exporter": "python",
   "pygments_lexer": "ipython3",
   "version": "3.10.12"
  }
 },
 "nbformat": 4,
 "nbformat_minor": 5
}

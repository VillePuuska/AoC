{
 "cells": [
  {
   "cell_type": "code",
   "execution_count": 1,
   "id": "0c87a18b",
   "metadata": {},
   "outputs": [],
   "source": [
    "from collections import deque"
   ]
  },
  {
   "cell_type": "code",
   "execution_count": 2,
   "id": "940b90ff",
   "metadata": {},
   "outputs": [],
   "source": [
    "class Broadcaster:\n",
    "    def __init__(self) -> None:\n",
    "        self.after = []\n",
    "    \n",
    "    def conn_to(self, targets):\n",
    "        self.after.extend(targets)\n",
    "    \n",
    "    def conn_from(self, source):\n",
    "        pass\n",
    "\n",
    "    def pulse(self, source, hilo):\n",
    "        return [(x, hilo) for x in self.after]\n",
    "    \n",
    "    def get_state(self):\n",
    "        return 'b'\n",
    "    \n",
    "class FlipFlop:\n",
    "    def __init__(self) -> None:\n",
    "        self.state = 'off'\n",
    "        self.after = []\n",
    "    \n",
    "    def conn_to(self, targets):\n",
    "        self.after.extend(targets)\n",
    "    \n",
    "    def conn_from(self, source):\n",
    "        pass\n",
    "\n",
    "    def pulse(self, source, hilo):\n",
    "        if hilo == 'high':\n",
    "            return []\n",
    "        out = 'high' if self.state == 'off' else 'low'\n",
    "        self.state = 'on' if self.state == 'off' else 'off'\n",
    "        return [(x, out) for x in self.after]\n",
    "    \n",
    "    def get_state(self):\n",
    "        return self.state\n",
    "\n",
    "class Conjunction:\n",
    "    def __init__(self) -> None:\n",
    "        self.prev = {}\n",
    "        self.after = []\n",
    "    \n",
    "    def conn_to(self, targets):\n",
    "        self.after.extend(targets)\n",
    "    \n",
    "    def conn_from(self, source):\n",
    "        self.prev[source] = 'low'\n",
    "\n",
    "    def pulse(self, source, hilo):\n",
    "        self.prev[source] = hilo\n",
    "        if 'low' in self.prev.values():\n",
    "            out = 'high'\n",
    "        else:\n",
    "            out = 'low'\n",
    "        return [(x, out) for x in self.after]\n",
    "    \n",
    "    def get_state(self):\n",
    "        return str(self.prev.values())"
   ]
  },
  {
   "cell_type": "markdown",
   "id": "62cf2b9c",
   "metadata": {},
   "source": [
    "# Part 1\n",
    "\n",
    "Parse the input twice. First round we create all module objects and set their outward connections. On the second round we set the incoming connections for the conjection modules."
   ]
  },
  {
   "cell_type": "code",
   "execution_count": 3,
   "metadata": {},
   "outputs": [],
   "source": [
    "modules = {}\n",
    "\n",
    "filepath = \"./data/day20.txt\"\n",
    "\n",
    "with open(filepath) as f:\n",
    "    while line := f.readline():\n",
    "        line = line.rstrip().split(' -> ')\n",
    "        if line[0][0] == '%':\n",
    "            m = line[0][1:]\n",
    "            modules[m] = FlipFlop()\n",
    "        elif line[0][0] == '&':\n",
    "            m = line[0][1:]\n",
    "            modules[m] = Conjunction()\n",
    "        else:\n",
    "            m = line[0]\n",
    "            modules[m] = Broadcaster()\n",
    "        targets = line[1].replace(',', '').split(' ')\n",
    "        modules[m].conn_to(targets)\n",
    "\n",
    "with open(filepath) as f:\n",
    "    while line := f.readline():\n",
    "        line = line.rstrip().split(' -> ')\n",
    "        if line[0][0] == '%':\n",
    "            m = line[0][1:]\n",
    "        elif line[0][0] == '&':\n",
    "            m = line[0][1:]\n",
    "        else:\n",
    "            m = line[0]\n",
    "        targets = line[1].replace(',', '').split(' ')\n",
    "        for t in targets:\n",
    "            if t in modules:\n",
    "                modules[t].conn_from(m)"
   ]
  },
  {
   "cell_type": "code",
   "execution_count": 4,
   "id": "7a7bf2db",
   "metadata": {},
   "outputs": [
    {
     "data": {
      "text/plain": [
       "dict_keys(['pr', 'jg', 'mg', 'mq', 'db', 'dx', 'bd', 'qj', 'xs', 'xd', 'gb', 'nt', 'ht', 'rh', 'sq', 'tt', 'dh', 'rz', 'cx', 'zq', 'jm', 'lj', 'mp', 'dz', 'fz', 'hj', 'broadcaster', 'zc', 'pj', 'bn', 'mr', 'mj', 'gg', 'sh', 'bf', 'hf', 'bm', 'bk', 'pq', 'xf', 'th', 'fx', 'ff', 'xr', 'bq', 'zz', 'gz', 'zs', 'vd', 'vk', 'cv', 'cd', 'zg', 'gd', 'ql', 'lt', 'ds', 'vp'])"
      ]
     },
     "execution_count": 4,
     "metadata": {},
     "output_type": "execute_result"
    }
   ],
   "source": [
    "modules.keys()"
   ]
  },
  {
   "cell_type": "markdown",
   "id": "c23d8f73",
   "metadata": {},
   "source": [
    "With these classes simulating the pulse is extremely simple:"
   ]
  },
  {
   "cell_type": "code",
   "execution_count": 5,
   "id": "f5a75938",
   "metadata": {},
   "outputs": [],
   "source": [
    "def run_pulse():\n",
    "    lows = 0\n",
    "    highs = 0\n",
    "    q = deque()\n",
    "    q.append(('button', 'broadcaster', 'low'))\n",
    "    while q:\n",
    "        source, target, hilo = q.pop()\n",
    "        if hilo == 'low':\n",
    "            lows += 1\n",
    "        else:\n",
    "            highs += 1\n",
    "        if target not in modules:\n",
    "            continue\n",
    "        ls = modules[target].pulse(source, hilo)\n",
    "        for new_target, new_hilo in ls:\n",
    "            q.appendleft((target, new_target, new_hilo))\n",
    "    return (lows, highs)"
   ]
  },
  {
   "cell_type": "markdown",
   "id": "7751fa53",
   "metadata": {},
   "source": [
    "For part 1 the number of rounds is low enough that we can simply run the simulation 1000 times to get our answer."
   ]
  },
  {
   "cell_type": "code",
   "execution_count": 6,
   "id": "a3de9494",
   "metadata": {},
   "outputs": [
    {
     "data": {
      "text/plain": [
       "(17827, 46109, 821985143)"
      ]
     },
     "execution_count": 6,
     "metadata": {},
     "output_type": "execute_result"
    }
   ],
   "source": [
    "lows, highs = 0, 0\n",
    "for _ in range(1000):\n",
    "    a, b = run_pulse()\n",
    "    lows += a\n",
    "    highs += b\n",
    "lows, highs, lows*highs"
   ]
  },
  {
   "cell_type": "markdown",
   "id": "a2c13a95",
   "metadata": {},
   "source": [
    "# Part 2\n",
    "\n",
    "Reset states by just reparsing input."
   ]
  },
  {
   "cell_type": "code",
   "execution_count": 7,
   "id": "761385fb",
   "metadata": {},
   "outputs": [],
   "source": [
    "modules = {}\n",
    "\n",
    "filepath = \"./data/day20.txt\"\n",
    "\n",
    "with open(filepath) as f:\n",
    "    while line := f.readline():\n",
    "        line = line.rstrip().split(' -> ')\n",
    "        if line[0][0] == '%':\n",
    "            m = line[0][1:]\n",
    "            modules[m] = FlipFlop()\n",
    "        elif line[0][0] == '&':\n",
    "            m = line[0][1:]\n",
    "            modules[m] = Conjunction()\n",
    "        else:\n",
    "            m = line[0]\n",
    "            modules[m] = Broadcaster()\n",
    "        targets = line[1].replace(',', '').split(' ')\n",
    "        modules[m].conn_to(targets)\n",
    "\n",
    "with open(filepath) as f:\n",
    "    while line := f.readline():\n",
    "        line = line.rstrip().split(' -> ')\n",
    "        if line[0][0] == '%':\n",
    "            m = line[0][1:]\n",
    "        elif line[0][0] == '&':\n",
    "            m = line[0][1:]\n",
    "        else:\n",
    "            m = line[0]\n",
    "        targets = line[1].replace(',', '').split(' ')\n",
    "        for t in targets:\n",
    "            if t in modules:\n",
    "                modules[t].conn_from(m)"
   ]
  },
  {
   "cell_type": "markdown",
   "id": "f2412dfa",
   "metadata": {},
   "source": [
    "If it was possible to get the answer by simply running the simulation until we see that `rx` received a low pulse, this function would do it."
   ]
  },
  {
   "cell_type": "code",
   "execution_count": 8,
   "id": "0af428a5",
   "metadata": {},
   "outputs": [],
   "source": [
    "def run_pulse2():\n",
    "    q = deque()\n",
    "    q.append(('button', 'broadcaster', 'low'))\n",
    "    while q:\n",
    "        source, target, hilo = q.pop()\n",
    "        if target == 'rx' and hilo == 'low':\n",
    "            return True\n",
    "        if target not in modules:\n",
    "            continue\n",
    "        ls = modules[target].pulse(source, hilo)\n",
    "        for new_target, new_hilo in ls:\n",
    "            q.appendleft((target, new_target, new_hilo))\n",
    "    return False"
   ]
  },
  {
   "cell_type": "markdown",
   "id": "65d38ffc",
   "metadata": {},
   "source": [
    "Running simulations with the above run_pulse2 never finishes. Time for manual checking of what is going on.\n",
    "\n",
    "Looking at the input, the only module that pulses to `rx` is the conjunction module `mg`. It's previous modules are:"
   ]
  },
  {
   "cell_type": "code",
   "execution_count": 9,
   "id": "c1249544",
   "metadata": {},
   "outputs": [
    {
     "data": {
      "text/plain": [
       "{'jg': 'low', 'rh': 'low', 'jm': 'low', 'hf': 'low'}"
      ]
     },
     "execution_count": 9,
     "metadata": {},
     "output_type": "execute_result"
    }
   ],
   "source": [
    "modules['mg'].prev"
   ]
  },
  {
   "cell_type": "code",
   "execution_count": 10,
   "id": "d13e501d",
   "metadata": {},
   "outputs": [
    {
     "name": "stdout",
     "output_type": "stream",
     "text": [
      "<class '__main__.Conjunction'>\n",
      "<class '__main__.Conjunction'>\n",
      "<class '__main__.Conjunction'>\n",
      "<class '__main__.Conjunction'>\n"
     ]
    }
   ],
   "source": [
    "for label in ['jg', 'rh', 'jm', 'hf']:\n",
    "    print(type(modules[label]))"
   ]
  },
  {
   "cell_type": "markdown",
   "id": "82b5efca",
   "metadata": {},
   "source": [
    "So let's try looking for some loops. Let's see if these modules pulse high beams to `mg` in a way that is a simple loop."
   ]
  },
  {
   "cell_type": "code",
   "execution_count": 11,
   "id": "ea057d0c",
   "metadata": {},
   "outputs": [],
   "source": [
    "def run_pulse3():\n",
    "    monitor = ['jg', 'rh', 'jm', 'hf']\n",
    "    res = {x:[] for x in monitor}\n",
    "    q = deque()\n",
    "    q.append(('button', 'broadcaster', 'low'))\n",
    "    while q:\n",
    "        source, target, hilo = q.pop()\n",
    "        if source in monitor:\n",
    "            res[source].append(hilo)\n",
    "        if target not in modules:\n",
    "            continue\n",
    "        ls = modules[target].pulse(source, hilo)\n",
    "        for new_target, new_hilo in ls:\n",
    "            q.appendleft((target, new_target, new_hilo))\n",
    "    return res"
   ]
  },
  {
   "cell_type": "code",
   "execution_count": 12,
   "id": "2df9eaa7",
   "metadata": {},
   "outputs": [],
   "source": [
    "hi_pulses = {x:[] for x in ['jg', 'rh', 'jm', 'hf']}\n",
    "for i in range(100000):\n",
    "    res = run_pulse3()\n",
    "    for k, v in res.items():\n",
    "        if 'high' in v:\n",
    "            hi_pulses[k].append(i+1)"
   ]
  },
  {
   "cell_type": "code",
   "execution_count": 13,
   "id": "34be74f1",
   "metadata": {},
   "outputs": [
    {
     "name": "stdout",
     "output_type": "stream",
     "text": [
      "jg\n",
      "[3793, 7586, 11379, 15172, 18965, 22758, 26551, 30344, 34137, 37930]\n",
      "[3793, 3793, 3793, 3793, 3793, 3793, 3793, 3793, 3793, 3793]\n",
      "rh\n",
      "[4019, 8038, 12057, 16076, 20095, 24114, 28133, 32152, 36171, 40190]\n",
      "[4019, 4019, 4019, 4019, 4019, 4019, 4019, 4019, 4019, 4019]\n",
      "jm\n",
      "[4003, 8006, 12009, 16012, 20015, 24018, 28021, 32024, 36027, 40030]\n",
      "[4003, 4003, 4003, 4003, 4003, 4003, 4003, 4003, 4003, 4003]\n",
      "hf\n",
      "[3947, 7894, 11841, 15788, 19735, 23682, 27629, 31576, 35523, 39470]\n",
      "[3947, 3947, 3947, 3947, 3947, 3947, 3947, 3947, 3947, 3947]\n"
     ]
    }
   ],
   "source": [
    "for k, v in hi_pulses.items():\n",
    "    print(k)\n",
    "    print(v[:10])\n",
    "    print([v[i+1]-v[i] for i in range(10)])"
   ]
  },
  {
   "cell_type": "markdown",
   "id": "b5add8c1",
   "metadata": {},
   "source": [
    "Indeed they seem like they do. This isn't conclusive proof but let's assume that they keep looping like this forever. Under this assumption the first time they have all pulsed a high beam to `mg` is during the round $\\text{lcm}(3793, 4019, 4003, 3947)$."
   ]
  },
  {
   "cell_type": "code",
   "execution_count": 14,
   "id": "a54730ef",
   "metadata": {},
   "outputs": [
    {
     "data": {
      "text/plain": [
       "240853834793347"
      ]
     },
     "execution_count": 14,
     "metadata": {},
     "output_type": "execute_result"
    }
   ],
   "source": [
    "from math import lcm\n",
    "\n",
    "lcm(3793, 4019, 4003, 3947)"
   ]
  },
  {
   "cell_type": "code",
   "execution_count": null,
   "id": "8ae6d593",
   "metadata": {},
   "outputs": [],
   "source": []
  }
 ],
 "metadata": {
  "kernelspec": {
   "display_name": "Python 3 (ipykernel)",
   "language": "python",
   "name": "python3"
  },
  "language_info": {
   "codemirror_mode": {
    "name": "ipython",
    "version": 3
   },
   "file_extension": ".py",
   "mimetype": "text/x-python",
   "name": "python",
   "nbconvert_exporter": "python",
   "pygments_lexer": "ipython3",
   "version": "3.10.12"
  }
 },
 "nbformat": 4,
 "nbformat_minor": 5
}

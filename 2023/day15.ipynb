{
 "cells": [
  {
   "cell_type": "code",
   "execution_count": 1,
   "metadata": {},
   "outputs": [],
   "source": [
    "steps = []\n",
    "\n",
    "with open(\"./data/day15.txt\") as f:\n",
    "    while line := f.readline():\n",
    "        line = line.rstrip()\n",
    "        steps = line.split(',')"
   ]
  },
  {
   "cell_type": "code",
   "execution_count": 2,
   "id": "defb0644",
   "metadata": {},
   "outputs": [],
   "source": [
    "def HASH(s):\n",
    "    res = 0\n",
    "    for c in s:\n",
    "        res += ord(c)\n",
    "        res *= 17\n",
    "        res = res%256\n",
    "    return res"
   ]
  },
  {
   "cell_type": "code",
   "execution_count": 3,
   "id": "4761d5ba",
   "metadata": {},
   "outputs": [
    {
     "data": {
      "text/plain": [
       "(52, 30)"
      ]
     },
     "execution_count": 3,
     "metadata": {},
     "output_type": "execute_result"
    }
   ],
   "source": [
    "HASH('HASH'), HASH('rn=1')"
   ]
  },
  {
   "cell_type": "code",
   "execution_count": 4,
   "id": "59427a13",
   "metadata": {},
   "outputs": [
    {
     "data": {
      "text/plain": [
       "515210"
      ]
     },
     "execution_count": 4,
     "metadata": {},
     "output_type": "execute_result"
    }
   ],
   "source": [
    "m = 0\n",
    "for s in steps:\n",
    "    m += HASH(s)\n",
    "m"
   ]
  },
  {
   "cell_type": "code",
   "execution_count": 5,
   "id": "e96bf0fa",
   "metadata": {},
   "outputs": [
    {
     "data": {
      "text/plain": [
       "(0, 0, 1, 3)"
      ]
     },
     "execution_count": 5,
     "metadata": {},
     "output_type": "execute_result"
    }
   ],
   "source": [
    "HASH('rn'), HASH('cm'), HASH('qp'), HASH('pc')"
   ]
  },
  {
   "cell_type": "code",
   "execution_count": 6,
   "id": "93f1ea50",
   "metadata": {},
   "outputs": [],
   "source": [
    "boxes = [[] for _ in range(256)]\n",
    "\n",
    "for s in steps:\n",
    "    if s[-1] == '-':\n",
    "        label = s[:-1]\n",
    "        h = HASH(label)\n",
    "        ind = -1\n",
    "        for i in range(len(boxes[h])):\n",
    "            if boxes[h][i][0] == label:\n",
    "                ind = i\n",
    "                break\n",
    "        if ind != -1:\n",
    "            del boxes[h][ind]\n",
    "    else:\n",
    "        label = s[:-2]\n",
    "        h = HASH(label)\n",
    "        ind = -1\n",
    "        for i in range(len(boxes[h])):\n",
    "            if boxes[h][i][0] == label:\n",
    "                ind = i\n",
    "                break\n",
    "        if ind != -1:\n",
    "            boxes[h][ind][1] = int(s[-1])\n",
    "        else:\n",
    "            boxes[h].append([label, int(s[-1])])"
   ]
  },
  {
   "cell_type": "code",
   "execution_count": 7,
   "id": "d184d6fe",
   "metadata": {},
   "outputs": [
    {
     "data": {
      "text/plain": [
       "246762"
      ]
     },
     "execution_count": 7,
     "metadata": {},
     "output_type": "execute_result"
    }
   ],
   "source": [
    "m = 0\n",
    "for i in range(len(boxes)):\n",
    "    for j in range(len(boxes[i])):\n",
    "        m += (i+1)*(j+1)*boxes[i][j][1]\n",
    "m"
   ]
  },
  {
   "cell_type": "code",
   "execution_count": null,
   "metadata": {},
   "outputs": [],
   "source": []
  }
 ],
 "metadata": {
  "kernelspec": {
   "display_name": "Python 3 (ipykernel)",
   "language": "python",
   "name": "python3"
  },
  "language_info": {
   "codemirror_mode": {
    "name": "ipython",
    "version": 3
   },
   "file_extension": ".py",
   "mimetype": "text/x-python",
   "name": "python",
   "nbconvert_exporter": "python",
   "pygments_lexer": "ipython3",
   "version": "3.10.12"
  }
 },
 "nbformat": 4,
 "nbformat_minor": 5
}

{
 "cells": [
  {
   "cell_type": "code",
   "execution_count": 1,
   "metadata": {},
   "outputs": [
    {
     "data": {
      "text/plain": [
       "(1261, 3462)"
      ]
     },
     "execution_count": 1,
     "metadata": {},
     "output_type": "execute_result"
    }
   ],
   "source": [
    "nodes = set()\n",
    "edges = []\n",
    "adj = {}\n",
    "\n",
    "with open(\"./data/day25.txt\") as f:\n",
    "    while line := f.readline():\n",
    "        line = line.rstrip()\n",
    "        start, connections = line.split(': ')\n",
    "        if ' ' in connections:\n",
    "            connections = connections.split(' ')\n",
    "        else:\n",
    "            connections = [connections]\n",
    "        nodes.add(start)\n",
    "        if start not in adj:\n",
    "            adj[start] = []\n",
    "        for conn in connections:\n",
    "            edges.append((start, conn))\n",
    "            if conn not in adj:\n",
    "                adj[conn] = []\n",
    "            adj[start].append(conn)\n",
    "            adj[conn].append(start)\n",
    "len(nodes), len(edges)"
   ]
  },
  {
   "cell_type": "markdown",
   "id": "e004a90a",
   "metadata": {},
   "source": [
    "# Part 1\n",
    "\n",
    "I have no idea how to find minimum cuts in a graph so I had to turn to Wikipedia. An interesting non-deterministic algorithm I found is Karger's algorithm where the idea is to randomly contract edges until only two vertices remain."
   ]
  },
  {
   "cell_type": "code",
   "execution_count": 2,
   "id": "28ccf225",
   "metadata": {},
   "outputs": [],
   "source": [
    "import numpy as np\n",
    "from copy import deepcopy"
   ]
  },
  {
   "cell_type": "code",
   "execution_count": 3,
   "id": "2636f801",
   "metadata": {},
   "outputs": [],
   "source": [
    "def karger(adj):\n",
    "    adj = deepcopy(adj)\n",
    "    while len(adj) > 2:\n",
    "        curr_keys = list(adj.keys())\n",
    "        node1 = curr_keys[np.random.randint(0, len(curr_keys))]\n",
    "        node2 = adj[node1][np.random.randint(0, len(adj[node1]))]\n",
    "        new_node = node1+node2\n",
    "        adj[new_node] = adj[node1]+adj[node2]\n",
    "        adj[new_node] = [x for x in adj[new_node] if x != node1 and x != node2]\n",
    "        del adj[node1]\n",
    "        del adj[node2]\n",
    "        for k in adj.keys():\n",
    "            adj[k] = [x if x != node1 and x != node2 else new_node for x in adj[k]]\n",
    "    return adj"
   ]
  },
  {
   "cell_type": "code",
   "execution_count": 4,
   "id": "bb68e48c",
   "metadata": {},
   "outputs": [],
   "source": [
    "while True:\n",
    "    res = karger(adj)\n",
    "    if len(res[list(res.keys())[0]]) == 3:\n",
    "        break"
   ]
  },
  {
   "cell_type": "code",
   "execution_count": 5,
   "id": "4be25796",
   "metadata": {},
   "outputs": [
    {
     "data": {
      "text/plain": [
       "601310"
      ]
     },
     "execution_count": 5,
     "metadata": {},
     "output_type": "execute_result"
    }
   ],
   "source": [
    "m = 1\n",
    "for v in res.keys():\n",
    "    m *= len(v)//3\n",
    "m"
   ]
  },
  {
   "cell_type": "markdown",
   "id": "1e5931f7",
   "metadata": {},
   "source": [
    "# RNG TO THE RESCUE\n",
    "\n",
    "And Wikipedia..."
   ]
  },
  {
   "cell_type": "code",
   "execution_count": null,
   "metadata": {},
   "outputs": [],
   "source": []
  }
 ],
 "metadata": {
  "kernelspec": {
   "display_name": "Python 3 (ipykernel)",
   "language": "python",
   "name": "python3"
  },
  "language_info": {
   "codemirror_mode": {
    "name": "ipython",
    "version": 3
   },
   "file_extension": ".py",
   "mimetype": "text/x-python",
   "name": "python",
   "nbconvert_exporter": "python",
   "pygments_lexer": "ipython3",
   "version": "3.10.12"
  }
 },
 "nbformat": 4,
 "nbformat_minor": 5
}

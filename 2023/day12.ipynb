{
 "cells": [
  {
   "cell_type": "code",
   "execution_count": 1,
   "metadata": {},
   "outputs": [],
   "source": [
    "chars = []\n",
    "counts = []\n",
    "\n",
    "with open(\"./data/day12.txt\") as f:\n",
    "    while line := f.readline():\n",
    "        line = line.rstrip().split()\n",
    "        chars.append(line[0])\n",
    "        counts.append(list(map(int, line[1].split(','))))"
   ]
  },
  {
   "cell_type": "code",
   "execution_count": 2,
   "id": "9cb2c6fe",
   "metadata": {},
   "outputs": [],
   "source": [
    "from functools import cache\n",
    "\n",
    "@cache\n",
    "def dp(list_ind, char_ind, count_ind):\n",
    "    if count_ind >= len(counts[list_ind]): # no more #'s to fill\n",
    "        if '#' in chars[list_ind][char_ind:]:\n",
    "            return 0 # and no more #'s in the remaining string\n",
    "        return 1 # but #'s remaining in the string\n",
    "    if char_ind >= len(chars[list_ind]):\n",
    "        return 0 # no characters left but we still need to fill #'s\n",
    "    if chars[list_ind][char_ind] == '.':\n",
    "        return dp(list_ind, char_ind+1, count_ind)\n",
    "    if chars[list_ind][char_ind] == '#':\n",
    "        if counts[list_ind][count_ind] > len(chars[list_ind])-char_ind:\n",
    "            return 0 # we need to fill #'s but we dont have enough characters left\n",
    "        if '.' in chars[list_ind][char_ind:char_ind+counts[list_ind][count_ind]]:\n",
    "            return 0 # there is a . in the way\n",
    "        if char_ind+counts[list_ind][count_ind] < len(chars[list_ind]) and chars[list_ind][char_ind+counts[list_ind][count_ind]] == '#':\n",
    "            return 0 # the fill of #'s would immediately continue with a #\n",
    "        return dp(list_ind, char_ind+counts[list_ind][count_ind]+1, count_ind+1)\n",
    "    res = dp(list_ind, char_ind+1, count_ind)\n",
    "    if counts[list_ind][count_ind] > len(chars[list_ind])-char_ind:\n",
    "        return res\n",
    "    if '.' in chars[list_ind][char_ind:char_ind+counts[list_ind][count_ind]]:\n",
    "        return res\n",
    "    if char_ind+counts[list_ind][count_ind] < len(chars[list_ind]) and chars[list_ind][char_ind+counts[list_ind][count_ind]] == '#':\n",
    "        return res \n",
    "    return res+dp(list_ind, char_ind+counts[list_ind][count_ind]+1, count_ind+1)"
   ]
  },
  {
   "cell_type": "code",
   "execution_count": 3,
   "id": "2e51c470",
   "metadata": {},
   "outputs": [
    {
     "data": {
      "text/plain": [
       "6871"
      ]
     },
     "execution_count": 3,
     "metadata": {},
     "output_type": "execute_result"
    }
   ],
   "source": [
    "s = 0\n",
    "for i in range(len(chars)):\n",
    "    res = dp(i, 0, 0)\n",
    "    #print(res)\n",
    "    s += res\n",
    "s"
   ]
  },
  {
   "cell_type": "code",
   "execution_count": 4,
   "id": "bfbe6ade",
   "metadata": {},
   "outputs": [
    {
     "data": {
      "text/plain": [
       "CacheInfo(hits=4305, misses=20991, maxsize=None, currsize=20991)"
      ]
     },
     "execution_count": 4,
     "metadata": {},
     "output_type": "execute_result"
    }
   ],
   "source": [
    "dp.cache_info()"
   ]
  },
  {
   "cell_type": "code",
   "execution_count": 5,
   "id": "ce6d81e7",
   "metadata": {},
   "outputs": [],
   "source": [
    "dp.cache_clear()"
   ]
  },
  {
   "cell_type": "code",
   "execution_count": 6,
   "id": "bf269e5e",
   "metadata": {},
   "outputs": [],
   "source": [
    "chars = []\n",
    "counts = []\n",
    "\n",
    "with open(\"./data/day12.txt\") as f:\n",
    "    while line := f.readline():\n",
    "        line = line.rstrip().split()\n",
    "        chars.append('?'.join([line[0], line[0], line[0], line[0], line[0]]))\n",
    "        counts.append(list(map(int, line[1].split(',')))*5)"
   ]
  },
  {
   "cell_type": "code",
   "execution_count": 7,
   "id": "0dba2fb4",
   "metadata": {},
   "outputs": [
    {
     "name": "stdout",
     "output_type": "stream",
     "text": [
      "#???#?#?.?##?#?.#.?#???#?#?.?##?#?.#.?#???#?#?.?##?#?.#.?#???#?#?.?##?#?.#.?#???#?#?.?##?#?.#.\n"
     ]
    }
   ],
   "source": [
    "print(chars[0])"
   ]
  },
  {
   "cell_type": "code",
   "execution_count": 8,
   "id": "4ccd9ce1",
   "metadata": {},
   "outputs": [
    {
     "name": "stdout",
     "output_type": "stream",
     "text": [
      "[7, 5, 1, 7, 5, 1, 7, 5, 1, 7, 5, 1, 7, 5, 1]\n"
     ]
    }
   ],
   "source": [
    "print(counts[0])"
   ]
  },
  {
   "cell_type": "code",
   "execution_count": 9,
   "id": "5efdd8e5",
   "metadata": {},
   "outputs": [
    {
     "data": {
      "text/plain": [
       "2043098029844"
      ]
     },
     "execution_count": 9,
     "metadata": {},
     "output_type": "execute_result"
    }
   ],
   "source": [
    "s = 0\n",
    "for i in range(len(chars)):\n",
    "    res = dp(i, 0, 0)\n",
    "    #print(res)\n",
    "    s += res\n",
    "s"
   ]
  },
  {
   "cell_type": "code",
   "execution_count": null,
   "id": "a005b65e",
   "metadata": {},
   "outputs": [],
   "source": []
  }
 ],
 "metadata": {
  "kernelspec": {
   "display_name": "Python 3 (ipykernel)",
   "language": "python",
   "name": "python3"
  },
  "language_info": {
   "codemirror_mode": {
    "name": "ipython",
    "version": 3
   },
   "file_extension": ".py",
   "mimetype": "text/x-python",
   "name": "python",
   "nbconvert_exporter": "python",
   "pygments_lexer": "ipython3",
   "version": "3.10.12"
  }
 },
 "nbformat": 4,
 "nbformat_minor": 5
}

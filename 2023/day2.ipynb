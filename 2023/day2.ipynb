{
 "cells": [
  {
   "cell_type": "code",
   "execution_count": 58,
   "metadata": {},
   "outputs": [],
   "source": [
    "lines = []\n",
    "with open(\"./data/day2.txt\") as f:\n",
    "    while line := f.readline():\n",
    "        line = line.rstrip().replace(',', '').replace(';', '').replace(':', '')\n",
    "        lines.append(line)"
   ]
  },
  {
   "cell_type": "code",
   "execution_count": 59,
   "metadata": {},
   "outputs": [
    {
     "data": {
      "text/plain": [
       "['Game 1 7 red 14 blue 2 blue 3 red 3 green 4 green 12 blue 15 red 3 green 12 blue 3 red 11 red 2 green',\n",
       " 'Game 2 16 blue 9 red 5 green 8 red 8 blue 5 green 12 red 11 blue 8 green 17 red',\n",
       " 'Game 3 8 green 1 blue 7 red 12 red 6 blue 9 green 2 blue 1 red 14 green 9 green 4 red 2 red 1 blue 8 green',\n",
       " 'Game 4 1 blue 3 green 2 green 1 blue 1 red 1 red 3 green',\n",
       " 'Game 5 6 red 1 blue 1 green 5 red 2 green 1 red 1 blue 3 green']"
      ]
     },
     "execution_count": 59,
     "metadata": {},
     "output_type": "execute_result"
    }
   ],
   "source": [
    "lines[:5]"
   ]
  },
  {
   "cell_type": "code",
   "execution_count": 60,
   "metadata": {},
   "outputs": [],
   "source": [
    "s = 0\n",
    "for line in lines:\n",
    "    flag = True\n",
    "    line = line.split(' ')\n",
    "    for i in range(3, len(line), 2):\n",
    "        if (line[i] == 'red' and int(line[i-1]) > 12) or (line[i] == 'green' and int(line[i-1]) > 13)  or (line[i] == 'blue' and int(line[i-1]) > 14):\n",
    "            flag = False\n",
    "            break\n",
    "    s += flag*int(line[1])"
   ]
  },
  {
   "cell_type": "code",
   "execution_count": 61,
   "metadata": {},
   "outputs": [
    {
     "data": {
      "text/plain": [
       "2204"
      ]
     },
     "execution_count": 61,
     "metadata": {},
     "output_type": "execute_result"
    }
   ],
   "source": [
    "s"
   ]
  },
  {
   "cell_type": "code",
   "execution_count": 62,
   "metadata": {},
   "outputs": [],
   "source": [
    "s = 0\n",
    "for line in lines:\n",
    "    colors = {'blue':0, 'green':0, 'red':0}\n",
    "    line = line.split(' ')\n",
    "    for i in range(3, len(line), 2):\n",
    "        colors[line[i]] = max(colors[line[i]], int(line[i-1]))\n",
    "    s += colors['blue']*colors['red']*colors['green']"
   ]
  },
  {
   "cell_type": "code",
   "execution_count": 63,
   "metadata": {},
   "outputs": [
    {
     "data": {
      "text/plain": [
       "71036"
      ]
     },
     "execution_count": 63,
     "metadata": {},
     "output_type": "execute_result"
    }
   ],
   "source": [
    "s"
   ]
  },
  {
   "cell_type": "code",
   "execution_count": null,
   "metadata": {},
   "outputs": [],
   "source": []
  }
 ],
 "metadata": {
  "kernelspec": {
   "display_name": "Python 3 (ipykernel)",
   "language": "python",
   "name": "python3"
  },
  "language_info": {
   "codemirror_mode": {
    "name": "ipython",
    "version": 3
   },
   "file_extension": ".py",
   "mimetype": "text/x-python",
   "name": "python",
   "nbconvert_exporter": "python",
   "pygments_lexer": "ipython3",
   "version": "3.10.12"
  }
 },
 "nbformat": 4,
 "nbformat_minor": 5
}

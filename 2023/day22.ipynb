{
 "cells": [
  {
   "cell_type": "code",
   "execution_count": 1,
   "id": "aa329fc3",
   "metadata": {},
   "outputs": [],
   "source": [
    "class Brick:\n",
    "    def __init__(self, x1, y1, z1, x2, y2, z2) -> None:\n",
    "        self.x1, self.y1, self.z1, self.x2, self.y2, self.z2 = x1, y1, z1, x2, y2, z2\n",
    "    \n",
    "    def __str__(self) -> str:\n",
    "        return f'({self.x1}, {self.x2}), ({self.y1}, {self.y2}), ({self.z1}, {self.z2})'"
   ]
  },
  {
   "cell_type": "code",
   "execution_count": 2,
   "metadata": {},
   "outputs": [],
   "source": [
    "bricks = []\n",
    "\n",
    "with open(\"./data/day22.txt\") as f:\n",
    "    while line := f.readline():\n",
    "        line = list(map(int, line.rstrip().replace('~', ',').split(',')))\n",
    "        bricks.append(Brick(*line))\n",
    "\n",
    "bricks.sort(key=lambda x: x.z1)"
   ]
  },
  {
   "cell_type": "code",
   "execution_count": 3,
   "id": "a664c912",
   "metadata": {},
   "outputs": [
    {
     "name": "stdout",
     "output_type": "stream",
     "text": [
      "1257\n",
      "(8, 8), (9, 9), (1, 1)\n",
      "(9, 9), (3, 5), (1, 1)\n",
      "(7, 9), (5, 5), (339, 339)\n",
      "(4, 7), (5, 5), (341, 341)\n"
     ]
    }
   ],
   "source": [
    "print(len(bricks))\n",
    "print(bricks[0])\n",
    "print(bricks[1])\n",
    "print(bricks[-2])\n",
    "print(bricks[-1])"
   ]
  },
  {
   "cell_type": "code",
   "execution_count": 4,
   "id": "0a792af3",
   "metadata": {},
   "outputs": [
    {
     "data": {
      "text/plain": [
       "(9, 9)"
      ]
     },
     "execution_count": 4,
     "metadata": {},
     "output_type": "execute_result"
    }
   ],
   "source": [
    "max_x, max_y = max(bricks, key=lambda x: x.x2).x2, max(bricks, key=lambda x: x.y2).y2\n",
    "max_x, max_y"
   ]
  },
  {
   "cell_type": "code",
   "execution_count": 5,
   "id": "af83a399",
   "metadata": {},
   "outputs": [
    {
     "name": "stdout",
     "output_type": "stream",
     "text": [
      "[152, 155, 153, 153, 154, 152, 159, 151, 151, 137]\n",
      "[152, 156, 157, 156, 160, 160, 161, 161, 159, 141]\n",
      "[125, 156, 157, 153, 154, 160, 160, 160, 158, 159]\n",
      "[155, 156, 157, 159, 160, 159, 160, 152, 157, 159]\n",
      "[156, 168, 159, 160, 160, 167, 161, 161, 158, 159]\n",
      "[156, 165, 154, 160, 160, 167, 160, 150, 155, 130]\n",
      "[166, 166, 154, 158, 163, 167, 164, 150, 149, 147]\n",
      "[156, 165, 164, 166, 164, 167, 164, 150, 149, 148]\n",
      "[156, 165, 165, 166, 165, 166, 164, 148, 149, 148]\n",
      "[156, 143, 164, 164, 164, 166, 150, 148, 149, 148]\n"
     ]
    }
   ],
   "source": [
    "grid = [[0]*(max_y+1) for _ in range(max_x+1)]\n",
    "\n",
    "for i in range(len(bricks)):\n",
    "    b = bricks[i]\n",
    "    m = 0\n",
    "    for x in range(b.x1, b.x2+1):\n",
    "        for y in range(b.y1, b.y2+1):\n",
    "            m = max(m, grid[x][y])\n",
    "    m += 1\n",
    "    z_diff = b.z2-b.z1\n",
    "    bricks[i].z1 = m\n",
    "    bricks[i].z2 = m+z_diff\n",
    "    for x in range(b.x1, b.x2+1):\n",
    "        for y in range(b.y1, b.y2+1):\n",
    "            grid[x][y] = m+z_diff\n",
    "\n",
    "for row in grid:\n",
    "    print(row)"
   ]
  },
  {
   "cell_type": "code",
   "execution_count": 6,
   "id": "b93d3821",
   "metadata": {},
   "outputs": [
    {
     "name": "stdout",
     "output_type": "stream",
     "text": [
      "(8, 8), (9, 9), (1, 1)\n",
      "(9, 9), (3, 5), (1, 1)\n",
      "(7, 9), (5, 5), (166, 166)\n",
      "(4, 7), (5, 5), (167, 167)\n"
     ]
    }
   ],
   "source": [
    "print(bricks[0])\n",
    "print(bricks[1])\n",
    "print(bricks[-2])\n",
    "print(bricks[-1])"
   ]
  },
  {
   "cell_type": "code",
   "execution_count": 7,
   "id": "0f658b37",
   "metadata": {},
   "outputs": [],
   "source": [
    "def is_below(b1, b2):\n",
    "    if b1.z2 != b2.z1-1:\n",
    "        return False\n",
    "    if b1.x2 < b2.x1 or b2.x2 < b1.x1:\n",
    "        return False\n",
    "    if b1.y2 < b2.y1 or b2.y2 < b1.y1:\n",
    "        return False\n",
    "    return True"
   ]
  },
  {
   "cell_type": "code",
   "execution_count": 8,
   "id": "6c3f3c99",
   "metadata": {},
   "outputs": [],
   "source": [
    "supporting_count = {i:[] for i in range(len(bricks))}\n",
    "supported_count = {i:[] for i in range(len(bricks))}\n",
    "for i in range(len(bricks)):\n",
    "    for j in range(len(bricks)):\n",
    "        if i == j:\n",
    "            continue\n",
    "        if is_below(bricks[i], bricks[j]):\n",
    "            supported_count[j].append(i)\n",
    "            supporting_count[i].append(j)"
   ]
  },
  {
   "cell_type": "code",
   "execution_count": 9,
   "id": "82da20fe",
   "metadata": {},
   "outputs": [
    {
     "data": {
      "text/plain": [
       "391"
      ]
     },
     "execution_count": 9,
     "metadata": {},
     "output_type": "execute_result"
    }
   ],
   "source": [
    "res = 0\n",
    "for i in range(len(bricks)):\n",
    "    flag = True\n",
    "    for j in supporting_count[i]:\n",
    "        if len(supported_count[j]) < 2:\n",
    "            flag = False\n",
    "            break\n",
    "    res += flag\n",
    "res"
   ]
  },
  {
   "cell_type": "code",
   "execution_count": 10,
   "id": "90165fea",
   "metadata": {},
   "outputs": [],
   "source": [
    "from copy import deepcopy"
   ]
  },
  {
   "cell_type": "code",
   "execution_count": 11,
   "id": "9eaff0b9",
   "metadata": {},
   "outputs": [
    {
     "data": {
      "text/plain": [
       "69601"
      ]
     },
     "execution_count": 11,
     "metadata": {},
     "output_type": "execute_result"
    }
   ],
   "source": [
    "results = []\n",
    "for i in range(len(bricks)):\n",
    "    curr_supporting_count = deepcopy(supporting_count)\n",
    "    curr_supported_count = deepcopy(supported_count)\n",
    "    removed = [i]\n",
    "    res = 0\n",
    "    while removed:\n",
    "        curr_brick = removed.pop()\n",
    "        for j in curr_supporting_count[curr_brick]:\n",
    "            curr_supported_count[j].remove(curr_brick)\n",
    "            if len(curr_supported_count[j]) == 0:\n",
    "                res += 1\n",
    "                removed.append(j)\n",
    "    results.append(res)\n",
    "sum(results)"
   ]
  },
  {
   "cell_type": "code",
   "execution_count": null,
   "metadata": {},
   "outputs": [],
   "source": []
  }
 ],
 "metadata": {
  "kernelspec": {
   "display_name": "Python 3 (ipykernel)",
   "language": "python",
   "name": "python3"
  },
  "language_info": {
   "codemirror_mode": {
    "name": "ipython",
    "version": 3
   },
   "file_extension": ".py",
   "mimetype": "text/x-python",
   "name": "python",
   "nbconvert_exporter": "python",
   "pygments_lexer": "ipython3",
   "version": "3.10.12"
  }
 },
 "nbformat": 4,
 "nbformat_minor": 5
}

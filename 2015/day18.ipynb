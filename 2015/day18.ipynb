{
 "cells": [
  {
   "cell_type": "code",
   "execution_count": 1,
   "id": "6eabc14c",
   "metadata": {},
   "outputs": [],
   "source": [
    "from collections import deque, defaultdict, Counter\n",
    "from heapq import heapify, heappush, heappop\n",
    "import numpy as np\n",
    "from copy import deepcopy\n",
    "import math\n",
    "import time\n",
    "from functools import cache, reduce, cmp_to_key\n",
    "import graphviz\n",
    "from itertools import product\n",
    "import matplotlib.pyplot as plt\n",
    "from bisect import bisect_left, bisect_right\n",
    "import json"
   ]
  },
  {
   "cell_type": "code",
   "execution_count": 2,
   "id": "cae8446c",
   "metadata": {},
   "outputs": [],
   "source": [
    "dirs4 = [(0, 1), (0, -1), (1, 0), (-1, 0)]\n",
    "dirs8 = dirs4 + [(1, 1), (1, -1), (-1, 1), (-1, -1)]"
   ]
  },
  {
   "cell_type": "code",
   "execution_count": 3,
   "id": "62f0843b",
   "metadata": {},
   "outputs": [
    {
     "data": {
      "text/plain": [
       "5076"
      ]
     },
     "execution_count": 3,
     "metadata": {},
     "output_type": "execute_result"
    }
   ],
   "source": [
    "lights = set()\n",
    "\n",
    "with open(\"./data/day18.txt\") as f:\n",
    "    row = 0\n",
    "    while line := f.readline():\n",
    "        line = line.rstrip()\n",
    "        for col, char in enumerate(line):\n",
    "            if char == '#':\n",
    "                lights.add((row, col))\n",
    "        row += 1\n",
    "len(lights)"
   ]
  },
  {
   "cell_type": "code",
   "execution_count": 4,
   "id": "90bcbef2",
   "metadata": {},
   "outputs": [],
   "source": [
    "def neighbor_count(row, col, lights):\n",
    "    res = 0\n",
    "    for i, j in dirs8:\n",
    "        res += (row+i, col+j) in lights\n",
    "    return res"
   ]
  },
  {
   "cell_type": "code",
   "execution_count": 5,
   "id": "11155142",
   "metadata": {},
   "outputs": [
    {
     "data": {
      "text/plain": [
       "1061"
      ]
     },
     "execution_count": 5,
     "metadata": {},
     "output_type": "execute_result"
    }
   ],
   "source": [
    "for _ in range(100):\n",
    "    new_lights = set()\n",
    "    for row in range(100):\n",
    "        for col in range(100):\n",
    "            if ((row, col) in lights and neighbor_count(row, col, lights) in [2, 3]):\n",
    "                new_lights.add((row, col))\n",
    "                continue\n",
    "            if ((row, col) not in lights and neighbor_count(row, col, lights) == 3):\n",
    "                new_lights.add((row, col))\n",
    "    lights = new_lights\n",
    "len(lights)"
   ]
  },
  {
   "cell_type": "code",
   "execution_count": 6,
   "id": "8b557156",
   "metadata": {},
   "outputs": [
    {
     "data": {
      "text/plain": [
       "5076"
      ]
     },
     "execution_count": 6,
     "metadata": {},
     "output_type": "execute_result"
    }
   ],
   "source": [
    "lights = set()\n",
    "\n",
    "with open(\"./data/day18.txt\") as f:\n",
    "    row = 0\n",
    "    while line := f.readline():\n",
    "        line = line.rstrip()\n",
    "        for col, char in enumerate(line):\n",
    "            if char == '#':\n",
    "                lights.add((row, col))\n",
    "        row += 1\n",
    "len(lights)"
   ]
  },
  {
   "cell_type": "code",
   "execution_count": 7,
   "id": "eb9c0955",
   "metadata": {},
   "outputs": [
    {
     "data": {
      "text/plain": [
       "1006"
      ]
     },
     "execution_count": 7,
     "metadata": {},
     "output_type": "execute_result"
    }
   ],
   "source": [
    "for _ in range(100):\n",
    "    new_lights = set()\n",
    "    new_lights.add((0, 0))\n",
    "    new_lights.add((99, 0))\n",
    "    new_lights.add((0, 99))\n",
    "    new_lights.add((99, 99))\n",
    "    for row in range(100):\n",
    "        for col in range(100):\n",
    "            if ((row, col) in lights and neighbor_count(row, col, lights) in [2, 3]):\n",
    "                new_lights.add((row, col))\n",
    "                continue\n",
    "            if ((row, col) not in lights and neighbor_count(row, col, lights) == 3):\n",
    "                new_lights.add((row, col))\n",
    "    lights = new_lights\n",
    "len(lights)"
   ]
  },
  {
   "cell_type": "code",
   "execution_count": null,
   "id": "371c7509",
   "metadata": {},
   "outputs": [],
   "source": []
  }
 ],
 "metadata": {
  "kernelspec": {
   "display_name": "Python 3 (ipykernel)",
   "language": "python",
   "name": "python3"
  },
  "language_info": {
   "codemirror_mode": {
    "name": "ipython",
    "version": 3
   },
   "file_extension": ".py",
   "mimetype": "text/x-python",
   "name": "python",
   "nbconvert_exporter": "python",
   "pygments_lexer": "ipython3",
   "version": "3.10.12"
  }
 },
 "nbformat": 4,
 "nbformat_minor": 5
}

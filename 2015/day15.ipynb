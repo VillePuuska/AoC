{
 "cells": [
  {
   "cell_type": "code",
   "execution_count": 1,
   "id": "6eabc14c",
   "metadata": {},
   "outputs": [],
   "source": [
    "from collections import deque, defaultdict, Counter\n",
    "from heapq import heapify, heappush, heappop\n",
    "import numpy as np\n",
    "from copy import deepcopy\n",
    "import math\n",
    "import time\n",
    "from functools import cache, reduce, cmp_to_key\n",
    "import graphviz\n",
    "from itertools import product\n",
    "import matplotlib.pyplot as plt\n",
    "from bisect import bisect_left, bisect_right\n",
    "import json"
   ]
  },
  {
   "cell_type": "code",
   "execution_count": 2,
   "id": "cae8446c",
   "metadata": {},
   "outputs": [],
   "source": [
    "dirs4 = [(0, 1), (0, -1), (1, 0), (-1, 0)]\n",
    "dirs8 = dirs4 + [(1, 1), (1, -1), (-1, 1), (-1, -1)]"
   ]
  },
  {
   "cell_type": "code",
   "execution_count": 3,
   "id": "62f0843b",
   "metadata": {},
   "outputs": [
    {
     "data": {
      "text/plain": [
       "4"
      ]
     },
     "execution_count": 3,
     "metadata": {},
     "output_type": "execute_result"
    }
   ],
   "source": [
    "ingredients = []\n",
    "\n",
    "with open(\"./data/day15.txt\") as f:\n",
    "    while line := f.readline():\n",
    "        line = line.rstrip().replace(',', '').split(' ')\n",
    "        ingredients.append(tuple(map(int, [line[2], line[4], line[6], line[8], line[10]])))\n",
    "len(ingredients)"
   ]
  },
  {
   "cell_type": "code",
   "execution_count": 4,
   "id": "05a79d0c",
   "metadata": {},
   "outputs": [
    {
     "data": {
      "text/plain": [
       "21367368"
      ]
     },
     "execution_count": 4,
     "metadata": {},
     "output_type": "execute_result"
    }
   ],
   "source": [
    "res = 0\n",
    "for a in range(101):\n",
    "    for b in range(101-a):\n",
    "        for c in range(101-a-b):\n",
    "            d = 100-a-b-c\n",
    "            curr_res = 1\n",
    "            flag = False\n",
    "            for i in range(4):\n",
    "                tmp = (\n",
    "                    a*ingredients[0][i] +\n",
    "                    b*ingredients[1][i] +\n",
    "                    c*ingredients[2][i] +\n",
    "                    d*ingredients[3][i]\n",
    "                )\n",
    "                if tmp < 0:\n",
    "                    flag = True\n",
    "                    break\n",
    "                curr_res *= tmp\n",
    "            if flag:\n",
    "                curr_res = 0\n",
    "            res = max(res, curr_res)\n",
    "res"
   ]
  },
  {
   "cell_type": "code",
   "execution_count": 5,
   "id": "98796194",
   "metadata": {},
   "outputs": [
    {
     "data": {
      "text/plain": [
       "1766400"
      ]
     },
     "execution_count": 5,
     "metadata": {},
     "output_type": "execute_result"
    }
   ],
   "source": [
    "res = 0\n",
    "for a in range(101):\n",
    "    for b in range(101-a):\n",
    "        for c in range(101-a-b):\n",
    "            d = 100-a-b-c\n",
    "            curr_res = 1\n",
    "            flag = False\n",
    "            cals = (\n",
    "                a*ingredients[0][4] +\n",
    "                b*ingredients[1][4] +\n",
    "                c*ingredients[2][4] +\n",
    "                d*ingredients[3][4]\n",
    "            )\n",
    "            if cals != 500:\n",
    "                flag = True\n",
    "            for i in range(4):\n",
    "                tmp = (\n",
    "                    a*ingredients[0][i] +\n",
    "                    b*ingredients[1][i] +\n",
    "                    c*ingredients[2][i] +\n",
    "                    d*ingredients[3][i]\n",
    "                )\n",
    "                if tmp < 0:\n",
    "                    flag = True\n",
    "                    break\n",
    "                curr_res *= tmp\n",
    "            if flag:\n",
    "                curr_res = 0\n",
    "            res = max(res, curr_res)\n",
    "res"
   ]
  },
  {
   "cell_type": "code",
   "execution_count": null,
   "id": "24442d62",
   "metadata": {},
   "outputs": [],
   "source": []
  }
 ],
 "metadata": {
  "kernelspec": {
   "display_name": "Python 3 (ipykernel)",
   "language": "python",
   "name": "python3"
  },
  "language_info": {
   "codemirror_mode": {
    "name": "ipython",
    "version": 3
   },
   "file_extension": ".py",
   "mimetype": "text/x-python",
   "name": "python",
   "nbconvert_exporter": "python",
   "pygments_lexer": "ipython3",
   "version": "3.10.12"
  }
 },
 "nbformat": 4,
 "nbformat_minor": 5
}

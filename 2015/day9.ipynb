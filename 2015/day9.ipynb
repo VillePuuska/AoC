{
 "cells": [
  {
   "cell_type": "code",
   "execution_count": 1,
   "id": "6eabc14c",
   "metadata": {},
   "outputs": [],
   "source": [
    "from collections import deque, defaultdict, Counter\n",
    "from heapq import heapify, heappush, heappop\n",
    "import numpy as np\n",
    "from copy import deepcopy\n",
    "import math\n",
    "import time\n",
    "from functools import cache, reduce, cmp_to_key\n",
    "import graphviz\n",
    "from itertools import product\n",
    "import matplotlib.pyplot as plt\n",
    "from bisect import bisect_left, bisect_right\n",
    "import json"
   ]
  },
  {
   "cell_type": "code",
   "execution_count": 2,
   "id": "cae8446c",
   "metadata": {},
   "outputs": [],
   "source": [
    "dirs4 = [(0, 1), (0, -1), (1, 0), (-1, 0)]\n",
    "dirs8 = dirs4 + [(1, 1), (1, -1), (-1, 1), (-1, -1)]"
   ]
  },
  {
   "cell_type": "code",
   "execution_count": 3,
   "id": "62f0843b",
   "metadata": {},
   "outputs": [
    {
     "data": {
      "text/plain": [
       "28"
      ]
     },
     "execution_count": 3,
     "metadata": {},
     "output_type": "execute_result"
    }
   ],
   "source": [
    "lines = []\n",
    "nodes = set()\n",
    "\n",
    "with open(\"./data/day9.txt\") as f:\n",
    "    while line := f.readline():\n",
    "        line = line.rstrip().replace(' to ', ' ').replace(' = ', ' ').split(' ')\n",
    "        nodes.add(line[0])\n",
    "        nodes.add(line[1])\n",
    "        lines.append((line[0], line[1], int(line[2])))\n",
    "len(lines)"
   ]
  },
  {
   "cell_type": "code",
   "execution_count": 4,
   "id": "957b1d85",
   "metadata": {},
   "outputs": [],
   "source": [
    "adj = defaultdict(list)\n",
    "for source, target, dist in lines:\n",
    "    adj[source].append((target, dist))\n",
    "    adj[target].append((source, dist))"
   ]
  },
  {
   "cell_type": "code",
   "execution_count": 5,
   "id": "55638d93",
   "metadata": {},
   "outputs": [],
   "source": [
    "def shortest_from(start):\n",
    "    h = [(0, start, [start])]\n",
    "    while h:\n",
    "        dist, node, state = heappop(h)\n",
    "        if len(state) == len(nodes):\n",
    "            return dist\n",
    "        for target, d in adj[node]:\n",
    "            if target in state:\n",
    "                continue\n",
    "            heappush(h, (dist+d, target, state + [target]))\n",
    "    raise Exception('No path found?')"
   ]
  },
  {
   "cell_type": "code",
   "execution_count": 6,
   "id": "8b209ef8",
   "metadata": {},
   "outputs": [
    {
     "data": {
      "text/plain": [
       "251"
      ]
     },
     "execution_count": 6,
     "metadata": {},
     "output_type": "execute_result"
    }
   ],
   "source": [
    "min(map(shortest_from, nodes))"
   ]
  },
  {
   "cell_type": "code",
   "execution_count": 7,
   "id": "cd848c0d",
   "metadata": {},
   "outputs": [],
   "source": [
    "def longest_from(start):\n",
    "    res = 0\n",
    "    stack = [(0, start, [start])]\n",
    "    while stack:\n",
    "        dist, node, state = stack.pop()\n",
    "        if len(state) == len(nodes):\n",
    "            res = max(res, dist)\n",
    "            continue\n",
    "        for target, d in adj[node]:\n",
    "            if target in state:\n",
    "                continue\n",
    "            stack.append((dist+d, target, state + [target]))\n",
    "    return res"
   ]
  },
  {
   "cell_type": "code",
   "execution_count": 8,
   "id": "7f6a0275",
   "metadata": {},
   "outputs": [
    {
     "data": {
      "text/plain": [
       "898"
      ]
     },
     "execution_count": 8,
     "metadata": {},
     "output_type": "execute_result"
    }
   ],
   "source": [
    "max(map(longest_from, nodes))"
   ]
  },
  {
   "cell_type": "code",
   "execution_count": null,
   "id": "146bb962",
   "metadata": {},
   "outputs": [],
   "source": []
  }
 ],
 "metadata": {
  "kernelspec": {
   "display_name": "Python 3 (ipykernel)",
   "language": "python",
   "name": "python3"
  },
  "language_info": {
   "codemirror_mode": {
    "name": "ipython",
    "version": 3
   },
   "file_extension": ".py",
   "mimetype": "text/x-python",
   "name": "python",
   "nbconvert_exporter": "python",
   "pygments_lexer": "ipython3",
   "version": "3.10.12"
  }
 },
 "nbformat": 4,
 "nbformat_minor": 5
}

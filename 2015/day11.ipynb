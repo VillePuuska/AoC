{
 "cells": [
  {
   "cell_type": "code",
   "execution_count": 1,
   "id": "6eabc14c",
   "metadata": {},
   "outputs": [],
   "source": [
    "from collections import deque, defaultdict, Counter\n",
    "from heapq import heapify, heappush, heappop\n",
    "import numpy as np\n",
    "from copy import deepcopy\n",
    "import math\n",
    "import time\n",
    "from functools import cache, reduce, cmp_to_key\n",
    "import graphviz\n",
    "from itertools import product\n",
    "import matplotlib.pyplot as plt\n",
    "from bisect import bisect_left, bisect_right\n",
    "import json"
   ]
  },
  {
   "cell_type": "code",
   "execution_count": 2,
   "id": "cae8446c",
   "metadata": {},
   "outputs": [],
   "source": [
    "dirs4 = [(0, 1), (0, -1), (1, 0), (-1, 0)]\n",
    "dirs8 = dirs4 + [(1, 1), (1, -1), (-1, 1), (-1, -1)]"
   ]
  },
  {
   "cell_type": "code",
   "execution_count": 3,
   "id": "62f0843b",
   "metadata": {},
   "outputs": [],
   "source": [
    "with open(\"./data/day11.txt\") as f:\n",
    "    password = list(map(lambda x: ord(x)-ord('a'), list(f.read().rstrip())))"
   ]
  },
  {
   "cell_type": "code",
   "execution_count": 4,
   "id": "22a1719d",
   "metadata": {},
   "outputs": [],
   "source": [
    "n_chars = ord('z')-ord('a')+1"
   ]
  },
  {
   "cell_type": "code",
   "execution_count": 5,
   "id": "9797b1d4",
   "metadata": {},
   "outputs": [],
   "source": [
    "def increment(password):\n",
    "    curr = password.copy()[::-1]\n",
    "    new = []\n",
    "    overflow = 1\n",
    "    for c in curr:\n",
    "        new.append((c+overflow)%n_chars)\n",
    "        overflow = (c+overflow)//n_chars\n",
    "    if overflow:\n",
    "        new.append(1)\n",
    "    return new[::-1]"
   ]
  },
  {
   "cell_type": "code",
   "execution_count": 6,
   "id": "674893f6",
   "metadata": {},
   "outputs": [],
   "source": [
    "def valid(password):\n",
    "    # Rule 1\n",
    "    flag = False\n",
    "    for i in range(len(password)-2):\n",
    "        if password[i] == password[i+1]-1 == password[i+2]-2:\n",
    "            flag = True\n",
    "            break\n",
    "    if not flag:\n",
    "        return False\n",
    "    \n",
    "    # Rule 2\n",
    "    banned_letters = [ord('i')-ord('a'), ord('o')-ord('a'), ord('l')-ord('a')]\n",
    "    for c in password:\n",
    "        if c in banned_letters:\n",
    "            return False\n",
    "    \n",
    "    # Rule 3\n",
    "    doubles = set()\n",
    "    for i in range(0, len(password)-1):\n",
    "        if password[i] == password[i+1]:\n",
    "            doubles.add(password[i])\n",
    "    return len(doubles) >= 2"
   ]
  },
  {
   "cell_type": "code",
   "execution_count": 7,
   "id": "213a9034",
   "metadata": {},
   "outputs": [
    {
     "name": "stdout",
     "output_type": "stream",
     "text": [
      "hijklmmn False\n",
      "abbceffg False\n",
      "abbcegjk False\n",
      "abcdffaa True\n",
      "ghjaabcc True\n"
     ]
    }
   ],
   "source": [
    "test_passwords = ['hijklmmn', 'abbceffg', 'abbcegjk', 'abcdffaa', 'ghjaabcc']\n",
    "for pw in test_passwords:\n",
    "    print(pw, valid(list(map(lambda x: ord(x)-ord('a'), list(pw)))))"
   ]
  },
  {
   "cell_type": "code",
   "execution_count": 8,
   "id": "8aa0ccc0",
   "metadata": {},
   "outputs": [
    {
     "name": "stdout",
     "output_type": "stream",
     "text": [
      "[0, 1, 2, 3, 5, 5, 0, 0] abcdffaa 17413\n"
     ]
    }
   ],
   "source": [
    "test_passwords = ['abcdefgh']\n",
    "for pw in test_passwords:\n",
    "    pw = list(map(lambda x: ord(x)-ord('a'), list(pw)))\n",
    "    counter = 0\n",
    "    while not valid(pw) and counter < 1000000:\n",
    "        pw = increment(pw)\n",
    "        counter += 1\n",
    "    print(pw, ''.join(map(lambda x: chr(x+ord('a')), pw)), counter)"
   ]
  },
  {
   "cell_type": "code",
   "execution_count": 9,
   "id": "2949bf84",
   "metadata": {},
   "outputs": [
    {
     "name": "stdout",
     "output_type": "stream",
     "text": [
      "[7, 23, 1, 23, 23, 24, 25, 25] hxbxxyzz 18901\n"
     ]
    }
   ],
   "source": [
    "counter = 0\n",
    "pw = password.copy()\n",
    "while not valid(pw) and counter < 1000000:\n",
    "    pw = increment(pw)\n",
    "    counter += 1\n",
    "print(pw, ''.join(map(lambda x: chr(x+ord('a')), pw)), counter)"
   ]
  },
  {
   "cell_type": "code",
   "execution_count": 10,
   "id": "32773a9f",
   "metadata": {},
   "outputs": [
    {
     "name": "stdout",
     "output_type": "stream",
     "text": [
      "[7, 23, 2, 0, 0, 1, 2, 2] hxcaabcc 950511\n"
     ]
    }
   ],
   "source": [
    "counter = 1\n",
    "pw = increment(pw)\n",
    "while not valid(pw) and counter < 1000000:\n",
    "    pw = increment(pw)\n",
    "    counter += 1\n",
    "print(pw, ''.join(map(lambda x: chr(x+ord('a')), pw)), counter)"
   ]
  },
  {
   "cell_type": "code",
   "execution_count": null,
   "id": "0bebeda7",
   "metadata": {},
   "outputs": [],
   "source": []
  }
 ],
 "metadata": {
  "kernelspec": {
   "display_name": "Python 3 (ipykernel)",
   "language": "python",
   "name": "python3"
  },
  "language_info": {
   "codemirror_mode": {
    "name": "ipython",
    "version": 3
   },
   "file_extension": ".py",
   "mimetype": "text/x-python",
   "name": "python",
   "nbconvert_exporter": "python",
   "pygments_lexer": "ipython3",
   "version": "3.10.12"
  }
 },
 "nbformat": 4,
 "nbformat_minor": 5
}

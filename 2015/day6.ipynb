{
 "cells": [
  {
   "cell_type": "code",
   "execution_count": 1,
   "id": "6eabc14c",
   "metadata": {},
   "outputs": [],
   "source": [
    "from collections import deque, defaultdict, Counter\n",
    "from heapq import heapify, heappush, heappop\n",
    "import numpy as np\n",
    "from copy import deepcopy\n",
    "import math\n",
    "import time\n",
    "from functools import cache, reduce, cmp_to_key\n",
    "import graphviz\n",
    "from itertools import product\n",
    "import matplotlib.pyplot as plt\n",
    "from bisect import bisect_left, bisect_right\n",
    "import json"
   ]
  },
  {
   "cell_type": "code",
   "execution_count": 2,
   "id": "cae8446c",
   "metadata": {},
   "outputs": [],
   "source": [
    "dirs4 = [(0, 1), (0, -1), (1, 0), (-1, 0)]\n",
    "dirs8 = dirs4 + [(1, 1), (1, -1), (-1, 1), (-1, -1)]"
   ]
  },
  {
   "cell_type": "code",
   "execution_count": 14,
   "id": "62f0843b",
   "metadata": {},
   "outputs": [
    {
     "data": {
      "text/plain": [
       "300"
      ]
     },
     "execution_count": 14,
     "metadata": {},
     "output_type": "execute_result"
    }
   ],
   "source": [
    "operations = []\n",
    "\n",
    "with open(\"./data/day6.txt\") as f:\n",
    "    while line := f.readline():\n",
    "        line = line.rstrip().replace(' through ', ',').replace('n o', 'no').split(' ')\n",
    "        box = tuple(map(int, line[1].split(',')))\n",
    "        assert box[0] <= box[2] # x range\n",
    "        assert box[1] <= box[3] # y range\n",
    "        operations.append((box, line[0]))\n",
    "len(operations)"
   ]
  },
  {
   "cell_type": "code",
   "execution_count": 15,
   "id": "1596c5b4",
   "metadata": {},
   "outputs": [
    {
     "data": {
      "text/plain": [
       "400410"
      ]
     },
     "execution_count": 15,
     "metadata": {},
     "output_type": "execute_result"
    }
   ],
   "source": [
    "status = defaultdict(int)\n",
    "for x in range(1000):\n",
    "    for y in range(1000):\n",
    "        point = (x, y)\n",
    "        for box, op in operations:\n",
    "            if x not in range(box[0], box[2]+1) or y not in range(box[1], box[3]+1):\n",
    "                continue\n",
    "            if op == 'turnon':\n",
    "                status[point] = 1\n",
    "            elif op == 'turnoff':\n",
    "                status[point] = 0\n",
    "            else:\n",
    "                status[point] = status[point]^1\n",
    "sum(status.values())"
   ]
  },
  {
   "cell_type": "code",
   "execution_count": 17,
   "id": "c12b9def",
   "metadata": {},
   "outputs": [
    {
     "data": {
      "text/plain": [
       "15343601"
      ]
     },
     "execution_count": 17,
     "metadata": {},
     "output_type": "execute_result"
    }
   ],
   "source": [
    "status = defaultdict(int)\n",
    "for x in range(1000):\n",
    "    for y in range(1000):\n",
    "        point = (x, y)\n",
    "        for box, op in operations:\n",
    "            if x not in range(box[0], box[2]+1) or y not in range(box[1], box[3]+1):\n",
    "                continue\n",
    "            if op == 'turnon':\n",
    "                status[point] += 1\n",
    "            elif op == 'turnoff':\n",
    "                status[point] = max(0, status[point]-1) \n",
    "            else:\n",
    "                status[point] += 2\n",
    "sum(status.values())"
   ]
  },
  {
   "cell_type": "code",
   "execution_count": null,
   "id": "7a8227fa",
   "metadata": {},
   "outputs": [],
   "source": []
  }
 ],
 "metadata": {
  "kernelspec": {
   "display_name": "Python 3 (ipykernel)",
   "language": "python",
   "name": "python3"
  },
  "language_info": {
   "codemirror_mode": {
    "name": "ipython",
    "version": 3
   },
   "file_extension": ".py",
   "mimetype": "text/x-python",
   "name": "python",
   "nbconvert_exporter": "python",
   "pygments_lexer": "ipython3",
   "version": "3.10.12"
  }
 },
 "nbformat": 4,
 "nbformat_minor": 5
}

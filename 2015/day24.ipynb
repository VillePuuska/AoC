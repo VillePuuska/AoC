{
 "cells": [
  {
   "cell_type": "code",
   "execution_count": 1,
   "id": "6eabc14c",
   "metadata": {},
   "outputs": [],
   "source": [
    "from collections import deque, defaultdict, Counter\n",
    "from heapq import heapify, heappush, heappop\n",
    "import numpy as np\n",
    "from copy import deepcopy\n",
    "import math\n",
    "import time\n",
    "from functools import cache, reduce, cmp_to_key\n",
    "import graphviz\n",
    "from itertools import product\n",
    "import matplotlib.pyplot as plt\n",
    "from bisect import bisect_left, bisect_right\n",
    "import json"
   ]
  },
  {
   "cell_type": "code",
   "execution_count": 2,
   "id": "cae8446c",
   "metadata": {},
   "outputs": [],
   "source": [
    "dirs4 = [(0, 1), (0, -1), (1, 0), (-1, 0)]\n",
    "dirs8 = dirs4 + [(1, 1), (1, -1), (-1, 1), (-1, -1)]"
   ]
  },
  {
   "cell_type": "code",
   "execution_count": 3,
   "id": "62f0843b",
   "metadata": {},
   "outputs": [
    {
     "data": {
      "text/plain": [
       "28"
      ]
     },
     "execution_count": 3,
     "metadata": {},
     "output_type": "execute_result"
    }
   ],
   "source": [
    "numbers = []\n",
    "\n",
    "with open(\"./data/day24.txt\") as f:\n",
    "    while line := f.readline():\n",
    "        line = line.rstrip()\n",
    "        numbers.append(int(line))\n",
    "len(numbers)"
   ]
  },
  {
   "cell_type": "code",
   "execution_count": 4,
   "id": "f6cb304f",
   "metadata": {},
   "outputs": [
    {
     "data": {
      "text/plain": [
       "(1548, 516)"
      ]
     },
     "execution_count": 4,
     "metadata": {},
     "output_type": "execute_result"
    }
   ],
   "source": [
    "total_sum = sum(numbers)\n",
    "target = total_sum//3\n",
    "total_sum, target"
   ]
  },
  {
   "cell_type": "code",
   "execution_count": 5,
   "id": "ea4c7f53",
   "metadata": {},
   "outputs": [],
   "source": [
    "def partition_two(ind, labels, curr_sum, return_first=False):\n",
    "    if curr_sum == target:\n",
    "        return [[num for i, num in enumerate(numbers) if labels[i] == index] for index in set(sorted(labels))]\n",
    "    if curr_sum > target or ind >= len(numbers):\n",
    "        return []\n",
    "    if labels[ind] != 0:\n",
    "        return partition_two(ind+1, labels, curr_sum, return_first)\n",
    "    res = partition_two(ind+1, labels, curr_sum, return_first)\n",
    "\n",
    "    if return_first and res != []:\n",
    "        return res\n",
    "\n",
    "    labels[ind] = 1\n",
    "    res.extend(partition_two(ind+1, labels, curr_sum+numbers[ind], return_first))\n",
    "    labels[ind] = 0\n",
    "    return res\n",
    "\n",
    "def partition_three(ind, labels, curr_sum, return_first=False, partition_limit=math.inf):\n",
    "    if curr_sum == target:\n",
    "        return partition_two(0, labels, 0, return_first=True)\n",
    "    if curr_sum > target or ind >= len(numbers) or partition_limit <= 0:\n",
    "        return []\n",
    "    if labels[ind] != 0:\n",
    "        return partition_three(ind+1, labels, curr_sum, return_first, partition_limit)\n",
    "    res = partition_three(ind+1, labels, curr_sum, return_first, partition_limit)\n",
    "\n",
    "    if return_first and res != []:\n",
    "        return res\n",
    "\n",
    "    labels[ind] = 2\n",
    "    res.extend(partition_three(ind+1, labels, curr_sum+numbers[ind], return_first, partition_limit-1))\n",
    "    labels[ind] = 0\n",
    "    return res\n",
    "\n",
    "def score(partition):\n",
    "    return (len(partition), math.prod(partition))"
   ]
  },
  {
   "cell_type": "code",
   "execution_count": 6,
   "id": "56cbcdfe",
   "metadata": {},
   "outputs": [],
   "source": [
    "numbers.sort(reverse=True)\n",
    "initial_labels = [0]*len(numbers)\n",
    "initial_labels[0] = 2\n",
    "res = partition_three(1, initial_labels, numbers[0], return_first=True)"
   ]
  },
  {
   "cell_type": "code",
   "execution_count": 7,
   "id": "2b0b697b",
   "metadata": {},
   "outputs": [
    {
     "data": {
      "text/plain": [
       "(6, 329992887011)"
      ]
     },
     "execution_count": 7,
     "metadata": {},
     "output_type": "execute_result"
    }
   ],
   "source": [
    "min(map(score, res))"
   ]
  },
  {
   "cell_type": "code",
   "execution_count": 8,
   "id": "b699f227",
   "metadata": {},
   "outputs": [],
   "source": [
    "initial_labels = [0]*len(numbers)\n",
    "res = partition_three(0, initial_labels, 0, partition_limit=6)"
   ]
  },
  {
   "cell_type": "code",
   "execution_count": 9,
   "id": "691e239c",
   "metadata": {},
   "outputs": [
    {
     "data": {
      "text/plain": [
       "(6, 11266889531)"
      ]
     },
     "execution_count": 9,
     "metadata": {},
     "output_type": "execute_result"
    }
   ],
   "source": [
    "min(map(score, res))"
   ]
  },
  {
   "cell_type": "code",
   "execution_count": 10,
   "id": "c63e9b18",
   "metadata": {},
   "outputs": [],
   "source": [
    "def partition_four(ind, labels, curr_sum, return_first=False, partition_limit=math.inf):\n",
    "    if curr_sum == target:\n",
    "        return partition_three(0, labels, 0, return_first=True)\n",
    "    if curr_sum > target or ind >= len(numbers) or partition_limit <= 0:\n",
    "        return []\n",
    "    res = partition_four(ind+1, labels, curr_sum, return_first, partition_limit)\n",
    "\n",
    "    if return_first and res != []:\n",
    "        return res\n",
    "\n",
    "    labels[ind] = 3\n",
    "    res.extend(partition_four(ind+1, labels, curr_sum+numbers[ind], return_first, partition_limit-1))\n",
    "    labels[ind] = 0\n",
    "    return res"
   ]
  },
  {
   "cell_type": "code",
   "execution_count": 11,
   "id": "0125fc80",
   "metadata": {},
   "outputs": [],
   "source": [
    "target = total_sum//4"
   ]
  },
  {
   "cell_type": "code",
   "execution_count": 12,
   "id": "bcd88bc8",
   "metadata": {},
   "outputs": [],
   "source": [
    "numbers.sort(reverse=True)\n",
    "initial_labels = [0]*len(numbers)\n",
    "initial_labels[0] = 3\n",
    "res = partition_four(1, initial_labels, numbers[0], return_first=True, partition_limit=4)"
   ]
  },
  {
   "cell_type": "code",
   "execution_count": 13,
   "id": "1335a88b",
   "metadata": {},
   "outputs": [
    {
     "data": {
      "text/plain": [
       "(5, 246007659)"
      ]
     },
     "execution_count": 13,
     "metadata": {},
     "output_type": "execute_result"
    }
   ],
   "source": [
    "min(map(score, res))"
   ]
  },
  {
   "cell_type": "code",
   "execution_count": 14,
   "id": "c0376957",
   "metadata": {},
   "outputs": [
    {
     "data": {
      "text/plain": [
       "[387, 387, 387, 387]"
      ]
     },
     "execution_count": 14,
     "metadata": {},
     "output_type": "execute_result"
    }
   ],
   "source": [
    "list(map(sum, res))"
   ]
  },
  {
   "cell_type": "code",
   "execution_count": 15,
   "id": "62fcde49",
   "metadata": {},
   "outputs": [
    {
     "data": {
      "text/plain": [
       "[[109, 107, 89, 79, 3],\n",
       " [103, 101, 97, 73, 13],\n",
       " [67, 53, 47, 43, 41, 31, 29, 23, 19, 17, 11, 5, 1],\n",
       " [113, 83, 71, 61, 59]]"
      ]
     },
     "execution_count": 15,
     "metadata": {},
     "output_type": "execute_result"
    }
   ],
   "source": [
    "res"
   ]
  },
  {
   "cell_type": "code",
   "execution_count": 16,
   "id": "9f603434",
   "metadata": {},
   "outputs": [],
   "source": [
    "initial_labels = [0]*len(numbers)\n",
    "res = partition_four(0, initial_labels, 0, partition_limit=5)"
   ]
  },
  {
   "cell_type": "code",
   "execution_count": 17,
   "id": "80be3f68",
   "metadata": {},
   "outputs": [
    {
     "data": {
      "text/plain": [
       "(5, 77387711)"
      ]
     },
     "execution_count": 17,
     "metadata": {},
     "output_type": "execute_result"
    }
   ],
   "source": [
    "min(map(score, res))"
   ]
  },
  {
   "cell_type": "code",
   "execution_count": null,
   "id": "76f92a59",
   "metadata": {},
   "outputs": [],
   "source": []
  }
 ],
 "metadata": {
  "kernelspec": {
   "display_name": "Python 3 (ipykernel)",
   "language": "python",
   "name": "python3"
  },
  "language_info": {
   "codemirror_mode": {
    "name": "ipython",
    "version": 3
   },
   "file_extension": ".py",
   "mimetype": "text/x-python",
   "name": "python",
   "nbconvert_exporter": "python",
   "pygments_lexer": "ipython3",
   "version": "3.10.12"
  }
 },
 "nbformat": 4,
 "nbformat_minor": 5
}

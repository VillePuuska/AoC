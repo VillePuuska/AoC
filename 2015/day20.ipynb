{
 "cells": [
  {
   "cell_type": "code",
   "execution_count": 1,
   "id": "6eabc14c",
   "metadata": {},
   "outputs": [],
   "source": [
    "from collections import deque, defaultdict, Counter\n",
    "from heapq import heapify, heappush, heappop\n",
    "import numpy as np\n",
    "from copy import deepcopy\n",
    "import math\n",
    "import time\n",
    "from functools import cache, reduce, cmp_to_key\n",
    "import graphviz\n",
    "from itertools import product\n",
    "import matplotlib.pyplot as plt\n",
    "from bisect import bisect_left, bisect_right\n",
    "import json"
   ]
  },
  {
   "cell_type": "code",
   "execution_count": 2,
   "id": "cae8446c",
   "metadata": {},
   "outputs": [],
   "source": [
    "dirs4 = [(0, 1), (0, -1), (1, 0), (-1, 0)]\n",
    "dirs8 = dirs4 + [(1, 1), (1, -1), (-1, 1), (-1, -1)]"
   ]
  },
  {
   "cell_type": "code",
   "execution_count": 3,
   "id": "62f0843b",
   "metadata": {},
   "outputs": [],
   "source": [
    "with open(\"./data/day20.txt\") as f:\n",
    "    target = int(f.read().rstrip())"
   ]
  },
  {
   "cell_type": "code",
   "execution_count": 4,
   "id": "3a593862",
   "metadata": {},
   "outputs": [],
   "source": [
    "def presents(num):\n",
    "    return 10*sum(n+(num//n if n*n != num else 0) for n in range(1, int(math.sqrt(num))+1) if num%n == 0)"
   ]
  },
  {
   "cell_type": "code",
   "execution_count": 5,
   "id": "be987124",
   "metadata": {},
   "outputs": [
    {
     "name": "stdout",
     "output_type": "stream",
     "text": [
      "1 10\n",
      "2 30\n",
      "3 40\n",
      "4 70\n",
      "5 60\n",
      "6 120\n",
      "7 80\n",
      "8 150\n",
      "9 130\n"
     ]
    }
   ],
   "source": [
    "for num in range(1, 10):\n",
    "    print(num, presents(num))"
   ]
  },
  {
   "cell_type": "code",
   "execution_count": 6,
   "id": "c9e015be",
   "metadata": {},
   "outputs": [
    {
     "name": "stdout",
     "output_type": "stream",
     "text": [
      "786240\n"
     ]
    }
   ],
   "source": [
    "m = 0\n",
    "for num in range(5*10**5, 10**6):\n",
    "    p = presents(num)\n",
    "    m = max(m, p)\n",
    "    if p >= target:\n",
    "        print(num)\n",
    "        break"
   ]
  },
  {
   "cell_type": "code",
   "execution_count": 7,
   "id": "682f863d",
   "metadata": {},
   "outputs": [],
   "source": [
    "def presents2(num):\n",
    "    return 11*sum((n if num//n <= 50 else 0)+\n",
    "                  (num//n if n <= 50 and n*n != num else 0)\n",
    "                  for n in range(1, int(math.sqrt(num))+1)\n",
    "                  if num%n == 0)"
   ]
  },
  {
   "cell_type": "code",
   "execution_count": 8,
   "id": "def934c9",
   "metadata": {},
   "outputs": [
    {
     "name": "stdout",
     "output_type": "stream",
     "text": [
      "1 11\n",
      "2 33\n",
      "3 44\n",
      "4 77\n",
      "5 66\n",
      "6 132\n",
      "7 88\n",
      "8 165\n",
      "9 143\n"
     ]
    }
   ],
   "source": [
    "for num in range(1, 10):\n",
    "    print(num, presents2(num))"
   ]
  },
  {
   "cell_type": "code",
   "execution_count": 9,
   "id": "baf7a3c2",
   "metadata": {},
   "outputs": [
    {
     "name": "stdout",
     "output_type": "stream",
     "text": [
      "831600\n"
     ]
    }
   ],
   "source": [
    "m = 0\n",
    "for num in range(786240, 10**6): # guess that part 2 change will make the answer higher\n",
    "    p = presents2(num)\n",
    "    m = max(m, p)\n",
    "    if p >= target:\n",
    "        print(num)\n",
    "        break"
   ]
  },
  {
   "cell_type": "code",
   "execution_count": null,
   "id": "bbfacf03",
   "metadata": {},
   "outputs": [],
   "source": []
  }
 ],
 "metadata": {
  "kernelspec": {
   "display_name": "Python 3 (ipykernel)",
   "language": "python",
   "name": "python3"
  },
  "language_info": {
   "codemirror_mode": {
    "name": "ipython",
    "version": 3
   },
   "file_extension": ".py",
   "mimetype": "text/x-python",
   "name": "python",
   "nbconvert_exporter": "python",
   "pygments_lexer": "ipython3",
   "version": "3.10.12"
  }
 },
 "nbformat": 4,
 "nbformat_minor": 5
}

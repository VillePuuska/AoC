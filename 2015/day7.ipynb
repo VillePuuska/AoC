{
 "cells": [
  {
   "cell_type": "code",
   "execution_count": 1,
   "id": "6eabc14c",
   "metadata": {},
   "outputs": [],
   "source": [
    "from collections import deque, defaultdict, Counter\n",
    "from heapq import heapify, heappush, heappop\n",
    "import numpy as np\n",
    "from copy import deepcopy\n",
    "import math\n",
    "import time\n",
    "from functools import cache, reduce, cmp_to_key\n",
    "import graphviz\n",
    "from itertools import product\n",
    "import matplotlib.pyplot as plt\n",
    "from bisect import bisect_left, bisect_right\n",
    "import json"
   ]
  },
  {
   "cell_type": "code",
   "execution_count": 2,
   "id": "cae8446c",
   "metadata": {},
   "outputs": [],
   "source": [
    "dirs4 = [(0, 1), (0, -1), (1, 0), (-1, 0)]\n",
    "dirs8 = dirs4 + [(1, 1), (1, -1), (-1, 1), (-1, -1)]"
   ]
  },
  {
   "cell_type": "code",
   "execution_count": 3,
   "id": "62f0843b",
   "metadata": {},
   "outputs": [
    {
     "data": {
      "text/plain": [
       "339"
      ]
     },
     "execution_count": 3,
     "metadata": {},
     "output_type": "execute_result"
    }
   ],
   "source": [
    "instructions = []\n",
    "\n",
    "with open(\"./data/day7.txt\") as f:\n",
    "    while line := f.readline():\n",
    "        line = line.rstrip().split(' -> ')\n",
    "        instructions.append(line)\n",
    "len(instructions)"
   ]
  },
  {
   "cell_type": "code",
   "execution_count": 4,
   "id": "47861fca",
   "metadata": {},
   "outputs": [],
   "source": [
    "def handle_instruction(instruction, values):\n",
    "    left, output = instruction\n",
    "    left = left.split(' ')\n",
    "    if len(left) == 1: # 123 -> output\n",
    "        if left[0] not in values:\n",
    "            return False, values\n",
    "        output_val = values[left[0]]\n",
    "    elif len(left) == 2: # NOT x -> output\n",
    "        if left[1] not in values:\n",
    "            return False, values\n",
    "        output_val = values[left[1]] ^ (2**16-1)\n",
    "    elif left[1] == 'AND': # x AND y -> output\n",
    "        if left[0] not in values or left[2] not in values:\n",
    "            return False, values\n",
    "        output_val = values[left[0]] & values[left[2]]\n",
    "    elif left[1] == 'OR': # x OR y -> output\n",
    "        if left[0] not in values or left[2] not in values:\n",
    "            return False, values\n",
    "        output_val = values[left[0]] | values[left[2]]\n",
    "    elif left[1] == 'LSHIFT': # x LSHIFT y -> output\n",
    "        if left[0] not in values:\n",
    "            return False, values\n",
    "        output_val = (values[left[0]] << int(left[2])) & (2**16-1)\n",
    "    elif left[1] == 'RSHIFT': # x RSHIFT y -> output\n",
    "        if left[0] not in values:\n",
    "            return False, values\n",
    "        output_val = values[left[0]] >> int(left[2])\n",
    "    else:\n",
    "        raise Exception('Invalid instruction.', instruction)\n",
    "    values[output] = output_val\n",
    "    return True, values"
   ]
  },
  {
   "cell_type": "code",
   "execution_count": 5,
   "id": "d6a12c5a",
   "metadata": {},
   "outputs": [],
   "source": [
    "current_instructions = instructions.copy()\n",
    "values = {}\n",
    "for i in range(2**16):\n",
    "    values[str(i)] = i\n",
    "while current_instructions:\n",
    "    new_instructions = []\n",
    "    for instruction in current_instructions:\n",
    "        flag, values = handle_instruction(instruction, values)\n",
    "        if not flag:\n",
    "            new_instructions.append(instruction)\n",
    "    current_instructions = new_instructions"
   ]
  },
  {
   "cell_type": "code",
   "execution_count": 6,
   "id": "c1dc6a1f",
   "metadata": {},
   "outputs": [
    {
     "data": {
      "text/plain": [
       "46065"
      ]
     },
     "execution_count": 6,
     "metadata": {},
     "output_type": "execute_result"
    }
   ],
   "source": [
    "values['a']"
   ]
  },
  {
   "cell_type": "code",
   "execution_count": null,
   "id": "af8fcbf6",
   "metadata": {},
   "outputs": [],
   "source": []
  }
 ],
 "metadata": {
  "kernelspec": {
   "display_name": "Python 3 (ipykernel)",
   "language": "python",
   "name": "python3"
  },
  "language_info": {
   "codemirror_mode": {
    "name": "ipython",
    "version": 3
   },
   "file_extension": ".py",
   "mimetype": "text/x-python",
   "name": "python",
   "nbconvert_exporter": "python",
   "pygments_lexer": "ipython3",
   "version": "3.10.12"
  }
 },
 "nbformat": 4,
 "nbformat_minor": 5
}

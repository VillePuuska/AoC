{
 "cells": [
  {
   "cell_type": "code",
   "execution_count": 1,
   "id": "6eabc14c",
   "metadata": {},
   "outputs": [],
   "source": [
    "from collections import deque, defaultdict, Counter\n",
    "from heapq import heapify, heappush, heappop\n",
    "import numpy as np\n",
    "from copy import deepcopy\n",
    "import math\n",
    "import time\n",
    "from functools import cache, reduce, cmp_to_key\n",
    "import graphviz\n",
    "from itertools import product\n",
    "import matplotlib.pyplot as plt\n",
    "from bisect import bisect_left, bisect_right\n",
    "import json"
   ]
  },
  {
   "cell_type": "code",
   "execution_count": 2,
   "id": "cae8446c",
   "metadata": {},
   "outputs": [],
   "source": [
    "dirs4 = [(0, 1), (0, -1), (1, 0), (-1, 0)]\n",
    "dirs8 = dirs4 + [(1, 1), (1, -1), (-1, 1), (-1, -1)]"
   ]
  },
  {
   "cell_type": "code",
   "execution_count": 3,
   "id": "62f0843b",
   "metadata": {},
   "outputs": [
    {
     "data": {
      "text/plain": [
       "(500, {'goldfish:': 6, 'trees:': 9, 'akitas:': 0})"
      ]
     },
     "execution_count": 3,
     "metadata": {},
     "output_type": "execute_result"
    }
   ],
   "source": [
    "full_dict = {}\n",
    "\n",
    "with open(\"./data/day16_ex.txt\") as f:\n",
    "    while line := f.readline():\n",
    "        line = line.rstrip().split(' ')\n",
    "        full_dict[line[0]] = int(line[1])\n",
    "\n",
    "sues = []\n",
    "\n",
    "with open(\"./data/day16.txt\") as f:\n",
    "    while line := f.readline():\n",
    "        line = line.rstrip().replace(',', '').split(' ')\n",
    "        d = {}\n",
    "        for i in range(2, len(line), 2):\n",
    "            d[line[i]] = int(line[i+1])\n",
    "        sues.append(d)\n",
    "\n",
    "len(sues), sues[0]"
   ]
  },
  {
   "cell_type": "code",
   "execution_count": 4,
   "id": "cdef97a3",
   "metadata": {},
   "outputs": [
    {
     "name": "stdout",
     "output_type": "stream",
     "text": [
      "103\n"
     ]
    }
   ],
   "source": [
    "for i, sue in enumerate(sues):\n",
    "    flag = True\n",
    "    for k, v in sue.items():\n",
    "        if v != full_dict[k]:\n",
    "            flag = False\n",
    "            break\n",
    "    if flag:\n",
    "        print(i+1)"
   ]
  },
  {
   "cell_type": "code",
   "execution_count": 5,
   "id": "d9160cda",
   "metadata": {},
   "outputs": [
    {
     "name": "stdout",
     "output_type": "stream",
     "text": [
      "405\n"
     ]
    }
   ],
   "source": [
    "for i, sue in enumerate(sues):\n",
    "    flag = True\n",
    "    for k, v in sue.items():\n",
    "        if k in ['cats:', 'trees:'] and v <= full_dict[k]:\n",
    "            flag = False\n",
    "            break\n",
    "        if k in ['pomeranians:', 'goldfish:'] and v >= full_dict[k]:\n",
    "            flag = False\n",
    "            break\n",
    "        if k not in ['cats:', 'trees:', 'pomeranians:', 'goldfish:'] and v != full_dict[k]:\n",
    "            flag = False\n",
    "            break\n",
    "    if flag:\n",
    "        print(i+1)"
   ]
  },
  {
   "cell_type": "code",
   "execution_count": null,
   "id": "f3703d8d",
   "metadata": {},
   "outputs": [],
   "source": []
  }
 ],
 "metadata": {
  "kernelspec": {
   "display_name": "Python 3 (ipykernel)",
   "language": "python",
   "name": "python3"
  },
  "language_info": {
   "codemirror_mode": {
    "name": "ipython",
    "version": 3
   },
   "file_extension": ".py",
   "mimetype": "text/x-python",
   "name": "python",
   "nbconvert_exporter": "python",
   "pygments_lexer": "ipython3",
   "version": "3.10.12"
  }
 },
 "nbformat": 4,
 "nbformat_minor": 5
}

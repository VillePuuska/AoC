{
 "cells": [
  {
   "cell_type": "code",
   "execution_count": 1,
   "id": "6eabc14c",
   "metadata": {},
   "outputs": [],
   "source": [
    "from collections import deque, defaultdict, Counter\n",
    "from heapq import heapify, heappush, heappop\n",
    "import numpy as np\n",
    "from copy import deepcopy\n",
    "import math\n",
    "import time\n",
    "from functools import cache, reduce, cmp_to_key\n",
    "import graphviz\n",
    "from itertools import product\n",
    "import matplotlib.pyplot as plt\n",
    "from bisect import bisect_left, bisect_right\n",
    "import json"
   ]
  },
  {
   "cell_type": "code",
   "execution_count": 2,
   "id": "cae8446c",
   "metadata": {},
   "outputs": [],
   "source": [
    "dirs4 = [(0, 1), (0, -1), (1, 0), (-1, 0)]\n",
    "dirs8 = dirs4 + [(1, 1), (1, -1), (-1, 1), (-1, -1)]"
   ]
  },
  {
   "cell_type": "code",
   "execution_count": 3,
   "id": "ddd68fdf",
   "metadata": {},
   "outputs": [],
   "source": [
    "def triangle(base):\n",
    "    return base*(base+1)//2"
   ]
  },
  {
   "cell_type": "code",
   "execution_count": 4,
   "id": "c291d42f",
   "metadata": {},
   "outputs": [],
   "source": [
    "multiplier = 252533\n",
    "mod = 33554393\n",
    "\n",
    "def operation(row, col):\n",
    "    exponent = triangle(row+col-2)+col-1\n",
    "    return (20151125*pow(multiplier, exponent, mod))%mod"
   ]
  },
  {
   "cell_type": "code",
   "execution_count": 5,
   "id": "28fe0a7b",
   "metadata": {},
   "outputs": [
    {
     "name": "stdout",
     "output_type": "stream",
     "text": [
      "  20151125  18749137  17289845  30943339  10071777  33511524  18736608  26922776   7182682\n",
      "  31916031  21629792  16929656   7726640  15514188   4041754  15037021   9840877  11132687\n",
      "  16080970   8057251   1601130   7981243  11661866  16474243  13380048   8600406  14653365\n",
      "  24592653  32451966  21345942   9380097  10600672  31527494  29296167  32242081   7076709\n",
      "     77061  17552253  28094349   6899651   9250759  31663883  20175176  27056482    286183\n",
      "  33071741   6796745  25397450  24659492   1534922  27995004  15299841   7473880  22494858\n",
      "  12231762  18704662  31519965  25099797  21810938  10870529  14494829  18659740   9580710\n",
      "   6207955  22423223    217344  28107021   4243953    677834  32792317  31629657   1190997\n",
      "  31173162   3668578   5706403  14245151  31737779  26657837  27664997  21778677  22387060\n"
     ]
    }
   ],
   "source": [
    "for row in range(1, 10):\n",
    "    s = ''\n",
    "    for col in range(1, 10):\n",
    "        s += str(operation(row, col)).rjust(10)\n",
    "    print(s)"
   ]
  },
  {
   "cell_type": "code",
   "execution_count": 6,
   "id": "62f0843b",
   "metadata": {},
   "outputs": [
    {
     "data": {
      "text/plain": [
       "8997277"
      ]
     },
     "execution_count": 6,
     "metadata": {},
     "output_type": "execute_result"
    }
   ],
   "source": [
    "with open(\"./data/day25.txt\") as f:\n",
    "    data = f.read().rstrip().replace(',', '').replace('.', '').split(' ')\n",
    "row = int(data[-3])\n",
    "col = int(data[-1])\n",
    "\n",
    "operation(row, col)"
   ]
  },
  {
   "cell_type": "code",
   "execution_count": null,
   "id": "8882afbf",
   "metadata": {},
   "outputs": [],
   "source": []
  }
 ],
 "metadata": {
  "kernelspec": {
   "display_name": "Python 3 (ipykernel)",
   "language": "python",
   "name": "python3"
  },
  "language_info": {
   "codemirror_mode": {
    "name": "ipython",
    "version": 3
   },
   "file_extension": ".py",
   "mimetype": "text/x-python",
   "name": "python",
   "nbconvert_exporter": "python",
   "pygments_lexer": "ipython3",
   "version": "3.10.12"
  }
 },
 "nbformat": 4,
 "nbformat_minor": 5
}

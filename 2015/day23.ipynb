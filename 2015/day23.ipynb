{
 "cells": [
  {
   "cell_type": "code",
   "execution_count": 1,
   "id": "6eabc14c",
   "metadata": {},
   "outputs": [],
   "source": [
    "from collections import deque, defaultdict, Counter\n",
    "from heapq import heapify, heappush, heappop\n",
    "import numpy as np\n",
    "from copy import deepcopy\n",
    "import math\n",
    "import time\n",
    "from functools import cache, reduce, cmp_to_key\n",
    "import graphviz\n",
    "from itertools import product\n",
    "import matplotlib.pyplot as plt\n",
    "from bisect import bisect_left, bisect_right\n",
    "import json"
   ]
  },
  {
   "cell_type": "code",
   "execution_count": 2,
   "id": "cae8446c",
   "metadata": {},
   "outputs": [],
   "source": [
    "dirs4 = [(0, 1), (0, -1), (1, 0), (-1, 0)]\n",
    "dirs8 = dirs4 + [(1, 1), (1, -1), (-1, 1), (-1, -1)]"
   ]
  },
  {
   "cell_type": "code",
   "execution_count": 3,
   "id": "62f0843b",
   "metadata": {},
   "outputs": [
    {
     "data": {
      "text/plain": [
       "48"
      ]
     },
     "execution_count": 3,
     "metadata": {},
     "output_type": "execute_result"
    }
   ],
   "source": [
    "instructions = []\n",
    "\n",
    "with open(\"./data/day23.txt\") as f:\n",
    "    while line := f.readline():\n",
    "        line = line.rstrip().replace(',', '').split(' ')\n",
    "        instructions.append(line)\n",
    "len(instructions)"
   ]
  },
  {
   "cell_type": "code",
   "execution_count": 4,
   "id": "b3bc518a",
   "metadata": {},
   "outputs": [],
   "source": [
    "def run_instructions(state, ind):\n",
    "    while ind < len(instructions):\n",
    "        instruction = instructions[ind]\n",
    "        operation = instruction[0]\n",
    "\n",
    "        if operation == 'hlf':\n",
    "            register = instruction[1]\n",
    "            state[register] = state[register]//2\n",
    "            ind += 1\n",
    "            continue\n",
    "\n",
    "        if operation == 'tpl':\n",
    "            register = instruction[1]\n",
    "            state[register] *= 3\n",
    "            ind += 1\n",
    "            continue\n",
    "\n",
    "        if operation == 'inc':\n",
    "            register = instruction[1]\n",
    "            state[register] += 1\n",
    "            ind += 1\n",
    "            continue\n",
    "\n",
    "        if operation == 'jmp':\n",
    "            ind += int(instruction[1])\n",
    "            continue\n",
    "\n",
    "        if operation == 'jie':\n",
    "            register = instruction[1]\n",
    "            if state[register]%2 == 0:\n",
    "                ind += int(instruction[2])\n",
    "            else:\n",
    "                ind += 1\n",
    "            continue\n",
    "\n",
    "        if operation == 'jio':\n",
    "            register = instruction[1]\n",
    "            if state[register] == 1:\n",
    "                ind += int(instruction[2])\n",
    "            else:\n",
    "                ind += 1\n",
    "            continue\n",
    "\n",
    "        raise Exception(\"Invalid instruction?\", instruction)\n",
    "    return state"
   ]
  },
  {
   "cell_type": "code",
   "execution_count": 5,
   "id": "d2295e6d",
   "metadata": {},
   "outputs": [
    {
     "data": {
      "text/plain": [
       "{'a': 1, 'b': 255}"
      ]
     },
     "execution_count": 5,
     "metadata": {},
     "output_type": "execute_result"
    }
   ],
   "source": [
    "run_instructions({'a':0, 'b':0}, 0)"
   ]
  },
  {
   "cell_type": "code",
   "execution_count": 6,
   "id": "d8b4bc0f",
   "metadata": {},
   "outputs": [
    {
     "data": {
      "text/plain": [
       "{'a': 1, 'b': 334}"
      ]
     },
     "execution_count": 6,
     "metadata": {},
     "output_type": "execute_result"
    }
   ],
   "source": [
    "run_instructions({'a':1, 'b':0}, 0)"
   ]
  },
  {
   "cell_type": "code",
   "execution_count": null,
   "id": "4fec8bee",
   "metadata": {},
   "outputs": [],
   "source": []
  }
 ],
 "metadata": {
  "kernelspec": {
   "display_name": "Python 3 (ipykernel)",
   "language": "python",
   "name": "python3"
  },
  "language_info": {
   "codemirror_mode": {
    "name": "ipython",
    "version": 3
   },
   "file_extension": ".py",
   "mimetype": "text/x-python",
   "name": "python",
   "nbconvert_exporter": "python",
   "pygments_lexer": "ipython3",
   "version": "3.10.12"
  }
 },
 "nbformat": 4,
 "nbformat_minor": 5
}

{
 "cells": [
  {
   "cell_type": "code",
   "execution_count": 1,
   "id": "6eabc14c",
   "metadata": {},
   "outputs": [],
   "source": [
    "from collections import deque, defaultdict, Counter\n",
    "from heapq import heapify, heappush, heappop\n",
    "import numpy as np\n",
    "from copy import deepcopy\n",
    "import math\n",
    "import time\n",
    "from functools import cache, reduce, cmp_to_key\n",
    "import graphviz\n",
    "from itertools import product\n",
    "import matplotlib.pyplot as plt\n",
    "from bisect import bisect_left, bisect_right\n",
    "import json"
   ]
  },
  {
   "cell_type": "code",
   "execution_count": 2,
   "id": "cae8446c",
   "metadata": {},
   "outputs": [],
   "source": [
    "dirs4 = [(0, 1), (0, -1), (1, 0), (-1, 0)]\n",
    "dirs8 = dirs4 + [(1, 1), (1, -1), (-1, 1), (-1, -1)]"
   ]
  },
  {
   "cell_type": "code",
   "execution_count": 3,
   "id": "62f0843b",
   "metadata": {},
   "outputs": [
    {
     "data": {
      "text/plain": [
       "9"
      ]
     },
     "execution_count": 3,
     "metadata": {},
     "output_type": "execute_result"
    }
   ],
   "source": [
    "reindeer = []\n",
    "\n",
    "with open(\"./data/day14.txt\") as f:\n",
    "    while line := f.readline():\n",
    "        line = line.rstrip().split(' ')\n",
    "        reindeer.append((line[0], int(line[3]), int(line[6]), int(line[-2])))\n",
    "len(reindeer)"
   ]
  },
  {
   "cell_type": "code",
   "execution_count": 4,
   "id": "c58fa562",
   "metadata": {},
   "outputs": [
    {
     "name": "stdout",
     "output_type": "stream",
     "text": [
      "[('Rudolph', 2640), ('Cupid', 2696), ('Prancer', 2484), ('Donner', 2550), ('Dasher', 2508), ('Comet', 2520), ('Blitzen', 2592), ('Vixen', 2560), ('Dancer', 2527)]\n",
      "('Cupid', 2696)\n"
     ]
    }
   ],
   "source": [
    "limit = 2503\n",
    "res = []\n",
    "for name, speed, duration, rest in reindeer:\n",
    "    time = 0\n",
    "    pos = 0\n",
    "    while time < limit:\n",
    "        time_delta = min(duration, limit-time) # time+time_delta <= limit\n",
    "        time += time_delta+rest\n",
    "        pos += time_delta*speed\n",
    "    res.append((name, pos))\n",
    "print(res)\n",
    "print(max(res, key=lambda x: x[1]))"
   ]
  },
  {
   "cell_type": "code",
   "execution_count": 5,
   "id": "1772d1b9",
   "metadata": {},
   "outputs": [
    {
     "name": "stdout",
     "output_type": "stream",
     "text": [
      "{'Rudolph': 1084, 'Cupid': 838, 'Prancer': 24, 'Donner': 277, 'Dasher': 0, 'Comet': 121, 'Blitzen': 0, 'Vixen': 13, 'Dancer': 199}\n",
      "('Rudolph', 1084)\n"
     ]
    }
   ],
   "source": [
    "points = {r[0]:0 for r in reindeer}\n",
    "pos = {r[0]:0 for r in reindeer}\n",
    "for sec in range(limit):\n",
    "    lead_names, lead_pos = [], 0\n",
    "    for name, speed, duration, rest in reindeer:\n",
    "        if sec%(duration+rest) < duration:\n",
    "            pos[name] += speed\n",
    "        if pos[name] > lead_pos:\n",
    "            lead_names = [name]\n",
    "            lead_pos = pos[name]\n",
    "        elif pos[name] == lead_pos:\n",
    "            lead_names.append(name)\n",
    "    for name in lead_names:\n",
    "        points[name] += 1\n",
    "print(points)\n",
    "print(max(points.items(), key=lambda x: x[1]))"
   ]
  },
  {
   "cell_type": "code",
   "execution_count": null,
   "id": "29128474",
   "metadata": {},
   "outputs": [],
   "source": []
  }
 ],
 "metadata": {
  "kernelspec": {
   "display_name": "Python 3 (ipykernel)",
   "language": "python",
   "name": "python3"
  },
  "language_info": {
   "codemirror_mode": {
    "name": "ipython",
    "version": 3
   },
   "file_extension": ".py",
   "mimetype": "text/x-python",
   "name": "python",
   "nbconvert_exporter": "python",
   "pygments_lexer": "ipython3",
   "version": "3.10.12"
  }
 },
 "nbformat": 4,
 "nbformat_minor": 5
}

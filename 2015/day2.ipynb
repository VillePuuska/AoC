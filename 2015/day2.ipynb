{
 "cells": [
  {
   "cell_type": "code",
   "execution_count": 1,
   "id": "6eabc14c",
   "metadata": {},
   "outputs": [],
   "source": [
    "from collections import deque, defaultdict, Counter\n",
    "from heapq import heapify, heappush, heappop\n",
    "import numpy as np\n",
    "from copy import deepcopy\n",
    "import math\n",
    "import time\n",
    "from functools import cache, reduce, cmp_to_key\n",
    "import graphviz\n",
    "from itertools import product\n",
    "import matplotlib.pyplot as plt\n",
    "from bisect import bisect_left, bisect_right\n",
    "import json"
   ]
  },
  {
   "cell_type": "code",
   "execution_count": 2,
   "id": "cae8446c",
   "metadata": {},
   "outputs": [],
   "source": [
    "dirs4 = [(0, 1), (0, -1), (1, 0), (-1, 0)]\n",
    "dirs8 = dirs4 + [(1, 1), (1, -1), (-1, 1), (-1, -1)]"
   ]
  },
  {
   "cell_type": "code",
   "execution_count": 3,
   "id": "62f0843b",
   "metadata": {},
   "outputs": [
    {
     "data": {
      "text/plain": [
       "1000"
      ]
     },
     "execution_count": 3,
     "metadata": {},
     "output_type": "execute_result"
    }
   ],
   "source": [
    "boxes = []\n",
    "\n",
    "with open(\"./data/day2.txt\") as f:\n",
    "    while line := f.readline():\n",
    "        line = line.rstrip()\n",
    "        boxes.append(tuple(map(int, line.split('x'))))\n",
    "len(boxes)"
   ]
  },
  {
   "cell_type": "code",
   "execution_count": 4,
   "id": "71ce3a3e",
   "metadata": {},
   "outputs": [],
   "source": [
    "def paper(box):\n",
    "    return 2*box[0]*box[1] + 2*box[0]*box[2] + 2*box[1]*box[2] + min(box[0]*box[1], box[0]*box[2], box[1]*box[2])"
   ]
  },
  {
   "cell_type": "code",
   "execution_count": 5,
   "id": "332f8b6c",
   "metadata": {},
   "outputs": [
    {
     "data": {
      "text/plain": [
       "1598415"
      ]
     },
     "execution_count": 5,
     "metadata": {},
     "output_type": "execute_result"
    }
   ],
   "source": [
    "sum(map(paper, boxes))"
   ]
  },
  {
   "cell_type": "code",
   "execution_count": 6,
   "id": "12e05815",
   "metadata": {},
   "outputs": [],
   "source": [
    "def ribbon(box):\n",
    "    box = sorted(box)\n",
    "    return 2*box[0] + 2*box[1] + box[0]*box[1]*box[2]"
   ]
  },
  {
   "cell_type": "code",
   "execution_count": 7,
   "id": "683ca3ee",
   "metadata": {},
   "outputs": [
    {
     "data": {
      "text/plain": [
       "3812909"
      ]
     },
     "execution_count": 7,
     "metadata": {},
     "output_type": "execute_result"
    }
   ],
   "source": [
    "sum(map(ribbon, boxes))"
   ]
  },
  {
   "cell_type": "code",
   "execution_count": null,
   "id": "be796873",
   "metadata": {},
   "outputs": [],
   "source": []
  }
 ],
 "metadata": {
  "kernelspec": {
   "display_name": "Python 3 (ipykernel)",
   "language": "python",
   "name": "python3"
  },
  "language_info": {
   "codemirror_mode": {
    "name": "ipython",
    "version": 3
   },
   "file_extension": ".py",
   "mimetype": "text/x-python",
   "name": "python",
   "nbconvert_exporter": "python",
   "pygments_lexer": "ipython3",
   "version": "3.10.12"
  }
 },
 "nbformat": 4,
 "nbformat_minor": 5
}

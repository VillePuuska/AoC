{
 "cells": [
  {
   "cell_type": "code",
   "execution_count": 1,
   "id": "6eabc14c",
   "metadata": {},
   "outputs": [],
   "source": [
    "from collections import deque, defaultdict, Counter\n",
    "from heapq import heapify, heappush, heappop\n",
    "import numpy as np\n",
    "from copy import deepcopy\n",
    "import math\n",
    "import time\n",
    "from functools import cache, reduce, cmp_to_key\n",
    "import graphviz\n",
    "from itertools import product\n",
    "import matplotlib.pyplot as plt\n",
    "from bisect import bisect_left, bisect_right\n",
    "import json"
   ]
  },
  {
   "cell_type": "code",
   "execution_count": 2,
   "id": "cae8446c",
   "metadata": {},
   "outputs": [],
   "source": [
    "dirs4 = [(0, 1), (0, -1), (1, 0), (-1, 0)]\n",
    "dirs8 = dirs4 + [(1, 1), (1, -1), (-1, 1), (-1, -1)]"
   ]
  },
  {
   "cell_type": "code",
   "execution_count": 3,
   "id": "62f0843b",
   "metadata": {},
   "outputs": [
    {
     "data": {
      "text/plain": [
       "{'Weapons': {'Dagger': {'Cost': 8, 'Damage': 4, 'Armor': 0},\n",
       "  'Shortsword': {'Cost': 10, 'Damage': 5, 'Armor': 0},\n",
       "  'Warhammer': {'Cost': 25, 'Damage': 6, 'Armor': 0},\n",
       "  'Longsword': {'Cost': 40, 'Damage': 7, 'Armor': 0},\n",
       "  'Greataxe': {'Cost': 74, 'Damage': 8, 'Armor': 0}},\n",
       " 'Armor': {'Leather': {'Cost': 13, 'Damage': 0, 'Armor': 1},\n",
       "  'Chainmail': {'Cost': 31, 'Damage': 0, 'Armor': 2},\n",
       "  'Splintmail': {'Cost': 53, 'Damage': 0, 'Armor': 3},\n",
       "  'Bandedmail': {'Cost': 75, 'Damage': 0, 'Armor': 4},\n",
       "  'Platemail': {'Cost': 102, 'Damage': 0, 'Armor': 5}},\n",
       " 'Rings': {'Damage +1': {'Cost': 25, 'Damage': 1, 'Armor': 0},\n",
       "  'Damage +2': {'Cost': 50, 'Damage': 2, 'Armor': 0},\n",
       "  'Damage +3': {'Cost': 100, 'Damage': 3, 'Armor': 0},\n",
       "  'Defense +1': {'Cost': 20, 'Damage': 0, 'Armor': 1},\n",
       "  'Defense +2': {'Cost': 40, 'Damage': 0, 'Armor': 2},\n",
       "  'Defense +3': {'Cost': 80, 'Damage': 0, 'Armor': 3}}}"
      ]
     },
     "execution_count": 3,
     "metadata": {},
     "output_type": "execute_result"
    }
   ],
   "source": [
    "boss = {}\n",
    "shop = {}\n",
    "\n",
    "with open(\"./data/day21.txt\") as f:\n",
    "    while line := f.readline():\n",
    "        line = line.rstrip().split(': ')\n",
    "        boss[line[0]] = int(line[1])\n",
    "\n",
    "with open(\"./data/day21_ex.txt\") as f:\n",
    "    blocks = f.read().rstrip().split('\\n\\n')\n",
    "\n",
    "    shop['Weapons'] = {}\n",
    "    for item in blocks[0].split('\\n')[1:]:\n",
    "        item = item.split()\n",
    "        shop['Weapons'][item[0]] = {'Cost':int(item[1]), 'Damage':int(item[2]), 'Armor':int(item[3])}\n",
    "    \n",
    "    shop['Armor'] = {}\n",
    "    for item in blocks[1].split('\\n')[1:]:\n",
    "        item = item.split()\n",
    "        shop['Armor'][item[0]] = {'Cost':int(item[1]), 'Damage':int(item[2]), 'Armor':int(item[3])}\n",
    "\n",
    "    shop['Rings'] = {}\n",
    "    for item in blocks[2].split('\\n')[1:]:\n",
    "        item = item.split()\n",
    "        shop['Rings'][item[0]+' '+item[1]] = {'Cost':int(item[2]), 'Damage':int(item[3]), 'Armor':int(item[4])}\n",
    "\n",
    "shop"
   ]
  },
  {
   "cell_type": "code",
   "execution_count": 4,
   "id": "f3e8a34b",
   "metadata": {},
   "outputs": [],
   "source": [
    "def add_dicts(ls):\n",
    "    res = ls[0].copy()\n",
    "    for d in ls[1:]:\n",
    "        for k, v in d.items():\n",
    "            res[k] += v\n",
    "    return res"
   ]
  },
  {
   "cell_type": "code",
   "execution_count": 5,
   "id": "aa9b4572",
   "metadata": {},
   "outputs": [],
   "source": [
    "def play(stats):\n",
    "    player_hp = 100\n",
    "    boss_hp = boss['Hit Points']\n",
    "    player_dmg = max(0, stats['Damage']-boss['Armor'])\n",
    "    boss_dmg = max(0, boss['Damage']-stats['Armor'])\n",
    "    if player_dmg == 0:\n",
    "        return False\n",
    "    if boss_dmg == 0:\n",
    "        return True\n",
    "    while player_hp > 0 and boss_hp > 0:\n",
    "        boss_hp -= player_dmg\n",
    "        if boss_hp <= 0:\n",
    "            return True\n",
    "        player_hp -= boss_dmg\n",
    "        if player_hp <= 0:\n",
    "            return False\n",
    "    raise Exception(\"How did we end up here??\", stats)"
   ]
  },
  {
   "cell_type": "code",
   "execution_count": 6,
   "id": "43e7400e",
   "metadata": {},
   "outputs": [
    {
     "data": {
      "text/plain": [
       "True"
      ]
     },
     "execution_count": 6,
     "metadata": {},
     "output_type": "execute_result"
    }
   ],
   "source": [
    "play(add_dicts([\n",
    "    shop['Weapons']['Dagger'],\n",
    "    shop['Armor']['Platemail'],\n",
    "    shop['Rings']['Damage +3']\n",
    "]))"
   ]
  },
  {
   "cell_type": "code",
   "execution_count": 7,
   "id": "24778b65",
   "metadata": {},
   "outputs": [
    {
     "data": {
      "text/plain": [
       "False"
      ]
     },
     "execution_count": 7,
     "metadata": {},
     "output_type": "execute_result"
    }
   ],
   "source": [
    "play(add_dicts([\n",
    "    shop['Weapons']['Dagger'],\n",
    "    shop['Armor']['Platemail'],\n",
    "    shop['Rings']['Defense +1']\n",
    "]))"
   ]
  },
  {
   "cell_type": "code",
   "execution_count": 8,
   "id": "0bc895d3",
   "metadata": {},
   "outputs": [
    {
     "data": {
      "text/plain": [
       "121"
      ]
     },
     "execution_count": 8,
     "metadata": {},
     "output_type": "execute_result"
    }
   ],
   "source": [
    "res = []\n",
    "for wep in shop['Weapons'].values():\n",
    "    for arm in [{}] + list(shop['Armor'].values()):\n",
    "        d = add_dicts([wep, arm])\n",
    "        if play(d):\n",
    "            res.append(d['Cost'])\n",
    "        rings = list(shop['Rings'].values())\n",
    "        for i, r1 in enumerate(rings):\n",
    "            d = add_dicts([wep, arm, r1])\n",
    "            if play(d):\n",
    "                res.append(d['Cost'])\n",
    "            for r2 in rings[i+1:]:\n",
    "                d = add_dicts([wep, arm, r1, r2])\n",
    "                if play(d):\n",
    "                    res.append(d['Cost'])\n",
    "min(res)"
   ]
  },
  {
   "cell_type": "code",
   "execution_count": 9,
   "id": "68b84366",
   "metadata": {},
   "outputs": [
    {
     "data": {
      "text/plain": [
       "201"
      ]
     },
     "execution_count": 9,
     "metadata": {},
     "output_type": "execute_result"
    }
   ],
   "source": [
    "res = []\n",
    "for wep in shop['Weapons'].values():\n",
    "    for arm in [{}] + list(shop['Armor'].values()):\n",
    "        d = add_dicts([wep, arm])\n",
    "        if not play(d):\n",
    "            res.append(d['Cost'])\n",
    "        rings = list(shop['Rings'].values())\n",
    "        for i, r1 in enumerate(rings):\n",
    "            d = add_dicts([wep, arm, r1])\n",
    "            if not play(d):\n",
    "                res.append(d['Cost'])\n",
    "            for r2 in rings[i+1:]:\n",
    "                d = add_dicts([wep, arm, r1, r2])\n",
    "                if not play(d):\n",
    "                    res.append(d['Cost'])\n",
    "max(res)"
   ]
  },
  {
   "cell_type": "code",
   "execution_count": null,
   "id": "339f92e3",
   "metadata": {},
   "outputs": [],
   "source": []
  }
 ],
 "metadata": {
  "kernelspec": {
   "display_name": "Python 3 (ipykernel)",
   "language": "python",
   "name": "python3"
  },
  "language_info": {
   "codemirror_mode": {
    "name": "ipython",
    "version": 3
   },
   "file_extension": ".py",
   "mimetype": "text/x-python",
   "name": "python",
   "nbconvert_exporter": "python",
   "pygments_lexer": "ipython3",
   "version": "3.10.12"
  }
 },
 "nbformat": 4,
 "nbformat_minor": 5
}

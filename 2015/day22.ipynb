{
 "cells": [
  {
   "cell_type": "code",
   "execution_count": 1,
   "id": "6eabc14c",
   "metadata": {},
   "outputs": [],
   "source": [
    "from collections import deque, defaultdict, Counter\n",
    "from heapq import heapify, heappush, heappop\n",
    "import numpy as np\n",
    "from copy import deepcopy\n",
    "import math\n",
    "import time\n",
    "from functools import cache, reduce, cmp_to_key\n",
    "import graphviz\n",
    "from itertools import product\n",
    "import matplotlib.pyplot as plt\n",
    "from bisect import bisect_left, bisect_right\n",
    "import json"
   ]
  },
  {
   "cell_type": "code",
   "execution_count": 2,
   "id": "cae8446c",
   "metadata": {},
   "outputs": [],
   "source": [
    "dirs4 = [(0, 1), (0, -1), (1, 0), (-1, 0)]\n",
    "dirs8 = dirs4 + [(1, 1), (1, -1), (-1, 1), (-1, -1)]"
   ]
  },
  {
   "cell_type": "code",
   "execution_count": 3,
   "id": "e8d8f34d",
   "metadata": {},
   "outputs": [],
   "source": [
    "boss = {}"
   ]
  },
  {
   "cell_type": "code",
   "execution_count": 4,
   "id": "530a5f43",
   "metadata": {},
   "outputs": [],
   "source": [
    "def play(boss_hp, player_hp, mana, shield, poison, recharge, max_mana_left):\n",
    "    if player_hp <= 0:\n",
    "        return False\n",
    "\n",
    "    poison_dmg = 3*min(2, poison)\n",
    "    new_mana = mana+101*min(2, recharge)\n",
    "\n",
    "    # Magic Missile\n",
    "    mana_cost = 53\n",
    "    dmg = 4+poison_dmg\n",
    "    boss_dmg = max(0, boss['dmg']-(7 if shield >= 2 else 0))\n",
    "    if mana_cost <= max_mana_left and mana_cost <= mana+(101 if recharge else 0):\n",
    "        if boss_hp <= dmg:\n",
    "            return True\n",
    "        if play(boss_hp-dmg,\n",
    "                player_hp-boss_dmg,\n",
    "                new_mana-mana_cost,\n",
    "                max(0, shield-2),\n",
    "                max(0, poison-2),\n",
    "                max(0, recharge-2),\n",
    "                max_mana_left-mana_cost):\n",
    "            return True\n",
    "\n",
    "    # Drain\n",
    "    mana_cost = 73\n",
    "    dmg = 2+poison_dmg\n",
    "    boss_dmg = max(0, boss['dmg']-(7 if shield >= 2 else 0))\n",
    "    if mana_cost <= max_mana_left and mana_cost <= mana+(101 if recharge else 0):\n",
    "        if boss_hp <= dmg:\n",
    "            return True\n",
    "        if play(boss_hp-dmg,\n",
    "                player_hp+2-boss_dmg,\n",
    "                new_mana-mana_cost,\n",
    "                max(0, shield-2),\n",
    "                max(0, poison-2),\n",
    "                max(0, recharge-2),\n",
    "                max_mana_left-mana_cost):\n",
    "            return True\n",
    "\n",
    "    # Shield\n",
    "    mana_cost = 113\n",
    "    dmg = poison_dmg\n",
    "    boss_dmg = max(0, boss['dmg']-7)\n",
    "    if shield <= 1 and mana_cost <= max_mana_left and mana_cost <= mana+(101 if recharge else 0):\n",
    "        if boss_hp <= dmg:\n",
    "            return True\n",
    "        if play(boss_hp-dmg,\n",
    "                player_hp-boss_dmg,\n",
    "                new_mana-mana_cost,\n",
    "                5,\n",
    "                max(0, poison-2),\n",
    "                max(0, recharge-2),\n",
    "                max_mana_left-mana_cost):\n",
    "            return True\n",
    "\n",
    "    # Poison\n",
    "    mana_cost = 173\n",
    "    dmg = 3+poison_dmg\n",
    "    boss_dmg = max(0, boss['dmg']-(7 if shield >= 2 else 0))\n",
    "    if poison <= 1 and mana_cost <= max_mana_left and mana_cost <= mana+(101 if recharge else 0):\n",
    "        if boss_hp <= dmg:\n",
    "            return True\n",
    "        if play(boss_hp-dmg,\n",
    "                player_hp-boss_dmg,\n",
    "                new_mana-mana_cost,\n",
    "                max(0, shield-2),\n",
    "                5,\n",
    "                max(0, recharge-2),\n",
    "                max_mana_left-mana_cost):\n",
    "            return True\n",
    "\n",
    "    # Recharge\n",
    "    mana_cost = 229\n",
    "    dmg = poison_dmg\n",
    "    boss_dmg = max(0, boss['dmg']-(7 if shield >= 2 else 0))\n",
    "    if recharge <= 1 and mana_cost <= max_mana_left and mana_cost <= mana+(101 if recharge else 0):\n",
    "        if boss_hp <= dmg:\n",
    "            return True\n",
    "        if play(boss_hp-dmg,\n",
    "                player_hp-boss_dmg,\n",
    "                new_mana+101-mana_cost,\n",
    "                max(0, shield-2),\n",
    "                max(0, poison-2),\n",
    "                4,\n",
    "                max_mana_left-mana_cost):\n",
    "            return True\n",
    "\n",
    "    return False"
   ]
  },
  {
   "cell_type": "code",
   "execution_count": 5,
   "id": "d7b6652f",
   "metadata": {},
   "outputs": [
    {
     "name": "stdout",
     "output_type": "stream",
     "text": [
      "True\n",
      "False\n"
     ]
    }
   ],
   "source": [
    "boss['dmg'] = 8\n",
    "print(play(13, 10, 250, 0, 0, 0, 1000))\n",
    "\n",
    "boss['dmg'] = 9\n",
    "print(play(14, 10, 250, 0, 0, 0, 1000))"
   ]
  },
  {
   "cell_type": "code",
   "execution_count": 6,
   "id": "752e2678",
   "metadata": {},
   "outputs": [],
   "source": [
    "with open(\"./data/day22.txt\") as f:\n",
    "    data = f.read().rstrip().split('\\n')\n",
    "    boss['hp'] = int(data[0].split(' ')[-1])\n",
    "    boss['dmg'] = int(data[1].split(' ')[-1])"
   ]
  },
  {
   "cell_type": "code",
   "execution_count": 7,
   "id": "2e1e41dd",
   "metadata": {},
   "outputs": [
    {
     "data": {
      "text/plain": [
       "True"
      ]
     },
     "execution_count": 7,
     "metadata": {},
     "output_type": "execute_result"
    }
   ],
   "source": [
    "play(boss['hp'], 50, 500, 0, 0, 0, 1000)"
   ]
  },
  {
   "cell_type": "code",
   "execution_count": 8,
   "id": "7e23327f",
   "metadata": {},
   "outputs": [
    {
     "data": {
      "text/plain": [
       "953"
      ]
     },
     "execution_count": 8,
     "metadata": {},
     "output_type": "execute_result"
    }
   ],
   "source": [
    "bisect_left(range(1000), 1, key=lambda max_mana: play(boss['hp'], 50, 500, 0, 0, 0, max_mana))"
   ]
  },
  {
   "cell_type": "code",
   "execution_count": 9,
   "id": "56105bc5",
   "metadata": {},
   "outputs": [
    {
     "name": "stdout",
     "output_type": "stream",
     "text": [
      "False\n",
      "True\n"
     ]
    }
   ],
   "source": [
    "print(play(boss['hp'], 50, 500, 0, 0, 0, 952))\n",
    "print(play(boss['hp'], 50, 500, 0, 0, 0, 953))"
   ]
  },
  {
   "cell_type": "code",
   "execution_count": 10,
   "id": "5864acd8",
   "metadata": {},
   "outputs": [],
   "source": [
    "def play2(boss_hp, player_hp, mana, shield, poison, recharge, max_mana_left):\n",
    "    player_hp -= 1\n",
    "    if player_hp <= 0:\n",
    "        return False\n",
    "\n",
    "    poison_dmg = 3*min(2, poison)\n",
    "    new_mana = mana+101*min(2, recharge)\n",
    "\n",
    "    # Magic Missile\n",
    "    mana_cost = 53\n",
    "    dmg = 4+poison_dmg\n",
    "    boss_dmg = max(0, boss['dmg']-(7 if shield >= 2 else 0))\n",
    "    if mana_cost <= max_mana_left and mana_cost <= mana+(101 if recharge else 0):\n",
    "        if boss_hp <= dmg:\n",
    "            return True\n",
    "        if play2(boss_hp-dmg,\n",
    "                player_hp-boss_dmg,\n",
    "                new_mana-mana_cost,\n",
    "                max(0, shield-2),\n",
    "                max(0, poison-2),\n",
    "                max(0, recharge-2),\n",
    "                max_mana_left-mana_cost):\n",
    "            return True\n",
    "\n",
    "    # Drain\n",
    "    mana_cost = 73\n",
    "    dmg = 2+poison_dmg\n",
    "    boss_dmg = max(0, boss['dmg']-(7 if shield >= 2 else 0))\n",
    "    if mana_cost <= max_mana_left and mana_cost <= mana+(101 if recharge else 0):\n",
    "        if boss_hp <= dmg:\n",
    "            return True\n",
    "        if play2(boss_hp-dmg,\n",
    "                player_hp+2-boss_dmg,\n",
    "                new_mana-mana_cost,\n",
    "                max(0, shield-2),\n",
    "                max(0, poison-2),\n",
    "                max(0, recharge-2),\n",
    "                max_mana_left-mana_cost):\n",
    "            return True\n",
    "\n",
    "    # Shield\n",
    "    mana_cost = 113\n",
    "    dmg = poison_dmg\n",
    "    boss_dmg = max(0, boss['dmg']-7)\n",
    "    if shield <= 1 and mana_cost <= max_mana_left and mana_cost <= mana+(101 if recharge else 0):\n",
    "        if boss_hp <= dmg:\n",
    "            return True\n",
    "        if play2(boss_hp-dmg,\n",
    "                player_hp-boss_dmg,\n",
    "                new_mana-mana_cost,\n",
    "                5,\n",
    "                max(0, poison-2),\n",
    "                max(0, recharge-2),\n",
    "                max_mana_left-mana_cost):\n",
    "            return True\n",
    "\n",
    "    # Poison\n",
    "    mana_cost = 173\n",
    "    dmg = 3+poison_dmg\n",
    "    boss_dmg = max(0, boss['dmg']-(7 if shield >= 2 else 0))\n",
    "    if poison <= 1 and mana_cost <= max_mana_left and mana_cost <= mana+(101 if recharge else 0):\n",
    "        if boss_hp <= dmg:\n",
    "            return True\n",
    "        if play2(boss_hp-dmg,\n",
    "                player_hp-boss_dmg,\n",
    "                new_mana-mana_cost,\n",
    "                max(0, shield-2),\n",
    "                5,\n",
    "                max(0, recharge-2),\n",
    "                max_mana_left-mana_cost):\n",
    "            return True\n",
    "\n",
    "    # Recharge\n",
    "    mana_cost = 229\n",
    "    dmg = poison_dmg\n",
    "    boss_dmg = max(0, boss['dmg']-(7 if shield >= 2 else 0))\n",
    "    if recharge <= 1 and mana_cost <= max_mana_left and mana_cost <= mana+(101 if recharge else 0):\n",
    "        if boss_hp <= dmg:\n",
    "            return True\n",
    "        if play2(boss_hp-dmg,\n",
    "                player_hp-boss_dmg,\n",
    "                new_mana+101-mana_cost,\n",
    "                max(0, shield-2),\n",
    "                max(0, poison-2),\n",
    "                4,\n",
    "                max_mana_left-mana_cost):\n",
    "            return True\n",
    "\n",
    "    return False"
   ]
  },
  {
   "cell_type": "code",
   "execution_count": 11,
   "id": "b309ee66",
   "metadata": {},
   "outputs": [
    {
     "name": "stdout",
     "output_type": "stream",
     "text": [
      "False\n",
      "True\n"
     ]
    }
   ],
   "source": [
    "print(play2(boss['hp'], 50, 500, 0, 0, 0, 1000))\n",
    "print(play2(boss['hp'], 50, 500, 0, 0, 0, 1500))"
   ]
  },
  {
   "cell_type": "code",
   "execution_count": 12,
   "id": "2c2f844b",
   "metadata": {},
   "outputs": [
    {
     "data": {
      "text/plain": [
       "1289"
      ]
     },
     "execution_count": 12,
     "metadata": {},
     "output_type": "execute_result"
    }
   ],
   "source": [
    "bisect_left(range(1501), 1, lo=1000, key=lambda max_mana: play2(boss['hp'], 50, 500, 0, 0, 0, max_mana))"
   ]
  },
  {
   "cell_type": "code",
   "execution_count": 13,
   "id": "6b25359f",
   "metadata": {},
   "outputs": [
    {
     "name": "stdout",
     "output_type": "stream",
     "text": [
      "False\n",
      "True\n"
     ]
    }
   ],
   "source": [
    "print(play2(boss['hp'], 50, 500, 0, 0, 0, 1288))\n",
    "print(play2(boss['hp'], 50, 500, 0, 0, 0, 1289))"
   ]
  },
  {
   "cell_type": "code",
   "execution_count": null,
   "id": "23053172",
   "metadata": {},
   "outputs": [],
   "source": []
  }
 ],
 "metadata": {
  "kernelspec": {
   "display_name": "Python 3 (ipykernel)",
   "language": "python",
   "name": "python3"
  },
  "language_info": {
   "codemirror_mode": {
    "name": "ipython",
    "version": 3
   },
   "file_extension": ".py",
   "mimetype": "text/x-python",
   "name": "python",
   "nbconvert_exporter": "python",
   "pygments_lexer": "ipython3",
   "version": "3.10.12"
  }
 },
 "nbformat": 4,
 "nbformat_minor": 5
}

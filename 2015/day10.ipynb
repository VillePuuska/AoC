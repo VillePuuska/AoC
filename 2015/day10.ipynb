{
 "cells": [
  {
   "cell_type": "code",
   "execution_count": 1,
   "id": "6eabc14c",
   "metadata": {},
   "outputs": [],
   "source": [
    "from collections import deque, defaultdict, Counter\n",
    "from heapq import heapify, heappush, heappop\n",
    "import numpy as np\n",
    "from copy import deepcopy\n",
    "import math\n",
    "import time\n",
    "from functools import cache, reduce, cmp_to_key\n",
    "import graphviz\n",
    "from itertools import product\n",
    "import matplotlib.pyplot as plt\n",
    "from bisect import bisect_left, bisect_right\n",
    "import json"
   ]
  },
  {
   "cell_type": "code",
   "execution_count": 2,
   "id": "cae8446c",
   "metadata": {},
   "outputs": [],
   "source": [
    "dirs4 = [(0, 1), (0, -1), (1, 0), (-1, 0)]\n",
    "dirs8 = dirs4 + [(1, 1), (1, -1), (-1, 1), (-1, -1)]"
   ]
  },
  {
   "cell_type": "code",
   "execution_count": 3,
   "id": "62f0843b",
   "metadata": {},
   "outputs": [],
   "source": [
    "with open(\"./data/day10.txt\") as f:\n",
    "    number = list(map(int, list(f.read().rstrip())))"
   ]
  },
  {
   "cell_type": "code",
   "execution_count": 4,
   "id": "739184b4",
   "metadata": {},
   "outputs": [],
   "source": [
    "def apply_rules(number):\n",
    "    new_number = []\n",
    "    i = 0\n",
    "    while i < len(number):\n",
    "        curr = number[i]\n",
    "        count = 0\n",
    "        while i < len(number) and number[i] == curr:\n",
    "            count += 1\n",
    "            i += 1\n",
    "        new_number.append(count)\n",
    "        new_number.append(curr)\n",
    "    return new_number"
   ]
  },
  {
   "cell_type": "code",
   "execution_count": 5,
   "id": "da30789e",
   "metadata": {},
   "outputs": [
    {
     "name": "stdout",
     "output_type": "stream",
     "text": [
      "0 [1]\n",
      "1 [1, 1]\n",
      "2 [2, 1]\n",
      "3 [1, 2, 1, 1]\n",
      "4 [1, 1, 1, 2, 2, 1]\n",
      "5 [3, 1, 2, 2, 1, 1]\n"
     ]
    }
   ],
   "source": [
    "n = [1]\n",
    "print(0, n)\n",
    "for i in range(5):\n",
    "    n = apply_rules(n)\n",
    "    print(i+1, n)"
   ]
  },
  {
   "cell_type": "code",
   "execution_count": 6,
   "id": "6aebe085",
   "metadata": {},
   "outputs": [
    {
     "data": {
      "text/plain": [
       "329356"
      ]
     },
     "execution_count": 6,
     "metadata": {},
     "output_type": "execute_result"
    }
   ],
   "source": [
    "n = number.copy()\n",
    "for _ in range(40):\n",
    "    n = apply_rules(n)\n",
    "len(n)"
   ]
  },
  {
   "cell_type": "code",
   "execution_count": 7,
   "id": "18ff9e21",
   "metadata": {},
   "outputs": [
    {
     "data": {
      "text/plain": [
       "4666278"
      ]
     },
     "execution_count": 7,
     "metadata": {},
     "output_type": "execute_result"
    }
   ],
   "source": [
    "for _ in range(10):\n",
    "    n = apply_rules(n)\n",
    "len(n)"
   ]
  },
  {
   "cell_type": "code",
   "execution_count": null,
   "id": "d1e1844a",
   "metadata": {},
   "outputs": [],
   "source": []
  }
 ],
 "metadata": {
  "kernelspec": {
   "display_name": "Python 3 (ipykernel)",
   "language": "python",
   "name": "python3"
  },
  "language_info": {
   "codemirror_mode": {
    "name": "ipython",
    "version": 3
   },
   "file_extension": ".py",
   "mimetype": "text/x-python",
   "name": "python",
   "nbconvert_exporter": "python",
   "pygments_lexer": "ipython3",
   "version": "3.10.12"
  }
 },
 "nbformat": 4,
 "nbformat_minor": 5
}

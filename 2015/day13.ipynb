{
 "cells": [
  {
   "cell_type": "code",
   "execution_count": 1,
   "id": "6eabc14c",
   "metadata": {},
   "outputs": [],
   "source": [
    "from collections import deque, defaultdict, Counter\n",
    "from heapq import heapify, heappush, heappop\n",
    "import numpy as np\n",
    "from copy import deepcopy\n",
    "import math\n",
    "import time\n",
    "from functools import cache, reduce, cmp_to_key\n",
    "import graphviz\n",
    "from itertools import product\n",
    "import matplotlib.pyplot as plt\n",
    "from bisect import bisect_left, bisect_right\n",
    "import json"
   ]
  },
  {
   "cell_type": "code",
   "execution_count": 2,
   "id": "cae8446c",
   "metadata": {},
   "outputs": [],
   "source": [
    "dirs4 = [(0, 1), (0, -1), (1, 0), (-1, 0)]\n",
    "dirs8 = dirs4 + [(1, 1), (1, -1), (-1, 1), (-1, -1)]"
   ]
  },
  {
   "cell_type": "code",
   "execution_count": 3,
   "id": "62f0843b",
   "metadata": {},
   "outputs": [
    {
     "data": {
      "text/plain": [
       "(8, 56, 8)"
      ]
     },
     "execution_count": 3,
     "metadata": {},
     "output_type": "execute_result"
    }
   ],
   "source": [
    "people = set()\n",
    "edges = []\n",
    "\n",
    "with open(\"./data/day13.txt\") as f:\n",
    "    while line := f.readline():\n",
    "        line = line.rstrip().replace('.', '').split(' ')\n",
    "        people.add(line[0])\n",
    "        people.add(line[-1])\n",
    "        edges.append((line[0], line[-1], (1 if line[2] == 'gain' else -1)*int(line[3])))\n",
    "\n",
    "adj = defaultdict(dict)\n",
    "for a, b, cost in edges:\n",
    "    adj[a][b] = cost\n",
    "\n",
    "len(people), len(edges), len(adj)"
   ]
  },
  {
   "cell_type": "code",
   "execution_count": 4,
   "id": "20b48f93",
   "metadata": {},
   "outputs": [],
   "source": [
    "def dfs(node, adj, state, init):\n",
    "    state[node] = True\n",
    "    res = -10**6\n",
    "    for a, cost in adj[node].items():\n",
    "        if not state[a]:\n",
    "            res = max(res, cost+adj[a][node]+dfs(a, adj, state, init))\n",
    "    state[node] = False\n",
    "\n",
    "    if res == -10**6:\n",
    "        return adj[node][init]+adj[init][node]\n",
    "    \n",
    "    return res"
   ]
  },
  {
   "cell_type": "code",
   "execution_count": 5,
   "id": "41447c15",
   "metadata": {},
   "outputs": [
    {
     "data": {
      "text/plain": [
       "618"
      ]
     },
     "execution_count": 5,
     "metadata": {},
     "output_type": "execute_result"
    }
   ],
   "source": [
    "dfs(edges[0][0], adj, {p:False for p in people}, edges[0][0])"
   ]
  },
  {
   "cell_type": "code",
   "execution_count": 6,
   "id": "c5282da3",
   "metadata": {},
   "outputs": [],
   "source": [
    "for a in people:\n",
    "    adj[a]['me'] = 0\n",
    "    adj['me'][a] = 0\n",
    "\n",
    "people.add('me')"
   ]
  },
  {
   "cell_type": "code",
   "execution_count": 7,
   "id": "58aafa34",
   "metadata": {},
   "outputs": [
    {
     "data": {
      "text/plain": [
       "601"
      ]
     },
     "execution_count": 7,
     "metadata": {},
     "output_type": "execute_result"
    }
   ],
   "source": [
    "dfs(edges[0][0], adj, {p:False for p in people}, edges[0][0])"
   ]
  },
  {
   "cell_type": "code",
   "execution_count": null,
   "id": "8109d7db",
   "metadata": {},
   "outputs": [],
   "source": []
  }
 ],
 "metadata": {
  "kernelspec": {
   "display_name": "Python 3 (ipykernel)",
   "language": "python",
   "name": "python3"
  },
  "language_info": {
   "codemirror_mode": {
    "name": "ipython",
    "version": 3
   },
   "file_extension": ".py",
   "mimetype": "text/x-python",
   "name": "python",
   "nbconvert_exporter": "python",
   "pygments_lexer": "ipython3",
   "version": "3.10.12"
  }
 },
 "nbformat": 4,
 "nbformat_minor": 5
}

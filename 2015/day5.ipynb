{
 "cells": [
  {
   "cell_type": "code",
   "execution_count": 1,
   "id": "6eabc14c",
   "metadata": {},
   "outputs": [],
   "source": [
    "from collections import deque, defaultdict, Counter\n",
    "from heapq import heapify, heappush, heappop\n",
    "import numpy as np\n",
    "from copy import deepcopy\n",
    "import math\n",
    "import time\n",
    "from functools import cache, reduce, cmp_to_key\n",
    "import graphviz\n",
    "from itertools import product\n",
    "import matplotlib.pyplot as plt\n",
    "from bisect import bisect_left, bisect_right\n",
    "import json"
   ]
  },
  {
   "cell_type": "code",
   "execution_count": 2,
   "id": "cae8446c",
   "metadata": {},
   "outputs": [],
   "source": [
    "dirs4 = [(0, 1), (0, -1), (1, 0), (-1, 0)]\n",
    "dirs8 = dirs4 + [(1, 1), (1, -1), (-1, 1), (-1, -1)]"
   ]
  },
  {
   "cell_type": "code",
   "execution_count": 3,
   "id": "62f0843b",
   "metadata": {},
   "outputs": [
    {
     "data": {
      "text/plain": [
       "1000"
      ]
     },
     "execution_count": 3,
     "metadata": {},
     "output_type": "execute_result"
    }
   ],
   "source": [
    "words = []\n",
    "\n",
    "with open(\"./data/day5.txt\") as f:\n",
    "    while line := f.readline():\n",
    "        line = line.rstrip()\n",
    "        words.append(line)\n",
    "len(words)"
   ]
  },
  {
   "cell_type": "code",
   "execution_count": 4,
   "id": "7ab65a5e",
   "metadata": {},
   "outputs": [],
   "source": [
    "def nice(word: str) -> bool:\n",
    "    # rule 1\n",
    "    c = Counter(word)\n",
    "    s = 0\n",
    "    for char in 'aeiou':\n",
    "        s += c[char]\n",
    "    if s < 3:\n",
    "        return False\n",
    "    \n",
    "    # rule 2\n",
    "    flag = False\n",
    "    for char1, char2 in zip(word, word[1:]):\n",
    "        if char1 == char2:\n",
    "            flag = True\n",
    "            break\n",
    "    if not flag:\n",
    "        return False\n",
    "    \n",
    "    # rule 3\n",
    "    for bad_str in ['ab', 'cd', 'pq', 'xy']:\n",
    "        if bad_str in word:\n",
    "            return False\n",
    "    \n",
    "    return True"
   ]
  },
  {
   "cell_type": "code",
   "execution_count": 5,
   "id": "8af701d7",
   "metadata": {},
   "outputs": [
    {
     "data": {
      "text/plain": [
       "238"
      ]
     },
     "execution_count": 5,
     "metadata": {},
     "output_type": "execute_result"
    }
   ],
   "source": [
    "sum(map(nice, words))"
   ]
  },
  {
   "cell_type": "code",
   "execution_count": 6,
   "id": "ff17d1c6",
   "metadata": {},
   "outputs": [],
   "source": [
    "def nice2(word):\n",
    "    # rule 1\n",
    "    flag = False\n",
    "    for i in range(len(word)):\n",
    "        substr = word[i:i+2]\n",
    "        if substr in word[i+2:]:\n",
    "            flag = True\n",
    "            break\n",
    "    if not flag:\n",
    "        return False\n",
    "    \n",
    "    # rule 2\n",
    "    flag = False\n",
    "    for char1, char3 in zip(word, word[2:]):\n",
    "        if char1 == char3:\n",
    "            flag = True\n",
    "            break\n",
    "    return flag"
   ]
  },
  {
   "cell_type": "code",
   "execution_count": 7,
   "id": "cca20907",
   "metadata": {},
   "outputs": [
    {
     "data": {
      "text/plain": [
       "69"
      ]
     },
     "execution_count": 7,
     "metadata": {},
     "output_type": "execute_result"
    }
   ],
   "source": [
    "sum(map(nice2, words))"
   ]
  },
  {
   "cell_type": "code",
   "execution_count": null,
   "id": "b5e1bd53",
   "metadata": {},
   "outputs": [],
   "source": []
  }
 ],
 "metadata": {
  "kernelspec": {
   "display_name": "Python 3 (ipykernel)",
   "language": "python",
   "name": "python3"
  },
  "language_info": {
   "codemirror_mode": {
    "name": "ipython",
    "version": 3
   },
   "file_extension": ".py",
   "mimetype": "text/x-python",
   "name": "python",
   "nbconvert_exporter": "python",
   "pygments_lexer": "ipython3",
   "version": "3.10.12"
  }
 },
 "nbformat": 4,
 "nbformat_minor": 5
}

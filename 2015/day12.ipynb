{
 "cells": [
  {
   "cell_type": "code",
   "execution_count": 1,
   "id": "6eabc14c",
   "metadata": {},
   "outputs": [],
   "source": [
    "from collections import deque, defaultdict, Counter\n",
    "from heapq import heapify, heappush, heappop\n",
    "import numpy as np\n",
    "from copy import deepcopy\n",
    "import math\n",
    "import time\n",
    "from functools import cache, reduce, cmp_to_key\n",
    "import graphviz\n",
    "from itertools import product\n",
    "import matplotlib.pyplot as plt\n",
    "from bisect import bisect_left, bisect_right\n",
    "import json"
   ]
  },
  {
   "cell_type": "code",
   "execution_count": 2,
   "id": "cae8446c",
   "metadata": {},
   "outputs": [],
   "source": [
    "dirs4 = [(0, 1), (0, -1), (1, 0), (-1, 0)]\n",
    "dirs8 = dirs4 + [(1, 1), (1, -1), (-1, 1), (-1, -1)]"
   ]
  },
  {
   "cell_type": "code",
   "execution_count": 3,
   "id": "62f0843b",
   "metadata": {},
   "outputs": [
    {
     "data": {
      "text/plain": [
       "8"
      ]
     },
     "execution_count": 3,
     "metadata": {},
     "output_type": "execute_result"
    }
   ],
   "source": [
    "with open(\"./data/day12.txt\") as f:\n",
    "    data = json.loads(f.read().rstrip())\n",
    "len(data)"
   ]
  },
  {
   "cell_type": "code",
   "execution_count": 4,
   "id": "46e442a9",
   "metadata": {},
   "outputs": [],
   "source": [
    "def add_numbers(val):\n",
    "    if isinstance(val, int):\n",
    "        return val\n",
    "    if isinstance(val, str):\n",
    "        return 0\n",
    "    if isinstance(val, list):\n",
    "        return sum(map(add_numbers, val))\n",
    "    return sum(map(add_numbers, val.keys())) + sum(map(add_numbers, val.values()))"
   ]
  },
  {
   "cell_type": "code",
   "execution_count": 5,
   "id": "f08406c2",
   "metadata": {},
   "outputs": [],
   "source": [
    "ex_data = json.loads('[[1,2,3],{\"a\":2,\"b\":4},[[[3]]],{\"a\":{\"b\":4},\"c\":-1},{\"a\":[-1,1]},[-1,{\"a\":1}],[],{}]')"
   ]
  },
  {
   "cell_type": "code",
   "execution_count": 6,
   "id": "b0a5495d",
   "metadata": {},
   "outputs": [
    {
     "data": {
      "text/plain": [
       "18"
      ]
     },
     "execution_count": 6,
     "metadata": {},
     "output_type": "execute_result"
    }
   ],
   "source": [
    "add_numbers(ex_data)"
   ]
  },
  {
   "cell_type": "code",
   "execution_count": 7,
   "id": "049376f8",
   "metadata": {},
   "outputs": [
    {
     "data": {
      "text/plain": [
       "191164"
      ]
     },
     "execution_count": 7,
     "metadata": {},
     "output_type": "execute_result"
    }
   ],
   "source": [
    "add_numbers(data)"
   ]
  },
  {
   "cell_type": "code",
   "execution_count": 8,
   "id": "0db8a07c",
   "metadata": {},
   "outputs": [],
   "source": [
    "def add_numbers2(val):\n",
    "    if isinstance(val, int):\n",
    "        return val\n",
    "    if isinstance(val, str):\n",
    "        return 0\n",
    "    if isinstance(val, list):\n",
    "        return sum(map(add_numbers2, val))\n",
    "    if \"red\" in val.values():\n",
    "        return 0\n",
    "    return sum(map(add_numbers2, val.keys())) + sum(map(add_numbers2, val.values()))"
   ]
  },
  {
   "cell_type": "code",
   "execution_count": 9,
   "id": "542f5d4a",
   "metadata": {},
   "outputs": [],
   "source": [
    "ex_data2 = json.loads('[[1,2,3],[1,{\"c\":\"red\",\"b\":2},3],{\"d\":\"red\",\"e\":[1,2,3,4],\"f\":5},[1,\"red\",5]]')"
   ]
  },
  {
   "cell_type": "code",
   "execution_count": 10,
   "id": "f00b4956",
   "metadata": {},
   "outputs": [
    {
     "data": {
      "text/plain": [
       "16"
      ]
     },
     "execution_count": 10,
     "metadata": {},
     "output_type": "execute_result"
    }
   ],
   "source": [
    "add_numbers2(ex_data2)"
   ]
  },
  {
   "cell_type": "code",
   "execution_count": 11,
   "id": "a3356e15",
   "metadata": {},
   "outputs": [
    {
     "data": {
      "text/plain": [
       "87842"
      ]
     },
     "execution_count": 11,
     "metadata": {},
     "output_type": "execute_result"
    }
   ],
   "source": [
    "add_numbers2(data)"
   ]
  },
  {
   "cell_type": "code",
   "execution_count": null,
   "id": "c48efdd1",
   "metadata": {},
   "outputs": [],
   "source": []
  }
 ],
 "metadata": {
  "kernelspec": {
   "display_name": "Python 3 (ipykernel)",
   "language": "python",
   "name": "python3"
  },
  "language_info": {
   "codemirror_mode": {
    "name": "ipython",
    "version": 3
   },
   "file_extension": ".py",
   "mimetype": "text/x-python",
   "name": "python",
   "nbconvert_exporter": "python",
   "pygments_lexer": "ipython3",
   "version": "3.10.12"
  }
 },
 "nbformat": 4,
 "nbformat_minor": 5
}

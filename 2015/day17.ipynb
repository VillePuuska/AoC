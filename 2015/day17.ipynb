{
 "cells": [
  {
   "cell_type": "code",
   "execution_count": 1,
   "id": "6eabc14c",
   "metadata": {},
   "outputs": [],
   "source": [
    "from collections import deque, defaultdict, Counter\n",
    "from heapq import heapify, heappush, heappop\n",
    "import numpy as np\n",
    "from copy import deepcopy\n",
    "import math\n",
    "import time\n",
    "from functools import cache, reduce, cmp_to_key\n",
    "import graphviz\n",
    "from itertools import product\n",
    "import matplotlib.pyplot as plt\n",
    "from bisect import bisect_left, bisect_right\n",
    "import json"
   ]
  },
  {
   "cell_type": "code",
   "execution_count": 2,
   "id": "cae8446c",
   "metadata": {},
   "outputs": [],
   "source": [
    "dirs4 = [(0, 1), (0, -1), (1, 0), (-1, 0)]\n",
    "dirs8 = dirs4 + [(1, 1), (1, -1), (-1, 1), (-1, -1)]"
   ]
  },
  {
   "cell_type": "code",
   "execution_count": 3,
   "id": "62f0843b",
   "metadata": {},
   "outputs": [
    {
     "data": {
      "text/plain": [
       "20"
      ]
     },
     "execution_count": 3,
     "metadata": {},
     "output_type": "execute_result"
    }
   ],
   "source": [
    "nums = []\n",
    "\n",
    "with open(\"./data/day17.txt\") as f:\n",
    "    while line := f.readline():\n",
    "        line = line.rstrip()\n",
    "        nums.append(int(line))\n",
    "len(nums)"
   ]
  },
  {
   "cell_type": "code",
   "execution_count": 4,
   "id": "c9173034",
   "metadata": {},
   "outputs": [],
   "source": [
    "@cache\n",
    "def dp(ind, left):\n",
    "    if left < 0:\n",
    "        return 0\n",
    "    if ind >= len(nums):\n",
    "        return left == 0\n",
    "    return dp(ind+1, left) + dp(ind+1, left-nums[ind])"
   ]
  },
  {
   "cell_type": "code",
   "execution_count": 5,
   "id": "a887a18e",
   "metadata": {},
   "outputs": [
    {
     "data": {
      "text/plain": [
       "1638"
      ]
     },
     "execution_count": 5,
     "metadata": {},
     "output_type": "execute_result"
    }
   ],
   "source": [
    "dp(0, 150)"
   ]
  },
  {
   "cell_type": "code",
   "execution_count": 6,
   "id": "e6f9e526",
   "metadata": {},
   "outputs": [],
   "source": [
    "@cache\n",
    "def dp2(ind, left):\n",
    "    if left < 0:\n",
    "        return math.inf\n",
    "    if ind >= len(nums):\n",
    "        return 0 if left == 0 else math.inf\n",
    "    return min(dp2(ind+1, left), 1+dp2(ind+1, left-nums[ind]))"
   ]
  },
  {
   "cell_type": "code",
   "execution_count": 7,
   "id": "35cda67c",
   "metadata": {},
   "outputs": [
    {
     "data": {
      "text/plain": [
       "4"
      ]
     },
     "execution_count": 7,
     "metadata": {},
     "output_type": "execute_result"
    }
   ],
   "source": [
    "dp2(0, 150)"
   ]
  },
  {
   "cell_type": "code",
   "execution_count": 8,
   "id": "cb9b0076",
   "metadata": {},
   "outputs": [],
   "source": [
    "@cache\n",
    "def dp3(ind, left, rem):\n",
    "    if left < 0:\n",
    "        return 0\n",
    "    if rem <= 0 or ind >= len(nums):\n",
    "        return left == 0\n",
    "    return dp3(ind+1, left, rem) + dp3(ind+1, left-nums[ind], rem-1)"
   ]
  },
  {
   "cell_type": "code",
   "execution_count": 9,
   "id": "06b6ab26",
   "metadata": {},
   "outputs": [
    {
     "data": {
      "text/plain": [
       "17"
      ]
     },
     "execution_count": 9,
     "metadata": {},
     "output_type": "execute_result"
    }
   ],
   "source": [
    "dp3(0, 150, 4)"
   ]
  },
  {
   "cell_type": "code",
   "execution_count": null,
   "id": "29fbc54a",
   "metadata": {},
   "outputs": [],
   "source": []
  }
 ],
 "metadata": {
  "kernelspec": {
   "display_name": "Python 3 (ipykernel)",
   "language": "python",
   "name": "python3"
  },
  "language_info": {
   "codemirror_mode": {
    "name": "ipython",
    "version": 3
   },
   "file_extension": ".py",
   "mimetype": "text/x-python",
   "name": "python",
   "nbconvert_exporter": "python",
   "pygments_lexer": "ipython3",
   "version": "3.10.12"
  }
 },
 "nbformat": 4,
 "nbformat_minor": 5
}

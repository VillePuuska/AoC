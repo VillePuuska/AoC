{
 "cells": [
  {
   "cell_type": "code",
   "execution_count": 1,
   "id": "6eabc14c",
   "metadata": {},
   "outputs": [],
   "source": [
    "from collections import deque, defaultdict, Counter\n",
    "from heapq import heapify, heappush, heappop\n",
    "import numpy as np\n",
    "from copy import deepcopy\n",
    "import math\n",
    "import time\n",
    "from functools import cache, reduce\n",
    "import graphviz\n",
    "from itertools import product\n",
    "import matplotlib.pyplot as plt\n",
    "from bisect import bisect_left, bisect_right"
   ]
  },
  {
   "cell_type": "code",
   "execution_count": 2,
   "id": "8040d62a",
   "metadata": {},
   "outputs": [],
   "source": [
    "class Monkey:\n",
    "    def __init__(self, items, operation, test_num, targets) -> None:\n",
    "        self.items = items\n",
    "        self.operation = operation.split(' ')\n",
    "        self.test_num = test_num\n",
    "        self.targets = targets\n",
    "    \n",
    "    def round(self):\n",
    "        res = []\n",
    "        for item in self.items:\n",
    "            num = int(self.operation[2]) if self.operation[2] != 'old' else item\n",
    "            if self.operation[1] == '+':\n",
    "                num += item\n",
    "            else:\n",
    "                num *= item\n",
    "            num = num//3\n",
    "            if num%self.test_num == 0:\n",
    "                res.append((num, self.targets[0]))\n",
    "            else:\n",
    "                res.append((num, self.targets[1]))\n",
    "        self.items = []\n",
    "        return res\n",
    "\n",
    "    def receive_item(self, new_item):\n",
    "        self.items.append(new_item)"
   ]
  },
  {
   "cell_type": "code",
   "execution_count": 3,
   "id": "62f0843b",
   "metadata": {},
   "outputs": [],
   "source": [
    "monkeys = []\n",
    "\n",
    "with open(\"./data/day11.txt\") as f:\n",
    "    x = f.read().split('\\n\\n')\n",
    "    for lines in x:\n",
    "        lines = lines.split('\\n')\n",
    "        items = list(map(int, lines[1].split(': ')[-1].split(', ')))\n",
    "        operation = lines[2].split(' = ')[-1]\n",
    "        test_num = int(lines[3].split(' ')[-1])\n",
    "        targets = [int(lines[4].split(' ')[-1]), int(lines[5].split(' ')[-1])]\n",
    "\n",
    "        monkeys.append(Monkey(items, operation, test_num, targets))"
   ]
  },
  {
   "cell_type": "code",
   "execution_count": 4,
   "id": "a5e4b3be",
   "metadata": {},
   "outputs": [
    {
     "data": {
      "text/plain": [
       "107822"
      ]
     },
     "execution_count": 4,
     "metadata": {},
     "output_type": "execute_result"
    }
   ],
   "source": [
    "c = Counter()\n",
    "for _ in range(20):\n",
    "    for i, monkey in enumerate(monkeys):\n",
    "        res = monkey.round()\n",
    "        c[i] += len(res)\n",
    "        for new_item, ind in res:\n",
    "            monkeys[ind].receive_item(new_item)\n",
    "reduce(lambda x, y: x*y, map(lambda x: x[1], c.most_common(2)))"
   ]
  },
  {
   "cell_type": "code",
   "execution_count": null,
   "id": "c0f4dc75",
   "metadata": {},
   "outputs": [],
   "source": []
  }
 ],
 "metadata": {
  "kernelspec": {
   "display_name": "Python 3 (ipykernel)",
   "language": "python",
   "name": "python3"
  },
  "language_info": {
   "codemirror_mode": {
    "name": "ipython",
    "version": 3
   },
   "file_extension": ".py",
   "mimetype": "text/x-python",
   "name": "python",
   "nbconvert_exporter": "python",
   "pygments_lexer": "ipython3",
   "version": "3.10.12"
  }
 },
 "nbformat": 4,
 "nbformat_minor": 5
}

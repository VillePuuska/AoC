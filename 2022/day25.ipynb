{
 "cells": [
  {
   "cell_type": "code",
   "execution_count": 1,
   "id": "6eabc14c",
   "metadata": {},
   "outputs": [],
   "source": [
    "from collections import deque, defaultdict, Counter\n",
    "from heapq import heapify, heappush, heappop\n",
    "import numpy as np\n",
    "from copy import deepcopy\n",
    "import math\n",
    "import time\n",
    "from functools import cache, reduce, cmp_to_key\n",
    "import graphviz\n",
    "from itertools import product\n",
    "import matplotlib.pyplot as plt\n",
    "from bisect import bisect_left, bisect_right\n",
    "import json"
   ]
  },
  {
   "cell_type": "code",
   "execution_count": 2,
   "id": "cae8446c",
   "metadata": {},
   "outputs": [],
   "source": [
    "dirs4 = [(0, 1), (0, -1), (1, 0), (-1, 0)]\n",
    "dirs8 = dirs4 + [(1, 1), (1, -1), (-1, 1), (-1, -1)]"
   ]
  },
  {
   "cell_type": "code",
   "execution_count": 3,
   "id": "62f0843b",
   "metadata": {},
   "outputs": [
    {
     "data": {
      "text/plain": [
       "102"
      ]
     },
     "execution_count": 3,
     "metadata": {},
     "output_type": "execute_result"
    }
   ],
   "source": [
    "with open(\"./data/day25.txt\") as f:\n",
    "    lines = f.read().rstrip().split('\\n')\n",
    "len(lines)"
   ]
  },
  {
   "cell_type": "code",
   "execution_count": 4,
   "id": "c6eaccc4",
   "metadata": {},
   "outputs": [],
   "source": [
    "def SNAFU(line):\n",
    "    base = 1\n",
    "    res = 0\n",
    "    for c in reversed(line):\n",
    "        if c == '=':\n",
    "            res -= 2*base\n",
    "        elif c == '-':\n",
    "            res -= base\n",
    "        elif c == '0':\n",
    "            pass\n",
    "        elif c == '1':\n",
    "            res += base\n",
    "        elif c == '2':\n",
    "            res += 2*base\n",
    "        else:\n",
    "            raise Exception(f'???: {line}, char {c}')\n",
    "        base *= 5\n",
    "    return res"
   ]
  },
  {
   "cell_type": "code",
   "execution_count": 5,
   "id": "772a2259",
   "metadata": {},
   "outputs": [],
   "source": [
    "def reverse_SNAFU(num):\n",
    "    if num == 0:\n",
    "        return '0'\n",
    "    base_5 = []\n",
    "    new_num = num\n",
    "    while new_num > 0:\n",
    "        base_5.append(new_num%5)\n",
    "        new_num = new_num//5\n",
    "    remainder = 0\n",
    "    res = []\n",
    "    for i, b in enumerate(base_5):\n",
    "        b += remainder\n",
    "        if b in range(0, 3):\n",
    "            remainder = 0\n",
    "            res.append(str(b))\n",
    "        elif b == 3:\n",
    "            remainder = 1\n",
    "            res.append('=')\n",
    "        elif b == 4:\n",
    "            remainder = 1\n",
    "            res.append('-')\n",
    "        elif b == 5:\n",
    "            remainder = 1\n",
    "            res.append('0')\n",
    "        else:\n",
    "            raise Exception(f'???: {num}, {base_5}, {i}, {b}')\n",
    "    if remainder:\n",
    "        res.append('1')\n",
    "    return ''.join(reversed(res))"
   ]
  },
  {
   "cell_type": "code",
   "execution_count": 6,
   "id": "6497101a",
   "metadata": {},
   "outputs": [
    {
     "name": "stdout",
     "output_type": "stream",
     "text": [
      "1 1\n",
      "2 2\n",
      "3 1=\n",
      "4 1-\n",
      "5 10\n",
      "6 11\n",
      "7 12\n",
      "8 2=\n",
      "9 2-\n",
      "10 20\n",
      "15 1=0\n",
      "20 1-0\n",
      "2022 1=11-2\n",
      "12345 1-0---0\n",
      "314159265 1121-1110-1=0\n"
     ]
    }
   ],
   "source": [
    "for i in range(1, 11):\n",
    "    print(i, reverse_SNAFU(i))\n",
    "print(15, reverse_SNAFU(15))\n",
    "print(20, reverse_SNAFU(20))\n",
    "print(2022, reverse_SNAFU(2022))\n",
    "print(12345, reverse_SNAFU(12345))\n",
    "print(314159265, reverse_SNAFU(314159265))"
   ]
  },
  {
   "cell_type": "code",
   "execution_count": 7,
   "id": "341299a2",
   "metadata": {},
   "outputs": [
    {
     "name": "stdout",
     "output_type": "stream",
     "text": [
      "2=--00--0220-0-21==1\n"
     ]
    }
   ],
   "source": [
    "print(reverse_SNAFU(sum(map(SNAFU, lines))))"
   ]
  },
  {
   "cell_type": "code",
   "execution_count": null,
   "id": "2dcb74d9",
   "metadata": {},
   "outputs": [],
   "source": []
  }
 ],
 "metadata": {
  "kernelspec": {
   "display_name": "Python 3 (ipykernel)",
   "language": "python",
   "name": "python3"
  },
  "language_info": {
   "codemirror_mode": {
    "name": "ipython",
    "version": 3
   },
   "file_extension": ".py",
   "mimetype": "text/x-python",
   "name": "python",
   "nbconvert_exporter": "python",
   "pygments_lexer": "ipython3",
   "version": "3.10.12"
  }
 },
 "nbformat": 4,
 "nbformat_minor": 5
}

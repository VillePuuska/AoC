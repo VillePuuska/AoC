{
 "cells": [
  {
   "cell_type": "code",
   "execution_count": 1,
   "id": "6eabc14c",
   "metadata": {},
   "outputs": [],
   "source": [
    "from collections import deque, defaultdict, Counter\n",
    "from heapq import heapify, heappush, heappop\n",
    "import numpy as np\n",
    "from copy import deepcopy\n",
    "import math\n",
    "import time\n",
    "from functools import cache, reduce, cmp_to_key\n",
    "import graphviz\n",
    "from itertools import product\n",
    "import matplotlib.pyplot as plt\n",
    "from bisect import bisect_left, bisect_right\n",
    "import json"
   ]
  },
  {
   "cell_type": "code",
   "execution_count": 71,
   "id": "62f0843b",
   "metadata": {},
   "outputs": [
    {
     "data": {
      "text/plain": [
       "(5000, 3615, [-9405, 1055, 9806, -52, 9756])"
      ]
     },
     "execution_count": 71,
     "metadata": {},
     "output_type": "execute_result"
    }
   ],
   "source": [
    "with open(\"./data/day20.txt\") as f:\n",
    "    nums = list(map(int, f.read().rstrip().split('\\n')))\n",
    "n = len(nums)\n",
    "len(nums), len(set(nums)), nums[:5]"
   ]
  },
  {
   "cell_type": "code",
   "execution_count": 72,
   "id": "dd5a1120",
   "metadata": {},
   "outputs": [],
   "source": [
    "def apply_intervals(intervals, ind):\n",
    "    for left, right, move in intervals:\n",
    "        if ind == left-1 and move == -1:\n",
    "            ind = right\n",
    "            continue\n",
    "        if ind == right+1 and move == 1:\n",
    "            ind = left\n",
    "            continue\n",
    "        if ind < left or ind > right:\n",
    "            continue\n",
    "        ind += move\n",
    "        if ind < 0:\n",
    "            ind = n-1\n",
    "        if ind >= n:\n",
    "            ind = 0\n",
    "    return ind"
   ]
  },
  {
   "cell_type": "code",
   "execution_count": 73,
   "id": "85691f07",
   "metadata": {},
   "outputs": [
    {
     "data": {
      "text/plain": [
       "5000"
      ]
     },
     "execution_count": 73,
     "metadata": {},
     "output_type": "execute_result"
    }
   ],
   "source": [
    "intervals = []\n",
    "for i, num in enumerate(nums):\n",
    "    start_ind = apply_intervals(intervals, i)\n",
    "    end_ind = (start_ind+num)%(n-1)\n",
    "    if end_ind < start_ind:\n",
    "        intervals.append((end_ind, start_ind-1, 1))\n",
    "    else:\n",
    "        intervals.append((start_ind+1, end_ind, -1))\n",
    "len(intervals)"
   ]
  },
  {
   "cell_type": "code",
   "execution_count": 74,
   "id": "a5a7e537",
   "metadata": {},
   "outputs": [],
   "source": [
    "new_nums = [0]*n\n",
    "for i, num in enumerate(nums):\n",
    "    new_ind = apply_intervals(intervals, i)\n",
    "    new_nums[new_ind] = num"
   ]
  },
  {
   "cell_type": "code",
   "execution_count": 75,
   "id": "dcdd5a78",
   "metadata": {},
   "outputs": [
    {
     "data": {
      "text/plain": [
       "14888"
      ]
     },
     "execution_count": 75,
     "metadata": {},
     "output_type": "execute_result"
    }
   ],
   "source": [
    "zero_ind = new_nums.index(0)\n",
    "part1 = sum([new_nums[(zero_ind+i*1000)%n] for i in range(1, 4)])\n",
    "part1"
   ]
  },
  {
   "cell_type": "code",
   "execution_count": 76,
   "id": "d8cc74d7",
   "metadata": {},
   "outputs": [],
   "source": [
    "decryption_key = 811589153\n",
    "part2_nums = [num*decryption_key for num in nums]"
   ]
  },
  {
   "cell_type": "code",
   "execution_count": 77,
   "id": "721c9a46",
   "metadata": {},
   "outputs": [
    {
     "data": {
      "text/plain": [
       "3760092545849"
      ]
     },
     "execution_count": 77,
     "metadata": {},
     "output_type": "execute_result"
    }
   ],
   "source": [
    "index_map = {i:i for i in range(n)}\n",
    "for _ in range(10):\n",
    "    intervals = []\n",
    "    for i, num in enumerate(part2_nums):\n",
    "        start_ind = apply_intervals(intervals, index_map[i])\n",
    "        end_ind = (start_ind+num)%(n-1)\n",
    "        if end_ind < start_ind:\n",
    "            intervals.append((end_ind, start_ind-1, 1))\n",
    "        else:\n",
    "            intervals.append((start_ind+1, end_ind, -1))\n",
    "    for i in range(n):\n",
    "        index_map[i] = apply_intervals(intervals, index_map[i])\n",
    "part2_new_nums = [0]*n\n",
    "for k, v in index_map.items():\n",
    "    part2_new_nums[v] = part2_nums[k]\n",
    "part2_zero_ind = part2_new_nums.index(0)\n",
    "part2 = sum([part2_new_nums[(part2_zero_ind+i*1000)%n] for i in range(1, 4)])\n",
    "part2"
   ]
  },
  {
   "cell_type": "markdown",
   "id": "e20d2b7b",
   "metadata": {},
   "source": [
    "Awful performace. Takes 37sec on my laptop."
   ]
  },
  {
   "cell_type": "code",
   "execution_count": null,
   "id": "96d229ac",
   "metadata": {},
   "outputs": [],
   "source": []
  }
 ],
 "metadata": {
  "kernelspec": {
   "display_name": "Python 3 (ipykernel)",
   "language": "python",
   "name": "python3"
  },
  "language_info": {
   "codemirror_mode": {
    "name": "ipython",
    "version": 3
   },
   "file_extension": ".py",
   "mimetype": "text/x-python",
   "name": "python",
   "nbconvert_exporter": "python",
   "pygments_lexer": "ipython3",
   "version": "3.10.12"
  }
 },
 "nbformat": 4,
 "nbformat_minor": 5
}

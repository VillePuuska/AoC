{
 "cells": [
  {
   "cell_type": "code",
   "execution_count": 1,
   "id": "6eabc14c",
   "metadata": {},
   "outputs": [],
   "source": [
    "from collections import deque, defaultdict, Counter\n",
    "from heapq import heapify, heappush, heappop\n",
    "import numpy as np\n",
    "from copy import deepcopy\n",
    "import math\n",
    "import time\n",
    "from functools import cache, reduce, cmp_to_key\n",
    "import graphviz\n",
    "from itertools import product\n",
    "import matplotlib.pyplot as plt\n",
    "from bisect import bisect_left, bisect_right\n",
    "import json"
   ]
  },
  {
   "cell_type": "code",
   "execution_count": 2,
   "id": "cae8446c",
   "metadata": {},
   "outputs": [],
   "source": [
    "dirs4 = [(0, 1), (0, -1), (1, 0), (-1, 0)]\n",
    "dirs8 = dirs4 + [(1, 1), (1, -1), (-1, 1), (-1, -1)]"
   ]
  },
  {
   "cell_type": "code",
   "execution_count": 3,
   "id": "62f0843b",
   "metadata": {},
   "outputs": [
    {
     "data": {
      "text/plain": [
       "(2705, 2705)"
      ]
     },
     "execution_count": 3,
     "metadata": {},
     "output_type": "execute_result"
    }
   ],
   "source": [
    "rows, cols = 0, None\n",
    "blizzards = set()\n",
    "blizzard_positions = set()\n",
    "\n",
    "with open(\"./data/day24.txt\") as f:\n",
    "    while line := f.readline():\n",
    "        line = line.rstrip()\n",
    "        cols = len(line)\n",
    "        for col, c in enumerate(line):\n",
    "            if c == '<':\n",
    "                blizzards.add((rows, col, (0, -1)))\n",
    "                blizzard_positions.add((rows, col))\n",
    "            elif c == '^':\n",
    "                blizzards.add((rows, col, (-1, 0)))\n",
    "                blizzard_positions.add((rows, col))\n",
    "            elif c == '>':\n",
    "                blizzards.add((rows, col, (0, 1)))\n",
    "                blizzard_positions.add((rows, col))\n",
    "            elif c == 'v':\n",
    "                blizzards.add((rows, col, (1, 0)))\n",
    "                blizzard_positions.add((rows, col))\n",
    "        rows += 1\n",
    "\n",
    "len(blizzards), len(blizzard_positions)"
   ]
  },
  {
   "cell_type": "code",
   "execution_count": 4,
   "id": "656e95a6",
   "metadata": {},
   "outputs": [],
   "source": [
    "def legal_square(pos):\n",
    "    row, col = pos\n",
    "    if pos in blizzard_positions:\n",
    "        return False\n",
    "    if row < 0 or row >= rows:\n",
    "        return False\n",
    "    if col <= 0 or col >= cols-1:\n",
    "        return False\n",
    "    if row == 0 and col != 1:\n",
    "        return False\n",
    "    if row == rows-1 and col != cols-2:\n",
    "        return False\n",
    "    return True"
   ]
  },
  {
   "cell_type": "code",
   "execution_count": 5,
   "id": "0ff72c1b",
   "metadata": {},
   "outputs": [],
   "source": [
    "def move_blizzards(blizzards):\n",
    "    new_blizzards, new_blizzard_positions = set(), set()\n",
    "    for row, col, (x, y) in blizzards:\n",
    "        new_row, new_col = row+x, col+y\n",
    "        if new_row == 0:\n",
    "            new_row = rows-2\n",
    "        elif new_row == rows-1:\n",
    "            new_row = 1\n",
    "        if new_col == 0:\n",
    "            new_col = cols-2\n",
    "        elif new_col == cols-1:\n",
    "            new_col = 1\n",
    "        new_blizzards.add((new_row, new_col, (x, y)))\n",
    "        new_blizzard_positions.add((new_row, new_col))\n",
    "    return new_blizzards, new_blizzard_positions"
   ]
  },
  {
   "cell_type": "code",
   "execution_count": 6,
   "id": "6885ee92",
   "metadata": {},
   "outputs": [
    {
     "ename": "AssertionError",
     "evalue": "271",
     "output_type": "error",
     "traceback": [
      "\u001b[0;31m---------------------------------------------------------------------------\u001b[0m",
      "\u001b[0;31mAssertionError\u001b[0m                            Traceback (most recent call last)",
      "Cell \u001b[0;32mIn[6], line 11\u001b[0m\n\u001b[1;32m      9\u001b[0m \u001b[38;5;28;01mfor\u001b[39;00m x, y \u001b[38;5;129;01min\u001b[39;00m dirs4:\n\u001b[1;32m     10\u001b[0m     \u001b[38;5;28;01mif\u001b[39;00m row\u001b[38;5;241m+\u001b[39mx \u001b[38;5;241m==\u001b[39m rows\u001b[38;5;241m-\u001b[39m\u001b[38;5;241m1\u001b[39m \u001b[38;5;129;01mand\u001b[39;00m col\u001b[38;5;241m+\u001b[39my \u001b[38;5;241m==\u001b[39m cols\u001b[38;5;241m-\u001b[39m\u001b[38;5;241m2\u001b[39m:\n\u001b[0;32m---> 11\u001b[0m         \u001b[38;5;28;01massert\u001b[39;00m \u001b[38;5;28;01mFalse\u001b[39;00m, count\n\u001b[1;32m     12\u001b[0m     \u001b[38;5;28;01mif\u001b[39;00m legal_square((row\u001b[38;5;241m+\u001b[39mx, col\u001b[38;5;241m+\u001b[39my)):\n\u001b[1;32m     13\u001b[0m         new_s\u001b[38;5;241m.\u001b[39madd((row\u001b[38;5;241m+\u001b[39mx, col\u001b[38;5;241m+\u001b[39my))\n",
      "\u001b[0;31mAssertionError\u001b[0m: 271"
     ]
    }
   ],
   "source": [
    "s = set([(0, 1)])\n",
    "\n",
    "count = 0\n",
    "while count < 500:\n",
    "    count += 1\n",
    "    blizzards, blizzard_positions = move_blizzards(blizzards)\n",
    "    new_s = set()\n",
    "    for row, col in s:\n",
    "        for x, y in dirs4:\n",
    "            if row+x == rows-1 and col+y == cols-2:\n",
    "                assert False, count\n",
    "            if legal_square((row+x, col+y)):\n",
    "                new_s.add((row+x, col+y))\n",
    "        if legal_square((row, col)):\n",
    "            new_s.add((row, col))\n",
    "    s = new_s"
   ]
  },
  {
   "cell_type": "code",
   "execution_count": 7,
   "id": "45de002d",
   "metadata": {},
   "outputs": [
    {
     "ename": "AssertionError",
     "evalue": "280",
     "output_type": "error",
     "traceback": [
      "\u001b[0;31m---------------------------------------------------------------------------\u001b[0m",
      "\u001b[0;31mAssertionError\u001b[0m                            Traceback (most recent call last)",
      "Cell \u001b[0;32mIn[7], line 11\u001b[0m\n\u001b[1;32m      9\u001b[0m \u001b[38;5;28;01mfor\u001b[39;00m x, y \u001b[38;5;129;01min\u001b[39;00m dirs4:\n\u001b[1;32m     10\u001b[0m     \u001b[38;5;28;01mif\u001b[39;00m row\u001b[38;5;241m+\u001b[39mx \u001b[38;5;241m==\u001b[39m \u001b[38;5;241m0\u001b[39m \u001b[38;5;129;01mand\u001b[39;00m col\u001b[38;5;241m+\u001b[39my \u001b[38;5;241m==\u001b[39m \u001b[38;5;241m1\u001b[39m:\n\u001b[0;32m---> 11\u001b[0m         \u001b[38;5;28;01massert\u001b[39;00m \u001b[38;5;28;01mFalse\u001b[39;00m, count\n\u001b[1;32m     12\u001b[0m     \u001b[38;5;28;01mif\u001b[39;00m legal_square((row\u001b[38;5;241m+\u001b[39mx, col\u001b[38;5;241m+\u001b[39my)):\n\u001b[1;32m     13\u001b[0m         new_s\u001b[38;5;241m.\u001b[39madd((row\u001b[38;5;241m+\u001b[39mx, col\u001b[38;5;241m+\u001b[39my))\n",
      "\u001b[0;31mAssertionError\u001b[0m: 280"
     ]
    }
   ],
   "source": [
    "s = set([(rows-1, cols-2)])\n",
    "\n",
    "count = 0\n",
    "while count < 500:\n",
    "    count += 1\n",
    "    blizzards, blizzard_positions = move_blizzards(blizzards)\n",
    "    new_s = set()\n",
    "    for row, col in s:\n",
    "        for x, y in dirs4:\n",
    "            if row+x == 0 and col+y == 1:\n",
    "                assert False, count\n",
    "            if legal_square((row+x, col+y)):\n",
    "                new_s.add((row+x, col+y))\n",
    "        if legal_square((row, col)):\n",
    "            new_s.add((row, col))\n",
    "    s = new_s"
   ]
  },
  {
   "cell_type": "code",
   "execution_count": 8,
   "id": "f3765e1a",
   "metadata": {},
   "outputs": [
    {
     "ename": "AssertionError",
     "evalue": "262",
     "output_type": "error",
     "traceback": [
      "\u001b[0;31m---------------------------------------------------------------------------\u001b[0m",
      "\u001b[0;31mAssertionError\u001b[0m                            Traceback (most recent call last)",
      "Cell \u001b[0;32mIn[8], line 11\u001b[0m\n\u001b[1;32m      9\u001b[0m \u001b[38;5;28;01mfor\u001b[39;00m x, y \u001b[38;5;129;01min\u001b[39;00m dirs4:\n\u001b[1;32m     10\u001b[0m     \u001b[38;5;28;01mif\u001b[39;00m row\u001b[38;5;241m+\u001b[39mx \u001b[38;5;241m==\u001b[39m rows\u001b[38;5;241m-\u001b[39m\u001b[38;5;241m1\u001b[39m \u001b[38;5;129;01mand\u001b[39;00m col\u001b[38;5;241m+\u001b[39my \u001b[38;5;241m==\u001b[39m cols\u001b[38;5;241m-\u001b[39m\u001b[38;5;241m2\u001b[39m:\n\u001b[0;32m---> 11\u001b[0m         \u001b[38;5;28;01massert\u001b[39;00m \u001b[38;5;28;01mFalse\u001b[39;00m, count\n\u001b[1;32m     12\u001b[0m     \u001b[38;5;28;01mif\u001b[39;00m legal_square((row\u001b[38;5;241m+\u001b[39mx, col\u001b[38;5;241m+\u001b[39my)):\n\u001b[1;32m     13\u001b[0m         new_s\u001b[38;5;241m.\u001b[39madd((row\u001b[38;5;241m+\u001b[39mx, col\u001b[38;5;241m+\u001b[39my))\n",
      "\u001b[0;31mAssertionError\u001b[0m: 262"
     ]
    }
   ],
   "source": [
    "s = set([(0, 1)])\n",
    "\n",
    "count = 0\n",
    "while count < 500:\n",
    "    count += 1\n",
    "    blizzards, blizzard_positions = move_blizzards(blizzards)\n",
    "    new_s = set()\n",
    "    for row, col in s:\n",
    "        for x, y in dirs4:\n",
    "            if row+x == rows-1 and col+y == cols-2:\n",
    "                assert False, count\n",
    "            if legal_square((row+x, col+y)):\n",
    "                new_s.add((row+x, col+y))\n",
    "        if legal_square((row, col)):\n",
    "            new_s.add((row, col))\n",
    "    s = new_s"
   ]
  },
  {
   "cell_type": "code",
   "execution_count": 9,
   "id": "553116aa",
   "metadata": {},
   "outputs": [
    {
     "data": {
      "text/plain": [
       "813"
      ]
     },
     "execution_count": 9,
     "metadata": {},
     "output_type": "execute_result"
    }
   ],
   "source": [
    "271+280+262"
   ]
  },
  {
   "cell_type": "markdown",
   "id": "dac06b5b",
   "metadata": {},
   "source": [
    "Luckily the above is the right answer since with my input the minimum time it takes can be split into three distinct minimized parts: minimum start to finish, then minimum finish to start, and then minimum start to finish. I don't know if this is true generally so I'll just write the full search too."
   ]
  },
  {
   "cell_type": "code",
   "execution_count": 10,
   "id": "479755aa",
   "metadata": {},
   "outputs": [],
   "source": [
    "rows, cols = 0, None\n",
    "blizzards = set()\n",
    "blizzard_positions = set()\n",
    "\n",
    "with open(\"./data/day24.txt\") as f:\n",
    "    while line := f.readline():\n",
    "        line = line.rstrip()\n",
    "        cols = len(line)\n",
    "        for col, c in enumerate(line):\n",
    "            if c == '<':\n",
    "                blizzards.add((rows, col, (0, -1)))\n",
    "                blizzard_positions.add((rows, col))\n",
    "            elif c == '^':\n",
    "                blizzards.add((rows, col, (-1, 0)))\n",
    "                blizzard_positions.add((rows, col))\n",
    "            elif c == '>':\n",
    "                blizzards.add((rows, col, (0, 1)))\n",
    "                blizzard_positions.add((rows, col))\n",
    "            elif c == 'v':\n",
    "                blizzards.add((rows, col, (1, 0)))\n",
    "                blizzard_positions.add((rows, col))\n",
    "        rows += 1"
   ]
  },
  {
   "cell_type": "code",
   "execution_count": 11,
   "id": "b9388ea0",
   "metadata": {},
   "outputs": [
    {
     "ename": "AssertionError",
     "evalue": "813",
     "output_type": "error",
     "traceback": [
      "\u001b[0;31m---------------------------------------------------------------------------\u001b[0m",
      "\u001b[0;31mAssertionError\u001b[0m                            Traceback (most recent call last)",
      "Cell \u001b[0;32mIn[11], line 17\u001b[0m\n\u001b[1;32m     15\u001b[0m     \u001b[38;5;28;01mcontinue\u001b[39;00m\n\u001b[1;32m     16\u001b[0m \u001b[38;5;28;01mif\u001b[39;00m state \u001b[38;5;241m==\u001b[39m \u001b[38;5;241m2\u001b[39m \u001b[38;5;129;01mand\u001b[39;00m row\u001b[38;5;241m+\u001b[39mx \u001b[38;5;241m==\u001b[39m rows\u001b[38;5;241m-\u001b[39m\u001b[38;5;241m1\u001b[39m \u001b[38;5;129;01mand\u001b[39;00m col\u001b[38;5;241m+\u001b[39my \u001b[38;5;241m==\u001b[39m cols\u001b[38;5;241m-\u001b[39m\u001b[38;5;241m2\u001b[39m:\n\u001b[0;32m---> 17\u001b[0m     \u001b[38;5;28;01massert\u001b[39;00m \u001b[38;5;28;01mFalse\u001b[39;00m, count\n\u001b[1;32m     18\u001b[0m \u001b[38;5;28;01mif\u001b[39;00m legal_square((row\u001b[38;5;241m+\u001b[39mx, col\u001b[38;5;241m+\u001b[39my)):\n\u001b[1;32m     19\u001b[0m     new_s\u001b[38;5;241m.\u001b[39madd((row\u001b[38;5;241m+\u001b[39mx, col\u001b[38;5;241m+\u001b[39my, state))\n",
      "\u001b[0;31mAssertionError\u001b[0m: 813"
     ]
    }
   ],
   "source": [
    "s = set([(0, 1, 0)])\n",
    "\n",
    "count = 0\n",
    "while count < 850:\n",
    "    count += 1\n",
    "    blizzards, blizzard_positions = move_blizzards(blizzards)\n",
    "    new_s = set()\n",
    "    for row, col, state in s:\n",
    "        for x, y in dirs4:\n",
    "            if state == 0 and row+x == rows-1 and col+y == cols-2:\n",
    "                new_s.add((row+x, col+y, 1))\n",
    "                continue\n",
    "            if state == 1 and row+x == 0 and col+y == 1:\n",
    "                new_s.add((row+x, col+y, 2))\n",
    "                continue\n",
    "            if state == 2 and row+x == rows-1 and col+y == cols-2:\n",
    "                assert False, count\n",
    "            if legal_square((row+x, col+y)):\n",
    "                new_s.add((row+x, col+y, state))\n",
    "        if legal_square((row, col)):\n",
    "            new_s.add((row, col, state))\n",
    "    s = new_s"
   ]
  },
  {
   "cell_type": "code",
   "execution_count": null,
   "id": "25aa53c3",
   "metadata": {},
   "outputs": [],
   "source": []
  }
 ],
 "metadata": {
  "kernelspec": {
   "display_name": "Python 3 (ipykernel)",
   "language": "python",
   "name": "python3"
  },
  "language_info": {
   "codemirror_mode": {
    "name": "ipython",
    "version": 3
   },
   "file_extension": ".py",
   "mimetype": "text/x-python",
   "name": "python",
   "nbconvert_exporter": "python",
   "pygments_lexer": "ipython3",
   "version": "3.10.12"
  }
 },
 "nbformat": 4,
 "nbformat_minor": 5
}

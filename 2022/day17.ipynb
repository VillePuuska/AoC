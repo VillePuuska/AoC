{
 "cells": [
  {
   "cell_type": "code",
   "execution_count": 1,
   "id": "6eabc14c",
   "metadata": {},
   "outputs": [],
   "source": [
    "from collections import deque, defaultdict, Counter\n",
    "from heapq import heapify, heappush, heappop\n",
    "import numpy as np\n",
    "from copy import deepcopy\n",
    "import math\n",
    "import time\n",
    "from functools import cache, reduce, cmp_to_key\n",
    "import graphviz\n",
    "from itertools import product\n",
    "import matplotlib.pyplot as plt\n",
    "from bisect import bisect_left, bisect_right\n",
    "import json"
   ]
  },
  {
   "cell_type": "code",
   "execution_count": 2,
   "id": "62f0843b",
   "metadata": {},
   "outputs": [
    {
     "data": {
      "text/plain": [
       "10091"
      ]
     },
     "execution_count": 2,
     "metadata": {},
     "output_type": "execute_result"
    }
   ],
   "source": [
    "with open(\"./data/day17.txt\") as f:\n",
    "    jets = f.readline().rstrip()\n",
    "len(jets)"
   ]
  },
  {
   "cell_type": "code",
   "execution_count": 3,
   "id": "c44e4b35",
   "metadata": {},
   "outputs": [],
   "source": [
    "class Block:\n",
    "    def __init__(self, type, start_row, start_col) -> None:\n",
    "        if type == 0: # horizontal line\n",
    "            self.occupied = set([(start_row, start_col+i) for i in range(4)])\n",
    "        elif type == 1: # plus\n",
    "            self.occupied = set([(start_row+1+i, start_col+1+j) for i, j in [(0, 0), (-1, 0), (1, 0), (0, -1), (0, 1)]])\n",
    "        elif type == 2: # plus\n",
    "            self.occupied = set([(start_row+i, start_col+j) for i, j in [(0, 0), (0, 1), (0, 2), (1, 2), (2, 2)]])\n",
    "        elif type == 3: # vertical line\n",
    "            self.occupied = set([(start_row+i, start_col) for i in range(4)])\n",
    "        elif type == 4: # square\n",
    "            self.occupied = set([(start_row+i, start_col+j) for i, j in [(0, 0), (0, 1), (1, 0), (1, 1)]])\n",
    "    \n",
    "    def max_row(self):\n",
    "        return max(map(lambda x: x[0], self.occupied))\n",
    "\n",
    "    def jet(self, direction, blocked):\n",
    "        new_occupied = set()\n",
    "        if direction == '<':\n",
    "            for row, col in self.occupied:\n",
    "                if col-1 < 0:\n",
    "                    return False\n",
    "                if (row, col-1) in blocked:\n",
    "                    return False\n",
    "                new_occupied.add((row, col-1))\n",
    "            self.occupied = new_occupied\n",
    "        else:\n",
    "            for row, col in self.occupied:\n",
    "                if col+1 >= 7:\n",
    "                    return False\n",
    "                if (row, col+1) in blocked:\n",
    "                    return False\n",
    "                new_occupied.add((row, col+1))\n",
    "            self.occupied = new_occupied\n",
    "        return True\n",
    "    \n",
    "    def drop(self, blocked):\n",
    "        new_occupied = set()\n",
    "        for row, col in self.occupied:\n",
    "            if row-1 <= 0:\n",
    "                return False\n",
    "            if (row-1, col) in blocked:\n",
    "                return False\n",
    "            new_occupied.add((row-1, col))\n",
    "        self.occupied = new_occupied\n",
    "        return True"
   ]
  },
  {
   "cell_type": "code",
   "execution_count": 4,
   "id": "3c0638f5",
   "metadata": {},
   "outputs": [],
   "source": [
    "blocked = set()\n",
    "\n",
    "jet_ind = 0\n",
    "max_row = 0\n",
    "for i in range(2022):\n",
    "    curr_block = Block(i%5, max_row+4, 2)\n",
    "    flag = True\n",
    "    while flag:\n",
    "        _ = curr_block.jet(jets[jet_ind], blocked)\n",
    "        jet_ind = (jet_ind+1)%len(jets)\n",
    "        flag = curr_block.drop(blocked)\n",
    "    for pos in curr_block.occupied:\n",
    "        blocked.add(pos)\n",
    "    max_row = max(max_row, curr_block.max_row())"
   ]
  },
  {
   "cell_type": "code",
   "execution_count": 5,
   "id": "53b522d2",
   "metadata": {},
   "outputs": [
    {
     "name": "stdout",
     "output_type": "stream",
     "text": [
      "...#...\n",
      ".####..\n",
      ".####..\n",
      ".####..\n",
      ".####..\n",
      ".##....\n",
      ".###...\n",
      "..#....\n",
      "..####.\n"
     ]
    }
   ],
   "source": [
    "for row in range(9, 0, -1):\n",
    "    s = ''\n",
    "    for col in range(7):\n",
    "        s += '#' if (row, col) in blocked else '.'\n",
    "    print(s)"
   ]
  },
  {
   "cell_type": "code",
   "execution_count": 6,
   "id": "80bd5a8a",
   "metadata": {},
   "outputs": [
    {
     "data": {
      "text/plain": [
       "3175"
      ]
     },
     "execution_count": 6,
     "metadata": {},
     "output_type": "execute_result"
    }
   ],
   "source": [
    "max_row"
   ]
  },
  {
   "cell_type": "markdown",
   "id": "c610273b",
   "metadata": {},
   "source": [
    "# Part 2\n",
    "\n",
    "Since we have no way of simulating dropping 1000000000000 blocks, we clearly need to find some looping behavior.\n",
    "\n",
    "We can somewhat rephrase the situation to make finding loops understandable. Instead of thinking about the height of the pile after dropping `n` blocks, let's consider the height of the settled pile after `n` jet gusts and blocks being moved down by one step. If there is looping in this simulation, there will be looping at some multiple of `len(jets)` intervals. Let's get some values of this function at `len(jets)` intervals and see if there are indications of looping going on."
   ]
  },
  {
   "cell_type": "code",
   "execution_count": 7,
   "id": "8baf2ef1",
   "metadata": {},
   "outputs": [],
   "source": [
    "blocked = set()\n",
    "\n",
    "res = []\n",
    "\n",
    "jet_ind = 0\n",
    "max_row = 0\n",
    "for i in range(10*2022):\n",
    "    curr_block = Block(i%5, max_row+4, 2)\n",
    "    flag = True\n",
    "    while flag:\n",
    "        if jet_ind == 0:\n",
    "            res.append((i, max_row))\n",
    "        _ = curr_block.jet(jets[jet_ind], blocked)\n",
    "        jet_ind = (jet_ind+1)%len(jets)\n",
    "        flag = curr_block.drop(blocked)\n",
    "    for pos in curr_block.occupied:\n",
    "        blocked.add(pos)\n",
    "    max_row = max(max_row, curr_block.max_row())"
   ]
  },
  {
   "cell_type": "code",
   "execution_count": 8,
   "id": "6222d1fe",
   "metadata": {},
   "outputs": [
    {
     "name": "stdout",
     "output_type": "stream",
     "text": [
      "Heights of the pile: [0, 2750, 5487, 8224, 10961, 13698, 16435, 19172, 21909, 24646, 27383, 30120]\n",
      "Height increases: [2750, 2737, 2737, 2737, 2737, 2737, 2737, 2737, 2737, 2737, 2737]\n",
      "\n",
      "Dropped and settled rocks: [0, 1743, 3503, 5263, 7023, 8783, 10543, 12303, 14063, 15823, 17583, 19343]\n",
      "Increases in number of rocks: [1743, 1760, 1760, 1760, 1760, 1760, 1760, 1760, 1760, 1760, 1760]\n"
     ]
    }
   ],
   "source": [
    "print('Heights of the pile:', [x[1] for x in res])\n",
    "print('Height increases:', [res[i+1][1]-res[i][1] for i in range(len(res)-1)])\n",
    "print()\n",
    "print('Dropped and settled rocks:', [x[0] for x in res])\n",
    "print('Increases in number of rocks:', [res[i+1][0]-res[i][0] for i in range(len(res)-1)])"
   ]
  },
  {
   "cell_type": "markdown",
   "id": "8b99c1b3",
   "metadata": {},
   "source": [
    "So, after 1743 rocks have been dropped, dropping 1760 more rocks seem to always add 2737 to the height of the pile."
   ]
  },
  {
   "cell_type": "code",
   "execution_count": 9,
   "id": "56741f9b",
   "metadata": {},
   "outputs": [
    {
     "data": {
      "text/plain": [
       "(568181817, 337)"
      ]
     },
     "execution_count": 9,
     "metadata": {},
     "output_type": "execute_result"
    }
   ],
   "source": [
    "target = 1000000000000\n",
    "\n",
    "loop_start = 1743\n",
    "loop_length = 1760\n",
    "loop_increase = 2737\n",
    "\n",
    "# target = loop_start + loops*loop_length + remainder\n",
    "loops = (target-loop_start)//loop_length\n",
    "remainder = (target-loop_start)%loop_length\n",
    "\n",
    "loops, remainder"
   ]
  },
  {
   "cell_type": "code",
   "execution_count": 10,
   "id": "fcc775ce",
   "metadata": {},
   "outputs": [
    {
     "name": "stdout",
     "output_type": "stream",
     "text": [
      "Result = 1555113636385\n"
     ]
    }
   ],
   "source": [
    "blocked = set()\n",
    "jet_ind = 0\n",
    "max_row = 0\n",
    "for i in range(loop_start+remainder):\n",
    "    curr_block = Block(i%5, max_row+4, 2)\n",
    "    flag = True\n",
    "    while flag:\n",
    "        _ = curr_block.jet(jets[jet_ind], blocked)\n",
    "        jet_ind = (jet_ind+1)%len(jets)\n",
    "        flag = curr_block.drop(blocked)\n",
    "    for pos in curr_block.occupied:\n",
    "        blocked.add(pos)\n",
    "    max_row = max(max_row, curr_block.max_row())\n",
    "\n",
    "init_rocks = max_row\n",
    "\n",
    "print('Result =', init_rocks+loops*loop_increase)"
   ]
  },
  {
   "cell_type": "markdown",
   "id": "50701fd4",
   "metadata": {},
   "source": [
    "Hacky, very hacky, but it's the right answer."
   ]
  },
  {
   "cell_type": "code",
   "execution_count": null,
   "id": "c643fdb9",
   "metadata": {},
   "outputs": [],
   "source": []
  }
 ],
 "metadata": {
  "kernelspec": {
   "display_name": "Python 3 (ipykernel)",
   "language": "python",
   "name": "python3"
  },
  "language_info": {
   "codemirror_mode": {
    "name": "ipython",
    "version": 3
   },
   "file_extension": ".py",
   "mimetype": "text/x-python",
   "name": "python",
   "nbconvert_exporter": "python",
   "pygments_lexer": "ipython3",
   "version": "3.10.12"
  }
 },
 "nbformat": 4,
 "nbformat_minor": 5
}

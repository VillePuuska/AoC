{
 "cells": [
  {
   "cell_type": "code",
   "execution_count": 1,
   "id": "6eabc14c",
   "metadata": {},
   "outputs": [],
   "source": [
    "from collections import deque, defaultdict, Counter\n",
    "from heapq import heapify, heappush, heappop\n",
    "import numpy as np\n",
    "from copy import deepcopy\n",
    "import math\n",
    "import time\n",
    "from functools import cache, reduce, cmp_to_key\n",
    "import graphviz\n",
    "from itertools import product\n",
    "import matplotlib.pyplot as plt\n",
    "from bisect import bisect_left, bisect_right\n",
    "import json"
   ]
  },
  {
   "cell_type": "code",
   "execution_count": 2,
   "id": "62f0843b",
   "metadata": {},
   "outputs": [
    {
     "data": {
      "text/plain": [
       "(140, [(541, 130), (541, 122), (541, 130), (543, 130), (543, 123)], 2)"
      ]
     },
     "execution_count": 2,
     "metadata": {},
     "output_type": "execute_result"
    }
   ],
   "source": [
    "paths = []\n",
    "\n",
    "with open(\"./data/day14.txt\") as f:\n",
    "    while line := f.readline():\n",
    "        line = line.rstrip().split(' -> ')\n",
    "        path = []\n",
    "        for l in line:\n",
    "            x, y = list(map(int, l.split(',')))\n",
    "            path.append((x, y))\n",
    "        paths.append(path)\n",
    "len(paths), paths[0][:5], min(map(len, paths))"
   ]
  },
  {
   "cell_type": "code",
   "execution_count": 3,
   "id": "033c0bd1",
   "metadata": {},
   "outputs": [
    {
     "data": {
      "text/plain": [
       "(617, 157)"
      ]
     },
     "execution_count": 3,
     "metadata": {},
     "output_type": "execute_result"
    }
   ],
   "source": [
    "rocks = set()\n",
    "for path in paths:\n",
    "    for i in range(len(path)-1):\n",
    "        x_diff = 1 if path[i][0] < path[i+1][0] else 0 if path[i][0] == path[i+1][0] else -1\n",
    "        y_diff = 1 if path[i][1] < path[i+1][1] else 0 if path[i][1] == path[i+1][1] else -1\n",
    "        pos = path[i]\n",
    "        while pos != path[i+1]:\n",
    "            rocks.add(pos)\n",
    "            pos = (pos[0]+x_diff, pos[1]+y_diff)\n",
    "        rocks.add(pos)\n",
    "max_y = max(map(lambda x: x[1], rocks))\n",
    "len(rocks), max_y"
   ]
  },
  {
   "cell_type": "code",
   "execution_count": 4,
   "id": "21666897",
   "metadata": {},
   "outputs": [],
   "source": [
    "def next_pos(pos):\n",
    "    if (pos[0], pos[1]+1) not in rocks:\n",
    "        return (pos[0], pos[1]+1)\n",
    "    if (pos[0]-1, pos[1]+1) not in rocks:\n",
    "        return (pos[0]-1, pos[1]+1)\n",
    "    if (pos[0]+1, pos[1]+1) not in rocks:\n",
    "        return (pos[0]+1, pos[1]+1)\n",
    "    return pos"
   ]
  },
  {
   "cell_type": "code",
   "execution_count": 5,
   "id": "6b2a4dfd",
   "metadata": {},
   "outputs": [
    {
     "data": {
      "text/plain": [
       "1513"
      ]
     },
     "execution_count": 5,
     "metadata": {},
     "output_type": "execute_result"
    }
   ],
   "source": [
    "res = 0\n",
    "start = (500, 0)\n",
    "flag = True\n",
    "while flag:\n",
    "    prev_pos = start\n",
    "    while (pos := next_pos(prev_pos)) != prev_pos:\n",
    "        #print(pos)\n",
    "        prev_pos = pos\n",
    "        if pos[1] >= max_y:\n",
    "            flag = False\n",
    "            break\n",
    "    if not flag:\n",
    "        break\n",
    "    rocks.add(pos)\n",
    "    res += 1\n",
    "res"
   ]
  },
  {
   "cell_type": "markdown",
   "id": "71ab0feb",
   "metadata": {},
   "source": [
    "# Part 2"
   ]
  },
  {
   "cell_type": "code",
   "execution_count": 6,
   "id": "b0b02193",
   "metadata": {},
   "outputs": [
    {
     "data": {
      "text/plain": [
       "(140, [(541, 130), (541, 122), (541, 130), (543, 130), (543, 123)], 2)"
      ]
     },
     "execution_count": 6,
     "metadata": {},
     "output_type": "execute_result"
    }
   ],
   "source": [
    "paths = []\n",
    "\n",
    "with open(\"./data/day14.txt\") as f:\n",
    "    while line := f.readline():\n",
    "        line = line.rstrip().split(' -> ')\n",
    "        path = []\n",
    "        for l in line:\n",
    "            x, y = list(map(int, l.split(',')))\n",
    "            path.append((x, y))\n",
    "        paths.append(path)\n",
    "len(paths), paths[0][:5], min(map(len, paths))"
   ]
  },
  {
   "cell_type": "code",
   "execution_count": 7,
   "id": "b5d41df7",
   "metadata": {},
   "outputs": [
    {
     "data": {
      "text/plain": [
       "(617, 157)"
      ]
     },
     "execution_count": 7,
     "metadata": {},
     "output_type": "execute_result"
    }
   ],
   "source": [
    "rocks = set()\n",
    "for path in paths:\n",
    "    for i in range(len(path)-1):\n",
    "        x_diff = 1 if path[i][0] < path[i+1][0] else 0 if path[i][0] == path[i+1][0] else -1\n",
    "        y_diff = 1 if path[i][1] < path[i+1][1] else 0 if path[i][1] == path[i+1][1] else -1\n",
    "        pos = path[i]\n",
    "        while pos != path[i+1]:\n",
    "            rocks.add(pos)\n",
    "            pos = (pos[0]+x_diff, pos[1]+y_diff)\n",
    "        rocks.add(pos)\n",
    "max_y = max(map(lambda x: x[1], rocks))\n",
    "len(rocks), max_y"
   ]
  },
  {
   "cell_type": "code",
   "execution_count": 8,
   "id": "bba3c840",
   "metadata": {},
   "outputs": [],
   "source": [
    "floor = 2+max_y"
   ]
  },
  {
   "cell_type": "code",
   "execution_count": 9,
   "id": "93003910",
   "metadata": {},
   "outputs": [],
   "source": [
    "def next_pos(pos):\n",
    "    if pos[1] == floor-1:\n",
    "        return pos\n",
    "    if (pos[0], pos[1]+1) not in rocks:\n",
    "        return (pos[0], pos[1]+1)\n",
    "    if (pos[0]-1, pos[1]+1) not in rocks:\n",
    "        return (pos[0]-1, pos[1]+1)\n",
    "    if (pos[0]+1, pos[1]+1) not in rocks:\n",
    "        return (pos[0]+1, pos[1]+1)\n",
    "    return pos"
   ]
  },
  {
   "cell_type": "code",
   "execution_count": 10,
   "id": "81f25b9a",
   "metadata": {},
   "outputs": [
    {
     "data": {
      "text/plain": [
       "22646"
      ]
     },
     "execution_count": 10,
     "metadata": {},
     "output_type": "execute_result"
    }
   ],
   "source": [
    "res = 0\n",
    "start = (500, 0)\n",
    "while True:\n",
    "    prev_pos = start\n",
    "    while (pos := next_pos(prev_pos)) != prev_pos:\n",
    "        prev_pos = pos\n",
    "    rocks.add(pos)\n",
    "    res += 1\n",
    "    if pos == start:\n",
    "        break\n",
    "res"
   ]
  },
  {
   "cell_type": "markdown",
   "id": "4971a3f0",
   "metadata": {},
   "source": [
    "Could be made more efficient by tracking the path a pile of sand flows through since the next pile of sand will follow the same path until the last direction choice. This runs in less than a second so not going to bother optimizing at least for now."
   ]
  },
  {
   "cell_type": "code",
   "execution_count": null,
   "id": "3ab5f83a",
   "metadata": {},
   "outputs": [],
   "source": []
  }
 ],
 "metadata": {
  "kernelspec": {
   "display_name": "Python 3 (ipykernel)",
   "language": "python",
   "name": "python3"
  },
  "language_info": {
   "codemirror_mode": {
    "name": "ipython",
    "version": 3
   },
   "file_extension": ".py",
   "mimetype": "text/x-python",
   "name": "python",
   "nbconvert_exporter": "python",
   "pygments_lexer": "ipython3",
   "version": "3.10.12"
  }
 },
 "nbformat": 4,
 "nbformat_minor": 5
}

{
 "cells": [
  {
   "cell_type": "code",
   "execution_count": 1,
   "id": "6eabc14c",
   "metadata": {},
   "outputs": [],
   "source": [
    "from collections import deque, defaultdict, Counter\n",
    "from heapq import heapify, heappush, heappop\n",
    "import numpy as np\n",
    "from copy import deepcopy\n",
    "import math\n",
    "import time\n",
    "from functools import cache, reduce, cmp_to_key\n",
    "import graphviz\n",
    "from itertools import product\n",
    "import matplotlib.pyplot as plt\n",
    "from bisect import bisect_left, bisect_right\n",
    "import json"
   ]
  },
  {
   "cell_type": "code",
   "execution_count": 2,
   "id": "62f0843b",
   "metadata": {},
   "outputs": [
    {
     "data": {
      "text/plain": [
       "(30, ((4, 0, 0), (4, 0, 0), (4, 14, 0), (3, 0, 16)))"
      ]
     },
     "execution_count": 2,
     "metadata": {},
     "output_type": "execute_result"
    }
   ],
   "source": [
    "costs = []\n",
    "\n",
    "with open(\"./data/day19.txt\") as f:\n",
    "    while line := f.readline():\n",
    "        line = line.rstrip().split(': ')[1].split('. ')\n",
    "        ore_robot = (int(line[0].split(' ')[-2]), 0, 0)\n",
    "        clay_robot = (int(line[1].split(' ')[-2]), 0, 0)\n",
    "        obsidian_robot = (int(line[2].split(' ')[-5]), int(line[2].split(' ')[-2]), 0)\n",
    "        geode_robot = (int(line[3].split(' ')[-5]), 0, int(line[3].split(' ')[-2]))\n",
    "        costs.append((ore_robot, clay_robot, obsidian_robot, geode_robot))\n",
    "len(costs), costs[0]"
   ]
  },
  {
   "cell_type": "code",
   "execution_count": 3,
   "id": "323f935d",
   "metadata": {},
   "outputs": [],
   "source": [
    "@cache\n",
    "def dp(ore_bots, clay_bots, obsidian_bots, geode_bots, ore, clay, obsidian, time_left, cost_ind):\n",
    "    if time_left == 1:\n",
    "        return geode_bots\n",
    "    \n",
    "    res = time_left*geode_bots\n",
    "    \n",
    "    bots = (ore_bots, clay_bots, obsidian_bots)\n",
    "    resources = (ore, clay, obsidian)\n",
    "    \n",
    "    rounds = []\n",
    "    for i in range(3):\n",
    "        if resources[i] >= costs[cost_ind][0][i]:\n",
    "            rounds.append(0)\n",
    "            continue\n",
    "        if bots[i] == 0:\n",
    "            rounds.append(math.inf)\n",
    "            continue\n",
    "        rounds.append(math.ceil((costs[cost_ind][0][i]-resources[i])/bots[i]))\n",
    "    rounds = max(rounds)\n",
    "    if rounds < time_left-1 and ore_bots < max([costs[cost_ind][i][0] for i in range(4)]):\n",
    "        res = max(res, (rounds+1)*geode_bots+dp(ore_bots+1, clay_bots, obsidian_bots, geode_bots,\n",
    "                           ore+(rounds+1)*ore_bots-costs[cost_ind][0][0],\n",
    "                           clay+(rounds+1)*clay_bots-costs[cost_ind][0][1],\n",
    "                           obsidian+(rounds+1)*obsidian_bots-costs[cost_ind][0][2],\n",
    "                           time_left-rounds-1, cost_ind))\n",
    "    \n",
    "    rounds = []\n",
    "    for i in range(3):\n",
    "        if resources[i] >= costs[cost_ind][1][i]:\n",
    "            rounds.append(0)\n",
    "            continue\n",
    "        if bots[i] == 0:\n",
    "            rounds.append(math.inf)\n",
    "            continue\n",
    "        rounds.append(math.ceil((costs[cost_ind][1][i]-resources[i])/bots[i]))\n",
    "    rounds = max(rounds)\n",
    "    if rounds < time_left-1 and clay_bots < max([costs[cost_ind][i][1] for i in range(4)]):\n",
    "        res = max(res, (rounds+1)*geode_bots+dp(ore_bots, clay_bots+1, obsidian_bots, geode_bots,\n",
    "                           ore+(rounds+1)*ore_bots-costs[cost_ind][1][0],\n",
    "                           clay+(rounds+1)*clay_bots-costs[cost_ind][1][1],\n",
    "                           obsidian+(rounds+1)*obsidian_bots-costs[cost_ind][1][2],\n",
    "                           time_left-rounds-1, cost_ind))\n",
    "    \n",
    "    rounds = []\n",
    "    for i in range(3):\n",
    "        if resources[i] >= costs[cost_ind][2][i]:\n",
    "            rounds.append(0)\n",
    "            continue\n",
    "        if bots[i] == 0:\n",
    "            rounds.append(math.inf)\n",
    "            continue\n",
    "        rounds.append(math.ceil((costs[cost_ind][2][i]-resources[i])/bots[i]))\n",
    "    rounds = max(rounds)\n",
    "    if rounds < time_left-1 and obsidian_bots < max([costs[cost_ind][i][2] for i in range(4)]):\n",
    "        res = max(res, (rounds+1)*geode_bots+dp(ore_bots, clay_bots, obsidian_bots+1, geode_bots,\n",
    "                           ore+(rounds+1)*ore_bots-costs[cost_ind][2][0],\n",
    "                           clay+(rounds+1)*clay_bots-costs[cost_ind][2][1],\n",
    "                           obsidian+(rounds+1)*obsidian_bots-costs[cost_ind][2][2],\n",
    "                           time_left-rounds-1, cost_ind))\n",
    "    \n",
    "    rounds = []\n",
    "    for i in range(3):\n",
    "        if resources[i] >= costs[cost_ind][3][i]:\n",
    "            rounds.append(0)\n",
    "            continue\n",
    "        if bots[i] == 0:\n",
    "            rounds.append(math.inf)\n",
    "            continue\n",
    "        rounds.append(math.ceil((costs[cost_ind][3][i]-resources[i])/bots[i]))\n",
    "    rounds = max(rounds)\n",
    "    if rounds < time_left-1:\n",
    "        res = max(res, (rounds+1)*geode_bots+dp(ore_bots, clay_bots, obsidian_bots, geode_bots+1,\n",
    "                           ore+(rounds+1)*ore_bots-costs[cost_ind][3][0],\n",
    "                           clay+(rounds+1)*clay_bots-costs[cost_ind][3][1],\n",
    "                           obsidian+(rounds+1)*obsidian_bots-costs[cost_ind][3][2],\n",
    "                           time_left-rounds-1, cost_ind))\n",
    "    \n",
    "    return res"
   ]
  },
  {
   "cell_type": "code",
   "execution_count": 4,
   "id": "5a693316",
   "metadata": {},
   "outputs": [
    {
     "name": "stdout",
     "output_type": "stream",
     "text": [
      "DP results: [0, 1, 0, 0, 1, 2, 2, 11, 0, 12, 0, 0, 0, 0, 0, 3, 0, 2, 3, 5, 2, 2, 4, 1, 9, 12, 3, 0, 4, 0]\n",
      "Part 1 result: 1418\n"
     ]
    }
   ],
   "source": [
    "results = []\n",
    "for i in range(len(costs)):\n",
    "    dp.cache_clear()\n",
    "    results.append(dp(1, 0, 0, 0, 0, 0, 0, 24, i))\n",
    "print('DP results:', results)\n",
    "print('Part 1 result:', sum([(i+1)*x for i, x in enumerate(results)]))"
   ]
  },
  {
   "cell_type": "code",
   "execution_count": 5,
   "id": "df119cbc",
   "metadata": {},
   "outputs": [
    {
     "name": "stdout",
     "output_type": "stream",
     "text": [
      "Starting 1\n",
      "Done with 1 in 3.06s.\n",
      "Starting 2\n",
      "Done with 2 in 8.07s.\n",
      "Starting 3\n",
      "Done with 3 in 6.58s.\n",
      "\n",
      "DP results: [11, 22, 17]\n",
      "Part 2 result: 4114\n"
     ]
    }
   ],
   "source": [
    "results2 = []\n",
    "for i in range(3):\n",
    "    dp.cache_clear()\n",
    "    starttime = time.time()\n",
    "    print('Starting', i+1)\n",
    "    results2.append(dp(1, 0, 0, 0, 0, 0, 0, 32, i))\n",
    "    print(f'Done with {i+1} in {time.time()-starttime:.2f}s.')\n",
    "print()\n",
    "print('DP results:', results2)\n",
    "print('Part 2 result:', math.prod(results2))"
   ]
  },
  {
   "cell_type": "code",
   "execution_count": null,
   "id": "da6390b5",
   "metadata": {},
   "outputs": [],
   "source": []
  }
 ],
 "metadata": {
  "kernelspec": {
   "display_name": "Python 3 (ipykernel)",
   "language": "python",
   "name": "python3"
  },
  "language_info": {
   "codemirror_mode": {
    "name": "ipython",
    "version": 3
   },
   "file_extension": ".py",
   "mimetype": "text/x-python",
   "name": "python",
   "nbconvert_exporter": "python",
   "pygments_lexer": "ipython3",
   "version": "3.10.12"
  }
 },
 "nbformat": 4,
 "nbformat_minor": 5
}

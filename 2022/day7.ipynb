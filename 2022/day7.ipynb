{
 "cells": [
  {
   "cell_type": "code",
   "execution_count": 34,
   "metadata": {},
   "outputs": [],
   "source": [
    "from collections import defaultdict\n",
    "from bisect import bisect_right"
   ]
  },
  {
   "cell_type": "code",
   "execution_count": 59,
   "metadata": {},
   "outputs": [],
   "source": [
    "directories = defaultdict(int)\n",
    "curr = ''\n",
    "with open(\"./data/day7.txt\") as f:\n",
    "    while line := f.readline():\n",
    "        line = line.rstrip().split(' ')\n",
    "        if line[0] == '$':\n",
    "            if line[1] == 'ls':\n",
    "                continue\n",
    "            elif line[1] == 'cd':\n",
    "                if line[2] == '..':\n",
    "                    prev = curr\n",
    "                    curr = curr[:curr.rfind('/')]\n",
    "                    if curr == '':\n",
    "                        curr = '/'\n",
    "                    directories[curr] += directories[prev]\n",
    "                else:\n",
    "                    curr += ('/' if len(curr) > 1 else '') + line[2]\n",
    "            else:\n",
    "                print('Unknown command:', ' '.join(line))\n",
    "                break\n",
    "        elif line[0] == 'dir':\n",
    "            continue\n",
    "        else:\n",
    "            directories[curr] += int(line[0])\n",
    "\n",
    "while curr != '/':\n",
    "    prev = curr\n",
    "    curr = curr[:curr.rfind('/')]\n",
    "    if curr == '':\n",
    "        curr = '/'\n",
    "    directories[curr] += directories[prev]"
   ]
  },
  {
   "cell_type": "code",
   "execution_count": 60,
   "metadata": {},
   "outputs": [
    {
     "data": {
      "text/plain": [
       "(210, 49192532)"
      ]
     },
     "execution_count": 60,
     "metadata": {},
     "output_type": "execute_result"
    }
   ],
   "source": [
    "len(directories), max(directories.values())"
   ]
  },
  {
   "cell_type": "code",
   "execution_count": 61,
   "metadata": {},
   "outputs": [
    {
     "data": {
      "text/plain": [
       "1490523"
      ]
     },
     "execution_count": 61,
     "metadata": {},
     "output_type": "execute_result"
    }
   ],
   "source": [
    "sum([v if v <= 100000 else 0 for v in directories.values()])"
   ]
  },
  {
   "cell_type": "code",
   "execution_count": 62,
   "metadata": {},
   "outputs": [
    {
     "data": {
      "text/plain": [
       "(12390492, '/qcznqph/pdtpt/qtbprrq/sbtl')"
      ]
     },
     "execution_count": 62,
     "metadata": {},
     "output_type": "execute_result"
    }
   ],
   "source": [
    "free_space = 70000000-directories['/']\n",
    "space_needed_to_free = 30000000-free_space\n",
    "dir_sizes = sorted([(v, k) for k, v in directories.items()])\n",
    "ind = bisect_right(dir_sizes, space_needed_to_free, key=lambda x: x[0])\n",
    "dir_sizes[ind]"
   ]
  },
  {
   "cell_type": "code",
   "execution_count": 64,
   "metadata": {},
   "outputs": [
    {
     "data": {
      "text/plain": [
       "33197960"
      ]
     },
     "execution_count": 64,
     "metadata": {},
     "output_type": "execute_result"
    }
   ],
   "source": [
    "free_space+dir_sizes[ind][0]"
   ]
  },
  {
   "cell_type": "code",
   "execution_count": null,
   "metadata": {},
   "outputs": [],
   "source": []
  }
 ],
 "metadata": {
  "kernelspec": {
   "display_name": "Python 3 (ipykernel)",
   "language": "python",
   "name": "python3"
  },
  "language_info": {
   "codemirror_mode": {
    "name": "ipython",
    "version": 3
   },
   "file_extension": ".py",
   "mimetype": "text/x-python",
   "name": "python",
   "nbconvert_exporter": "python",
   "pygments_lexer": "ipython3",
   "version": "3.10.12"
  }
 },
 "nbformat": 4,
 "nbformat_minor": 5
}

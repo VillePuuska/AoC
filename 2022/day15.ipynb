{
 "cells": [
  {
   "cell_type": "code",
   "execution_count": 1,
   "id": "6eabc14c",
   "metadata": {},
   "outputs": [],
   "source": [
    "from collections import deque, defaultdict, Counter\n",
    "from heapq import heapify, heappush, heappop\n",
    "import numpy as np\n",
    "from copy import deepcopy\n",
    "import math\n",
    "import time\n",
    "from functools import cache, reduce, cmp_to_key\n",
    "import graphviz\n",
    "from itertools import product\n",
    "import matplotlib.pyplot as plt\n",
    "from bisect import bisect_left, bisect_right\n",
    "import json"
   ]
  },
  {
   "cell_type": "code",
   "execution_count": 2,
   "id": "62f0843b",
   "metadata": {},
   "outputs": [
    {
     "data": {
      "text/plain": [
       "(36, (489739, 1144461), (-46516, 554951))"
      ]
     },
     "execution_count": 2,
     "metadata": {},
     "output_type": "execute_result"
    }
   ],
   "source": [
    "sensors = []\n",
    "beacons = []\n",
    "\n",
    "with open(\"./data/day15.txt\") as f:\n",
    "    while line := f.readline():\n",
    "        line = line.rstrip().split(': ')\n",
    "        sensor = tuple(map(lambda x: int(x[2:]), line[0].split('at ')[1].split(', ')))\n",
    "        sensors.append(sensor)\n",
    "        beacon = tuple(map(lambda x: int(x[2:]), line[1].split('at ')[1].split(', ')))\n",
    "        beacons.append(beacon)\n",
    "len(sensors), sensors[0], beacons[0]"
   ]
  },
  {
   "cell_type": "code",
   "execution_count": 3,
   "id": "078fe062",
   "metadata": {},
   "outputs": [],
   "source": [
    "def dist(point1, point2):\n",
    "    return sum(map(lambda x: abs(x[0]-x[1]), zip(point1, point2)))"
   ]
  },
  {
   "cell_type": "code",
   "execution_count": 4,
   "id": "5c5abf92",
   "metadata": {},
   "outputs": [
    {
     "data": {
      "text/plain": [
       "5878678"
      ]
     },
     "execution_count": 4,
     "metadata": {},
     "output_type": "execute_result"
    }
   ],
   "source": [
    "y_target = 2000000\n",
    "\n",
    "points = set()\n",
    "for sensor, beacon in zip(sensors, beacons):\n",
    "    d = dist(sensor, beacon)\n",
    "    d2 = abs(sensor[1]-y_target)\n",
    "    for i in range(d-d2+1):\n",
    "        points.add((sensor[0]+i, y_target))\n",
    "        points.add((sensor[0]-i, y_target))\n",
    "points = points.difference(set(beacons))\n",
    "len(points)"
   ]
  },
  {
   "cell_type": "code",
   "execution_count": null,
   "id": "37e127f8",
   "metadata": {},
   "outputs": [],
   "source": []
  }
 ],
 "metadata": {
  "kernelspec": {
   "display_name": "Python 3 (ipykernel)",
   "language": "python",
   "name": "python3"
  },
  "language_info": {
   "codemirror_mode": {
    "name": "ipython",
    "version": 3
   },
   "file_extension": ".py",
   "mimetype": "text/x-python",
   "name": "python",
   "nbconvert_exporter": "python",
   "pygments_lexer": "ipython3",
   "version": "3.10.12"
  }
 },
 "nbformat": 4,
 "nbformat_minor": 5
}

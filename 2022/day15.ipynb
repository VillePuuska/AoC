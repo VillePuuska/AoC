{
 "cells": [
  {
   "cell_type": "code",
   "execution_count": 1,
   "id": "6eabc14c",
   "metadata": {},
   "outputs": [],
   "source": [
    "from collections import deque, defaultdict, Counter\n",
    "from heapq import heapify, heappush, heappop\n",
    "import numpy as np\n",
    "from copy import deepcopy\n",
    "import math\n",
    "import time\n",
    "from functools import cache, reduce, cmp_to_key\n",
    "import graphviz\n",
    "from itertools import product\n",
    "import matplotlib.pyplot as plt\n",
    "from bisect import bisect_left, bisect_right\n",
    "import json"
   ]
  },
  {
   "cell_type": "code",
   "execution_count": 2,
   "id": "62f0843b",
   "metadata": {},
   "outputs": [
    {
     "data": {
      "text/plain": [
       "(36, (489739, 1144461), (-46516, 554951))"
      ]
     },
     "execution_count": 2,
     "metadata": {},
     "output_type": "execute_result"
    }
   ],
   "source": [
    "sensors = []\n",
    "beacons = []\n",
    "\n",
    "with open(\"./data/day15.txt\") as f:\n",
    "    while line := f.readline():\n",
    "        line = line.rstrip().split(': ')\n",
    "        sensor = tuple(map(lambda x: int(x[2:]), line[0].split('at ')[1].split(', ')))\n",
    "        sensors.append(sensor)\n",
    "        beacon = tuple(map(lambda x: int(x[2:]), line[1].split('at ')[1].split(', ')))\n",
    "        beacons.append(beacon)\n",
    "len(sensors), sensors[0], beacons[0]"
   ]
  },
  {
   "cell_type": "code",
   "execution_count": 3,
   "id": "078fe062",
   "metadata": {},
   "outputs": [],
   "source": [
    "def dist(point1, point2):\n",
    "    return sum(map(lambda x: abs(x[0]-x[1]), zip(point1, point2)))"
   ]
  },
  {
   "cell_type": "code",
   "execution_count": 4,
   "id": "5c5abf92",
   "metadata": {},
   "outputs": [
    {
     "data": {
      "text/plain": [
       "5878678"
      ]
     },
     "execution_count": 4,
     "metadata": {},
     "output_type": "execute_result"
    }
   ],
   "source": [
    "y_target = 2000000\n",
    "\n",
    "points = set()\n",
    "for sensor, beacon in zip(sensors, beacons):\n",
    "    d = dist(sensor, beacon)\n",
    "    d2 = abs(sensor[1]-y_target)\n",
    "    for i in range(d-d2+1):\n",
    "        points.add((sensor[0]+i, y_target))\n",
    "        points.add((sensor[0]-i, y_target))\n",
    "points = points.difference(set(beacons))\n",
    "len(points)"
   ]
  },
  {
   "cell_type": "code",
   "execution_count": 5,
   "id": "124f23bf",
   "metadata": {},
   "outputs": [],
   "source": [
    "distances = [dist(sensor, beacon) for sensor, beacon in zip(sensors, beacons)]"
   ]
  },
  {
   "cell_type": "code",
   "execution_count": 6,
   "id": "37e127f8",
   "metadata": {},
   "outputs": [],
   "source": [
    "lim = 4000000\n",
    "\n",
    "# line segment from point11 to point12 has to have slope -1\n",
    "# line segment from point21 to point22 has to have slope 1\n",
    "# first line segment: (x, -x+point11[0]+point11[1])\n",
    "# second line segment: (x, x-point21[0]+point21[1])\n",
    "# intersection: (x, -x+point11[0]+point11[1]) == (x, x-point21[0]+point21[1])\n",
    "# => 2x = point11[0]+point11[1]+point21[0]-point21[1]\n",
    "# => x = (point11[0]+point11[1]+point21[0]-point21[1])/2\n",
    "def intersection(point11, point12, point21, point22):\n",
    "    x = (point11[0]+point11[1]+point21[0]-point21[1])/2\n",
    "    y = -x+point11[0]+point11[1]\n",
    "    if (max(0, point11[0], point21[0]) <= x <= min(lim, point12[0], point22[0])) and (0 <= y <= lim):\n",
    "        return (x, y)\n",
    "    return None"
   ]
  },
  {
   "cell_type": "code",
   "execution_count": 7,
   "id": "3113408e",
   "metadata": {},
   "outputs": [
    {
     "data": {
      "text/plain": [
       "84"
      ]
     },
     "execution_count": 7,
     "metadata": {},
     "output_type": "execute_result"
    }
   ],
   "source": [
    "candidate_points = set()\n",
    "intersection_points = set()\n",
    "for sensor1, distance1 in zip(sensors, distances):\n",
    "    for sensor2, distance2 in zip(sensors, distances):\n",
    "        res = intersection((sensor1[0], sensor1[1]+distance1), (sensor1[0]+distance1, sensor1[1]), (sensor2[0], sensor2[1]-distance2), (sensor2[0]+distance2, sensor2[1]))\n",
    "        if res is None:\n",
    "            continue\n",
    "        intersection_points.add(res)\n",
    "        candidate_points.add((math.ceil(res[0])+1, math.floor(res[1])))\n",
    "        candidate_points.add((math.ceil(res[0])+1, math.ceil(res[1])))\n",
    "len(candidate_points)"
   ]
  },
  {
   "cell_type": "code",
   "execution_count": 8,
   "id": "f558980f",
   "metadata": {},
   "outputs": [
    {
     "data": {
      "text/plain": [
       "(2949122, 3041245)"
      ]
     },
     "execution_count": 8,
     "metadata": {},
     "output_type": "execute_result"
    }
   ],
   "source": [
    "found = None\n",
    "for point in candidate_points:\n",
    "    flag = True\n",
    "    for sensor, distance in zip(sensors, distances):\n",
    "        if dist(point, sensor) <= distance:\n",
    "            flag = False\n",
    "            break\n",
    "    if flag:\n",
    "        found = point\n",
    "        break\n",
    "found"
   ]
  },
  {
   "cell_type": "code",
   "execution_count": 9,
   "id": "136f4ba2",
   "metadata": {},
   "outputs": [
    {
     "data": {
      "text/plain": [
       "11796491041245"
      ]
     },
     "execution_count": 9,
     "metadata": {},
     "output_type": "execute_result"
    }
   ],
   "source": [
    "lim*found[0]+found[1]"
   ]
  },
  {
   "cell_type": "code",
   "execution_count": null,
   "id": "d25b5f8a",
   "metadata": {},
   "outputs": [],
   "source": []
  }
 ],
 "metadata": {
  "kernelspec": {
   "display_name": "Python 3 (ipykernel)",
   "language": "python",
   "name": "python3"
  },
  "language_info": {
   "codemirror_mode": {
    "name": "ipython",
    "version": 3
   },
   "file_extension": ".py",
   "mimetype": "text/x-python",
   "name": "python",
   "nbconvert_exporter": "python",
   "pygments_lexer": "ipython3",
   "version": "3.10.12"
  }
 },
 "nbformat": 4,
 "nbformat_minor": 5
}

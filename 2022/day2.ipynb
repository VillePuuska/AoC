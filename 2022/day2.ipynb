{
 "cells": [
  {
   "cell_type": "code",
   "execution_count": 4,
   "metadata": {},
   "outputs": [],
   "source": [
    "rounds = []\n",
    "with open(\"./data/day2.txt\") as f:\n",
    "    while line := f.readline():\n",
    "        rounds.append(tuple(line.rstrip().split(' ')))"
   ]
  },
  {
   "cell_type": "code",
   "execution_count": 5,
   "metadata": {},
   "outputs": [],
   "source": [
    "choice_map = {'X':1, 'Y':2, 'Z':3}\n",
    "win_draw_loss = {('A','X'):3, ('A','Y'):6, ('A','Z'):0, ('B','X'):0, ('B','Y'):3, ('B','Z'):6, ('C','X'):6, ('C','Y'):0, ('C','Z'):3}"
   ]
  },
  {
   "cell_type": "code",
   "execution_count": 6,
   "metadata": {},
   "outputs": [
    {
     "data": {
      "text/plain": [
       "13526"
      ]
     },
     "execution_count": 6,
     "metadata": {},
     "output_type": "execute_result"
    }
   ],
   "source": [
    "res = 0\n",
    "for r in rounds:\n",
    "    res += choice_map[r[1]]+win_draw_loss[r]\n",
    "res"
   ]
  },
  {
   "cell_type": "code",
   "execution_count": 7,
   "metadata": {},
   "outputs": [],
   "source": [
    "points_per_round = {('A','X'):0+3, ('A','Y'):3+1, ('A','Z'):6+2, ('B','X'):0+1, ('B','Y'):3+2, ('B','Z'):6+3, ('C','X'):0+2, ('C','Y'):3+3, ('C','Z'):6+1}"
   ]
  },
  {
   "cell_type": "code",
   "execution_count": 9,
   "metadata": {},
   "outputs": [
    {
     "data": {
      "text/plain": [
       "14204"
      ]
     },
     "execution_count": 9,
     "metadata": {},
     "output_type": "execute_result"
    }
   ],
   "source": [
    "res = 0\n",
    "for r in rounds:\n",
    "    res += points_per_round[r]\n",
    "res"
   ]
  },
  {
   "cell_type": "code",
   "execution_count": null,
   "metadata": {},
   "outputs": [],
   "source": []
  }
 ],
 "metadata": {
  "kernelspec": {
   "display_name": "Python 3 (ipykernel)",
   "language": "python",
   "name": "python3"
  },
  "language_info": {
   "codemirror_mode": {
    "name": "ipython",
    "version": 3
   },
   "file_extension": ".py",
   "mimetype": "text/x-python",
   "name": "python",
   "nbconvert_exporter": "python",
   "pygments_lexer": "ipython3",
   "version": "3.10.12"
  }
 },
 "nbformat": 4,
 "nbformat_minor": 5
}

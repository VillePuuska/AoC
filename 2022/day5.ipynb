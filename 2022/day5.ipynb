{
 "cells": [
  {
   "cell_type": "code",
   "execution_count": 15,
   "metadata": {},
   "outputs": [],
   "source": [
    "stacks = [[] for _ in range(9)]\n",
    "moves = []\n",
    "with open(\"./data/day5.txt\") as f:\n",
    "    for _ in range(8):\n",
    "        line = f.readline()\n",
    "        for i in range(9):\n",
    "            c = line[4*i+1]\n",
    "            if c != ' ':\n",
    "                stacks[i].append(c)\n",
    "    for i in range(9):\n",
    "        stacks[i] = stacks[i][::-1]\n",
    "    _ = f.readline()\n",
    "    _ = f.readline()\n",
    "    while line := f.readline():\n",
    "        line = line.split(' ')\n",
    "        moves.append([int(line[1]), int(line[3])-1, int(line[5])-1])        "
   ]
  },
  {
   "cell_type": "code",
   "execution_count": 16,
   "metadata": {},
   "outputs": [
    {
     "name": "stdout",
     "output_type": "stream",
     "text": [
      "['R', 'S', 'L', 'F', 'Q']\n",
      "['N', 'Z', 'Q', 'G', 'P', 'T']\n",
      "['S', 'M', 'Q', 'B']\n",
      "['T', 'G', 'Z', 'J', 'H', 'C', 'B', 'Q']\n",
      "['P', 'H', 'M', 'B', 'N', 'F', 'S']\n",
      "['P', 'C', 'Q', 'N', 'S', 'L', 'V', 'G']\n",
      "['W', 'C', 'F']\n",
      "['Q', 'H', 'G', 'Z', 'W', 'V', 'P', 'M']\n",
      "['G', 'Z', 'D', 'L', 'C', 'N', 'R']\n"
     ]
    }
   ],
   "source": [
    "for stack in stacks:\n",
    "    print(stack)"
   ]
  },
  {
   "cell_type": "code",
   "execution_count": 17,
   "metadata": {},
   "outputs": [],
   "source": [
    "def move(source, target):\n",
    "    if stacks[source]:\n",
    "        stacks[target].append(stacks[source].pop())"
   ]
  },
  {
   "cell_type": "code",
   "execution_count": 18,
   "metadata": {},
   "outputs": [],
   "source": [
    "for count, source, target in moves:\n",
    "    for _ in range(count):\n",
    "        move(source, target)"
   ]
  },
  {
   "cell_type": "code",
   "execution_count": 19,
   "metadata": {},
   "outputs": [
    {
     "name": "stdout",
     "output_type": "stream",
     "text": [
      "['R', 'V', 'W', 'P', 'M', 'N', 'G', 'F']\n",
      "['Q', 'B', 'S', 'N', 'M', 'C', 'Q', 'L', 'L', 'P', 'S', 'S', 'B', 'G', 'Z', 'Q', 'Z']\n",
      "['Q', 'Q', 'T', 'N', 'F', 'B', 'C']\n",
      "['M']\n",
      "['J']\n",
      "['Z', 'D', 'F', 'C']\n",
      "['L', 'G', 'Q', 'W', 'H', 'S', 'C', 'V', 'G', 'G', 'H', 'T', 'P', 'P', 'R']\n",
      "['N', 'H']\n",
      "['Z']\n"
     ]
    }
   ],
   "source": [
    "for stack in stacks:\n",
    "    print(stack)"
   ]
  },
  {
   "cell_type": "code",
   "execution_count": 20,
   "metadata": {},
   "outputs": [
    {
     "name": "stdout",
     "output_type": "stream",
     "text": [
      "FZCMJCRHZ\n"
     ]
    }
   ],
   "source": [
    "print(''.join([stack[-1] for stack in stacks]))"
   ]
  },
  {
   "cell_type": "code",
   "execution_count": 21,
   "metadata": {},
   "outputs": [],
   "source": [
    "stacks = [[] for _ in range(9)]\n",
    "with open(\"./data/day5.txt\") as f:\n",
    "    for _ in range(8):\n",
    "        line = f.readline()\n",
    "        for i in range(9):\n",
    "            c = line[4*i+1]\n",
    "            if c != ' ':\n",
    "                stacks[i].append(c)\n",
    "    for i in range(9):\n",
    "        stacks[i] = stacks[i][::-1]"
   ]
  },
  {
   "cell_type": "code",
   "execution_count": 22,
   "metadata": {},
   "outputs": [],
   "source": [
    "def move_better(count, source, target):\n",
    "    stacks[target] += stacks[source][-count:]\n",
    "    stacks[source] = stacks[source][:-count]"
   ]
  },
  {
   "cell_type": "code",
   "execution_count": 23,
   "metadata": {},
   "outputs": [],
   "source": [
    "for count, source, target in moves:\n",
    "    move_better(count, source, target)"
   ]
  },
  {
   "cell_type": "code",
   "execution_count": 24,
   "metadata": {},
   "outputs": [
    {
     "name": "stdout",
     "output_type": "stream",
     "text": [
      "['G', 'Q', 'M', 'C', 'F', 'L', 'P', 'J']\n",
      "['N', 'Z', 'V', 'W', 'T', 'Q', 'V', 'B', 'H', 'H', 'B', 'N', 'G', 'N', 'C', 'R', 'S']\n",
      "['P', 'R', 'G', 'Q', 'G', 'P', 'D']\n",
      "['H']\n",
      "['Q']\n",
      "['T', 'F', 'C', 'M']\n",
      "['Q', 'N', 'Z', 'S', 'P', 'M', 'C', 'S', 'B', 'Q', 'L', 'S', 'Z', 'L', 'Z']\n",
      "['W', 'G']\n",
      "['F']\n",
      "JSDHQMZGF\n"
     ]
    }
   ],
   "source": [
    "for stack in stacks:\n",
    "    print(stack)\n",
    "print(''.join([stack[-1] for stack in stacks]))"
   ]
  },
  {
   "cell_type": "code",
   "execution_count": null,
   "metadata": {},
   "outputs": [],
   "source": []
  }
 ],
 "metadata": {
  "kernelspec": {
   "display_name": "Python 3 (ipykernel)",
   "language": "python",
   "name": "python3"
  },
  "language_info": {
   "codemirror_mode": {
    "name": "ipython",
    "version": 3
   },
   "file_extension": ".py",
   "mimetype": "text/x-python",
   "name": "python",
   "nbconvert_exporter": "python",
   "pygments_lexer": "ipython3",
   "version": "3.10.12"
  }
 },
 "nbformat": 4,
 "nbformat_minor": 5
}

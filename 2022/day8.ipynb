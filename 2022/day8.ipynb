{
 "cells": [
  {
   "cell_type": "code",
   "execution_count": 39,
   "metadata": {},
   "outputs": [],
   "source": [
    "from itertools import product"
   ]
  },
  {
   "cell_type": "code",
   "execution_count": 12,
   "metadata": {},
   "outputs": [],
   "source": [
    "trees = []\n",
    "with open(\"./data/day8.txt\") as f:\n",
    "    while line := f.readline():\n",
    "        line = list(line.rstrip())\n",
    "        trees.append(list(map(int, line)))"
   ]
  },
  {
   "cell_type": "code",
   "execution_count": 13,
   "metadata": {},
   "outputs": [
    {
     "data": {
      "text/plain": [
       "([2, 1, 1, 2, 1, 2, 2, 2, 2, 0], 99, 99)"
      ]
     },
     "execution_count": 13,
     "metadata": {},
     "output_type": "execute_result"
    }
   ],
   "source": [
    "trees[0][:10], len(trees[0]), len(trees)"
   ]
  },
  {
   "cell_type": "code",
   "execution_count": 14,
   "metadata": {},
   "outputs": [],
   "source": [
    "visible = [[False]*len(trees[0]) for _ in range(len(trees))]"
   ]
  },
  {
   "cell_type": "code",
   "execution_count": 15,
   "metadata": {},
   "outputs": [],
   "source": [
    "# Top to bottom\n",
    "for col in range(len(trees[0])):\n",
    "    prev_max = -1\n",
    "    for row in range(len(trees)):\n",
    "        if trees[row][col] > prev_max:\n",
    "            visible[row][col] = True\n",
    "            prev_max = trees[row][col]"
   ]
  },
  {
   "cell_type": "code",
   "execution_count": 16,
   "metadata": {},
   "outputs": [],
   "source": [
    "# Bottom to top\n",
    "for col in range(len(trees[0])):\n",
    "    prev_max = -1\n",
    "    for row in range(len(trees)-1, -1, -1):\n",
    "        if trees[row][col] > prev_max:\n",
    "            visible[row][col] = True\n",
    "            prev_max = trees[row][col]"
   ]
  },
  {
   "cell_type": "code",
   "execution_count": 17,
   "metadata": {},
   "outputs": [],
   "source": [
    "# Left to right\n",
    "for row in range(len(trees)):\n",
    "    prev_max = -1\n",
    "    for col in range(len(trees[0])):\n",
    "        if trees[row][col] > prev_max:\n",
    "            visible[row][col] = True\n",
    "            prev_max = trees[row][col]"
   ]
  },
  {
   "cell_type": "code",
   "execution_count": 18,
   "metadata": {},
   "outputs": [],
   "source": [
    "# Right to left\n",
    "for row in range(len(trees)):\n",
    "    prev_max = -1\n",
    "    for col in range(len(trees[0])-1, -1, -1):\n",
    "        if trees[row][col] > prev_max:\n",
    "            visible[row][col] = True\n",
    "            prev_max = trees[row][col]"
   ]
  },
  {
   "cell_type": "code",
   "execution_count": 19,
   "metadata": {},
   "outputs": [
    {
     "data": {
      "text/plain": [
       "1794"
      ]
     },
     "execution_count": 19,
     "metadata": {},
     "output_type": "execute_result"
    }
   ],
   "source": [
    "sum([sum(row) for row in visible])"
   ]
  },
  {
   "cell_type": "code",
   "execution_count": 37,
   "metadata": {},
   "outputs": [],
   "source": [
    "def score(row, col):\n",
    "    height = trees[row][col]\n",
    "    up = 0\n",
    "    for i in range(row-1, -1, -1):\n",
    "        up += 1\n",
    "        if trees[i][col] >= height:\n",
    "            break\n",
    "    down = 0\n",
    "    for i in range(row+1, len(trees)):\n",
    "        down += 1\n",
    "        if trees[i][col] >= height:\n",
    "            break\n",
    "    right = 0\n",
    "    for i in range(col+1, len(trees[0])):\n",
    "        right += 1\n",
    "        if trees[row][i] >= height:\n",
    "            break\n",
    "    left = 0\n",
    "    for i in range(col-1, -1, -1):\n",
    "        left += 1\n",
    "        if trees[row][i] >= height:\n",
    "            break\n",
    "    return up*down*right*left"
   ]
  },
  {
   "cell_type": "code",
   "execution_count": 42,
   "metadata": {},
   "outputs": [
    {
     "data": {
      "text/plain": [
       "(9801, 199272)"
      ]
     },
     "execution_count": 42,
     "metadata": {},
     "output_type": "execute_result"
    }
   ],
   "source": [
    "scores = [score(i, j) for (i, j) in product(range(len(trees)), range(len(trees[0])))]\n",
    "len(scores), max(scores)"
   ]
  },
  {
   "cell_type": "code",
   "execution_count": null,
   "metadata": {},
   "outputs": [],
   "source": []
  }
 ],
 "metadata": {
  "kernelspec": {
   "display_name": "Python 3 (ipykernel)",
   "language": "python",
   "name": "python3"
  },
  "language_info": {
   "codemirror_mode": {
    "name": "ipython",
    "version": 3
   },
   "file_extension": ".py",
   "mimetype": "text/x-python",
   "name": "python",
   "nbconvert_exporter": "python",
   "pygments_lexer": "ipython3",
   "version": "3.10.12"
  }
 },
 "nbformat": 4,
 "nbformat_minor": 5
}

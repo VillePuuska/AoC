{
 "cells": [
  {
   "cell_type": "code",
   "execution_count": 6,
   "metadata": {},
   "outputs": [],
   "source": [
    "import numpy as np"
   ]
  },
  {
   "cell_type": "code",
   "execution_count": 7,
   "metadata": {},
   "outputs": [],
   "source": [
    "move_map = {'U':np.array((1, 0)), 'D':np.array((-1, 0)), 'R':np.array((0, 1)), 'L':np.array((0, -1))}\n",
    "moves = []\n",
    "\n",
    "with open(\"./data/day9.txt\") as f:\n",
    "    while line := f.readline():\n",
    "        line = line.rstrip().split(' ')\n",
    "        moves += [move_map[line[0]]]*int(line[1])"
   ]
  },
  {
   "cell_type": "code",
   "execution_count": 8,
   "metadata": {},
   "outputs": [
    {
     "data": {
      "text/plain": [
       "11279"
      ]
     },
     "execution_count": 8,
     "metadata": {},
     "output_type": "execute_result"
    }
   ],
   "source": [
    "len(moves)"
   ]
  },
  {
   "cell_type": "code",
   "execution_count": 9,
   "metadata": {},
   "outputs": [],
   "source": [
    "def does_tail_move(tail, head):\n",
    "    return abs(tail[0]-head[0]) > 1 or abs(tail[1]-head[1]) > 1"
   ]
  },
  {
   "cell_type": "code",
   "execution_count": 13,
   "metadata": {},
   "outputs": [
    {
     "data": {
      "text/plain": [
       "5874"
      ]
     },
     "execution_count": 13,
     "metadata": {},
     "output_type": "execute_result"
    }
   ],
   "source": [
    "tail, head = np.array((0, 0)), np.array((0, 0))\n",
    "locations = set([tuple(tail)])\n",
    "for move in moves:\n",
    "    if does_tail_move(tail, head+move):\n",
    "        tail = head.copy()\n",
    "        locations.add(tuple(tail))\n",
    "    head += move\n",
    "len(locations)"
   ]
  },
  {
   "cell_type": "code",
   "execution_count": 25,
   "metadata": {},
   "outputs": [],
   "source": [
    "def get_move(tail, head):\n",
    "    if abs(tail[0]-head[0]) <= 1 and abs(tail[1]-head[1]) <= 1:\n",
    "        return np.array((0, 0))\n",
    "    if abs(tail[0]-head[0]) == 0:\n",
    "        return np.array((0, (1 if tail[1] < head[1] else -1)))\n",
    "    if abs(tail[1]-head[1]) == 0:\n",
    "        return np.array(((1 if tail[0] < head[0] else -1), 0))\n",
    "    return np.array(((1 if tail[0] < head[0] else -1), (1 if tail[1] < head[1] else -1)))"
   ]
  },
  {
   "cell_type": "code",
   "execution_count": 27,
   "metadata": {},
   "outputs": [
    {
     "data": {
      "text/plain": [
       "2467"
      ]
     },
     "execution_count": 27,
     "metadata": {},
     "output_type": "execute_result"
    }
   ],
   "source": [
    "knots = [np.array((0, 0)) for _ in range(10)]\n",
    "locations = set([tuple(knots[-1])])\n",
    "for move in moves:\n",
    "    knots[0] += move\n",
    "    for i in range(1, 10):\n",
    "        knots[i] += get_move(knots[i], knots[i-1])\n",
    "    locations.add(tuple(knots[-1]))\n",
    "len(locations)"
   ]
  },
  {
   "cell_type": "code",
   "execution_count": null,
   "metadata": {},
   "outputs": [],
   "source": []
  }
 ],
 "metadata": {
  "kernelspec": {
   "display_name": "Python 3 (ipykernel)",
   "language": "python",
   "name": "python3"
  },
  "language_info": {
   "codemirror_mode": {
    "name": "ipython",
    "version": 3
   },
   "file_extension": ".py",
   "mimetype": "text/x-python",
   "name": "python",
   "nbconvert_exporter": "python",
   "pygments_lexer": "ipython3",
   "version": "3.10.12"
  }
 },
 "nbformat": 4,
 "nbformat_minor": 5
}

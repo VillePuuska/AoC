{
 "cells": [
  {
   "cell_type": "code",
   "execution_count": 1,
   "id": "6eabc14c",
   "metadata": {},
   "outputs": [],
   "source": [
    "from collections import deque, defaultdict, Counter\n",
    "from heapq import heapify, heappush, heappop\n",
    "import numpy as np\n",
    "from copy import deepcopy\n",
    "import math\n",
    "import time\n",
    "from functools import cache, reduce\n",
    "import graphviz\n",
    "from itertools import product\n",
    "import matplotlib.pyplot as plt\n",
    "from bisect import bisect_left, bisect_right\n",
    "import json"
   ]
  },
  {
   "cell_type": "code",
   "execution_count": 2,
   "id": "62f0843b",
   "metadata": {},
   "outputs": [
    {
     "data": {
      "text/plain": [
       "(150,\n",
       " [[[[[], [7, 10, 6, 5], [], [8]], 0, 1, [[8, 10]], 4],\n",
       "   [[[4, 0, 3, 2, 0]], 7],\n",
       "   [[], 3, [[0, 2], 8, 5], [], [[2, 10, 4, 6]]],\n",
       "   [3],\n",
       "   [5, [1, [8, 0], 10, 1, [4, 3, 9, 9]], 1]],\n",
       "  [[0, 2, 7], [], [10, [[0, 7, 3, 6]]], [2, [8], 3]]])"
      ]
     },
     "execution_count": 2,
     "metadata": {},
     "output_type": "execute_result"
    }
   ],
   "source": [
    "pairs = []\n",
    "\n",
    "with open(\"./data/day13.txt\") as f:\n",
    "    lines = f.read()\n",
    "    for two_lines in lines.split('\\n\\n'):\n",
    "        two_lines = two_lines.split('\\n')\n",
    "        pairs.append([json.loads(two_lines[0]), json.loads(two_lines[1])])\n",
    "len(pairs), pairs[0]"
   ]
  },
  {
   "cell_type": "code",
   "execution_count": 3,
   "id": "6cdc5797",
   "metadata": {},
   "outputs": [],
   "source": [
    "def compare(first, second):\n",
    "    if isinstance(first, int) and isinstance(second, int):\n",
    "        return -1 if first < second else 0 if first == second else 1\n",
    "    if not isinstance(first, list):\n",
    "        first = [first,]\n",
    "    if not isinstance(second, list):\n",
    "        second = [second,]\n",
    "    for f, s in zip(first, second):\n",
    "        res = compare(f, s)\n",
    "        if res != 0:\n",
    "            return res\n",
    "    return -1 if len(first) < len(second) else 0 if len(first) == len(second) else 1"
   ]
  },
  {
   "cell_type": "code",
   "execution_count": 4,
   "id": "8470b722",
   "metadata": {},
   "outputs": [
    {
     "data": {
      "text/plain": [
       "5882"
      ]
     },
     "execution_count": 4,
     "metadata": {},
     "output_type": "execute_result"
    }
   ],
   "source": [
    "res = []\n",
    "for i, (first, second) in enumerate(pairs):\n",
    "    if compare(first, second) == -1:\n",
    "        res.append(i+1)\n",
    "sum(res)"
   ]
  },
  {
   "cell_type": "code",
   "execution_count": null,
   "id": "31d65b89",
   "metadata": {},
   "outputs": [],
   "source": []
  }
 ],
 "metadata": {
  "kernelspec": {
   "display_name": "Python 3 (ipykernel)",
   "language": "python",
   "name": "python3"
  },
  "language_info": {
   "codemirror_mode": {
    "name": "ipython",
    "version": 3
   },
   "file_extension": ".py",
   "mimetype": "text/x-python",
   "name": "python",
   "nbconvert_exporter": "python",
   "pygments_lexer": "ipython3",
   "version": "3.10.12"
  }
 },
 "nbformat": 4,
 "nbformat_minor": 5
}

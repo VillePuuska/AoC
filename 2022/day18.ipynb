{
 "cells": [
  {
   "cell_type": "code",
   "execution_count": 1,
   "id": "6eabc14c",
   "metadata": {},
   "outputs": [],
   "source": [
    "from collections import deque, defaultdict, Counter\n",
    "from heapq import heapify, heappush, heappop\n",
    "import numpy as np\n",
    "from copy import deepcopy\n",
    "import math\n",
    "import time\n",
    "from functools import cache, reduce, cmp_to_key\n",
    "import graphviz\n",
    "from itertools import product\n",
    "import matplotlib.pyplot as plt\n",
    "from bisect import bisect_left, bisect_right\n",
    "import json"
   ]
  },
  {
   "cell_type": "code",
   "execution_count": 2,
   "id": "62f0843b",
   "metadata": {},
   "outputs": [
    {
     "data": {
      "text/plain": [
       "(2686, (8, 17, 5))"
      ]
     },
     "execution_count": 2,
     "metadata": {},
     "output_type": "execute_result"
    }
   ],
   "source": [
    "cubes = []\n",
    "\n",
    "with open(\"./data/day18.txt\") as f:\n",
    "    while line := f.readline():\n",
    "        line = line.rstrip()\n",
    "        cubes.append(tuple(map(int, line.split(','))))\n",
    "len(cubes), cubes[0]"
   ]
  },
  {
   "cell_type": "code",
   "execution_count": 3,
   "id": "a498c037",
   "metadata": {},
   "outputs": [
    {
     "data": {
      "text/plain": [
       "4604"
      ]
     },
     "execution_count": 3,
     "metadata": {},
     "output_type": "execute_result"
    }
   ],
   "source": [
    "cube_set = set(cubes)\n",
    "\n",
    "res = 0\n",
    "for x, y, z in cubes:\n",
    "    for i in [-1, 1]:\n",
    "        res += (x+i, y, z) not in cube_set\n",
    "        res += (x, y+i, z) not in cube_set\n",
    "        res += (x, y, z+i) not in cube_set\n",
    "res"
   ]
  },
  {
   "cell_type": "code",
   "execution_count": 4,
   "id": "ce007d99",
   "metadata": {},
   "outputs": [
    {
     "name": "stdout",
     "output_type": "stream",
     "text": [
      "x range: 1 20\n",
      "y range: 0 21\n",
      "z range: 0 21\n"
     ]
    }
   ],
   "source": [
    "min_x, max_x = min(cubes, key=lambda x: x[0])[0], max(cubes, key=lambda x: x[0])[0]\n",
    "min_y, max_y = min(cubes, key=lambda x: x[1])[1], max(cubes, key=lambda x: x[1])[1]\n",
    "min_z, max_z = min(cubes, key=lambda x: x[2])[2], max(cubes, key=lambda x: x[2])[2]\n",
    "\n",
    "print('x range:', min_x, max_x)\n",
    "print('y range:', min_y, max_y)\n",
    "print('z range:', min_z, max_z)"
   ]
  },
  {
   "cell_type": "code",
   "execution_count": 5,
   "id": "9beef306",
   "metadata": {},
   "outputs": [
    {
     "data": {
      "text/plain": [
       "8491"
      ]
     },
     "execution_count": 5,
     "metadata": {},
     "output_type": "execute_result"
    }
   ],
   "source": [
    "outside = set()\n",
    "q = []\n",
    "\n",
    "outside.add((min_x-1, min_y-1, min_z-1))\n",
    "q.append((min_x-1, min_y-1, min_z-1))\n",
    "while q:\n",
    "    x, y, z = q.pop()\n",
    "    for i in [-1, 1]:\n",
    "        if x+i in range(min_x-1, max_x+2) and (x+i, y, z) not in cube_set and (x+i, y, z) not in outside:\n",
    "            outside.add((x+i, y, z))\n",
    "            q.append((x+i, y, z))\n",
    "        if y+i in range(min_y-1, max_y+2) and (x, y+i, z) not in cube_set and (x, y+i, z) not in outside:\n",
    "            outside.add((x, y+i, z))\n",
    "            q.append((x, y+i, z))\n",
    "        if z+i in range(min_z-1, max_z+2) and (x, y, z+i) not in cube_set and (x, y, z+i) not in outside:\n",
    "            outside.add((x, y, z+i))\n",
    "            q.append((x, y, z+i))\n",
    "len(outside)"
   ]
  },
  {
   "cell_type": "code",
   "execution_count": 6,
   "id": "3e313922",
   "metadata": {},
   "outputs": [
    {
     "data": {
      "text/plain": [
       "2604"
      ]
     },
     "execution_count": 6,
     "metadata": {},
     "output_type": "execute_result"
    }
   ],
   "source": [
    "res = 0\n",
    "for x, y, z in cubes:\n",
    "    for i in [-1, 1]:\n",
    "        res += (x+i, y, z) in outside\n",
    "        res += (x, y+i, z) in outside\n",
    "        res += (x, y, z+i) in outside\n",
    "res"
   ]
  },
  {
   "cell_type": "code",
   "execution_count": null,
   "id": "9a13e8fb",
   "metadata": {},
   "outputs": [],
   "source": []
  }
 ],
 "metadata": {
  "kernelspec": {
   "display_name": "Python 3 (ipykernel)",
   "language": "python",
   "name": "python3"
  },
  "language_info": {
   "codemirror_mode": {
    "name": "ipython",
    "version": 3
   },
   "file_extension": ".py",
   "mimetype": "text/x-python",
   "name": "python",
   "nbconvert_exporter": "python",
   "pygments_lexer": "ipython3",
   "version": "3.10.12"
  }
 },
 "nbformat": 4,
 "nbformat_minor": 5
}

{
 "cells": [
  {
   "cell_type": "code",
   "execution_count": 1,
   "id": "6eabc14c",
   "metadata": {},
   "outputs": [],
   "source": [
    "from collections import deque, defaultdict, Counter\n",
    "from heapq import heapify, heappush, heappop\n",
    "import numpy as np\n",
    "from copy import deepcopy\n",
    "import math\n",
    "import time\n",
    "from functools import cache, reduce, cmp_to_key\n",
    "import graphviz\n",
    "from itertools import product\n",
    "import matplotlib.pyplot as plt\n",
    "from bisect import bisect_left, bisect_right\n",
    "import json"
   ]
  },
  {
   "cell_type": "code",
   "execution_count": 2,
   "id": "62f0843b",
   "metadata": {},
   "outputs": [],
   "source": [
    "grid = []\n",
    "row_limits = []\n",
    "col_limits = []\n",
    "\n",
    "instructions = []\n",
    "\n",
    "with open(\"./data/day22.txt\") as f:\n",
    "    grid_data, instructions_data = f.read().split('\\n\\n')\n",
    "\n",
    "for row in grid_data.split('\\n'):\n",
    "    row = row.rstrip()\n",
    "    min_col, max_col = row.count(' '), len(row)-1\n",
    "    grid.append(row)\n",
    "    row_limits.append((min_col, max_col))\n",
    "\n",
    "for col_ind in range(max(map(len, grid))):\n",
    "    col = ''.join([grid[i][col_ind] if col_ind < len(grid[i]) else ' ' for i in range(len(grid))]).rstrip()\n",
    "    min_row, max_row = col.count(' '), len(col)-1\n",
    "    col_limits.append((min_row, max_row))\n",
    "\n",
    "instructions_data = instructions_data.replace('R', ' R ').replace('L', ' L ').split(' ')\n",
    "for inst in instructions_data:\n",
    "    try:\n",
    "        instructions.append(int(inst))\n",
    "    except ValueError:\n",
    "        instructions.append(inst)"
   ]
  },
  {
   "cell_type": "code",
   "execution_count": 3,
   "id": "685ba7de",
   "metadata": {},
   "outputs": [],
   "source": [
    "def move(position, direction, count):\n",
    "    if direction[0] != 0:\n",
    "        limits = (col_limits[position[1]][0], col_limits[position[1]][1])\n",
    "    else:\n",
    "        limits = (row_limits[position[0]][0], row_limits[position[0]][1])\n",
    "    for _ in range(count):\n",
    "        if direction[0] != 0:\n",
    "            next_position = [position[0]+direction[0], position[1]]\n",
    "            if next_position[0] < limits[0]:\n",
    "                next_position[0] = limits[1]\n",
    "            elif next_position[0] > limits[1]:\n",
    "                next_position[0] = limits[0]\n",
    "        else:\n",
    "            next_position = [position[0], position[1]+direction[1]]\n",
    "            if next_position[1] < limits[0]:\n",
    "                next_position[1] = limits[1]\n",
    "            elif next_position[1] > limits[1]:\n",
    "                next_position[1] = limits[0]\n",
    "        if grid[next_position[0]][next_position[1]] == '#':\n",
    "            break\n",
    "        position = next_position\n",
    "    return position"
   ]
  },
  {
   "cell_type": "code",
   "execution_count": 4,
   "id": "a077ba30",
   "metadata": {},
   "outputs": [],
   "source": [
    "def turn(direction, char):\n",
    "    if char == 'R':\n",
    "        return [direction[1], -direction[0]]\n",
    "    return [-direction[1], direction[0]]"
   ]
  },
  {
   "cell_type": "code",
   "execution_count": 5,
   "id": "ff71bf0f",
   "metadata": {},
   "outputs": [
    {
     "data": {
      "text/plain": [
       "([42, 115], [0, -1])"
      ]
     },
     "execution_count": 5,
     "metadata": {},
     "output_type": "execute_result"
    }
   ],
   "source": [
    "position = [0, row_limits[0][0]]\n",
    "direction = [0, 1]\n",
    "\n",
    "for inst in instructions:\n",
    "    if isinstance(inst, int):\n",
    "        position = move(position, direction, inst)\n",
    "    else:\n",
    "        direction = turn(direction, inst)\n",
    "\n",
    "position, direction"
   ]
  },
  {
   "cell_type": "code",
   "execution_count": 6,
   "id": "cd87754f",
   "metadata": {},
   "outputs": [
    {
     "data": {
      "text/plain": [
       "43466"
      ]
     },
     "execution_count": 6,
     "metadata": {},
     "output_type": "execute_result"
    }
   ],
   "source": [
    "part1 = (position[0]+1)*1000 + (position[1]+1)*4 + (0 if direction == [0, 1]\n",
    "                                                    else 1 if direction == [1, 0]\n",
    "                                                    else 2 if direction == [0, -1]\n",
    "                                                    else 3)\n",
    "part1"
   ]
  },
  {
   "cell_type": "markdown",
   "id": "542749d6",
   "metadata": {},
   "source": [
    "# Part 2\n",
    "\n",
    "I guess the shape of the cube might not be the same for everyone since at least mine is different than the example. Here is my shape:"
   ]
  },
  {
   "cell_type": "code",
   "execution_count": 7,
   "id": "90b9ae37",
   "metadata": {},
   "outputs": [],
   "source": [
    "#      .1......2.\n",
    "#      6........3\n",
    "#      ..........\n",
    "#      ..........\n",
    "#      ........4.\n",
    "#      .....\n",
    "#      7....\n",
    "#      .....\n",
    "#      ....4\n",
    "#      .....\n",
    "# .7........\n",
    "# ..........\n",
    "# ..........\n",
    "# 6........3\n",
    "# ........5.\n",
    "# .....\n",
    "# 1....\n",
    "# .....\n",
    "# ....5\n",
    "# ...2."
   ]
  },
  {
   "cell_type": "markdown",
   "id": "20b3b953",
   "metadata": {},
   "source": [
    "The numbers indicate exactly how the sides are connected. I'll just write a function that has these connections hardcoded to compute the new position whenever we need to wrap around the cube."
   ]
  },
  {
   "cell_type": "code",
   "execution_count": 8,
   "id": "21092604",
   "metadata": {},
   "outputs": [],
   "source": [
    "def wrap(position, direction):\n",
    "    row, col = position\n",
    "    if row == -1 and col in range(50, 100) and direction == [-1, 0]: # 1\n",
    "        new_row = 100+col\n",
    "        new_col = 0\n",
    "        new_direction = [0, 1]\n",
    "    elif row == -1 and col in range(100, 150) and direction == [-1, 0]: # 2\n",
    "        new_row = 199\n",
    "        new_col = col-100\n",
    "        new_direction = [-1, 0]\n",
    "    elif row in range(0, 50) and col == 150 and direction == [0, 1]: # 3\n",
    "        new_row = 149-row\n",
    "        new_col = 99\n",
    "        new_direction = [0, -1]\n",
    "    elif row == 50 and col in range(100, 150) and direction == [1, 0]: # 4\n",
    "        new_row = 99-(149-col)\n",
    "        new_col = 99\n",
    "        new_direction = [0, -1]\n",
    "    elif row in range(50, 100) and col == 100 and direction == [0, 1]: # 4\n",
    "        new_row = 49\n",
    "        new_col = 149-(99-row)\n",
    "        new_direction = [-1, 0]\n",
    "    elif row in range(100, 150) and col == 100 and direction == [0, 1]: # 3\n",
    "        new_row = 149-row\n",
    "        new_col = 149\n",
    "        new_direction = [0, -1]\n",
    "    elif row == 150 and col in range(50, 100) and direction == [1, 0]: # 5\n",
    "        new_row = 199-(99-col)\n",
    "        new_col = 49\n",
    "        new_direction = [0, -1]\n",
    "    elif row in range(150, 200) and col == 50 and direction == [0, 1]: # 5\n",
    "        new_row = 149\n",
    "        new_col = 99-(199-row)\n",
    "        new_direction = [-1, 0]\n",
    "    elif row == 200 and col in range(0, 50) and direction == [1, 0]: # 2\n",
    "        new_row = 0\n",
    "        new_col = 100+col\n",
    "        new_direction = [1, 0]\n",
    "    elif row in range(150, 200) and col == -1 and direction == [0, -1]: # 1\n",
    "        new_row = 0\n",
    "        new_col = row-100\n",
    "        new_direction = [1, 0]\n",
    "    elif row in range(100, 150) and col == -1 and direction == [0, -1]: # 6\n",
    "        new_row = 149-row\n",
    "        new_col = 50\n",
    "        new_direction = [0, 1]\n",
    "    elif row == 99 and col in range(0, 50) and direction == [-1, 0]: # 7\n",
    "        new_row = 50+col\n",
    "        new_col = 50\n",
    "        new_direction = [0, 1]\n",
    "    elif row in range(50, 100) and col == 49 and direction == [0, -1]: # 7\n",
    "        new_row = 100\n",
    "        new_col = row-50\n",
    "        new_direction = [1, 0]\n",
    "    elif row in range(0, 50) and col == 49 and direction == [0, -1]: # 6\n",
    "        new_row = 149-row\n",
    "        new_col = 0\n",
    "        new_direction = [0, 1]\n",
    "    else:\n",
    "        print(position, direction)\n",
    "        raise Exception('Off the grid in an unexpected way.')\n",
    "    return [new_row, new_col], new_direction"
   ]
  },
  {
   "cell_type": "code",
   "execution_count": 9,
   "id": "0b8b4493",
   "metadata": {},
   "outputs": [],
   "source": [
    "def move2(position, direction, count):\n",
    "    for _ in range(count):\n",
    "        next_direction = direction\n",
    "        \n",
    "        if direction[0] != 0:\n",
    "            limits = (col_limits[position[1]][0], col_limits[position[1]][1])\n",
    "        else:\n",
    "            limits = (row_limits[position[0]][0], row_limits[position[0]][1])\n",
    "\n",
    "        if direction[0] != 0:\n",
    "            next_position = [position[0]+direction[0], position[1]]\n",
    "            if next_position[0] < limits[0]:\n",
    "                next_position, next_direction = wrap(next_position, direction)\n",
    "            elif next_position[0] > limits[1]:\n",
    "                next_position, next_direction = wrap(next_position, direction)\n",
    "        else:\n",
    "            next_position = [position[0], position[1]+direction[1]]\n",
    "            if next_position[1] < limits[0]:\n",
    "                next_position, next_direction = wrap(next_position, direction)\n",
    "            elif next_position[1] > limits[1]:\n",
    "                next_position, next_direction = wrap(next_position, direction)\n",
    "\n",
    "        if grid[next_position[0]][next_position[1]] == '#':\n",
    "            break\n",
    "\n",
    "        position = next_position\n",
    "        direction = next_direction\n",
    "\n",
    "    return position, direction"
   ]
  },
  {
   "cell_type": "code",
   "execution_count": 10,
   "id": "5297efa5",
   "metadata": {},
   "outputs": [
    {
     "data": {
      "text/plain": [
       "([161, 37], [-1, 0])"
      ]
     },
     "execution_count": 10,
     "metadata": {},
     "output_type": "execute_result"
    }
   ],
   "source": [
    "position = [0, row_limits[0][0]]\n",
    "direction = [0, 1]\n",
    "\n",
    "for inst in instructions:\n",
    "    if isinstance(inst, int):\n",
    "        position, direction = move2(position, direction, inst)\n",
    "    else:\n",
    "        direction = turn(direction, inst)\n",
    "\n",
    "position, direction"
   ]
  },
  {
   "cell_type": "code",
   "execution_count": 11,
   "id": "5b7c418c",
   "metadata": {},
   "outputs": [
    {
     "data": {
      "text/plain": [
       "162155"
      ]
     },
     "execution_count": 11,
     "metadata": {},
     "output_type": "execute_result"
    }
   ],
   "source": [
    "part2 = (position[0]+1)*1000 + (position[1]+1)*4 + (0 if direction == [0, 1]\n",
    "                                                    else 1 if direction == [1, 0]\n",
    "                                                    else 2 if direction == [0, -1]\n",
    "                                                    else 3)\n",
    "part2"
   ]
  },
  {
   "cell_type": "code",
   "execution_count": null,
   "id": "99234638",
   "metadata": {},
   "outputs": [],
   "source": []
  }
 ],
 "metadata": {
  "kernelspec": {
   "display_name": "Python 3 (ipykernel)",
   "language": "python",
   "name": "python3"
  },
  "language_info": {
   "codemirror_mode": {
    "name": "ipython",
    "version": 3
   },
   "file_extension": ".py",
   "mimetype": "text/x-python",
   "name": "python",
   "nbconvert_exporter": "python",
   "pygments_lexer": "ipython3",
   "version": "3.10.12"
  }
 },
 "nbformat": 4,
 "nbformat_minor": 5
}

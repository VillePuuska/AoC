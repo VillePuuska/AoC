{
 "cells": [
  {
   "cell_type": "code",
   "execution_count": 1,
   "id": "6eabc14c",
   "metadata": {},
   "outputs": [],
   "source": [
    "from collections import deque, defaultdict, Counter\n",
    "from heapq import heapify, heappush, heappop\n",
    "import numpy as np\n",
    "from copy import deepcopy\n",
    "import math\n",
    "import time\n",
    "from functools import cache, reduce, cmp_to_key\n",
    "import graphviz\n",
    "from itertools import product\n",
    "import matplotlib.pyplot as plt\n",
    "from bisect import bisect_left, bisect_right\n",
    "import json"
   ]
  },
  {
   "cell_type": "code",
   "execution_count": 2,
   "id": "62f0843b",
   "metadata": {},
   "outputs": [],
   "source": [
    "grid = []\n",
    "row_limits = []\n",
    "col_limits = []\n",
    "\n",
    "instructions = []\n",
    "\n",
    "with open(\"./data/day22.txt\") as f:\n",
    "    grid_data, instructions_data = f.read().split('\\n\\n')\n",
    "\n",
    "for row in grid_data.split('\\n'):\n",
    "    row = row.rstrip()\n",
    "    min_col, max_col = row.count(' '), len(row)-1\n",
    "    grid.append(row)\n",
    "    row_limits.append((min_col, max_col))\n",
    "\n",
    "for col_ind in range(max(map(len, grid))):\n",
    "    col = ''.join([grid[i][col_ind] if col_ind < len(grid[i]) else ' ' for i in range(len(grid))]).rstrip()\n",
    "    min_row, max_row = col.count(' '), len(col)-1\n",
    "    col_limits.append((min_row, max_row))\n",
    "\n",
    "instructions_data = instructions_data.replace('R', ' R ').replace('L', ' L ').split(' ')\n",
    "for inst in instructions_data:\n",
    "    try:\n",
    "        instructions.append(int(inst))\n",
    "    except ValueError:\n",
    "        instructions.append(inst)"
   ]
  },
  {
   "cell_type": "code",
   "execution_count": 3,
   "id": "685ba7de",
   "metadata": {},
   "outputs": [],
   "source": [
    "def move(position, direction, count):\n",
    "    if direction[0] != 0:\n",
    "        limits = (col_limits[position[1]][0], col_limits[position[1]][1])\n",
    "    else:\n",
    "        limits = (row_limits[position[0]][0], row_limits[position[0]][1])\n",
    "    for _ in range(count):\n",
    "        if direction[0] != 0:\n",
    "            next_position = [position[0]+direction[0], position[1]]\n",
    "            if next_position[0] < limits[0]:\n",
    "                next_position[0] = limits[1]\n",
    "            elif next_position[0] > limits[1]:\n",
    "                next_position[0] = limits[0]\n",
    "        else:\n",
    "            next_position = [position[0], position[1]+direction[1]]\n",
    "            if next_position[1] < limits[0]:\n",
    "                next_position[1] = limits[1]\n",
    "            elif next_position[1] > limits[1]:\n",
    "                next_position[1] = limits[0]\n",
    "        if grid[next_position[0]][next_position[1]] == '#':\n",
    "            break\n",
    "        position = next_position\n",
    "    return position"
   ]
  },
  {
   "cell_type": "code",
   "execution_count": 4,
   "id": "a077ba30",
   "metadata": {},
   "outputs": [],
   "source": [
    "def turn(direction, char):\n",
    "    if char == 'R':\n",
    "        return [direction[1], -direction[0]]\n",
    "    return [-direction[1], direction[0]]"
   ]
  },
  {
   "cell_type": "code",
   "execution_count": 5,
   "id": "ff71bf0f",
   "metadata": {},
   "outputs": [
    {
     "data": {
      "text/plain": [
       "([42, 115], [0, -1])"
      ]
     },
     "execution_count": 5,
     "metadata": {},
     "output_type": "execute_result"
    }
   ],
   "source": [
    "position = [0, row_limits[0][0]]\n",
    "direction = [0, 1]\n",
    "\n",
    "for inst in instructions:\n",
    "    if isinstance(inst, int):\n",
    "        position = move(position, direction, inst)\n",
    "    else:\n",
    "        direction = turn(direction, inst)\n",
    "\n",
    "position, direction"
   ]
  },
  {
   "cell_type": "code",
   "execution_count": 6,
   "id": "cd87754f",
   "metadata": {},
   "outputs": [
    {
     "data": {
      "text/plain": [
       "43466"
      ]
     },
     "execution_count": 6,
     "metadata": {},
     "output_type": "execute_result"
    }
   ],
   "source": [
    "part1 = (position[0]+1)*1000 + (position[1]+1)*4 + (0 if direction == [0, 1]\n",
    "                                                    else 1 if direction == [1, 0]\n",
    "                                                    else 2 if direction == [0, -1]\n",
    "                                                    else 3)\n",
    "part1"
   ]
  },
  {
   "cell_type": "code",
   "execution_count": null,
   "id": "21092604",
   "metadata": {},
   "outputs": [],
   "source": []
  }
 ],
 "metadata": {
  "kernelspec": {
   "display_name": "Python 3 (ipykernel)",
   "language": "python",
   "name": "python3"
  },
  "language_info": {
   "codemirror_mode": {
    "name": "ipython",
    "version": 3
   },
   "file_extension": ".py",
   "mimetype": "text/x-python",
   "name": "python",
   "nbconvert_exporter": "python",
   "pygments_lexer": "ipython3",
   "version": "3.10.12"
  }
 },
 "nbformat": 4,
 "nbformat_minor": 5
}

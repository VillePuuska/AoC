{
 "cells": [
  {
   "cell_type": "code",
   "execution_count": 1,
   "metadata": {},
   "outputs": [],
   "source": [
    "signal = [1]\n",
    "\n",
    "with open(\"./data/day10.txt\") as f:\n",
    "    while line := f.readline():\n",
    "        line = line.rstrip().split(' ')\n",
    "        signal.append(signal[-1])\n",
    "        if line[0] != 'noop':\n",
    "            signal.append(signal[-1]+int(line[1]))"
   ]
  },
  {
   "cell_type": "code",
   "execution_count": 2,
   "metadata": {},
   "outputs": [
    {
     "data": {
      "text/plain": [
       "13920"
      ]
     },
     "execution_count": 2,
     "metadata": {},
     "output_type": "execute_result"
    }
   ],
   "source": [
    "sum([i*signal[i-1] for i in range(20, 221, 40)])"
   ]
  },
  {
   "cell_type": "code",
   "execution_count": 5,
   "metadata": {},
   "outputs": [],
   "source": [
    "def pixel(cycle):\n",
    "    pos = cycle%40\n",
    "    if abs(signal[cycle]-pos) <= 1:\n",
    "        return '#'\n",
    "    return '.'"
   ]
  },
  {
   "cell_type": "code",
   "execution_count": 8,
   "metadata": {},
   "outputs": [
    {
     "name": "stdout",
     "output_type": "stream",
     "text": [
      "####..##..#....#..#.###..#....####...##.\n",
      "#....#..#.#....#..#.#..#.#....#.......#.\n",
      "###..#....#....####.###..#....###.....#.\n",
      "#....#.##.#....#..#.#..#.#....#.......#.\n",
      "#....#..#.#....#..#.#..#.#....#....#..#.\n",
      "####..###.####.#..#.###..####.#.....##..\n"
     ]
    }
   ],
   "source": [
    "s = ''.join(map(pixel, range(241)))\n",
    "for i in range(0, 240, 40):\n",
    "    print(s[i:i+40])"
   ]
  },
  {
   "cell_type": "code",
   "execution_count": null,
   "metadata": {},
   "outputs": [],
   "source": []
  }
 ],
 "metadata": {
  "kernelspec": {
   "display_name": "Python 3 (ipykernel)",
   "language": "python",
   "name": "python3"
  },
  "language_info": {
   "codemirror_mode": {
    "name": "ipython",
    "version": 3
   },
   "file_extension": ".py",
   "mimetype": "text/x-python",
   "name": "python",
   "nbconvert_exporter": "python",
   "pygments_lexer": "ipython3",
   "version": "3.10.12"
  }
 },
 "nbformat": 4,
 "nbformat_minor": 5
}

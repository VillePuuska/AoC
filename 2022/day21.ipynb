{
 "cells": [
  {
   "cell_type": "code",
   "execution_count": 1,
   "id": "6eabc14c",
   "metadata": {},
   "outputs": [],
   "source": [
    "from collections import deque, defaultdict, Counter\n",
    "from heapq import heapify, heappush, heappop\n",
    "import numpy as np\n",
    "from copy import deepcopy\n",
    "import math\n",
    "import time\n",
    "from functools import cache, reduce, cmp_to_key\n",
    "import graphviz\n",
    "from itertools import product\n",
    "import matplotlib.pyplot as plt\n",
    "from bisect import bisect_left, bisect_right\n",
    "import json"
   ]
  },
  {
   "cell_type": "code",
   "execution_count": 2,
   "id": "a73968ad",
   "metadata": {},
   "outputs": [],
   "source": [
    "class Monkey:\n",
    "    def __init__(self, line) -> None:\n",
    "        if ' ' in line:\n",
    "            self.number = None\n",
    "            line = line.split(' ')\n",
    "            self.first, self.operator, self.second = line\n",
    "            return\n",
    "        self.number = int(line)\n",
    "    \n",
    "    def get_number(self, other_monkeys):\n",
    "        if self.number is None:\n",
    "            x = other_monkeys[self.first].get_number(other_monkeys)\n",
    "            y = other_monkeys[self.second].get_number(other_monkeys)\n",
    "            match self.operator:\n",
    "                case '+':\n",
    "                    self.number = x+y\n",
    "                case '-':\n",
    "                    self.number = x-y\n",
    "                case '*':\n",
    "                    self.number = x*y\n",
    "                case '/':\n",
    "                    self.number = x/y\n",
    "                case _:\n",
    "                    print('Invalid operator?')\n",
    "                    raise Exception(\"Invalid operator.\")\n",
    "        return self.number"
   ]
  },
  {
   "cell_type": "code",
   "execution_count": 3,
   "id": "62f0843b",
   "metadata": {},
   "outputs": [
    {
     "data": {
      "text/plain": [
       "1619"
      ]
     },
     "execution_count": 3,
     "metadata": {},
     "output_type": "execute_result"
    }
   ],
   "source": [
    "monkeys = {}\n",
    "\n",
    "with open(\"./data/day21.txt\") as f:\n",
    "    while line := f.readline():\n",
    "        line = line.rstrip().split(': ')\n",
    "        monkeys[line[0]] = Monkey(line[1])\n",
    "len(monkeys)"
   ]
  },
  {
   "cell_type": "code",
   "execution_count": 4,
   "id": "16f595a8",
   "metadata": {},
   "outputs": [
    {
     "data": {
      "text/plain": [
       "158731561459602"
      ]
     },
     "execution_count": 4,
     "metadata": {},
     "output_type": "execute_result"
    }
   ],
   "source": [
    "int(monkeys['root'].get_number(monkeys))"
   ]
  },
  {
   "cell_type": "code",
   "execution_count": null,
   "id": "c3035a7c",
   "metadata": {},
   "outputs": [],
   "source": []
  }
 ],
 "metadata": {
  "kernelspec": {
   "display_name": "Python 3 (ipykernel)",
   "language": "python",
   "name": "python3"
  },
  "language_info": {
   "codemirror_mode": {
    "name": "ipython",
    "version": 3
   },
   "file_extension": ".py",
   "mimetype": "text/x-python",
   "name": "python",
   "nbconvert_exporter": "python",
   "pygments_lexer": "ipython3",
   "version": "3.10.12"
  }
 },
 "nbformat": 4,
 "nbformat_minor": 5
}

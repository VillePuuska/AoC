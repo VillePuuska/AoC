{
 "cells": [
  {
   "cell_type": "code",
   "execution_count": 1,
   "id": "6eabc14c",
   "metadata": {},
   "outputs": [],
   "source": [
    "from collections import deque, defaultdict, Counter\n",
    "from heapq import heapify, heappush, heappop\n",
    "import numpy as np\n",
    "from copy import deepcopy\n",
    "import math\n",
    "import time\n",
    "from functools import cache, reduce, cmp_to_key\n",
    "import graphviz\n",
    "from itertools import product\n",
    "import matplotlib.pyplot as plt\n",
    "from bisect import bisect_left, bisect_right\n",
    "import json"
   ]
  },
  {
   "cell_type": "markdown",
   "id": "74e792e2",
   "metadata": {},
   "source": [
    "Idea:\n",
    "- Part 1: Just run through the graph resolving numbers. Easy enough.\n",
    "- Part 2: If the divisions are all divisions by constants, i.e. they don't depend on `humn`, then the number of each monkey depends polynomially on `humn` so let's write out the polynomials. Then we'll simply solve the polynomial equation that `root` wants us to solve. "
   ]
  },
  {
   "cell_type": "code",
   "execution_count": 2,
   "id": "a73968ad",
   "metadata": {},
   "outputs": [],
   "source": [
    "class Monkey:\n",
    "    def __init__(self, line) -> None:\n",
    "        if ' ' in line:\n",
    "            self.number = None\n",
    "            self.number2 = None\n",
    "            line = line.split(' ')\n",
    "            self.first, self.operator, self.second = line\n",
    "            return\n",
    "        self.number = int(line)\n",
    "        self.number2 = [self.number,]\n",
    "    \n",
    "    def get_number(self, other_monkeys):\n",
    "        if self.number is None:\n",
    "            x = other_monkeys[self.first].get_number(other_monkeys)\n",
    "            y = other_monkeys[self.second].get_number(other_monkeys)\n",
    "            match self.operator:\n",
    "                case '+':\n",
    "                    self.number = x+y\n",
    "                case '-':\n",
    "                    self.number = x-y\n",
    "                case '*':\n",
    "                    self.number = x*y\n",
    "                case '/':\n",
    "                    self.number = x/y\n",
    "                case _:\n",
    "                    raise Exception(\"Invalid operator.\")\n",
    "        return self.number\n",
    "    \n",
    "    def get_number2(self, other_monkeys):\n",
    "        if self.number2 is None:\n",
    "            x = other_monkeys[self.first].get_number2(other_monkeys)\n",
    "            y = other_monkeys[self.second].get_number2(other_monkeys)\n",
    "            self.number2 = []\n",
    "            match self.operator:\n",
    "                case '+':\n",
    "                    for i in range(max(len(x), len(y))):\n",
    "                        self.number2.append(0)\n",
    "                        if i < len(x):\n",
    "                            self.number2[i] += x[i]\n",
    "                        if i < len(y):\n",
    "                            self.number2[i] += y[i]\n",
    "                case '-':\n",
    "                    for i in range(max(len(x), len(y))):\n",
    "                        self.number2.append(0)\n",
    "                        if i < len(x):\n",
    "                            self.number2[i] += x[i]\n",
    "                        if i < len(y):\n",
    "                            self.number2[i] -= y[i]\n",
    "                case '*':\n",
    "                    for i in range(len(x)+len(y)-1):\n",
    "                        self.number2.append(0)\n",
    "                        for j in range(i+1):\n",
    "                            if j >= len(x) or i-j >= len(y):\n",
    "                                continue\n",
    "                            self.number2[i] += x[j]*y[i-j]\n",
    "                case '/':\n",
    "                    if len(y) > 1 and any(y[i] != 0 for i in range(1, len(y))):\n",
    "                        raise Exception(\"Division by non-constant polynomial. Unexpected\")\n",
    "                    for i in range(len(x)):\n",
    "                        self.number2.append(x[i]/y[0])\n",
    "                case _:\n",
    "                    raise Exception(\"Invalid operator.\")\n",
    "        return self.number2"
   ]
  },
  {
   "cell_type": "code",
   "execution_count": 3,
   "id": "62f0843b",
   "metadata": {},
   "outputs": [
    {
     "data": {
      "text/plain": [
       "1619"
      ]
     },
     "execution_count": 3,
     "metadata": {},
     "output_type": "execute_result"
    }
   ],
   "source": [
    "monkeys = {}\n",
    "\n",
    "with open(\"./data/day21.txt\") as f:\n",
    "    while line := f.readline():\n",
    "        line = line.rstrip().split(': ')\n",
    "        monkeys[line[0]] = Monkey(line[1])\n",
    "len(monkeys)"
   ]
  },
  {
   "cell_type": "code",
   "execution_count": 4,
   "id": "16f595a8",
   "metadata": {},
   "outputs": [
    {
     "data": {
      "text/plain": [
       "158731561459602"
      ]
     },
     "execution_count": 4,
     "metadata": {},
     "output_type": "execute_result"
    }
   ],
   "source": [
    "int(monkeys['root'].get_number(monkeys))"
   ]
  },
  {
   "cell_type": "code",
   "execution_count": 5,
   "id": "87e62234",
   "metadata": {},
   "outputs": [],
   "source": [
    "monkeys['humn'].number2 = [0, 1]"
   ]
  },
  {
   "cell_type": "code",
   "execution_count": 6,
   "id": "c3035a7c",
   "metadata": {},
   "outputs": [
    {
     "data": {
      "text/plain": [
       "([117768843708843.94, -20.374768089053802], [40962717833337.0])"
      ]
     },
     "execution_count": 6,
     "metadata": {},
     "output_type": "execute_result"
    }
   ],
   "source": [
    "first = monkeys[monkeys['root'].first].get_number2(monkeys)\n",
    "second = monkeys[monkeys['root'].second].get_number2(monkeys)\n",
    "\n",
    "first, second"
   ]
  },
  {
   "cell_type": "markdown",
   "id": "10b730ea",
   "metadata": {},
   "source": [
    "We get the equation $-20.374768089053802*\\text{humn}+117768843708843.94 = 40962717833337.0$ (with some floating point error but should be close enough) that we can solve for the answer:"
   ]
  },
  {
   "cell_type": "code",
   "execution_count": 7,
   "id": "7b0135fb",
   "metadata": {},
   "outputs": [
    {
     "data": {
      "text/plain": [
       "3769668716709"
      ]
     },
     "execution_count": 7,
     "metadata": {},
     "output_type": "execute_result"
    }
   ],
   "source": [
    "round((second[0]-first[0])/first[1])"
   ]
  },
  {
   "cell_type": "code",
   "execution_count": null,
   "id": "c44999fb",
   "metadata": {},
   "outputs": [],
   "source": []
  }
 ],
 "metadata": {
  "kernelspec": {
   "display_name": "Python 3 (ipykernel)",
   "language": "python",
   "name": "python3"
  },
  "language_info": {
   "codemirror_mode": {
    "name": "ipython",
    "version": 3
   },
   "file_extension": ".py",
   "mimetype": "text/x-python",
   "name": "python",
   "nbconvert_exporter": "python",
   "pygments_lexer": "ipython3",
   "version": "3.10.12"
  }
 },
 "nbformat": 4,
 "nbformat_minor": 5
}

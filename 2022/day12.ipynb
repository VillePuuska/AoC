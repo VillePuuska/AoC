{
 "cells": [
  {
   "cell_type": "code",
   "execution_count": 1,
   "id": "6eabc14c",
   "metadata": {},
   "outputs": [],
   "source": [
    "from collections import deque, defaultdict, Counter\n",
    "from heapq import heapify, heappush, heappop\n",
    "import numpy as np\n",
    "from copy import deepcopy\n",
    "import math\n",
    "import time\n",
    "from functools import cache, reduce\n",
    "import graphviz\n",
    "from itertools import product\n",
    "import matplotlib.pyplot as plt\n",
    "from bisect import bisect_left, bisect_right"
   ]
  },
  {
   "cell_type": "code",
   "execution_count": 2,
   "id": "62f0843b",
   "metadata": {},
   "outputs": [],
   "source": [
    "grid = []\n",
    "\n",
    "with open(\"./data/day12.txt\") as f:\n",
    "    while line := f.readline():\n",
    "        line = line.rstrip()\n",
    "        grid.append(list(line))"
   ]
  },
  {
   "cell_type": "code",
   "execution_count": 3,
   "id": "265f685b",
   "metadata": {},
   "outputs": [
    {
     "data": {
      "text/plain": [
       "((20, 0), (20, 40))"
      ]
     },
     "execution_count": 3,
     "metadata": {},
     "output_type": "execute_result"
    }
   ],
   "source": [
    "start = None\n",
    "finish = None\n",
    "for i in range(len(grid)):\n",
    "    for j in range(len(grid[0])):\n",
    "        if grid[i][j] == 'S':\n",
    "            start = (i, j)\n",
    "            grid[i][j] = 'a'\n",
    "        if grid[i][j] == 'E':\n",
    "            finish = (i, j)\n",
    "            grid[i][j] = 'z'\n",
    "    if start is not None and finish is not None:\n",
    "        break\n",
    "start, finish"
   ]
  },
  {
   "cell_type": "code",
   "execution_count": 4,
   "id": "e737e931",
   "metadata": {},
   "outputs": [
    {
     "name": "stdout",
     "output_type": "stream",
     "text": [
      "370\n"
     ]
    }
   ],
   "source": [
    "q = deque()\n",
    "q.append(start + (0,))\n",
    "visited = set()\n",
    "visited.add(start)\n",
    "while q:\n",
    "    row, col, d = q.pop()\n",
    "    for i, j in [[0, -1], [0, 1], [-1, 0], [1, 0]]:\n",
    "        if row+i in range(len(grid)) and col+j in range(len(grid[0])) and (ord(grid[row+i][col+j]) <= ord(grid[row][col])+1) and (row+i, col+j) not in visited:\n",
    "            if (row+i, col+j) == finish:\n",
    "                print(d+1)\n",
    "                q = None\n",
    "                break\n",
    "            visited.add((row+i, col+j))\n",
    "            q.appendleft((row+i, col+j, d+1))"
   ]
  },
  {
   "cell_type": "code",
   "execution_count": 5,
   "id": "d5ba3070",
   "metadata": {},
   "outputs": [
    {
     "data": {
      "text/plain": [
       "656"
      ]
     },
     "execution_count": 5,
     "metadata": {},
     "output_type": "execute_result"
    }
   ],
   "source": [
    "starts = []\n",
    "for i in range(len(grid)):\n",
    "    for j in range(len(grid[0])):\n",
    "        if grid[i][j] == 'a':\n",
    "            starts.append((i, j))\n",
    "len(starts)"
   ]
  },
  {
   "cell_type": "code",
   "execution_count": 6,
   "id": "e14eeebb",
   "metadata": {},
   "outputs": [
    {
     "name": "stdout",
     "output_type": "stream",
     "text": [
      "363\n"
     ]
    }
   ],
   "source": [
    "q = deque()\n",
    "visited = set()\n",
    "for start in starts:\n",
    "    q.append(start + (0,))\n",
    "    visited.add(start)\n",
    "while q:\n",
    "    row, col, d = q.pop()\n",
    "    for i, j in [[0, -1], [0, 1], [-1, 0], [1, 0]]:\n",
    "        if row+i in range(len(grid)) and col+j in range(len(grid[0])) and (ord(grid[row+i][col+j]) <= ord(grid[row][col])+1) and (row+i, col+j) not in visited:\n",
    "            if (row+i, col+j) == finish:\n",
    "                print(d+1)\n",
    "                q = None\n",
    "                break\n",
    "            visited.add((row+i, col+j))\n",
    "            q.appendleft((row+i, col+j, d+1))"
   ]
  },
  {
   "cell_type": "code",
   "execution_count": null,
   "id": "99b58a01",
   "metadata": {},
   "outputs": [],
   "source": []
  }
 ],
 "metadata": {
  "kernelspec": {
   "display_name": "Python 3 (ipykernel)",
   "language": "python",
   "name": "python3"
  },
  "language_info": {
   "codemirror_mode": {
    "name": "ipython",
    "version": 3
   },
   "file_extension": ".py",
   "mimetype": "text/x-python",
   "name": "python",
   "nbconvert_exporter": "python",
   "pygments_lexer": "ipython3",
   "version": "3.10.12"
  }
 },
 "nbformat": 4,
 "nbformat_minor": 5
}

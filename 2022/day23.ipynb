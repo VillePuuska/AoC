{
 "cells": [
  {
   "cell_type": "code",
   "execution_count": 1,
   "id": "6eabc14c",
   "metadata": {},
   "outputs": [],
   "source": [
    "from collections import deque, defaultdict, Counter\n",
    "from heapq import heapify, heappush, heappop\n",
    "import numpy as np\n",
    "from copy import deepcopy\n",
    "import math\n",
    "import time\n",
    "from functools import cache, reduce, cmp_to_key\n",
    "import graphviz\n",
    "from itertools import product\n",
    "import matplotlib.pyplot as plt\n",
    "from bisect import bisect_left, bisect_right\n",
    "import json"
   ]
  },
  {
   "cell_type": "code",
   "execution_count": 2,
   "id": "2d8685c0",
   "metadata": {},
   "outputs": [],
   "source": [
    "dirs4 = [(-1, 0), (1, 0), (0, -1), (0, 1)]\n",
    "dirs8 = dirs4 + [(1, 1), (1, -1), (-1, 1), (-1, -1)]"
   ]
  },
  {
   "cell_type": "code",
   "execution_count": 3,
   "id": "62f0843b",
   "metadata": {},
   "outputs": [
    {
     "data": {
      "text/plain": [
       "2529"
      ]
     },
     "execution_count": 3,
     "metadata": {},
     "output_type": "execute_result"
    }
   ],
   "source": [
    "elves = []\n",
    "\n",
    "with open(\"./data/day23.txt\") as f:\n",
    "    lines = f.read().rstrip().split('\\n')\n",
    "    for row, line in enumerate(lines):\n",
    "        for col, c in enumerate(line):\n",
    "            if c == '#':\n",
    "                elves.append((row, col))\n",
    "\n",
    "len(elves)"
   ]
  },
  {
   "cell_type": "code",
   "execution_count": 4,
   "id": "00c3006c",
   "metadata": {},
   "outputs": [],
   "source": [
    "consider = [[(-1, 0), (-1, 1), (-1, -1)],\n",
    "            [(1, 0), (1, 1), (1, -1)],\n",
    "            [(0, -1), (-1, -1), (1, -1)],\n",
    "            [(0, 1), (-1, 1), (1, 1)]]"
   ]
  },
  {
   "cell_type": "code",
   "execution_count": 5,
   "id": "cd0f6fe9",
   "metadata": {},
   "outputs": [],
   "source": [
    "rounds = 10\n",
    "\n",
    "for r in range(rounds):\n",
    "    elf_set = set(elves)\n",
    "    proposed = []\n",
    "    for i, (row, col) in enumerate(elves):\n",
    "        flag = False\n",
    "        for x, y in dirs8:\n",
    "            if (row+x, col+y) in elf_set:\n",
    "                flag = True\n",
    "                break\n",
    "        if not flag:\n",
    "            proposed.append(None)\n",
    "            continue\n",
    "        for consider_ind in range(4):\n",
    "            flag = False\n",
    "            for x, y in consider[(r+consider_ind)%4]:\n",
    "                if (row+x, col+y) in elf_set:\n",
    "                    flag = True\n",
    "                    break\n",
    "            if not flag:\n",
    "                move = dirs4[(r+consider_ind)%4]\n",
    "                proposed.append((row+move[0], col+move[1]))\n",
    "                break\n",
    "        if flag:\n",
    "            proposed.append(None)\n",
    "    \n",
    "    assert len(proposed) == len(elves) # every elf should have their proposed next move\n",
    "\n",
    "    c = Counter(proposed)\n",
    "    new_elves = []\n",
    "    for i, pos in enumerate(proposed):\n",
    "        if pos is None:\n",
    "            new_elves.append(elves[i])\n",
    "            continue\n",
    "        if c[pos] > 1:\n",
    "            new_elves.append(elves[i])\n",
    "            continue\n",
    "        new_elves.append(pos)\n",
    "    elves = new_elves"
   ]
  },
  {
   "cell_type": "code",
   "execution_count": 6,
   "id": "dcbfe8ba",
   "metadata": {},
   "outputs": [
    {
     "data": {
      "text/plain": [
       "3871"
      ]
     },
     "execution_count": 6,
     "metadata": {},
     "output_type": "execute_result"
    }
   ],
   "source": [
    "min_row, max_row = min(map(lambda x: x[0], elves)), max(map(lambda x: x[0], elves))\n",
    "min_col, max_col = min(map(lambda x: x[1], elves)), max(map(lambda x: x[1], elves))\n",
    "\n",
    "(max_row-min_row+1)*(max_col-min_col+1)-len(elves)"
   ]
  },
  {
   "cell_type": "code",
   "execution_count": 10,
   "id": "d68ea779",
   "metadata": {},
   "outputs": [
    {
     "name": "stdout",
     "output_type": "stream",
     "text": [
      "925\n"
     ]
    }
   ],
   "source": [
    "elves = []\n",
    "\n",
    "with open(\"./data/day23.txt\") as f:\n",
    "    lines = f.read().rstrip().split('\\n')\n",
    "    for row, line in enumerate(lines):\n",
    "        for col, c in enumerate(line):\n",
    "            if c == '#':\n",
    "                elves.append((row, col))\n",
    "\n",
    "max_rounds = 1000\n",
    "\n",
    "for r in range(max_rounds):\n",
    "    elf_set = set(elves)\n",
    "    proposed = []\n",
    "    for i, (row, col) in enumerate(elves):\n",
    "        flag = False\n",
    "        for x, y in dirs8:\n",
    "            if (row+x, col+y) in elf_set:\n",
    "                flag = True\n",
    "                break\n",
    "        if not flag:\n",
    "            proposed.append(None)\n",
    "            continue\n",
    "        for consider_ind in range(4):\n",
    "            flag = False\n",
    "            for x, y in consider[(r+consider_ind)%4]:\n",
    "                if (row+x, col+y) in elf_set:\n",
    "                    flag = True\n",
    "                    break\n",
    "            if not flag:\n",
    "                move = dirs4[(r+consider_ind)%4]\n",
    "                proposed.append((row+move[0], col+move[1]))\n",
    "                break\n",
    "        if flag:\n",
    "            proposed.append(None)\n",
    "\n",
    "    c = Counter(proposed)\n",
    "\n",
    "    if c[None] == len(elves):\n",
    "        print(r+1)\n",
    "        break\n",
    "\n",
    "    new_elves = []\n",
    "    for i, pos in enumerate(proposed):\n",
    "        if pos is None:\n",
    "            new_elves.append(elves[i])\n",
    "            continue\n",
    "        if c[pos] > 1:\n",
    "            new_elves.append(elves[i])\n",
    "            continue\n",
    "        new_elves.append(pos)\n",
    "    elves = new_elves"
   ]
  },
  {
   "cell_type": "code",
   "execution_count": null,
   "id": "d9b0d2ce",
   "metadata": {},
   "outputs": [],
   "source": []
  }
 ],
 "metadata": {
  "kernelspec": {
   "display_name": "Python 3 (ipykernel)",
   "language": "python",
   "name": "python3"
  },
  "language_info": {
   "codemirror_mode": {
    "name": "ipython",
    "version": 3
   },
   "file_extension": ".py",
   "mimetype": "text/x-python",
   "name": "python",
   "nbconvert_exporter": "python",
   "pygments_lexer": "ipython3",
   "version": "3.10.12"
  }
 },
 "nbformat": 4,
 "nbformat_minor": 5
}

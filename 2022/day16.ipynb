{
 "cells": [
  {
   "cell_type": "code",
   "execution_count": 1,
   "id": "6eabc14c",
   "metadata": {},
   "outputs": [],
   "source": [
    "from collections import deque, defaultdict, Counter\n",
    "from heapq import heapify, heappush, heappop\n",
    "import numpy as np\n",
    "from copy import deepcopy\n",
    "import math\n",
    "import time\n",
    "from functools import cache, reduce, cmp_to_key\n",
    "import graphviz\n",
    "from itertools import product\n",
    "import matplotlib.pyplot as plt\n",
    "from bisect import bisect_left, bisect_right\n",
    "import json"
   ]
  },
  {
   "cell_type": "code",
   "execution_count": 2,
   "id": "62f0843b",
   "metadata": {},
   "outputs": [
    {
     "data": {
      "text/plain": [
       "(55, 'AA', 0, {'DI', 'NB', 'UV', 'VS', 'XO'})"
      ]
     },
     "execution_count": 2,
     "metadata": {},
     "output_type": "execute_result"
    }
   ],
   "source": [
    "valves = set()\n",
    "flow = {}\n",
    "adj = defaultdict(set)\n",
    "\n",
    "with open(\"./data/day16.txt\") as f:\n",
    "    while line := f.readline():\n",
    "        line = line.rstrip().replace(',', '').split(' ')\n",
    "        valve = line[1]\n",
    "        valves.add(valve)\n",
    "        flow[valve] = int(line[4].replace(';','').split('=')[1])\n",
    "        for next_valve in line[9:]:\n",
    "            valves.add(next_valve)\n",
    "            adj[valve].add(next_valve)\n",
    "valves = sorted(list(valves))\n",
    "valve_to_ind = {valve:i for i, valve in enumerate(valves)}\n",
    "len(valves), valves[0], flow[valves[0]], adj[valves[0]]"
   ]
  },
  {
   "cell_type": "markdown",
   "id": "37892da8",
   "metadata": {},
   "source": [
    "# Part 1\n",
    "\n",
    "First idea: DFS with keeping track of the state of valves to allow coming back to a valve if the state has changed, i.e. a new valve has been opened. This is just super slow though. Works, but prohibitively slow on real input."
   ]
  },
  {
   "cell_type": "code",
   "execution_count": 3,
   "id": "683dee33",
   "metadata": {},
   "outputs": [],
   "source": [
    "def dfs(ind, state, visited, time_left):\n",
    "    if time_left <= 1:\n",
    "        return 0\n",
    "    res = 0\n",
    "    valve_open = (state & (1 << ind)) != 0\n",
    "    if not valve_open and flow[valves[ind]] != 0:\n",
    "        new_state = state | (1 << ind)\n",
    "        res = (time_left-1)*flow[valves[ind]] + dfs(ind, new_state, {(ind, new_state)}, time_left-1)\n",
    "    for a in adj[valves[ind]]:\n",
    "        a_ind = valve_to_ind[a]\n",
    "        if (a_ind, state) not in visited:\n",
    "            visited.add((a_ind, state))\n",
    "            res = max(res, dfs(a_ind, state, visited, time_left-1))\n",
    "            visited.remove((a_ind, state))\n",
    "    return res"
   ]
  },
  {
   "cell_type": "markdown",
   "id": "b0962241",
   "metadata": {},
   "source": [
    "Second idea: dynamic programming (implemented top-down, i.e. recursion with memoization)."
   ]
  },
  {
   "cell_type": "code",
   "execution_count": 4,
   "id": "e3c15e91",
   "metadata": {},
   "outputs": [],
   "source": [
    "@cache\n",
    "def dp(ind, state, time_left):\n",
    "    if time_left <= 1:\n",
    "        return 0\n",
    "    res = 0\n",
    "    valve_open = (state & (1 << ind)) != 0\n",
    "    if not valve_open and flow[valves[ind]] != 0:\n",
    "        new_state = state | (1 << ind)\n",
    "        res = (time_left-1)*flow[valves[ind]] + dp(ind, new_state, time_left-1)\n",
    "    for a in adj[valves[ind]]:\n",
    "        a_ind = valve_to_ind[a]\n",
    "        res = max(res, dp(a_ind, state, time_left-1))\n",
    "    return res"
   ]
  },
  {
   "cell_type": "code",
   "execution_count": 5,
   "id": "097ea08b",
   "metadata": {},
   "outputs": [
    {
     "data": {
      "text/plain": [
       "1617"
      ]
     },
     "execution_count": 5,
     "metadata": {},
     "output_type": "execute_result"
    }
   ],
   "source": [
    "dp(0, 0, 30)"
   ]
  },
  {
   "cell_type": "markdown",
   "id": "a1d054b2",
   "metadata": {},
   "source": [
    "# Part 2\n",
    "\n",
    "### Idea 1:\n",
    "We get an extra index for our dynamic programming. We need to loop over all combinations of moves at `ind1` and `ind2`."
   ]
  },
  {
   "cell_type": "code",
   "execution_count": 6,
   "id": "d1c24dcd",
   "metadata": {},
   "outputs": [],
   "source": [
    "@cache\n",
    "def dp2(ind1, ind2, state, time_left): # remember to always make sure ind1 <= ind2 to make space smaller\n",
    "    if time_left <= 1:\n",
    "        return 0\n",
    "    res = 0\n",
    "    valve_open1 = (state & (1 << ind1)) != 0\n",
    "    valve_open2 = (state & (1 << ind2)) != 0\n",
    "    new_state1 = state | (1 << ind1)\n",
    "    new_state2 = state | (1 << ind2)\n",
    "    if not valve_open1 and flow[valves[ind1]] != 0: # open valve at ind1\n",
    "        if ind1 != ind2 and not valve_open2 and flow[valves[ind2]] != 0: # open both valves\n",
    "            res = max(res, (time_left-1)*flow[valves[ind1]] + (time_left-1)*flow[valves[ind2]] + dp2(ind1, ind2, new_state1 | new_state2, time_left-1))\n",
    "        for a2 in adj[valves[ind2]]: # open only valve at ind1\n",
    "            a_ind2 = valve_to_ind[a2]\n",
    "            res = max(res, (time_left-1)*flow[valves[ind1]] + dp2(min(ind1, a_ind2), max(ind1, a_ind2), new_state1, time_left-1))\n",
    "    for a1 in adj[valves[ind1]]: # dont open valve at ind1\n",
    "        a_ind1 = valve_to_ind[a1]\n",
    "        if ind1 != ind2 and not valve_open2 and flow[valves[ind2]] != 0: # open valve at ind2\n",
    "            res = max(res, (time_left-1)*flow[valves[ind2]] + dp2(min(a_ind1, ind2), max(a_ind1, ind2), new_state2, time_left-1))\n",
    "        for a2 in adj[valves[ind2]]: # dont open any valves\n",
    "            a_ind2 = valve_to_ind[a2]\n",
    "            res = max(res, dp2(min(a_ind1, a_ind2), max(a_ind1, a_ind2), state, time_left-1))\n",
    "    return res"
   ]
  },
  {
   "cell_type": "markdown",
   "id": "4d5605c4",
   "metadata": {},
   "source": [
    "Starts eating up too much memory. Not really suprising since there are now 55 times more states to memoize than in part 1. For example, let's compare cache sizes after running the entire part 1 vs running part 2 with only 15 minutes to start."
   ]
  },
  {
   "cell_type": "code",
   "execution_count": 7,
   "id": "66661b66",
   "metadata": {},
   "outputs": [
    {
     "data": {
      "text/plain": [
       "691"
      ]
     },
     "execution_count": 7,
     "metadata": {},
     "output_type": "execute_result"
    }
   ],
   "source": [
    "dp2(0, 0, 0, 15)"
   ]
  },
  {
   "cell_type": "code",
   "execution_count": 8,
   "id": "2915c07e",
   "metadata": {},
   "outputs": [
    {
     "data": {
      "text/plain": [
       "(CacheInfo(hits=510247, misses=484150, maxsize=None, currsize=484150),\n",
       " CacheInfo(hits=4699263, misses=1248667, maxsize=None, currsize=1248667))"
      ]
     },
     "execution_count": 8,
     "metadata": {},
     "output_type": "execute_result"
    }
   ],
   "source": [
    "dp.cache_info(), dp2.cache_info()"
   ]
  },
  {
   "cell_type": "markdown",
   "id": "d359dfc3",
   "metadata": {},
   "source": [
    "### Idea 2:\n",
    "Let's add a check to make sure we aren't computing `dp2(ind1, ind2, state, time_left)` if we have already computed it for more time left. This makes the caching of the function sketchy since we have side effects in the function which only happen the first time it is run but let's see what happens."
   ]
  },
  {
   "cell_type": "code",
   "execution_count": 9,
   "id": "9eae0e1a",
   "metadata": {},
   "outputs": [],
   "source": [
    "visited = defaultdict(int)\n",
    "\n",
    "@cache\n",
    "def dp3(ind1, ind2, state, time_left): # remember to always make sure ind1 <= ind2 to make space smaller\n",
    "    if visited[(ind1, ind2, state)] >= time_left:\n",
    "        return 0\n",
    "    visited[(ind1, ind2, state)] = time_left\n",
    "    if time_left <= 1:\n",
    "        return 0\n",
    "    res = 0\n",
    "    valve_open1 = (state & (1 << ind1)) != 0\n",
    "    valve_open2 = (state & (1 << ind2)) != 0\n",
    "    new_state1 = state | (1 << ind1)\n",
    "    new_state2 = state | (1 << ind2)\n",
    "    if not valve_open1 and flow[valves[ind1]] != 0: # open valve at ind1\n",
    "        if ind1 != ind2 and not valve_open2 and flow[valves[ind2]] != 0: # open both valves\n",
    "            res = max(res, (time_left-1)*flow[valves[ind1]] + (time_left-1)*flow[valves[ind2]] + dp3(ind1, ind2, new_state1 | new_state2, time_left-1))\n",
    "        for a2 in adj[valves[ind2]]: # open only valve at ind1\n",
    "            a_ind2 = valve_to_ind[a2]\n",
    "            res = max(res, (time_left-1)*flow[valves[ind1]] + dp3(min(ind1, a_ind2), max(ind1, a_ind2), new_state1, time_left-1))\n",
    "    for a1 in adj[valves[ind1]]: # dont open valve at ind1\n",
    "        a_ind1 = valve_to_ind[a1]\n",
    "        if ind1 != ind2 and not valve_open2 and flow[valves[ind2]] != 0: # open valve at ind2\n",
    "            res = max(res, (time_left-1)*flow[valves[ind2]] + dp3(min(a_ind1, ind2), max(a_ind1, ind2), new_state2, time_left-1))\n",
    "        for a2 in adj[valves[ind2]]: # dont open any valves\n",
    "            a_ind2 = valve_to_ind[a2]\n",
    "            res = max(res, dp3(min(a_ind1, a_ind2), max(a_ind1, a_ind2), state, time_left-1))\n",
    "    return res"
   ]
  },
  {
   "cell_type": "code",
   "execution_count": 10,
   "id": "b4ecfdc8",
   "metadata": {},
   "outputs": [
    {
     "data": {
      "text/plain": [
       "691"
      ]
     },
     "execution_count": 10,
     "metadata": {},
     "output_type": "execute_result"
    }
   ],
   "source": [
    "dp3(0, 0, 0, 15)"
   ]
  },
  {
   "cell_type": "code",
   "execution_count": 11,
   "id": "41e18c3e",
   "metadata": {},
   "outputs": [
    {
     "data": {
      "text/plain": [
       "CacheInfo(hits=3968529, misses=1207786, maxsize=None, currsize=1207786)"
      ]
     },
     "execution_count": 11,
     "metadata": {},
     "output_type": "execute_result"
    }
   ],
   "source": [
    "dp3.cache_info()"
   ]
  },
  {
   "cell_type": "markdown",
   "id": "7bc8a554",
   "metadata": {},
   "source": [
    "Nope. Still eats too much memory for my liking."
   ]
  },
  {
   "cell_type": "markdown",
   "id": "26ed3932",
   "metadata": {},
   "source": [
    "### Idea 3: Memory optimized DP.\n",
    "\n",
    "If I write a DP solution that only stores `time_left-1` solutions while building up the solution for `time_left`, how big would the array be?"
   ]
  },
  {
   "cell_type": "code",
   "execution_count": 12,
   "id": "ee42a83e",
   "metadata": {},
   "outputs": [
    {
     "data": {
      "text/plain": [
       "50462720"
      ]
     },
     "execution_count": 12,
     "metadata": {},
     "output_type": "execute_result"
    }
   ],
   "source": [
    "# Number of states = 2**(number of valves with non-zero flow):\n",
    "c = 0\n",
    "for valve in valves:\n",
    "    c += flow[valve] != 0\n",
    "state_count = 2**c\n",
    "\n",
    "# Number of ind1, ind2 (ind1 <= ind2) pairs:\n",
    "s = 0\n",
    "for i in range(len(valves)):\n",
    "    s += len(valves)-i\n",
    "\n",
    "total_size = s*state_count\n",
    "total_size"
   ]
  },
  {
   "cell_type": "markdown",
   "id": "03f7d4b1",
   "metadata": {},
   "source": [
    "50 million integers to store while building an array of 50 million more integers? Nope."
   ]
  },
  {
   "cell_type": "code",
   "execution_count": null,
   "id": "86036536",
   "metadata": {},
   "outputs": [],
   "source": []
  }
 ],
 "metadata": {
  "kernelspec": {
   "display_name": "Python 3 (ipykernel)",
   "language": "python",
   "name": "python3"
  },
  "language_info": {
   "codemirror_mode": {
    "name": "ipython",
    "version": 3
   },
   "file_extension": ".py",
   "mimetype": "text/x-python",
   "name": "python",
   "nbconvert_exporter": "python",
   "pygments_lexer": "ipython3",
   "version": "3.10.12"
  }
 },
 "nbformat": 4,
 "nbformat_minor": 5
}

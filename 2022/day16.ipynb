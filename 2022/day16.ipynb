{
 "cells": [
  {
   "cell_type": "code",
   "execution_count": 1,
   "id": "6eabc14c",
   "metadata": {},
   "outputs": [],
   "source": [
    "from collections import deque, defaultdict, Counter\n",
    "from heapq import heapify, heappush, heappop\n",
    "import numpy as np\n",
    "from copy import deepcopy\n",
    "import math\n",
    "import time\n",
    "from functools import cache, reduce, cmp_to_key\n",
    "import graphviz\n",
    "from itertools import product\n",
    "import matplotlib.pyplot as plt\n",
    "from bisect import bisect_left, bisect_right\n",
    "import json"
   ]
  },
  {
   "cell_type": "code",
   "execution_count": 2,
   "id": "62f0843b",
   "metadata": {},
   "outputs": [
    {
     "data": {
      "text/plain": [
       "(55, 'AA', 0, {'DI', 'NB', 'UV', 'VS', 'XO'})"
      ]
     },
     "execution_count": 2,
     "metadata": {},
     "output_type": "execute_result"
    }
   ],
   "source": [
    "valves = set()\n",
    "flow = {}\n",
    "adj = defaultdict(set)\n",
    "\n",
    "with open(\"./data/day16.txt\") as f:\n",
    "    while line := f.readline():\n",
    "        line = line.rstrip().replace(',', '').split(' ')\n",
    "        valve = line[1]\n",
    "        valves.add(valve)\n",
    "        flow[valve] = int(line[4].replace(';','').split('=')[1])\n",
    "        for next_valve in line[9:]:\n",
    "            valves.add(next_valve)\n",
    "            adj[valve].add(next_valve)\n",
    "valves = sorted(list(valves))\n",
    "valve_to_ind = {valve:i for i, valve in enumerate(valves)}\n",
    "len(valves), valves[0], flow[valves[0]], adj[valves[0]]"
   ]
  },
  {
   "cell_type": "markdown",
   "id": "37892da8",
   "metadata": {},
   "source": [
    "# Part 1\n",
    "\n",
    "First idea: DFS with keeping track of the state of valves to allow coming back to a valve if the state has changed, i.e. a new valve has been opened. This is just super slow though. Works, but prohibitively slow on real input."
   ]
  },
  {
   "cell_type": "code",
   "execution_count": 3,
   "id": "683dee33",
   "metadata": {},
   "outputs": [],
   "source": [
    "def dfs(ind, state, visited, time_left):\n",
    "    if time_left <= 1:\n",
    "        return 0\n",
    "    res = 0\n",
    "    valve_open = (state & (1 << ind)) != 0\n",
    "    if not valve_open and flow[valves[ind]] != 0:\n",
    "        new_state = state | (1 << ind)\n",
    "        res = (time_left-1)*flow[valves[ind]] + dfs(ind, new_state, {(ind, new_state)}, time_left-1)\n",
    "    for a in adj[valves[ind]]:\n",
    "        a_ind = valve_to_ind[a]\n",
    "        if (a_ind, state) not in visited:\n",
    "            visited.add((a_ind, state))\n",
    "            res = max(res, dfs(a_ind, state, visited, time_left-1))\n",
    "            visited.remove((a_ind, state))\n",
    "    return res"
   ]
  },
  {
   "cell_type": "markdown",
   "id": "b0962241",
   "metadata": {},
   "source": [
    "Second idea: dynamic programming (implemented top-down, i.e. recursion with memoization)."
   ]
  },
  {
   "cell_type": "code",
   "execution_count": 4,
   "id": "e3c15e91",
   "metadata": {},
   "outputs": [],
   "source": [
    "@cache\n",
    "def dp(ind, state, time_left):\n",
    "    if time_left <= 1:\n",
    "        return 0\n",
    "    res = 0\n",
    "    valve_open = (state & (1 << ind)) != 0\n",
    "    if not valve_open and flow[valves[ind]] != 0:\n",
    "        new_state = state | (1 << ind)\n",
    "        res = (time_left-1)*flow[valves[ind]] + dp(ind, new_state, time_left-1)\n",
    "    for a in adj[valves[ind]]:\n",
    "        a_ind = valve_to_ind[a]\n",
    "        res = max(res, dp(a_ind, state, time_left-1))\n",
    "    return res"
   ]
  },
  {
   "cell_type": "code",
   "execution_count": 5,
   "id": "097ea08b",
   "metadata": {},
   "outputs": [
    {
     "data": {
      "text/plain": [
       "1617"
      ]
     },
     "execution_count": 5,
     "metadata": {},
     "output_type": "execute_result"
    }
   ],
   "source": [
    "dp(0, 0, 30)"
   ]
  },
  {
   "cell_type": "code",
   "execution_count": null,
   "id": "d1c24dcd",
   "metadata": {},
   "outputs": [],
   "source": []
  }
 ],
 "metadata": {
  "kernelspec": {
   "display_name": "Python 3 (ipykernel)",
   "language": "python",
   "name": "python3"
  },
  "language_info": {
   "codemirror_mode": {
    "name": "ipython",
    "version": 3
   },
   "file_extension": ".py",
   "mimetype": "text/x-python",
   "name": "python",
   "nbconvert_exporter": "python",
   "pygments_lexer": "ipython3",
   "version": "3.10.12"
  }
 },
 "nbformat": 4,
 "nbformat_minor": 5
}

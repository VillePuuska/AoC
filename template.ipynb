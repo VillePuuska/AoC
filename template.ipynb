{
 "cells": [
  {
   "cell_type": "code",
   "execution_count": 2,
   "metadata": {},
   "outputs": [
    {
     "data": {
      "text/plain": [
       "'\\nwith open(\"./data/day1a.txt\") as f:\\n    while line := f.readline():\\n        line = line.rstrip()\\n        # do something with the line?\\n'"
      ]
     },
     "execution_count": 2,
     "metadata": {},
     "output_type": "execute_result"
    }
   ],
   "source": [
    "\"\"\"\n",
    "with open(\"./data/day1.txt\") as f:\n",
    "    while line := f.readline():\n",
    "        line = line.rstrip()\n",
    "        # do something with the line?\n",
    "\"\"\""
   ]
  },
  {
   "cell_type": "code",
   "execution_count": 3,
   "metadata": {},
   "outputs": [],
   "source": [
    "from collections import deque\n",
    "from heapq import heapify, heappush, heappop"
   ]
  },
  {
   "cell_type": "code",
   "execution_count": 4,
   "id": "43023686-1019-4ea7-b150-6e936e3c9bfc",
   "metadata": {},
   "outputs": [],
   "source": [
    "# DFS\n",
    "# assuming graph is presented as a list of adjacent nodes\n",
    "def dfs(node: int, adj: list[list[int]], visited: list[bool]):\n",
    "    visited[node] = True\n",
    "    # do something with the node?\n",
    "    print(node)\n",
    "    for a in adj[node]:\n",
    "        if not visited[a]:\n",
    "            dfs(a, adj, visited)\n",
    "            # do something with a return value?\n",
    "\n",
    "# BFS\n",
    "# assuming graph is presented as a list of adjacent nodes\n",
    "def bfs(start_node: int, adj: list[list[int]]):\n",
    "    que = deque([start_node])\n",
    "    visited = [False]*len(adj)\n",
    "    while que:\n",
    "        node = que.pop()\n",
    "        if visited[node]:\n",
    "            continue\n",
    "        visited[node] = True\n",
    "        # do something with the node?\n",
    "        print(node)\n",
    "        for a in adj[node]:\n",
    "            if not visited[a]:\n",
    "                que.appendleft(a)"
   ]
  },
  {
   "cell_type": "code",
   "execution_count": 5,
   "metadata": {},
   "outputs": [
    {
     "name": "stdout",
     "output_type": "stream",
     "text": [
      "DFS\n",
      "0\n",
      "1\n",
      "2\n",
      "3\n",
      "4\n",
      "5\n",
      "BFS\n",
      "0\n",
      "1\n",
      "5\n",
      "2\n",
      "3\n",
      "4\n"
     ]
    }
   ],
   "source": [
    "# Example graph\n",
    "adj = [[1, 5], [0, 2, 3, 5], [], [4], [5], []]\n",
    "\n",
    "print('DFS')\n",
    "dfs(0, adj, [False]*len(adj))\n",
    "\n",
    "print('BFS')\n",
    "bfs(0, adj)"
   ]
  },
  {
   "cell_type": "code",
   "execution_count": 6,
   "metadata": {},
   "outputs": [],
   "source": [
    "# Dijkstra\n",
    "# assuming graph is presented as a list of edges from each node\n",
    "# i.e. graph[node] contains a list of edges from node, graph[node][i] = [edge_weight, edge_target]\n",
    "def dijkstra(start_node: int, graph: list[list[int]]):\n",
    "    h = [edge for edge in graph[start_node]]\n",
    "    heapify(h)\n",
    "    visited = [False]*len(graph)\n",
    "    visited[start_node] = True\n",
    "    while h:\n",
    "        cost, node = heappop(h)\n",
    "        if visited[node]:\n",
    "            continue\n",
    "        visited[node] = True\n",
    "        # do something with the node?\n",
    "        print(node, cost)\n",
    "        for w, n in graph[node]:\n",
    "            if not visited[n]:\n",
    "                heappush(h, [cost+w, n])"
   ]
  },
  {
   "cell_type": "code",
   "execution_count": 7,
   "metadata": {},
   "outputs": [
    {
     "name": "stdout",
     "output_type": "stream",
     "text": [
      "1 1\n",
      "2 2\n",
      "3 2\n",
      "5 2\n",
      "4 3\n",
      "\n",
      "0 1\n",
      "2 1\n",
      "3 1\n",
      "4 2\n",
      "5 3\n",
      "\n",
      "1 1\n",
      "2 2\n",
      "3 2\n",
      "4 3\n",
      "5 4\n"
     ]
    }
   ],
   "source": [
    "graph = [[[1, 1], [2, 5]], [[1, 0], [1, 2], [1, 3]], [], [[1, 4]], [[1, 5]], []]\n",
    "dijkstra(0, graph)\n",
    "print()\n",
    "dijkstra(1, graph)\n",
    "print()\n",
    "graph = [[[1, 1], [5, 5]], [[1, 0], [1, 2], [1, 3]], [], [[1, 4]], [[1, 5]], []]\n",
    "dijkstra(0, graph)"
   ]
  },
  {
   "cell_type": "code",
   "execution_count": 10,
   "metadata": {},
   "outputs": [
    {
     "name": "stdout",
     "output_type": "stream",
     "text": [
      "[0, 1, 1, 2, 3, 5, 8, 13, 21, 34]\n",
      "[55, 34, 21, 13, 8, 5, 3, 2, 1, 1]\n"
     ]
    }
   ],
   "source": [
    "# DP left->right\n",
    "dp = [0, 1] # base cases\n",
    "n = 10\n",
    "for _ in range(n-len(dp)):\n",
    "    dp.append(dp[-1]+dp[-2])\n",
    "print(dp)\n",
    "\n",
    "# DP right->left\n",
    "dp = [0]*n\n",
    "dp[-1] = dp[-2] = 1\n",
    "for i in range(len(dp)-3, -1, -1):\n",
    "    dp[i] = dp[i+1]+dp[i+2]\n",
    "print(dp)"
   ]
  },
  {
   "cell_type": "code",
   "execution_count": 16,
   "metadata": {},
   "outputs": [
    {
     "name": "stdout",
     "output_type": "stream",
     "text": [
      "[9, 8, 7, 6, 5, 4, 3, 2, 1]\n",
      "[8, 8, 7, 6, 5, 4, 3, 2, 1]\n",
      "[7, 7, 7, 6, 5, 4, 3, 2, 1]\n",
      "[6, 6, 6, 6, 5, 4, 3, 2, 1]\n",
      "[5, 5, 5, 5, 5, 4, 3, 2, 1]\n",
      "[4, 4, 4, 4, 4, 4, 3, 2, 1]\n",
      "[3, 3, 3, 3, 3, 3, 3, 2, 1]\n",
      "[2, 2, 2, 2, 2, 2, 2, 2, 1]\n",
      "[1, 1, 1, 1, 1, 1, 1, 1, 1]\n",
      "\n",
      "[9, 8, 7, 6, 5, 4, 3, 2, 1]\n",
      "[8, 8, 7, 6, 5, 4, 3, 2, 1]\n",
      "[7, 7, 7, 6, 5, 4, 3, 2, 1]\n",
      "[6, 6, 6, 6, 5, 4, 3, 2, 1]\n",
      "[5, 5, 5, 5, 5, 4, 3, 2, 1]\n",
      "[4, 4, 4, 4, 4, 4, 3, 2, 1]\n",
      "[3, 3, 3, 3, 3, 3, 3, 2, 1]\n",
      "[2, 2, 2, 2, 2, 2, 2, 2, 1]\n",
      "[1, 1, 1, 1, 1, 1, 1, 1, 1]\n"
     ]
    }
   ],
   "source": [
    "# 2D DP\n",
    "n = 9\n",
    "# initialize\n",
    "dp = [[-1]*n for _ in range(n)]\n",
    "for i in range(n):\n",
    "    dp[-1][i] = dp[i][-1] = 1\n",
    "for row in range(n-2, -1, -1):\n",
    "    for col in range(n-2, -1, -1):\n",
    "        dp[row][col] = 1+min(dp[row+1][col], dp[row][col+1])\n",
    "for dp_row in dp:\n",
    "    print(dp_row)\n",
    "\n",
    "print()\n",
    "\n",
    "# 2D DP\n",
    "# same example but store only two rows at a time\n",
    "dp = [1]*n\n",
    "dp_str = str(dp)\n",
    "for row in range(n-2, -1, -1):\n",
    "    new_dp = [-1]*n\n",
    "    new_dp[-1] = 1\n",
    "    for col in range(n-2, -1, -1):\n",
    "        new_dp[col] = 1+min(dp[col], new_dp[col+1])\n",
    "    dp_str = str(new_dp) + '\\n' + dp_str\n",
    "    dp = new_dp\n",
    "print(dp_str)"
   ]
  },
  {
   "cell_type": "code",
   "execution_count": null,
   "metadata": {},
   "outputs": [],
   "source": []
  }
 ],
 "metadata": {
  "kernelspec": {
   "display_name": "Python 3 (ipykernel)",
   "language": "python",
   "name": "python3"
  },
  "language_info": {
   "codemirror_mode": {
    "name": "ipython",
    "version": 3
   },
   "file_extension": ".py",
   "mimetype": "text/x-python",
   "name": "python",
   "nbconvert_exporter": "python",
   "pygments_lexer": "ipython3",
   "version": "3.10.12"
  }
 },
 "nbformat": 4,
 "nbformat_minor": 5
}

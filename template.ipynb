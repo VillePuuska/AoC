{
 "cells": [
  {
   "cell_type": "code",
   "execution_count": null,
   "metadata": {},
   "outputs": [],
   "source": [
    "with open(\"./data/day1a.txt\") as f:\n",
    "    while line := f.readline():\n",
    "        line = line.rstrip()\n",
    "        # do something with the line?"
   ]
  },
  {
   "cell_type": "code",
   "execution_count": 18,
   "metadata": {},
   "outputs": [],
   "source": [
    "from collections import deque\n",
    "from heapq import heapify, heappush, heappop"
   ]
  },
  {
   "cell_type": "code",
   "execution_count": 14,
   "id": "43023686-1019-4ea7-b150-6e936e3c9bfc",
   "metadata": {},
   "outputs": [],
   "source": [
    "# DFS\n",
    "# assuming graph is presented as a list of adjacent nodes\n",
    "def dfs(node: int, adj: list[list[int]], visited: list[bool]):\n",
    "    visited[node] = True\n",
    "    # do something with the node?\n",
    "    print(node)\n",
    "    for a in adj[node]:\n",
    "        if not visited[a]:\n",
    "            dfs(a, adj, visited)\n",
    "            # do something with a return value?\n",
    "\n",
    "#BFS\n",
    "# assuming graph is presented as a list of adjacent nodes\n",
    "def bfs(start_node: int, adj: list[list[int]]):\n",
    "    que = deque([start_node])\n",
    "    visited = [False]*len(adj)\n",
    "    while que:\n",
    "        node = que.pop()\n",
    "        if visited[node]:\n",
    "            continue\n",
    "        visited[node] = True\n",
    "        # do something with the node?\n",
    "        print(node)\n",
    "        for a in adj[node]:\n",
    "            if not visited[a]:\n",
    "                que.appendleft(a)"
   ]
  },
  {
   "cell_type": "code",
   "execution_count": 17,
   "metadata": {},
   "outputs": [
    {
     "name": "stdout",
     "output_type": "stream",
     "text": [
      "DFS\n",
      "0\n",
      "1\n",
      "2\n",
      "3\n",
      "4\n",
      "5\n",
      "BFS\n",
      "0\n",
      "1\n",
      "5\n",
      "2\n",
      "3\n",
      "4\n"
     ]
    }
   ],
   "source": [
    "# Example graph\n",
    "adj = [[1, 5], [0, 2, 3, 5], [], [4], [5], []]\n",
    "\n",
    "print('DFS')\n",
    "dfs(0, adj, [False]*len(adj))\n",
    "\n",
    "print('BFS')\n",
    "bfs(0, adj)"
   ]
  },
  {
   "cell_type": "code",
   "execution_count": 21,
   "metadata": {},
   "outputs": [],
   "source": [
    "# Dijkstra\n",
    "# assuming graph is presented as a list of edges from each node\n",
    "# i.e. graph[node] contains a list of edges from node, graph[node][i] = [edge_weight, edge_target]\n",
    "def dijkstra(start_node: int, graph: list[list[int]]):\n",
    "    h = [edge for edge in graph[start_node]]\n",
    "    heapify(h)\n",
    "    visited = [False]*len(graph)\n",
    "    visited[start_node] = True\n",
    "    while h:\n",
    "        cost, node = heappop(h)\n",
    "        if visited[node]:\n",
    "            continue\n",
    "        visited[node] = True\n",
    "        # do something with the node?\n",
    "        print(node, cost)\n",
    "        for w, n in graph[node]:\n",
    "            if not visited[n]:\n",
    "                heappush(h, [cost+w, n])"
   ]
  },
  {
   "cell_type": "code",
   "execution_count": 24,
   "metadata": {},
   "outputs": [
    {
     "name": "stdout",
     "output_type": "stream",
     "text": [
      "1 1\n",
      "2 2\n",
      "3 2\n",
      "5 2\n",
      "4 3\n",
      "\n",
      "0 1\n",
      "2 1\n",
      "3 1\n",
      "4 2\n",
      "5 3\n",
      "\n",
      "1 1\n",
      "2 2\n",
      "3 2\n",
      "4 3\n",
      "5 4\n"
     ]
    }
   ],
   "source": [
    "graph = [[[1, 1], [2, 5]], [[1, 0], [1, 2], [1, 3]], [], [[1, 4]], [[1, 5]], []]\n",
    "dijkstra(0, graph)\n",
    "print()\n",
    "dijkstra(1, graph)\n",
    "print()\n",
    "graph = [[[1, 1], [5, 5]], [[1, 0], [1, 2], [1, 3]], [], [[1, 4]], [[1, 5]], []]\n",
    "dijkstra(0, graph)"
   ]
  },
  {
   "cell_type": "code",
   "execution_count": null,
   "metadata": {},
   "outputs": [],
   "source": []
  }
 ],
 "metadata": {
  "kernelspec": {
   "display_name": "Python 3 (ipykernel)",
   "language": "python",
   "name": "python3"
  },
  "language_info": {
   "codemirror_mode": {
    "name": "ipython",
    "version": 3
   },
   "file_extension": ".py",
   "mimetype": "text/x-python",
   "name": "python",
   "nbconvert_exporter": "python",
   "pygments_lexer": "ipython3",
   "version": "3.10.12"
  }
 },
 "nbformat": 4,
 "nbformat_minor": 5
}

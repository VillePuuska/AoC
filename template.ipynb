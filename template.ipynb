{
 "cells": [
  {
   "cell_type": "code",
   "execution_count": null,
   "id": "6eabc14c",
   "metadata": {},
   "outputs": [],
   "source": [
    "from collections import deque, defaultdict, Counter\n",
    "from heapq import heapify, heappush, heappop\n",
    "import numpy as np\n",
    "from copy import deepcopy\n",
    "import math\n",
    "import time\n",
    "from functools import cache, reduce, cmp_to_key\n",
    "import graphviz\n",
    "from itertools import product\n",
    "import matplotlib.pyplot as plt\n",
    "from bisect import bisect_left, bisect_right\n",
    "import json\n",
    "import os\n",
    "import re\n",
    "from typing import Any"
   ]
  },
  {
   "cell_type": "code",
   "execution_count": null,
   "id": "cae8446c",
   "metadata": {},
   "outputs": [],
   "source": [
    "dirs4 = [(-1, 0), (0, 1), (1, 0), (0, -1)]\n",
    "dirs8 = [(-1, 0), (-1, 1), (0, 1), (1, 1), (1, 0), (1, -1), (0, -1), (-1, -1)]\n",
    "\n",
    "today = os.path.basename(globals()[\"__vsc_ipynb_file__\"]).split(\".\")[0]  # + \"_ex\"\n",
    "today"
   ]
  },
  {
   "cell_type": "code",
   "execution_count": null,
   "id": "ffcb47c2",
   "metadata": {},
   "outputs": [],
   "source": [
    "def get_lines() -> list[str]:\n",
    "    lines = []\n",
    "    with open(f\"./data/{today}.txt\") as f:\n",
    "        while line := f.readline():\n",
    "            lines.append(line.rstrip())\n",
    "    return lines\n",
    "\n",
    "def get_grid() -> list[list[str]]:\n",
    "    grid = []\n",
    "    with open(f\"./data/{today}.txt\") as f:\n",
    "        while line := f.readline():\n",
    "            grid.append([c for c in line.rstrip()])\n",
    "    return grid\n",
    "\n",
    "def parse_nums(s: str) -> list[int]:\n",
    "    return [int(x) for x in re.findall(r\"\\d+\", s)]\n",
    "\n",
    "def get_nums() -> list[list[int]]:\n",
    "    lines = get_lines()\n",
    "    return [parse_nums(line) for line in lines]\n",
    "\n",
    "def is_inside_grid(coords: tuple[int, int], grid: list[list[Any]]) -> bool:\n",
    "    return coords[0] in range(len(grid)) and coords[1] in range(len(grid[0]))"
   ]
  }
 ],
 "metadata": {
  "kernelspec": {
   "display_name": ".venv",
   "language": "python",
   "name": "python3"
  },
  "language_info": {
   "codemirror_mode": {
    "name": "ipython",
    "version": 3
   },
   "file_extension": ".py",
   "mimetype": "text/x-python",
   "name": "python",
   "nbconvert_exporter": "python",
   "pygments_lexer": "ipython3",
   "version": "3.12.3"
  }
 },
 "nbformat": 4,
 "nbformat_minor": 5
}

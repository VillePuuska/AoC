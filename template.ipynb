{
 "cells": [
  {
   "cell_type": "code",
   "execution_count": null,
   "metadata": {},
   "outputs": [],
   "source": [
    "with open(\"./data/day1a.txt\") as f:\n",
    "    while line := f.readline():\n",
    "        line = line.rstrip()\n",
    "        # do something with the line?"
   ]
  },
  {
   "cell_type": "code",
   "execution_count": 7,
   "metadata": {},
   "outputs": [],
   "source": [
    "from collections import deque"
   ]
  },
  {
   "cell_type": "code",
   "execution_count": 14,
   "id": "43023686-1019-4ea7-b150-6e936e3c9bfc",
   "metadata": {},
   "outputs": [],
   "source": [
    "# DFS\n",
    "# assuming graph is presented as a list of adjacent nodes\n",
    "def dfs(node: int, adj: list[list[int]], visited: list[bool]):\n",
    "    visited[node] = True\n",
    "    # do something with the node?\n",
    "    print(node)\n",
    "    for a in adj[node]:\n",
    "        if not visited[a]:\n",
    "            dfs(a, adj, visited)\n",
    "            # do something with a return value?\n",
    "\n",
    "#BFS\n",
    "# assuming graph is presented as a list of adjacent nodes\n",
    "def bfs(start_node: int, adj: list[list[int]]):\n",
    "    que = deque([start_node])\n",
    "    visited = [False]*len(adj)\n",
    "    while que:\n",
    "        node = que.pop()\n",
    "        if visited[node]:\n",
    "            continue\n",
    "        visited[node] = True\n",
    "        # do something with the node?\n",
    "        print(node)\n",
    "        for a in adj[node]:\n",
    "            if not visited[a]:\n",
    "                que.appendleft(a)"
   ]
  },
  {
   "cell_type": "code",
   "execution_count": 17,
   "metadata": {},
   "outputs": [
    {
     "name": "stdout",
     "output_type": "stream",
     "text": [
      "DFS\n",
      "0\n",
      "1\n",
      "2\n",
      "3\n",
      "4\n",
      "5\n",
      "BFS\n",
      "0\n",
      "1\n",
      "5\n",
      "2\n",
      "3\n",
      "4\n"
     ]
    }
   ],
   "source": [
    "# Example graph\n",
    "adj = [[1, 5], [0, 2, 3, 5], [], [4], [5], []]\n",
    "\n",
    "print('DFS')\n",
    "dfs(0, adj, [False]*len(adj))\n",
    "\n",
    "print('BFS')\n",
    "bfs(0, adj)"
   ]
  },
  {
   "cell_type": "code",
   "execution_count": null,
   "metadata": {},
   "outputs": [],
   "source": []
  }
 ],
 "metadata": {
  "kernelspec": {
   "display_name": "Python 3 (ipykernel)",
   "language": "python",
   "name": "python3"
  },
  "language_info": {
   "codemirror_mode": {
    "name": "ipython",
    "version": 3
   },
   "file_extension": ".py",
   "mimetype": "text/x-python",
   "name": "python",
   "nbconvert_exporter": "python",
   "pygments_lexer": "ipython3",
   "version": "3.10.12"
  }
 },
 "nbformat": 4,
 "nbformat_minor": 5
}
